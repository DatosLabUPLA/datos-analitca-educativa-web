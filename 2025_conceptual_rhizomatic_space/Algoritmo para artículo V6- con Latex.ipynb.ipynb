{
 "cells": [
  {
   "cell_type": "markdown",
   "id": "80fe4575",
   "metadata": {},
   "source": [
    "# 1. Instalar y cargar librería"
   ]
  },
  {
   "cell_type": "code",
   "execution_count": 1,
   "id": "09cb05c3",
   "metadata": {},
   "outputs": [],
   "source": [
    "# instalar previamente\n",
    "#!pip install plotly\n",
    "#!pip install cufflinks"
   ]
  },
  {
   "cell_type": "code",
   "execution_count": 2,
   "id": "8d442583",
   "metadata": {},
   "outputs": [
    {
     "data": {
      "text/html": [
       "        <script type=\"text/javascript\">\n",
       "        window.PlotlyConfig = {MathJaxConfig: 'local'};\n",
       "        if (window.MathJax && window.MathJax.Hub && window.MathJax.Hub.Config) {window.MathJax.Hub.Config({SVG: {font: \"STIX-Web\"}});}\n",
       "        if (typeof require !== 'undefined') {\n",
       "        require.undef(\"plotly\");\n",
       "        requirejs.config({\n",
       "            paths: {\n",
       "                'plotly': ['https://cdn.plot.ly/plotly-2.20.0.min']\n",
       "            }\n",
       "        });\n",
       "        require(['plotly'], function(Plotly) {\n",
       "            window._Plotly = Plotly;\n",
       "        });\n",
       "        }\n",
       "        </script>\n",
       "        "
      ]
     },
     "metadata": {},
     "output_type": "display_data"
    },
    {
     "data": {
      "text/html": [
       "        <script type=\"text/javascript\">\n",
       "        window.PlotlyConfig = {MathJaxConfig: 'local'};\n",
       "        if (window.MathJax && window.MathJax.Hub && window.MathJax.Hub.Config) {window.MathJax.Hub.Config({SVG: {font: \"STIX-Web\"}});}\n",
       "        if (typeof require !== 'undefined') {\n",
       "        require.undef(\"plotly\");\n",
       "        requirejs.config({\n",
       "            paths: {\n",
       "                'plotly': ['https://cdn.plot.ly/plotly-2.20.0.min']\n",
       "            }\n",
       "        });\n",
       "        require(['plotly'], function(Plotly) {\n",
       "            window._Plotly = Plotly;\n",
       "        });\n",
       "        }\n",
       "        </script>\n",
       "        "
      ]
     },
     "metadata": {},
     "output_type": "display_data"
    }
   ],
   "source": [
    "# Importar la biblioteca pandas para manipulación y análisis de datos\n",
    "import pandas as pd\n",
    "import cufflinks as cf\n",
    "from IPython.display import display,HTML\n",
    "import os\n",
    "import numpy as np\n",
    "import time\n",
    "inicio_todo_el_proceso = time.time()\n",
    "cf.set_config_file(sharing = 'public',theme = 'ggplot', offline = True)"
   ]
  },
  {
   "cell_type": "markdown",
   "id": "34658f7b",
   "metadata": {},
   "source": [
    "# 2. Cargar base de datos y definir, campos a analizar y método a utilizar"
   ]
  },
  {
   "cell_type": "code",
   "execution_count": 3,
   "id": "6055d8eb",
   "metadata": {},
   "outputs": [
    {
     "name": "stdout",
     "output_type": "stream",
     "text": [
      "Tamaño base de datos:  241\n",
      "241\n"
     ]
    },
    {
     "data": {
      "text/html": [
       "<div>\n",
       "<style scoped>\n",
       "    .dataframe tbody tr th:only-of-type {\n",
       "        vertical-align: middle;\n",
       "    }\n",
       "\n",
       "    .dataframe tbody tr th {\n",
       "        vertical-align: top;\n",
       "    }\n",
       "\n",
       "    .dataframe thead th {\n",
       "        text-align: right;\n",
       "    }\n",
       "</style>\n",
       "<table border=\"1\" class=\"dataframe\">\n",
       "  <thead>\n",
       "    <tr style=\"text-align: right;\">\n",
       "      <th></th>\n",
       "      <th>Authors</th>\n",
       "      <th>Author full names</th>\n",
       "      <th>Author(s) ID</th>\n",
       "      <th>Title</th>\n",
       "      <th>Year</th>\n",
       "      <th>Source title</th>\n",
       "      <th>Volume</th>\n",
       "      <th>Issue</th>\n",
       "      <th>Art. No.</th>\n",
       "      <th>Page start</th>\n",
       "      <th>...</th>\n",
       "      <th>Authors with affiliations</th>\n",
       "      <th>Abstract</th>\n",
       "      <th>Author Keywords</th>\n",
       "      <th>Index Keywords</th>\n",
       "      <th>Language of Original Document</th>\n",
       "      <th>Document Type</th>\n",
       "      <th>Publication Stage</th>\n",
       "      <th>Open Access</th>\n",
       "      <th>Source</th>\n",
       "      <th>EID</th>\n",
       "    </tr>\n",
       "  </thead>\n",
       "  <tbody>\n",
       "    <tr>\n",
       "      <th>0</th>\n",
       "      <td>Escolá M.F.; Márquez R.M.F.</td>\n",
       "      <td>Escolá, Marcela Ferrari (57199509461); Márquez...</td>\n",
       "      <td>57199509461; 6505848475</td>\n",
       "      <td>Multiply by summing: An experience with senior...</td>\n",
       "      <td>2017</td>\n",
       "      <td>Revista Latinoamericana de Investigacion en Ma...</td>\n",
       "      <td>20</td>\n",
       "      <td>2</td>\n",
       "      <td>NaN</td>\n",
       "      <td>137.0</td>\n",
       "      <td>...</td>\n",
       "      <td>Escolá M.F., Universidad Autónoma de Guerrero,...</td>\n",
       "      <td>In this article we report an experience carrie...</td>\n",
       "      <td>Logarithmic properties; Multiply by summing; S...</td>\n",
       "      <td>NaN</td>\n",
       "      <td>Spanish</td>\n",
       "      <td>Article</td>\n",
       "      <td>Final</td>\n",
       "      <td>All Open Access; Gold Open Access; Green Open ...</td>\n",
       "      <td>Scopus</td>\n",
       "      <td>2-s2.0-85038097458</td>\n",
       "    </tr>\n",
       "  </tbody>\n",
       "</table>\n",
       "<p>1 rows × 26 columns</p>\n",
       "</div>"
      ],
      "text/plain": [
       "                       Authors  \\\n",
       "0  Escolá M.F.; Márquez R.M.F.   \n",
       "\n",
       "                                   Author full names             Author(s) ID  \\\n",
       "0  Escolá, Marcela Ferrari (57199509461); Márquez...  57199509461; 6505848475   \n",
       "\n",
       "                                               Title  Year  \\\n",
       "0  Multiply by summing: An experience with senior...  2017   \n",
       "\n",
       "                                        Source title  Volume  Issue  Art. No.  \\\n",
       "0  Revista Latinoamericana de Investigacion en Ma...      20      2       NaN   \n",
       "\n",
       "   Page start  ...                          Authors with affiliations  \\\n",
       "0       137.0  ...  Escolá M.F., Universidad Autónoma de Guerrero,...   \n",
       "\n",
       "                                            Abstract  \\\n",
       "0  In this article we report an experience carrie...   \n",
       "\n",
       "                                     Author Keywords Index Keywords  \\\n",
       "0  Logarithmic properties; Multiply by summing; S...            NaN   \n",
       "\n",
       "  Language of Original Document Document Type Publication Stage  \\\n",
       "0                       Spanish       Article             Final   \n",
       "\n",
       "                                         Open Access  Source  \\\n",
       "0  All Open Access; Gold Open Access; Green Open ...  Scopus   \n",
       "\n",
       "                  EID  \n",
       "0  2-s2.0-85038097458  \n",
       "\n",
       "[1 rows x 26 columns]"
      ]
     },
     "execution_count": 3,
     "metadata": {},
     "output_type": "execute_result"
    }
   ],
   "source": [
    "# Definir una función para cargar la base de datos desde un archivo CSV\n",
    "def cargar_base_datos(url):\n",
    "    try:\n",
    "        # Leer el archivo CSV, saltar líneas incorrectas y guardar el contenido en un DataFrame\n",
    "        df = pd.read_csv(url, on_bad_lines='skip',low_memory=False)\n",
    "        return df\n",
    "    except FileNotFoundError:\n",
    "        # Manejar el caso en que el archivo no se encuentre y mostrar un mensaje de error\n",
    "        print(f\"Archivo no encontrado: {url}\")\n",
    "        return None\n",
    "\n",
    "# Definir una función para limpiar el título de los registros en un DataFrame\n",
    "def limpiar_titulo(df):\n",
    "    # Separar el título por el caracter '[' y conservar la primera parte\n",
    "    df['Title'] = df['Title'].str.split('[').str[0]\n",
    "    return df\n",
    "\n",
    "# Diccionarios para mapear opciones de configuración\n",
    "\n",
    "#Campo de la base de datos a analizar\n",
    "dic_campo_a_analizar = {\n",
    "    1: 'key_words',\n",
    "    2: 'title',\n",
    "    3: 'abstract',\n",
    "    4: 'title_key',\n",
    "    5: 'title_abs',\n",
    "    6: 'key_abs',\n",
    "    7: 'title_abs_key',\n",
    "}\n",
    "\n",
    "#Método elegido para la limpieza de palabras\n",
    "dic_metodo_a_utilizar = {1: 'lemmatize', 2: 'stemming'}\n",
    "\n",
    "#1 si muestra el grafo como conteo de nodos y aristas \n",
    "#2 si muestra el grafo como porxentaje de la cantidad total de artículos\n",
    "dic_modo_grafo = {1: '_ABS_', 2: '_POND_'} \n",
    "\n",
    "# Variables de configuración\n",
    "metodo = 1\n",
    "campo_a_analizar = 1\n",
    "template_elegido = 'seaborn'\n",
    "modo_grafo = 2\n",
    "\n",
    "# Definición de abreviaturas y nombres para la base de datos\n",
    "abrev = 'RELIME'\n",
    "nombre_largo = 'RELIME'\n",
    "fuente_articulos = 'Scopus'\n",
    "\n",
    "\n",
    "# Ruta del archivo CSV\n",
    "url1 = '/Users/jorgegaona/Dropbox/Artículos JG/(2023) Grafos con palabras/2025 01 13 Espacio Rizomático Conceptual/scopus_relime_2025_01_13.csv'\n",
    "url = url1\n",
    "\n",
    "# Cargar la base de datos y asignarla a la variable dfA\n",
    "dfA = cargar_base_datos(url)\n",
    "\n",
    "# Verificar si la base de datos se cargó correctamente\n",
    "if dfA is not None:\n",
    "    # Imprimir el tamaño de la base de datos\n",
    "    print('Tamaño base de datos: ', len(dfA))\n",
    "    # Limpiar los títulos en la base de datos\n",
    "    dfA = limpiar_titulo(dfA)\n",
    "    # Imprimir nuevamente el tamaño de la base de datos\n",
    "    print(len(dfA))\n",
    "    # Mostrar el primer registro del DataFrame\n",
    "    dfA.head(1)\n",
    "else:\n",
    "    # Imprimir un mensaje de error en caso de que la base de datos no se haya cargado\n",
    "    print(\"No se pudo cargar la base de datos.\")\n",
    "\n",
    "    \n",
    "if 'Title' not in dfA.columns:\n",
    "    dfA['Title'] = 'sin información'\n",
    "\n",
    "\n",
    "if 'Abstract' not in dfA.columns:\n",
    "    dfA['Abstract'] = 'sin información'\n",
    "\n",
    "if 'Author Keywords' not in dfA.columns:\n",
    "    dfA['Author Keywords'] = 'sin información'\n",
    "\n",
    "    \n",
    "    \n",
    "dfA.head(1)\n"
   ]
  },
  {
   "cell_type": "markdown",
   "id": "033c0bb6",
   "metadata": {},
   "source": [
    "# 2. Para unir varios data frame "
   ]
  },
  {
   "cell_type": "raw",
   "id": "c086519c",
   "metadata": {
    "scrolled": true
   },
   "source": [
    "import pandas as pd\n",
    "\n",
    "# Definir abreviatura, nombre largo y fuente de los artículos\n",
    "abrev = 'ed_mat_completo_marzo'\n",
    "nombre_largo = 'Revistas de educación matemática hasta 2022'\n",
    "fuente_articulos = 'Scopus'\n",
    "\n",
    "# Lista de URLs de archivos CSV a cargar\n",
    "archivos = [\n",
    "    'https://www.dropbox.com/s/4sadk2eab00c7uy/scopus%20-%202023-02-08T235633.337_hasta_1985.csv?dl=1',\n",
    "    # ... (el resto de URLs)\n",
    "    'https://www.dropbox.com/s/s3317hkit488ldi/scopus%20-%202023-02-19T144900.777_acta_scientae.csv?dl=1',\n",
    "]\n",
    "\n",
    "# Leer cada archivo CSV y guardarlos en una lista de DataFrames\n",
    "dataframes = [pd.read_csv(archivo) for archivo in archivos]\n",
    "\n",
    "# Unir todos los DataFrames en uno solo\n",
    "df_final = pd.concat(dataframes)\n",
    "\n",
    "# Asignar el DataFrame final a la variable dfA\n",
    "dfA = df_final\n",
    "\n",
    "# Imprimir el tamaño de la base de datos\n",
    "print('tamaño base de datos: ', len(dfA))\n",
    "\n",
    "# Diccionarios para mapear opciones de configuración\n",
    "dic_campo_a_analizar = {\n",
    "    1: 'key_words',\n",
    "    2: 'title',\n",
    "    3: 'abstract',\n",
    "    4: 'title_key',\n",
    "    5: 'title_abs',\n",
    "    6: 'key_abs',\n",
    "    7: 'title_abs_key',\n",
    "}\n",
    "dic_metodo_a_utilizar = {1: 'lemmatize', 2: 'stemming'}\n",
    "dic_modo_grafo = {1: '_ABS_', 2: '_POND_'}\n",
    "\n",
    "# Variables de configuración\n",
    "metodo = 1\n",
    "modo_grafo = 2\n",
    "campo_a_analizar = 4\n",
    "template_elegido = 'seaborn'\n",
    "\n",
    "# Imprimir el diccionario de campos a analizar y el campo seleccionado\n",
    "print(dic_campo_a_analizar)\n",
    "print(dic_campo_a_analizar.get(campo_a_analizar))\n",
    "\n",
    "# Limpiar los títulos en la base de datos\n",
    "dfA['Title'] = dfA['Title'].str.split('[').str[0]\n",
    "\n",
    "# Imprimir nuevamente el tamaño de la base de datos\n",
    "print(len(dfA))\n",
    "\n",
    "# Mostrar el primer registro del DataFrame\n",
    "dfA.head(1)\n"
   ]
  },
  {
   "cell_type": "raw",
   "id": "2ec879ca",
   "metadata": {},
   "source": [
    "#!pip install wget\n",
    "dfA.to_csv('bbdd_unida_completa_37_revistas.csv')"
   ]
  },
  {
   "cell_type": "markdown",
   "id": "920c9c91",
   "metadata": {},
   "source": [
    "# 3 Creación de carpeta donde se guardará la información"
   ]
  },
  {
   "cell_type": "code",
   "execution_count": 4,
   "id": "dc26558d",
   "metadata": {},
   "outputs": [
    {
     "name": "stdout",
     "output_type": "stream",
     "text": [
      "2025-01-13 09:48:17.678972\n"
     ]
    }
   ],
   "source": [
    "import os\n",
    "from datetime import datetime\n",
    "\n",
    "# Obtener el momento actual como un objeto datetime\n",
    "now = datetime.now()\n",
    "\n",
    "# Crear un directorio con el nombre almacenado en la variable 'abrev', si no existe\n",
    "if not os.path.exists(abrev):\n",
    "    os.mkdir(abrev)\n",
    "\n",
    "# Imprimir el momento actual en la consola\n",
    "print(now)\n"
   ]
  },
  {
   "cell_type": "markdown",
   "id": "5f6039ca",
   "metadata": {},
   "source": [
    "# 4 Cargar archivos para el informe generado por Latex"
   ]
  },
  {
   "cell_type": "code",
   "execution_count": 5,
   "id": "88b346cf",
   "metadata": {},
   "outputs": [
    {
     "data": {
      "text/plain": [
       "('RELIME/referencias.bib', <http.client.HTTPMessage at 0x7f9859ae2970>)"
      ]
     },
     "execution_count": 5,
     "metadata": {},
     "output_type": "execute_result"
    }
   ],
   "source": [
    "from urllib import request\n",
    "\n",
    "# Establecer la ruta del directorio donde se guardarán los archivos\n",
    "ruta_archivo = abrev + '/'\n",
    "\n",
    "# Definir las URL de los archivos a descargar\n",
    "remote_url1 = \"https://www.dropbox.com/s/alwmw7pt709tats/apalike-es.bst?dl=1\"\n",
    "remote_url2 = \"https://www.dropbox.com/s/itwnlprry4guwfj/referencias.bib?dl=1\"\n",
    "\n",
    "# Definir los nombres de los archivos locales a guardar\n",
    "local_file1 = 'apalike-es.bst'\n",
    "local_file2 = \"referencias.bib\"\n",
    "\n",
    "# Descargar y guardar el primer archivo de la URL remota en la ruta local\n",
    "request.urlretrieve(remote_url1, ruta_archivo + local_file1)\n",
    "\n",
    "# Descargar y guardar el segundo archivo de la URL remota en la ruta local\n",
    "request.urlretrieve(remote_url2, ruta_archivo + local_file2)\n"
   ]
  },
  {
   "cell_type": "markdown",
   "id": "07099384",
   "metadata": {},
   "source": [
    "# 5 Creación de funciones para escribir entorno latex"
   ]
  },
  {
   "cell_type": "code",
   "execution_count": 6,
   "id": "f4c552c9",
   "metadata": {},
   "outputs": [],
   "source": [
    "import os\n",
    "\n",
    "# Crear un nuevo archivo .tex y escribir el inicio del documento\n",
    "def entorno_abrir_tex(ruta_archivo, nombre_archivo):\n",
    "    with open(ruta_archivo + nombre_archivo + \".tex\", \"w\") as file:\n",
    "        file.write(\"% Comienza el texto\" + os.linesep)\n",
    "        file.write(\"\\n\" + os.linesep)\n",
    "\n",
    "# Crear un nuevo archivo .bib y escribir el inicio del documento\n",
    "def entorno_abrir_bib(ruta_archivo, nombre_archivo):\n",
    "    with open(ruta_archivo + nombre_archivo + \".bib\", \"w\") as file:\n",
    "        file.write(\"% Comienza el texto\" + os.linesep)\n",
    "        file.write(\"\\n\" + os.linesep)\n",
    "\n",
    "# Abrir un archivo .tex existente y agregar el entorno del documento\n",
    "def entorno_abrir_documento_tex(ruta_archivo, nombre_archivo):\n",
    "    with open(ruta_archivo + nombre_archivo + \".tex\", \"a\") as file:\n",
    "        file.write('\\\\' + \"begin{document}\" + os.linesep)\n",
    "        file.write(\"\\n\" + os.linesep)\n",
    "\n",
    "# Cerrar el entorno del documento en un archivo .tex existente\n",
    "def entorno_cerrar_documento_tex(ruta_archivo, nombre_archivo):\n",
    "    with open(ruta_archivo + nombre_archivo + \".tex\", \"a\") as file:\n",
    "        file.write('\\\\' + 'end{document}' + os.linesep)\n",
    "\n",
    "# Agregar un entorno de figura en un archivo .tex existente\n",
    "def entorno_figura_tex(ruta_archivo, nombre_archivo, nombre_archivo_figura, leyenda):\n",
    "    with open(ruta_archivo + nombre_archivo + \".tex\", \"a\") as file:\n",
    "        file.write('\\\\' + \"begin{figure}[h!]\" + os.linesep)\n",
    "        file.write('\\\\' + \"centering\" + os.linesep)\n",
    "        file.write(\"\\includegraphics[width=0.7\" + '\\\\' + \"textwidth]{\" + nombre_archivo_figura + \".pdf}\" + os.linesep)\n",
    "        file.write('\\\\' + \"caption{\" + leyenda + '}' + os.linesep)\n",
    "        file.write('\\\\' + 'label{fig:' + nombre_archivo_figura + '}' + os.linesep)\n",
    "        file.write('\\\\' + \"end{figure}\" + os.linesep)\n",
    "        file.write(\"\\n\" + os.linesep)\n",
    "\n",
    "# Agregar una sección en un archivo .tex existente\n",
    "def entorno_section_tex(ruta_archivo, nombre_archivo, nombre_sección):\n",
    "    with open(ruta_archivo + nombre_archivo + \".tex\", \"a\") as file:\n",
    "        file.write('\\\\' + 'section{' + nombre_sección + '}' + os.linesep)\n",
    "        file.write(\"\\n\" + os.linesep)\n",
    "\n",
    "# Agregar una subsección en un archivo .tex existente\n",
    "def entorno_sub_section_tex(ruta_archivo, nombre_archivo, nombre_sub_sección):\n",
    "    with open(ruta_archivo + nombre_archivo + \".tex\", \"a\") as file:\n",
    "        file.write('\\\\' + 'subsection{' + nombre_sub_sección + '}' + os.linesep)\n",
    "        file.write(\"\\n\" + os.linesep)\n",
    "\n",
    "# Agregar una subsubsección en un archivo .tex existente\n",
    "def entorno_sub_sub_section_tex(ruta_archivo, nombre_archivo, nombre_sub_sub_sección):\n",
    "    with open(ruta_archivo + nombre_archivo + \".tex\", \"a\") as file:\n",
    "        file.write('\\\\' + 'subsubsection{' + nombre_sub_sub_sección + '}' + os.linesep)\n",
    "        file.write(\"\\n\" + os.linesep)\n",
    "\n",
    "# Agregar un entorno itemize en un archivo .tex existente\n",
    "def entorno_itemize_tex(ruta_archivo, nombre_archivo, lista_para_itemize):\n",
    "    with open(ruta_archivo + nombre_archivo + \".tex\", \"a\") as file:\n",
    "        file.write('\\\\' + 'begin{itemize}' + os.linesep)\n",
    "        for x in lista_para_itemize:\n",
    "            file.write('\\\\' + 'item ' + x + os.linesep)\n",
    "        file.write('\\\\' + 'end{itemize}' + os.linesep)\n",
    "        file.write(\"\\n\" + os.linesep)\n",
    "\n",
    "# Agregar un entorno enumerate en un archivo .tex existente\n",
    "def entorno_enumerate_tex(ruta_archivo, nombre_archivo, lista_para_enumerate):\n",
    "    with open(ruta_archivo + nombre_archivo + \".tex\", \"a\") as file:\n",
    "        file.write('\\\\' + 'begin{enumerate}' + os.linesep)\n",
    "        for x in lista_para_enumerate:\n",
    "            file.write('\\\\' + 'item ' + x + os.linesep)\n",
    "        file.write('\\\\' + 'end{enumerate}' + os.linesep)\n",
    "        file.write(\"\\n\" + os.linesep)\n",
    "\n",
    "# Agregar una nueva página en un archivo .tex existente\n",
    "def entorno_nueva_pagina_tex(ruta_archivo, nombre_archivo):\n",
    "    with open(ruta_archivo + nombre_archivo + \".tex\", \"a\") as file:\n",
    "        file.write('\\\\' + 'newpage' + os.linesep)\n",
    "        file.write(\"\\n\" + os.linesep)\n",
    "\n",
    "# Inicializar el documento .tex con los paquetes necesarios y el título\n",
    "def entorno_inicio_documento_tex(ruta_archivo, nombre_archivo, título):\n",
    "    with open(ruta_archivo + nombre_archivo + \".tex\", \"a\") as file:\n",
    "        file.write('\\\\documentclass[12pt,a4paper]{article}\\n')\n",
    "        file.write('\\\\usepackage[utf8]{inputenc}\\n')\n",
    "        file.write('\\\\usepackage[spanish, es-tabla]{babel}\\n')\n",
    "        file.write('\\\\usepackage[hidelinks,colorlinks=true,citecolor=blue, backref=page]{hyperref}\\n')\n",
    "        file.write('\\\\usepackage{amsmath}\\n')\n",
    "        file.write('\\\\usepackage{amsfonts}\\n')\n",
    "        file.write('\\\\usepackage{multirow}\\n')\n",
    "        file.write('\\\\usepackage{booktabs}\\n')\n",
    "        file.write('\\\\usepackage{apacite}\\n')\n",
    "        file.write('\\\\usepackage{multirow}\\n')\n",
    "        file.write('\\\\usepackage{natbib}\\n')\n",
    "        file.write('\\\\usepackage{amssymb}\\n')\n",
    "        file.write('\\\\usepackage{graphicx}\\n')\n",
    "        file.write('\\\\usepackage[width=18.00cm, height=27.00cm]{geometry}\\n')\n",
    "        file.write('\\\\title{' + título + '}\\n')\n",
    "        file.write('\\\\begin{document}\\n')\n",
    "        file.write('\\\\maketitle \\n')\n",
    "\n",
    "# Agregar un párrafo en un archivo .tex existente\n",
    "def parrafo_tex(ruta_archivo, nombre_archivo, parrafo):\n",
    "    with open(ruta_archivo + nombre_archivo + \".tex\", \"a\") as file:\n",
    "        file.write(parrafo + os.linesep)\n",
    "        file.write(\"\\n\" + os.linesep)\n",
    "\n",
    "# Agregar una tabla:\n",
    "def crear_tabla_latex(latex_table, caption, label):\n",
    "    # Agregar el código LaTeX para el entorno table\n",
    "    table = '\\\\begin{table}[h!]\\n'\n",
    "    table += '\\\\centering\\n'\n",
    "    table += '\\\\caption{' + caption + '}\\n'\n",
    "    table += '\\\\label{' + label + '}\\n'\n",
    "    table += latex_table\n",
    "    table += '\\\\end{table}'\n",
    "    \n",
    "    # Devolver el código LaTeX del entorno table\n",
    "    return table\n",
    "\n",
    "    "
   ]
  },
  {
   "cell_type": "markdown",
   "id": "a406b43f",
   "metadata": {},
   "source": [
    "# 6 Primera parte del documento latex con el preámbulo"
   ]
  },
  {
   "cell_type": "code",
   "execution_count": 7,
   "id": "1864bfca",
   "metadata": {},
   "outputs": [
    {
     "name": "stdout",
     "output_type": "stream",
     "text": [
      "Este documento muestra el análisis en base al trabajo de \\cite{Gaona2023}. Se realizó a partir de una base de datos con  241  artículos. Estos artículos pertenecen a  1  fuente documental.  Los artículos fueron publicados   entre los años 2009 y 2023.  La información se extrajo de Scopus.\n"
     ]
    }
   ],
   "source": [
    "# Definir la ruta del archivo y el nombre del archivo .tex\n",
    "ruta_archivo = abrev + '/'\n",
    "nombre_archivo_tex = '01_informe_' + abrev + str(now.year) + '_' + str(now.month) + '_' + str(now.day) + '_' + str(now.hour) + '_' + str(now.minute)\n",
    "\n",
    "# Crear y abrir el archivo .tex\n",
    "entorno_abrir_tex(ruta_archivo, nombre_archivo_tex)\n",
    "\n",
    "# Definir el título del documento\n",
    "título = 'Espacio Rizomático Conceptual de \\\\textbf{' + nombre_largo + '}'\n",
    "\n",
    "# Inicializar el documento .tex con los paquetes necesarios y el título\n",
    "entorno_inicio_documento_tex(ruta_archivo, nombre_archivo_tex, título)\n",
    "\n",
    "# Agregar una sección 'Introducción' en el archivo .tex\n",
    "entorno_section_tex(ruta_archivo, nombre_archivo_tex, 'Introducción')\n",
    "\n",
    "# Crear el primer párrafo de la sección 'Introducción'\n",
    "lista_párrafo1 = ['Este documento muestra el análisis en base al trabajo de \\\\cite{Gaona2023}. Se realizó a partir de una base de datos con ',\n",
    "                  str(len(dfA)),\n",
    "                  ' artículos. Estos artículos pertenecen a ',\n",
    "                  str(len(dfA['Source title'].unique()))\n",
    "                  ]\n",
    "\n",
    "# Decidir si el texto debe ser singular o plural en función de la cantidad de fuentes documentales\n",
    "if len(dfA['Source title'].unique()) == 1:\n",
    "    lista_párrafo1_1 = ' fuente documental.'\n",
    "else:\n",
    "    lista_párrafo1_1 = ' fuentes documentales diferentes.'\n",
    "\n",
    "# Añadir la parte correspondiente del texto al primer párrafo\n",
    "lista_párrafo1.append(lista_párrafo1_1)\n",
    "lista_párrafo1 = lista_párrafo1 + [' Los artículos fueron publicados ']\n",
    "\n",
    "# Decidir si el texto debe incluir un solo año o un rango de años en función de los datos\n",
    "if len(dfA['Year'].unique()) == 1:\n",
    "    lista_párrafo1_2 = ' el año ' + str(dfA['Year'].unique()) + '.'\n",
    "else:\n",
    "    lista_párrafo1_2 = ' entre los años ' + str(dfA['Year'].min()) + ' y ' + str(dfA['Year'].max()) + '.'\n",
    "\n",
    "# Añadir la parte correspondiente del texto al primer párrafo\n",
    "lista_párrafo1.append(lista_párrafo1_2)\n",
    "lista_párrafo1 = lista_párrafo1 + [' La información se extrajo de', fuente_articulos + '.']\n",
    "\n",
    "# Unir la lista en una cadena de texto para formar el primer párrafo\n",
    "párrafo1 = ' '.join(lista_párrafo1)\n",
    "print(párrafo1)\n",
    "\n",
    "# Agregar el primer párrafo al archivo .tex\n",
    "parrafo_tex(ruta_archivo, nombre_archivo_tex, párrafo1)\n"
   ]
  },
  {
   "cell_type": "markdown",
   "id": "c3f7156c",
   "metadata": {},
   "source": [
    "# 7 Documento LaTex con el tabla de cantidad de artículos por años y citas"
   ]
  },
  {
   "cell_type": "code",
   "execution_count": 8,
   "id": "4bf21750",
   "metadata": {},
   "outputs": [
    {
     "name": "stdout",
     "output_type": "stream",
     "text": [
      "      Nº artículos  Nº de citas\n",
      "Año                            \n",
      "2009            15          107\n",
      "2010            15           76\n",
      "2011            13           87\n",
      "2012            16           92\n",
      "2013            15           84\n",
      "2014            37          166\n",
      "2015            15           79\n",
      "2016            15           86\n",
      "2017            15           37\n",
      "2018            15           66\n",
      "2019            15           23\n",
      "2020            15           34\n",
      "2021            15           13\n",
      "2022            11            5\n",
      "2023            14            1\n",
      "Nº de publicaciones y cantidad de citas de los últimos 15 años.\n"
     ]
    }
   ],
   "source": [
    "# Crear una copia del DataFrame original\n",
    "dfB = dfA.copy()\n",
    "\n",
    "# Renombrar la columna 'Year' a 'Año'\n",
    "dfB.rename(columns={'Year': 'Año'}, inplace=True)\n",
    "\n",
    "# Agrupar el DataFrame por año y calcular el tamaño y la suma de la columna 'Cited by'\n",
    "dfA_summary = dfB.groupby('Año')['Cited by'].agg(['size', 'sum'])\n",
    "\n",
    "# Renombrar las columnas del DataFrame agrupado\n",
    "dfA_summary.rename(columns={'size': 'Nº artículos', 'sum': 'Nº de citas'}, inplace=True)\n",
    "\n",
    "# Restablecer el índice del DataFrame\n",
    "dfA_summary.reset_index(inplace=False)\n",
    "\n",
    "# Ordenar el DataFrame por año de forma ascendente\n",
    "dfA_summary.sort_values(by='Año', ascending=True, inplace=True)\n",
    "\n",
    "# Determinar la cantidad de años a mostrar en el resumen\n",
    "años_a_mostrar = 15\n",
    "if dfA['Year'].max() - dfA['Year'].min() + 1 > años_a_mostrar:\n",
    "    años_a_mostrar = años_a_mostrar\n",
    "else:\n",
    "    años_a_mostrar = dfA['Year'].max() - dfA['Year'].min() + 1\n",
    "\n",
    "# Seleccionar los últimos n años para mostrar en el resumen\n",
    "dfA_summary = dfA_summary.tail(años_a_mostrar)\n",
    "\n",
    "# Convertir la columna 'Nº de citas' a enteros\n",
    "dfA_summary['Nº de citas'] = dfA_summary['Nº de citas'].apply(int)\n",
    "\n",
    "# Convertir el DataFrame en una tabla LaTeX\n",
    "latex_table = dfA_summary.to_latex()\n",
    "\n",
    "\n",
    "# Crear la tabla LaTeX con un título y una etiqueta\n",
    "caption = 'Nº de publicaciones y cantidad de citas de los últimos ' + str(años_a_mostrar) + ' años.'\n",
    "label = 'tab: nº publicaciones y citas'\n",
    "latex_table = crear_tabla_latex(latex_table, caption, label)\n",
    "\n",
    "# Agregar la tabla LaTeX al archivo informe.tex\n",
    "crear_tabla_latex(ruta_archivo, nombre_archivo_tex, latex_table)\n",
    "\n",
    "# Imprimir el resumen\n",
    "print(dfA_summary)\n",
    "print(caption)\n"
   ]
  },
  {
   "cell_type": "markdown",
   "id": "b22b62fa",
   "metadata": {},
   "source": [
    "# 8 Documento LaTex con el gráfico de cantidad de artículos por años y citas"
   ]
  },
  {
   "cell_type": "code",
   "execution_count": 9,
   "id": "61338869",
   "metadata": {},
   "outputs": [
    {
     "data": {
      "application/vnd.plotly.v1+json": {
       "config": {
        "plotlyServerURL": "https://plot.ly"
       },
       "data": [
        {
         "alignmentgroup": "True",
         "hovertemplate": "Year=%{x}<br>EID=%{y}<extra></extra>",
         "legendgroup": "",
         "marker": {
          "color": "rgb(76,114,176)",
          "pattern": {
           "shape": ""
          }
         },
         "name": "",
         "offsetgroup": "",
         "orientation": "v",
         "showlegend": false,
         "textposition": "auto",
         "type": "bar",
         "x": [
          2009,
          2010,
          2011,
          2012,
          2013,
          2014,
          2015,
          2016,
          2017,
          2018,
          2019,
          2020,
          2021,
          2022,
          2023
         ],
         "xaxis": "x",
         "y": [
          15,
          15,
          13,
          16,
          15,
          37,
          15,
          15,
          15,
          15,
          15,
          15,
          15,
          11,
          14
         ],
         "yaxis": "y"
        }
       ],
       "layout": {
        "barmode": "relative",
        "legend": {
         "tracegroupgap": 0
        },
        "margin": {
         "t": 60
        },
        "template": {
         "data": {
          "bar": [
           {
            "error_x": {
             "color": "rgb(36,36,36)"
            },
            "error_y": {
             "color": "rgb(36,36,36)"
            },
            "marker": {
             "line": {
              "color": "rgb(234,234,242)",
              "width": 0.5
             },
             "pattern": {
              "fillmode": "overlay",
              "size": 10,
              "solidity": 0.2
             }
            },
            "type": "bar"
           }
          ],
          "barpolar": [
           {
            "marker": {
             "line": {
              "color": "rgb(234,234,242)",
              "width": 0.5
             },
             "pattern": {
              "fillmode": "overlay",
              "size": 10,
              "solidity": 0.2
             }
            },
            "type": "barpolar"
           }
          ],
          "carpet": [
           {
            "aaxis": {
             "endlinecolor": "rgb(36,36,36)",
             "gridcolor": "white",
             "linecolor": "white",
             "minorgridcolor": "white",
             "startlinecolor": "rgb(36,36,36)"
            },
            "baxis": {
             "endlinecolor": "rgb(36,36,36)",
             "gridcolor": "white",
             "linecolor": "white",
             "minorgridcolor": "white",
             "startlinecolor": "rgb(36,36,36)"
            },
            "type": "carpet"
           }
          ],
          "choropleth": [
           {
            "colorbar": {
             "outlinewidth": 0,
             "tickcolor": "rgb(36,36,36)",
             "ticklen": 8,
             "ticks": "outside",
             "tickwidth": 2
            },
            "type": "choropleth"
           }
          ],
          "contour": [
           {
            "colorbar": {
             "outlinewidth": 0,
             "tickcolor": "rgb(36,36,36)",
             "ticklen": 8,
             "ticks": "outside",
             "tickwidth": 2
            },
            "colorscale": [
             [
              0,
              "rgb(2,4,25)"
             ],
             [
              0.06274509803921569,
              "rgb(24,15,41)"
             ],
             [
              0.12549019607843137,
              "rgb(47,23,57)"
             ],
             [
              0.18823529411764706,
              "rgb(71,28,72)"
             ],
             [
              0.25098039215686274,
              "rgb(97,30,82)"
             ],
             [
              0.3137254901960784,
              "rgb(123,30,89)"
             ],
             [
              0.3764705882352941,
              "rgb(150,27,91)"
             ],
             [
              0.4392156862745098,
              "rgb(177,22,88)"
             ],
             [
              0.5019607843137255,
              "rgb(203,26,79)"
             ],
             [
              0.5647058823529412,
              "rgb(223,47,67)"
             ],
             [
              0.6274509803921569,
              "rgb(236,76,61)"
             ],
             [
              0.6901960784313725,
              "rgb(242,107,73)"
             ],
             [
              0.7529411764705882,
              "rgb(244,135,95)"
             ],
             [
              0.8156862745098039,
              "rgb(245,162,122)"
             ],
             [
              0.8784313725490196,
              "rgb(246,188,153)"
             ],
             [
              0.9411764705882353,
              "rgb(247,212,187)"
             ],
             [
              1,
              "rgb(250,234,220)"
             ]
            ],
            "type": "contour"
           }
          ],
          "contourcarpet": [
           {
            "colorbar": {
             "outlinewidth": 0,
             "tickcolor": "rgb(36,36,36)",
             "ticklen": 8,
             "ticks": "outside",
             "tickwidth": 2
            },
            "type": "contourcarpet"
           }
          ],
          "heatmap": [
           {
            "colorbar": {
             "outlinewidth": 0,
             "tickcolor": "rgb(36,36,36)",
             "ticklen": 8,
             "ticks": "outside",
             "tickwidth": 2
            },
            "colorscale": [
             [
              0,
              "rgb(2,4,25)"
             ],
             [
              0.06274509803921569,
              "rgb(24,15,41)"
             ],
             [
              0.12549019607843137,
              "rgb(47,23,57)"
             ],
             [
              0.18823529411764706,
              "rgb(71,28,72)"
             ],
             [
              0.25098039215686274,
              "rgb(97,30,82)"
             ],
             [
              0.3137254901960784,
              "rgb(123,30,89)"
             ],
             [
              0.3764705882352941,
              "rgb(150,27,91)"
             ],
             [
              0.4392156862745098,
              "rgb(177,22,88)"
             ],
             [
              0.5019607843137255,
              "rgb(203,26,79)"
             ],
             [
              0.5647058823529412,
              "rgb(223,47,67)"
             ],
             [
              0.6274509803921569,
              "rgb(236,76,61)"
             ],
             [
              0.6901960784313725,
              "rgb(242,107,73)"
             ],
             [
              0.7529411764705882,
              "rgb(244,135,95)"
             ],
             [
              0.8156862745098039,
              "rgb(245,162,122)"
             ],
             [
              0.8784313725490196,
              "rgb(246,188,153)"
             ],
             [
              0.9411764705882353,
              "rgb(247,212,187)"
             ],
             [
              1,
              "rgb(250,234,220)"
             ]
            ],
            "type": "heatmap"
           }
          ],
          "heatmapgl": [
           {
            "colorbar": {
             "outlinewidth": 0,
             "tickcolor": "rgb(36,36,36)",
             "ticklen": 8,
             "ticks": "outside",
             "tickwidth": 2
            },
            "colorscale": [
             [
              0,
              "rgb(2,4,25)"
             ],
             [
              0.06274509803921569,
              "rgb(24,15,41)"
             ],
             [
              0.12549019607843137,
              "rgb(47,23,57)"
             ],
             [
              0.18823529411764706,
              "rgb(71,28,72)"
             ],
             [
              0.25098039215686274,
              "rgb(97,30,82)"
             ],
             [
              0.3137254901960784,
              "rgb(123,30,89)"
             ],
             [
              0.3764705882352941,
              "rgb(150,27,91)"
             ],
             [
              0.4392156862745098,
              "rgb(177,22,88)"
             ],
             [
              0.5019607843137255,
              "rgb(203,26,79)"
             ],
             [
              0.5647058823529412,
              "rgb(223,47,67)"
             ],
             [
              0.6274509803921569,
              "rgb(236,76,61)"
             ],
             [
              0.6901960784313725,
              "rgb(242,107,73)"
             ],
             [
              0.7529411764705882,
              "rgb(244,135,95)"
             ],
             [
              0.8156862745098039,
              "rgb(245,162,122)"
             ],
             [
              0.8784313725490196,
              "rgb(246,188,153)"
             ],
             [
              0.9411764705882353,
              "rgb(247,212,187)"
             ],
             [
              1,
              "rgb(250,234,220)"
             ]
            ],
            "type": "heatmapgl"
           }
          ],
          "histogram": [
           {
            "marker": {
             "pattern": {
              "fillmode": "overlay",
              "size": 10,
              "solidity": 0.2
             }
            },
            "type": "histogram"
           }
          ],
          "histogram2d": [
           {
            "colorbar": {
             "outlinewidth": 0,
             "tickcolor": "rgb(36,36,36)",
             "ticklen": 8,
             "ticks": "outside",
             "tickwidth": 2
            },
            "colorscale": [
             [
              0,
              "rgb(2,4,25)"
             ],
             [
              0.06274509803921569,
              "rgb(24,15,41)"
             ],
             [
              0.12549019607843137,
              "rgb(47,23,57)"
             ],
             [
              0.18823529411764706,
              "rgb(71,28,72)"
             ],
             [
              0.25098039215686274,
              "rgb(97,30,82)"
             ],
             [
              0.3137254901960784,
              "rgb(123,30,89)"
             ],
             [
              0.3764705882352941,
              "rgb(150,27,91)"
             ],
             [
              0.4392156862745098,
              "rgb(177,22,88)"
             ],
             [
              0.5019607843137255,
              "rgb(203,26,79)"
             ],
             [
              0.5647058823529412,
              "rgb(223,47,67)"
             ],
             [
              0.6274509803921569,
              "rgb(236,76,61)"
             ],
             [
              0.6901960784313725,
              "rgb(242,107,73)"
             ],
             [
              0.7529411764705882,
              "rgb(244,135,95)"
             ],
             [
              0.8156862745098039,
              "rgb(245,162,122)"
             ],
             [
              0.8784313725490196,
              "rgb(246,188,153)"
             ],
             [
              0.9411764705882353,
              "rgb(247,212,187)"
             ],
             [
              1,
              "rgb(250,234,220)"
             ]
            ],
            "type": "histogram2d"
           }
          ],
          "histogram2dcontour": [
           {
            "colorbar": {
             "outlinewidth": 0,
             "tickcolor": "rgb(36,36,36)",
             "ticklen": 8,
             "ticks": "outside",
             "tickwidth": 2
            },
            "colorscale": [
             [
              0,
              "rgb(2,4,25)"
             ],
             [
              0.06274509803921569,
              "rgb(24,15,41)"
             ],
             [
              0.12549019607843137,
              "rgb(47,23,57)"
             ],
             [
              0.18823529411764706,
              "rgb(71,28,72)"
             ],
             [
              0.25098039215686274,
              "rgb(97,30,82)"
             ],
             [
              0.3137254901960784,
              "rgb(123,30,89)"
             ],
             [
              0.3764705882352941,
              "rgb(150,27,91)"
             ],
             [
              0.4392156862745098,
              "rgb(177,22,88)"
             ],
             [
              0.5019607843137255,
              "rgb(203,26,79)"
             ],
             [
              0.5647058823529412,
              "rgb(223,47,67)"
             ],
             [
              0.6274509803921569,
              "rgb(236,76,61)"
             ],
             [
              0.6901960784313725,
              "rgb(242,107,73)"
             ],
             [
              0.7529411764705882,
              "rgb(244,135,95)"
             ],
             [
              0.8156862745098039,
              "rgb(245,162,122)"
             ],
             [
              0.8784313725490196,
              "rgb(246,188,153)"
             ],
             [
              0.9411764705882353,
              "rgb(247,212,187)"
             ],
             [
              1,
              "rgb(250,234,220)"
             ]
            ],
            "type": "histogram2dcontour"
           }
          ],
          "mesh3d": [
           {
            "colorbar": {
             "outlinewidth": 0,
             "tickcolor": "rgb(36,36,36)",
             "ticklen": 8,
             "ticks": "outside",
             "tickwidth": 2
            },
            "type": "mesh3d"
           }
          ],
          "parcoords": [
           {
            "line": {
             "colorbar": {
              "outlinewidth": 0,
              "tickcolor": "rgb(36,36,36)",
              "ticklen": 8,
              "ticks": "outside",
              "tickwidth": 2
             }
            },
            "type": "parcoords"
           }
          ],
          "pie": [
           {
            "automargin": true,
            "type": "pie"
           }
          ],
          "scatter": [
           {
            "fillpattern": {
             "fillmode": "overlay",
             "size": 10,
             "solidity": 0.2
            },
            "type": "scatter"
           }
          ],
          "scatter3d": [
           {
            "line": {
             "colorbar": {
              "outlinewidth": 0,
              "tickcolor": "rgb(36,36,36)",
              "ticklen": 8,
              "ticks": "outside",
              "tickwidth": 2
             }
            },
            "marker": {
             "colorbar": {
              "outlinewidth": 0,
              "tickcolor": "rgb(36,36,36)",
              "ticklen": 8,
              "ticks": "outside",
              "tickwidth": 2
             }
            },
            "type": "scatter3d"
           }
          ],
          "scattercarpet": [
           {
            "marker": {
             "colorbar": {
              "outlinewidth": 0,
              "tickcolor": "rgb(36,36,36)",
              "ticklen": 8,
              "ticks": "outside",
              "tickwidth": 2
             }
            },
            "type": "scattercarpet"
           }
          ],
          "scattergeo": [
           {
            "marker": {
             "colorbar": {
              "outlinewidth": 0,
              "tickcolor": "rgb(36,36,36)",
              "ticklen": 8,
              "ticks": "outside",
              "tickwidth": 2
             }
            },
            "type": "scattergeo"
           }
          ],
          "scattergl": [
           {
            "marker": {
             "colorbar": {
              "outlinewidth": 0,
              "tickcolor": "rgb(36,36,36)",
              "ticklen": 8,
              "ticks": "outside",
              "tickwidth": 2
             }
            },
            "type": "scattergl"
           }
          ],
          "scattermapbox": [
           {
            "marker": {
             "colorbar": {
              "outlinewidth": 0,
              "tickcolor": "rgb(36,36,36)",
              "ticklen": 8,
              "ticks": "outside",
              "tickwidth": 2
             }
            },
            "type": "scattermapbox"
           }
          ],
          "scatterpolar": [
           {
            "marker": {
             "colorbar": {
              "outlinewidth": 0,
              "tickcolor": "rgb(36,36,36)",
              "ticklen": 8,
              "ticks": "outside",
              "tickwidth": 2
             }
            },
            "type": "scatterpolar"
           }
          ],
          "scatterpolargl": [
           {
            "marker": {
             "colorbar": {
              "outlinewidth": 0,
              "tickcolor": "rgb(36,36,36)",
              "ticklen": 8,
              "ticks": "outside",
              "tickwidth": 2
             }
            },
            "type": "scatterpolargl"
           }
          ],
          "scatterternary": [
           {
            "marker": {
             "colorbar": {
              "outlinewidth": 0,
              "tickcolor": "rgb(36,36,36)",
              "ticklen": 8,
              "ticks": "outside",
              "tickwidth": 2
             }
            },
            "type": "scatterternary"
           }
          ],
          "surface": [
           {
            "colorbar": {
             "outlinewidth": 0,
             "tickcolor": "rgb(36,36,36)",
             "ticklen": 8,
             "ticks": "outside",
             "tickwidth": 2
            },
            "colorscale": [
             [
              0,
              "rgb(2,4,25)"
             ],
             [
              0.06274509803921569,
              "rgb(24,15,41)"
             ],
             [
              0.12549019607843137,
              "rgb(47,23,57)"
             ],
             [
              0.18823529411764706,
              "rgb(71,28,72)"
             ],
             [
              0.25098039215686274,
              "rgb(97,30,82)"
             ],
             [
              0.3137254901960784,
              "rgb(123,30,89)"
             ],
             [
              0.3764705882352941,
              "rgb(150,27,91)"
             ],
             [
              0.4392156862745098,
              "rgb(177,22,88)"
             ],
             [
              0.5019607843137255,
              "rgb(203,26,79)"
             ],
             [
              0.5647058823529412,
              "rgb(223,47,67)"
             ],
             [
              0.6274509803921569,
              "rgb(236,76,61)"
             ],
             [
              0.6901960784313725,
              "rgb(242,107,73)"
             ],
             [
              0.7529411764705882,
              "rgb(244,135,95)"
             ],
             [
              0.8156862745098039,
              "rgb(245,162,122)"
             ],
             [
              0.8784313725490196,
              "rgb(246,188,153)"
             ],
             [
              0.9411764705882353,
              "rgb(247,212,187)"
             ],
             [
              1,
              "rgb(250,234,220)"
             ]
            ],
            "type": "surface"
           }
          ],
          "table": [
           {
            "cells": {
             "fill": {
              "color": "rgb(231,231,240)"
             },
             "line": {
              "color": "white"
             }
            },
            "header": {
             "fill": {
              "color": "rgb(183,183,191)"
             },
             "line": {
              "color": "white"
             }
            },
            "type": "table"
           }
          ]
         },
         "layout": {
          "annotationdefaults": {
           "arrowcolor": "rgb(67,103,167)"
          },
          "autotypenumbers": "strict",
          "coloraxis": {
           "colorbar": {
            "outlinewidth": 0,
            "tickcolor": "rgb(36,36,36)",
            "ticklen": 8,
            "ticks": "outside",
            "tickwidth": 2
           }
          },
          "colorscale": {
           "sequential": [
            [
             0,
             "rgb(2,4,25)"
            ],
            [
             0.06274509803921569,
             "rgb(24,15,41)"
            ],
            [
             0.12549019607843137,
             "rgb(47,23,57)"
            ],
            [
             0.18823529411764706,
             "rgb(71,28,72)"
            ],
            [
             0.25098039215686274,
             "rgb(97,30,82)"
            ],
            [
             0.3137254901960784,
             "rgb(123,30,89)"
            ],
            [
             0.3764705882352941,
             "rgb(150,27,91)"
            ],
            [
             0.4392156862745098,
             "rgb(177,22,88)"
            ],
            [
             0.5019607843137255,
             "rgb(203,26,79)"
            ],
            [
             0.5647058823529412,
             "rgb(223,47,67)"
            ],
            [
             0.6274509803921569,
             "rgb(236,76,61)"
            ],
            [
             0.6901960784313725,
             "rgb(242,107,73)"
            ],
            [
             0.7529411764705882,
             "rgb(244,135,95)"
            ],
            [
             0.8156862745098039,
             "rgb(245,162,122)"
            ],
            [
             0.8784313725490196,
             "rgb(246,188,153)"
            ],
            [
             0.9411764705882353,
             "rgb(247,212,187)"
            ],
            [
             1,
             "rgb(250,234,220)"
            ]
           ],
           "sequentialminus": [
            [
             0,
             "rgb(2,4,25)"
            ],
            [
             0.06274509803921569,
             "rgb(24,15,41)"
            ],
            [
             0.12549019607843137,
             "rgb(47,23,57)"
            ],
            [
             0.18823529411764706,
             "rgb(71,28,72)"
            ],
            [
             0.25098039215686274,
             "rgb(97,30,82)"
            ],
            [
             0.3137254901960784,
             "rgb(123,30,89)"
            ],
            [
             0.3764705882352941,
             "rgb(150,27,91)"
            ],
            [
             0.4392156862745098,
             "rgb(177,22,88)"
            ],
            [
             0.5019607843137255,
             "rgb(203,26,79)"
            ],
            [
             0.5647058823529412,
             "rgb(223,47,67)"
            ],
            [
             0.6274509803921569,
             "rgb(236,76,61)"
            ],
            [
             0.6901960784313725,
             "rgb(242,107,73)"
            ],
            [
             0.7529411764705882,
             "rgb(244,135,95)"
            ],
            [
             0.8156862745098039,
             "rgb(245,162,122)"
            ],
            [
             0.8784313725490196,
             "rgb(246,188,153)"
            ],
            [
             0.9411764705882353,
             "rgb(247,212,187)"
            ],
            [
             1,
             "rgb(250,234,220)"
            ]
           ]
          },
          "colorway": [
           "rgb(76,114,176)",
           "rgb(221,132,82)",
           "rgb(85,168,104)",
           "rgb(196,78,82)",
           "rgb(129,114,179)",
           "rgb(147,120,96)",
           "rgb(218,139,195)",
           "rgb(140,140,140)",
           "rgb(204,185,116)",
           "rgb(100,181,205)"
          ],
          "font": {
           "color": "rgb(36,36,36)"
          },
          "geo": {
           "bgcolor": "white",
           "lakecolor": "white",
           "landcolor": "rgb(234,234,242)",
           "showlakes": true,
           "showland": true,
           "subunitcolor": "white"
          },
          "hoverlabel": {
           "align": "left"
          },
          "hovermode": "closest",
          "paper_bgcolor": "white",
          "plot_bgcolor": "rgb(234,234,242)",
          "polar": {
           "angularaxis": {
            "gridcolor": "white",
            "linecolor": "white",
            "showgrid": true,
            "ticks": ""
           },
           "bgcolor": "rgb(234,234,242)",
           "radialaxis": {
            "gridcolor": "white",
            "linecolor": "white",
            "showgrid": true,
            "ticks": ""
           }
          },
          "scene": {
           "xaxis": {
            "backgroundcolor": "rgb(234,234,242)",
            "gridcolor": "white",
            "gridwidth": 2,
            "linecolor": "white",
            "showbackground": true,
            "showgrid": true,
            "ticks": "",
            "zerolinecolor": "white"
           },
           "yaxis": {
            "backgroundcolor": "rgb(234,234,242)",
            "gridcolor": "white",
            "gridwidth": 2,
            "linecolor": "white",
            "showbackground": true,
            "showgrid": true,
            "ticks": "",
            "zerolinecolor": "white"
           },
           "zaxis": {
            "backgroundcolor": "rgb(234,234,242)",
            "gridcolor": "white",
            "gridwidth": 2,
            "linecolor": "white",
            "showbackground": true,
            "showgrid": true,
            "ticks": "",
            "zerolinecolor": "white"
           }
          },
          "shapedefaults": {
           "fillcolor": "rgb(67,103,167)",
           "line": {
            "width": 0
           },
           "opacity": 0.5
          },
          "ternary": {
           "aaxis": {
            "gridcolor": "white",
            "linecolor": "white",
            "showgrid": true,
            "ticks": ""
           },
           "baxis": {
            "gridcolor": "white",
            "linecolor": "white",
            "showgrid": true,
            "ticks": ""
           },
           "bgcolor": "rgb(234,234,242)",
           "caxis": {
            "gridcolor": "white",
            "linecolor": "white",
            "showgrid": true,
            "ticks": ""
           }
          },
          "xaxis": {
           "automargin": true,
           "gridcolor": "white",
           "linecolor": "white",
           "showgrid": true,
           "ticks": "",
           "title": {
            "standoff": 15
           },
           "zerolinecolor": "white"
          },
          "yaxis": {
           "automargin": true,
           "gridcolor": "white",
           "linecolor": "white",
           "showgrid": true,
           "ticks": "",
           "title": {
            "standoff": 15
           },
           "zerolinecolor": "white"
          }
         }
        },
        "title": {
         "text": "Nº de artículos en los últimos 15 años"
        },
        "xaxis": {
         "anchor": "y",
         "domain": [
          0,
          1
         ],
         "range": [
          2007.5,
          2022.5
         ],
         "title": {
          "text": "Año"
         }
        },
        "yaxis": {
         "anchor": "x",
         "domain": [
          0,
          1
         ],
         "title": {
          "text": "Nº de artículos"
         }
        }
       }
      },
      "text/html": [
       "<div>                            <div id=\"4eac10db-3e5d-4d8f-a799-3e1692220a75\" class=\"plotly-graph-div\" style=\"height:525px; width:100%;\"></div>            <script type=\"text/javascript\">                require([\"plotly\"], function(Plotly) {                    window.PLOTLYENV=window.PLOTLYENV || {};                                    if (document.getElementById(\"4eac10db-3e5d-4d8f-a799-3e1692220a75\")) {                    Plotly.newPlot(                        \"4eac10db-3e5d-4d8f-a799-3e1692220a75\",                        [{\"alignmentgroup\":\"True\",\"hovertemplate\":\"Year=%{x}<br>EID=%{y}<extra></extra>\",\"legendgroup\":\"\",\"marker\":{\"color\":\"rgb(76,114,176)\",\"pattern\":{\"shape\":\"\"}},\"name\":\"\",\"offsetgroup\":\"\",\"orientation\":\"v\",\"showlegend\":false,\"textposition\":\"auto\",\"x\":[2009,2010,2011,2012,2013,2014,2015,2016,2017,2018,2019,2020,2021,2022,2023],\"xaxis\":\"x\",\"y\":[15,15,13,16,15,37,15,15,15,15,15,15,15,11,14],\"yaxis\":\"y\",\"type\":\"bar\"}],                        {\"template\":{\"data\":{\"barpolar\":[{\"marker\":{\"line\":{\"color\":\"rgb(234,234,242)\",\"width\":0.5},\"pattern\":{\"fillmode\":\"overlay\",\"size\":10,\"solidity\":0.2}},\"type\":\"barpolar\"}],\"bar\":[{\"error_x\":{\"color\":\"rgb(36,36,36)\"},\"error_y\":{\"color\":\"rgb(36,36,36)\"},\"marker\":{\"line\":{\"color\":\"rgb(234,234,242)\",\"width\":0.5},\"pattern\":{\"fillmode\":\"overlay\",\"size\":10,\"solidity\":0.2}},\"type\":\"bar\"}],\"carpet\":[{\"aaxis\":{\"endlinecolor\":\"rgb(36,36,36)\",\"gridcolor\":\"white\",\"linecolor\":\"white\",\"minorgridcolor\":\"white\",\"startlinecolor\":\"rgb(36,36,36)\"},\"baxis\":{\"endlinecolor\":\"rgb(36,36,36)\",\"gridcolor\":\"white\",\"linecolor\":\"white\",\"minorgridcolor\":\"white\",\"startlinecolor\":\"rgb(36,36,36)\"},\"type\":\"carpet\"}],\"choropleth\":[{\"colorbar\":{\"outlinewidth\":0,\"tickcolor\":\"rgb(36,36,36)\",\"ticklen\":8,\"ticks\":\"outside\",\"tickwidth\":2},\"type\":\"choropleth\"}],\"contourcarpet\":[{\"colorbar\":{\"outlinewidth\":0,\"tickcolor\":\"rgb(36,36,36)\",\"ticklen\":8,\"ticks\":\"outside\",\"tickwidth\":2},\"type\":\"contourcarpet\"}],\"contour\":[{\"colorbar\":{\"outlinewidth\":0,\"tickcolor\":\"rgb(36,36,36)\",\"ticklen\":8,\"ticks\":\"outside\",\"tickwidth\":2},\"colorscale\":[[0.0,\"rgb(2,4,25)\"],[0.06274509803921569,\"rgb(24,15,41)\"],[0.12549019607843137,\"rgb(47,23,57)\"],[0.18823529411764706,\"rgb(71,28,72)\"],[0.25098039215686274,\"rgb(97,30,82)\"],[0.3137254901960784,\"rgb(123,30,89)\"],[0.3764705882352941,\"rgb(150,27,91)\"],[0.4392156862745098,\"rgb(177,22,88)\"],[0.5019607843137255,\"rgb(203,26,79)\"],[0.5647058823529412,\"rgb(223,47,67)\"],[0.6274509803921569,\"rgb(236,76,61)\"],[0.6901960784313725,\"rgb(242,107,73)\"],[0.7529411764705882,\"rgb(244,135,95)\"],[0.8156862745098039,\"rgb(245,162,122)\"],[0.8784313725490196,\"rgb(246,188,153)\"],[0.9411764705882353,\"rgb(247,212,187)\"],[1.0,\"rgb(250,234,220)\"]],\"type\":\"contour\"}],\"heatmapgl\":[{\"colorbar\":{\"outlinewidth\":0,\"tickcolor\":\"rgb(36,36,36)\",\"ticklen\":8,\"ticks\":\"outside\",\"tickwidth\":2},\"colorscale\":[[0.0,\"rgb(2,4,25)\"],[0.06274509803921569,\"rgb(24,15,41)\"],[0.12549019607843137,\"rgb(47,23,57)\"],[0.18823529411764706,\"rgb(71,28,72)\"],[0.25098039215686274,\"rgb(97,30,82)\"],[0.3137254901960784,\"rgb(123,30,89)\"],[0.3764705882352941,\"rgb(150,27,91)\"],[0.4392156862745098,\"rgb(177,22,88)\"],[0.5019607843137255,\"rgb(203,26,79)\"],[0.5647058823529412,\"rgb(223,47,67)\"],[0.6274509803921569,\"rgb(236,76,61)\"],[0.6901960784313725,\"rgb(242,107,73)\"],[0.7529411764705882,\"rgb(244,135,95)\"],[0.8156862745098039,\"rgb(245,162,122)\"],[0.8784313725490196,\"rgb(246,188,153)\"],[0.9411764705882353,\"rgb(247,212,187)\"],[1.0,\"rgb(250,234,220)\"]],\"type\":\"heatmapgl\"}],\"heatmap\":[{\"colorbar\":{\"outlinewidth\":0,\"tickcolor\":\"rgb(36,36,36)\",\"ticklen\":8,\"ticks\":\"outside\",\"tickwidth\":2},\"colorscale\":[[0.0,\"rgb(2,4,25)\"],[0.06274509803921569,\"rgb(24,15,41)\"],[0.12549019607843137,\"rgb(47,23,57)\"],[0.18823529411764706,\"rgb(71,28,72)\"],[0.25098039215686274,\"rgb(97,30,82)\"],[0.3137254901960784,\"rgb(123,30,89)\"],[0.3764705882352941,\"rgb(150,27,91)\"],[0.4392156862745098,\"rgb(177,22,88)\"],[0.5019607843137255,\"rgb(203,26,79)\"],[0.5647058823529412,\"rgb(223,47,67)\"],[0.6274509803921569,\"rgb(236,76,61)\"],[0.6901960784313725,\"rgb(242,107,73)\"],[0.7529411764705882,\"rgb(244,135,95)\"],[0.8156862745098039,\"rgb(245,162,122)\"],[0.8784313725490196,\"rgb(246,188,153)\"],[0.9411764705882353,\"rgb(247,212,187)\"],[1.0,\"rgb(250,234,220)\"]],\"type\":\"heatmap\"}],\"histogram2dcontour\":[{\"colorbar\":{\"outlinewidth\":0,\"tickcolor\":\"rgb(36,36,36)\",\"ticklen\":8,\"ticks\":\"outside\",\"tickwidth\":2},\"colorscale\":[[0.0,\"rgb(2,4,25)\"],[0.06274509803921569,\"rgb(24,15,41)\"],[0.12549019607843137,\"rgb(47,23,57)\"],[0.18823529411764706,\"rgb(71,28,72)\"],[0.25098039215686274,\"rgb(97,30,82)\"],[0.3137254901960784,\"rgb(123,30,89)\"],[0.3764705882352941,\"rgb(150,27,91)\"],[0.4392156862745098,\"rgb(177,22,88)\"],[0.5019607843137255,\"rgb(203,26,79)\"],[0.5647058823529412,\"rgb(223,47,67)\"],[0.6274509803921569,\"rgb(236,76,61)\"],[0.6901960784313725,\"rgb(242,107,73)\"],[0.7529411764705882,\"rgb(244,135,95)\"],[0.8156862745098039,\"rgb(245,162,122)\"],[0.8784313725490196,\"rgb(246,188,153)\"],[0.9411764705882353,\"rgb(247,212,187)\"],[1.0,\"rgb(250,234,220)\"]],\"type\":\"histogram2dcontour\"}],\"histogram2d\":[{\"colorbar\":{\"outlinewidth\":0,\"tickcolor\":\"rgb(36,36,36)\",\"ticklen\":8,\"ticks\":\"outside\",\"tickwidth\":2},\"colorscale\":[[0.0,\"rgb(2,4,25)\"],[0.06274509803921569,\"rgb(24,15,41)\"],[0.12549019607843137,\"rgb(47,23,57)\"],[0.18823529411764706,\"rgb(71,28,72)\"],[0.25098039215686274,\"rgb(97,30,82)\"],[0.3137254901960784,\"rgb(123,30,89)\"],[0.3764705882352941,\"rgb(150,27,91)\"],[0.4392156862745098,\"rgb(177,22,88)\"],[0.5019607843137255,\"rgb(203,26,79)\"],[0.5647058823529412,\"rgb(223,47,67)\"],[0.6274509803921569,\"rgb(236,76,61)\"],[0.6901960784313725,\"rgb(242,107,73)\"],[0.7529411764705882,\"rgb(244,135,95)\"],[0.8156862745098039,\"rgb(245,162,122)\"],[0.8784313725490196,\"rgb(246,188,153)\"],[0.9411764705882353,\"rgb(247,212,187)\"],[1.0,\"rgb(250,234,220)\"]],\"type\":\"histogram2d\"}],\"histogram\":[{\"marker\":{\"pattern\":{\"fillmode\":\"overlay\",\"size\":10,\"solidity\":0.2}},\"type\":\"histogram\"}],\"mesh3d\":[{\"colorbar\":{\"outlinewidth\":0,\"tickcolor\":\"rgb(36,36,36)\",\"ticklen\":8,\"ticks\":\"outside\",\"tickwidth\":2},\"type\":\"mesh3d\"}],\"parcoords\":[{\"line\":{\"colorbar\":{\"outlinewidth\":0,\"tickcolor\":\"rgb(36,36,36)\",\"ticklen\":8,\"ticks\":\"outside\",\"tickwidth\":2}},\"type\":\"parcoords\"}],\"pie\":[{\"automargin\":true,\"type\":\"pie\"}],\"scatter3d\":[{\"line\":{\"colorbar\":{\"outlinewidth\":0,\"tickcolor\":\"rgb(36,36,36)\",\"ticklen\":8,\"ticks\":\"outside\",\"tickwidth\":2}},\"marker\":{\"colorbar\":{\"outlinewidth\":0,\"tickcolor\":\"rgb(36,36,36)\",\"ticklen\":8,\"ticks\":\"outside\",\"tickwidth\":2}},\"type\":\"scatter3d\"}],\"scattercarpet\":[{\"marker\":{\"colorbar\":{\"outlinewidth\":0,\"tickcolor\":\"rgb(36,36,36)\",\"ticklen\":8,\"ticks\":\"outside\",\"tickwidth\":2}},\"type\":\"scattercarpet\"}],\"scattergeo\":[{\"marker\":{\"colorbar\":{\"outlinewidth\":0,\"tickcolor\":\"rgb(36,36,36)\",\"ticklen\":8,\"ticks\":\"outside\",\"tickwidth\":2}},\"type\":\"scattergeo\"}],\"scattergl\":[{\"marker\":{\"colorbar\":{\"outlinewidth\":0,\"tickcolor\":\"rgb(36,36,36)\",\"ticklen\":8,\"ticks\":\"outside\",\"tickwidth\":2}},\"type\":\"scattergl\"}],\"scattermapbox\":[{\"marker\":{\"colorbar\":{\"outlinewidth\":0,\"tickcolor\":\"rgb(36,36,36)\",\"ticklen\":8,\"ticks\":\"outside\",\"tickwidth\":2}},\"type\":\"scattermapbox\"}],\"scatterpolargl\":[{\"marker\":{\"colorbar\":{\"outlinewidth\":0,\"tickcolor\":\"rgb(36,36,36)\",\"ticklen\":8,\"ticks\":\"outside\",\"tickwidth\":2}},\"type\":\"scatterpolargl\"}],\"scatterpolar\":[{\"marker\":{\"colorbar\":{\"outlinewidth\":0,\"tickcolor\":\"rgb(36,36,36)\",\"ticklen\":8,\"ticks\":\"outside\",\"tickwidth\":2}},\"type\":\"scatterpolar\"}],\"scatter\":[{\"fillpattern\":{\"fillmode\":\"overlay\",\"size\":10,\"solidity\":0.2},\"type\":\"scatter\"}],\"scatterternary\":[{\"marker\":{\"colorbar\":{\"outlinewidth\":0,\"tickcolor\":\"rgb(36,36,36)\",\"ticklen\":8,\"ticks\":\"outside\",\"tickwidth\":2}},\"type\":\"scatterternary\"}],\"surface\":[{\"colorbar\":{\"outlinewidth\":0,\"tickcolor\":\"rgb(36,36,36)\",\"ticklen\":8,\"ticks\":\"outside\",\"tickwidth\":2},\"colorscale\":[[0.0,\"rgb(2,4,25)\"],[0.06274509803921569,\"rgb(24,15,41)\"],[0.12549019607843137,\"rgb(47,23,57)\"],[0.18823529411764706,\"rgb(71,28,72)\"],[0.25098039215686274,\"rgb(97,30,82)\"],[0.3137254901960784,\"rgb(123,30,89)\"],[0.3764705882352941,\"rgb(150,27,91)\"],[0.4392156862745098,\"rgb(177,22,88)\"],[0.5019607843137255,\"rgb(203,26,79)\"],[0.5647058823529412,\"rgb(223,47,67)\"],[0.6274509803921569,\"rgb(236,76,61)\"],[0.6901960784313725,\"rgb(242,107,73)\"],[0.7529411764705882,\"rgb(244,135,95)\"],[0.8156862745098039,\"rgb(245,162,122)\"],[0.8784313725490196,\"rgb(246,188,153)\"],[0.9411764705882353,\"rgb(247,212,187)\"],[1.0,\"rgb(250,234,220)\"]],\"type\":\"surface\"}],\"table\":[{\"cells\":{\"fill\":{\"color\":\"rgb(231,231,240)\"},\"line\":{\"color\":\"white\"}},\"header\":{\"fill\":{\"color\":\"rgb(183,183,191)\"},\"line\":{\"color\":\"white\"}},\"type\":\"table\"}]},\"layout\":{\"annotationdefaults\":{\"arrowcolor\":\"rgb(67,103,167)\"},\"autotypenumbers\":\"strict\",\"coloraxis\":{\"colorbar\":{\"outlinewidth\":0,\"tickcolor\":\"rgb(36,36,36)\",\"ticklen\":8,\"ticks\":\"outside\",\"tickwidth\":2}},\"colorscale\":{\"sequential\":[[0.0,\"rgb(2,4,25)\"],[0.06274509803921569,\"rgb(24,15,41)\"],[0.12549019607843137,\"rgb(47,23,57)\"],[0.18823529411764706,\"rgb(71,28,72)\"],[0.25098039215686274,\"rgb(97,30,82)\"],[0.3137254901960784,\"rgb(123,30,89)\"],[0.3764705882352941,\"rgb(150,27,91)\"],[0.4392156862745098,\"rgb(177,22,88)\"],[0.5019607843137255,\"rgb(203,26,79)\"],[0.5647058823529412,\"rgb(223,47,67)\"],[0.6274509803921569,\"rgb(236,76,61)\"],[0.6901960784313725,\"rgb(242,107,73)\"],[0.7529411764705882,\"rgb(244,135,95)\"],[0.8156862745098039,\"rgb(245,162,122)\"],[0.8784313725490196,\"rgb(246,188,153)\"],[0.9411764705882353,\"rgb(247,212,187)\"],[1.0,\"rgb(250,234,220)\"]],\"sequentialminus\":[[0.0,\"rgb(2,4,25)\"],[0.06274509803921569,\"rgb(24,15,41)\"],[0.12549019607843137,\"rgb(47,23,57)\"],[0.18823529411764706,\"rgb(71,28,72)\"],[0.25098039215686274,\"rgb(97,30,82)\"],[0.3137254901960784,\"rgb(123,30,89)\"],[0.3764705882352941,\"rgb(150,27,91)\"],[0.4392156862745098,\"rgb(177,22,88)\"],[0.5019607843137255,\"rgb(203,26,79)\"],[0.5647058823529412,\"rgb(223,47,67)\"],[0.6274509803921569,\"rgb(236,76,61)\"],[0.6901960784313725,\"rgb(242,107,73)\"],[0.7529411764705882,\"rgb(244,135,95)\"],[0.8156862745098039,\"rgb(245,162,122)\"],[0.8784313725490196,\"rgb(246,188,153)\"],[0.9411764705882353,\"rgb(247,212,187)\"],[1.0,\"rgb(250,234,220)\"]]},\"colorway\":[\"rgb(76,114,176)\",\"rgb(221,132,82)\",\"rgb(85,168,104)\",\"rgb(196,78,82)\",\"rgb(129,114,179)\",\"rgb(147,120,96)\",\"rgb(218,139,195)\",\"rgb(140,140,140)\",\"rgb(204,185,116)\",\"rgb(100,181,205)\"],\"font\":{\"color\":\"rgb(36,36,36)\"},\"geo\":{\"bgcolor\":\"white\",\"lakecolor\":\"white\",\"landcolor\":\"rgb(234,234,242)\",\"showlakes\":true,\"showland\":true,\"subunitcolor\":\"white\"},\"hoverlabel\":{\"align\":\"left\"},\"hovermode\":\"closest\",\"paper_bgcolor\":\"white\",\"plot_bgcolor\":\"rgb(234,234,242)\",\"polar\":{\"angularaxis\":{\"gridcolor\":\"white\",\"linecolor\":\"white\",\"showgrid\":true,\"ticks\":\"\"},\"bgcolor\":\"rgb(234,234,242)\",\"radialaxis\":{\"gridcolor\":\"white\",\"linecolor\":\"white\",\"showgrid\":true,\"ticks\":\"\"}},\"scene\":{\"xaxis\":{\"backgroundcolor\":\"rgb(234,234,242)\",\"gridcolor\":\"white\",\"gridwidth\":2,\"linecolor\":\"white\",\"showbackground\":true,\"showgrid\":true,\"ticks\":\"\",\"zerolinecolor\":\"white\"},\"yaxis\":{\"backgroundcolor\":\"rgb(234,234,242)\",\"gridcolor\":\"white\",\"gridwidth\":2,\"linecolor\":\"white\",\"showbackground\":true,\"showgrid\":true,\"ticks\":\"\",\"zerolinecolor\":\"white\"},\"zaxis\":{\"backgroundcolor\":\"rgb(234,234,242)\",\"gridcolor\":\"white\",\"gridwidth\":2,\"linecolor\":\"white\",\"showbackground\":true,\"showgrid\":true,\"ticks\":\"\",\"zerolinecolor\":\"white\"}},\"shapedefaults\":{\"fillcolor\":\"rgb(67,103,167)\",\"line\":{\"width\":0},\"opacity\":0.5},\"ternary\":{\"aaxis\":{\"gridcolor\":\"white\",\"linecolor\":\"white\",\"showgrid\":true,\"ticks\":\"\"},\"baxis\":{\"gridcolor\":\"white\",\"linecolor\":\"white\",\"showgrid\":true,\"ticks\":\"\"},\"bgcolor\":\"rgb(234,234,242)\",\"caxis\":{\"gridcolor\":\"white\",\"linecolor\":\"white\",\"showgrid\":true,\"ticks\":\"\"}},\"xaxis\":{\"automargin\":true,\"gridcolor\":\"white\",\"linecolor\":\"white\",\"showgrid\":true,\"ticks\":\"\",\"title\":{\"standoff\":15},\"zerolinecolor\":\"white\"},\"yaxis\":{\"automargin\":true,\"gridcolor\":\"white\",\"linecolor\":\"white\",\"showgrid\":true,\"ticks\":\"\",\"title\":{\"standoff\":15},\"zerolinecolor\":\"white\"}}},\"xaxis\":{\"anchor\":\"y\",\"domain\":[0.0,1.0],\"title\":{\"text\":\"A\\u00f1o\"},\"range\":[2007.5,2022.5]},\"yaxis\":{\"anchor\":\"x\",\"domain\":[0.0,1.0],\"title\":{\"text\":\"N\\u00ba de art\\u00edculos\"}},\"legend\":{\"tracegroupgap\":0},\"margin\":{\"t\":60},\"barmode\":\"relative\",\"title\":{\"text\":\"N\\u00ba de art\\u00edculos en los \\u00faltimos 15 a\\u00f1os\"}},                        {\"responsive\": true}                    ).then(function(){\n",
       "                            \n",
       "var gd = document.getElementById('4eac10db-3e5d-4d8f-a799-3e1692220a75');\n",
       "var x = new MutationObserver(function (mutations, observer) {{\n",
       "        var display = window.getComputedStyle(gd).display;\n",
       "        if (!display || display === 'none') {{\n",
       "            console.log([gd, 'removed!']);\n",
       "            Plotly.purge(gd);\n",
       "            observer.disconnect();\n",
       "        }}\n",
       "}});\n",
       "\n",
       "// Listen for the removal of the full notebook cells\n",
       "var notebookContainer = gd.closest('#notebook-container');\n",
       "if (notebookContainer) {{\n",
       "    x.observe(notebookContainer, {childList: true});\n",
       "}}\n",
       "\n",
       "// Listen for the clearing of the current output cell\n",
       "var outputEl = gd.closest('.output');\n",
       "if (outputEl) {{\n",
       "    x.observe(outputEl, {childList: true});\n",
       "}}\n",
       "\n",
       "                        })                };                });            </script>        </div>"
      ]
     },
     "metadata": {},
     "output_type": "display_data"
    },
    {
     "name": "stdout",
     "output_type": "stream",
     "text": [
      "De los  241  documentos analizados en este informe,  241  fueron realizados en los últimos  15  años, es decir, el 100.0 \\% del total. Su distribución se muestra en la figura \\ref{fig:RELIME__n_241articulos_ultimos_15_anos_2025_1_13_9_48}.\n"
     ]
    },
    {
     "data": {
      "application/vnd.plotly.v1+json": {
       "config": {
        "plotlyServerURL": "https://plot.ly"
       },
       "data": [
        {
         "alignmentgroup": "True",
         "hovertemplate": "Year=%{x}<br>Cited by=%{y}<extra></extra>",
         "legendgroup": "",
         "marker": {
          "color": "rgb(76,114,176)",
          "pattern": {
           "shape": ""
          }
         },
         "name": "",
         "offsetgroup": "",
         "orientation": "v",
         "showlegend": false,
         "textposition": "auto",
         "type": "bar",
         "x": [
          2009,
          2010,
          2011,
          2012,
          2013,
          2014,
          2015,
          2016,
          2017,
          2018,
          2019,
          2020,
          2021,
          2022,
          2023
         ],
         "xaxis": "x",
         "y": [
          107,
          76,
          87,
          92,
          84,
          166,
          79,
          86,
          37,
          66,
          23,
          34,
          13,
          5,
          1
         ],
         "yaxis": "y"
        }
       ],
       "layout": {
        "barmode": "relative",
        "legend": {
         "tracegroupgap": 0
        },
        "margin": {
         "t": 60
        },
        "template": {
         "data": {
          "bar": [
           {
            "error_x": {
             "color": "rgb(36,36,36)"
            },
            "error_y": {
             "color": "rgb(36,36,36)"
            },
            "marker": {
             "line": {
              "color": "rgb(234,234,242)",
              "width": 0.5
             },
             "pattern": {
              "fillmode": "overlay",
              "size": 10,
              "solidity": 0.2
             }
            },
            "type": "bar"
           }
          ],
          "barpolar": [
           {
            "marker": {
             "line": {
              "color": "rgb(234,234,242)",
              "width": 0.5
             },
             "pattern": {
              "fillmode": "overlay",
              "size": 10,
              "solidity": 0.2
             }
            },
            "type": "barpolar"
           }
          ],
          "carpet": [
           {
            "aaxis": {
             "endlinecolor": "rgb(36,36,36)",
             "gridcolor": "white",
             "linecolor": "white",
             "minorgridcolor": "white",
             "startlinecolor": "rgb(36,36,36)"
            },
            "baxis": {
             "endlinecolor": "rgb(36,36,36)",
             "gridcolor": "white",
             "linecolor": "white",
             "minorgridcolor": "white",
             "startlinecolor": "rgb(36,36,36)"
            },
            "type": "carpet"
           }
          ],
          "choropleth": [
           {
            "colorbar": {
             "outlinewidth": 0,
             "tickcolor": "rgb(36,36,36)",
             "ticklen": 8,
             "ticks": "outside",
             "tickwidth": 2
            },
            "type": "choropleth"
           }
          ],
          "contour": [
           {
            "colorbar": {
             "outlinewidth": 0,
             "tickcolor": "rgb(36,36,36)",
             "ticklen": 8,
             "ticks": "outside",
             "tickwidth": 2
            },
            "colorscale": [
             [
              0,
              "rgb(2,4,25)"
             ],
             [
              0.06274509803921569,
              "rgb(24,15,41)"
             ],
             [
              0.12549019607843137,
              "rgb(47,23,57)"
             ],
             [
              0.18823529411764706,
              "rgb(71,28,72)"
             ],
             [
              0.25098039215686274,
              "rgb(97,30,82)"
             ],
             [
              0.3137254901960784,
              "rgb(123,30,89)"
             ],
             [
              0.3764705882352941,
              "rgb(150,27,91)"
             ],
             [
              0.4392156862745098,
              "rgb(177,22,88)"
             ],
             [
              0.5019607843137255,
              "rgb(203,26,79)"
             ],
             [
              0.5647058823529412,
              "rgb(223,47,67)"
             ],
             [
              0.6274509803921569,
              "rgb(236,76,61)"
             ],
             [
              0.6901960784313725,
              "rgb(242,107,73)"
             ],
             [
              0.7529411764705882,
              "rgb(244,135,95)"
             ],
             [
              0.8156862745098039,
              "rgb(245,162,122)"
             ],
             [
              0.8784313725490196,
              "rgb(246,188,153)"
             ],
             [
              0.9411764705882353,
              "rgb(247,212,187)"
             ],
             [
              1,
              "rgb(250,234,220)"
             ]
            ],
            "type": "contour"
           }
          ],
          "contourcarpet": [
           {
            "colorbar": {
             "outlinewidth": 0,
             "tickcolor": "rgb(36,36,36)",
             "ticklen": 8,
             "ticks": "outside",
             "tickwidth": 2
            },
            "type": "contourcarpet"
           }
          ],
          "heatmap": [
           {
            "colorbar": {
             "outlinewidth": 0,
             "tickcolor": "rgb(36,36,36)",
             "ticklen": 8,
             "ticks": "outside",
             "tickwidth": 2
            },
            "colorscale": [
             [
              0,
              "rgb(2,4,25)"
             ],
             [
              0.06274509803921569,
              "rgb(24,15,41)"
             ],
             [
              0.12549019607843137,
              "rgb(47,23,57)"
             ],
             [
              0.18823529411764706,
              "rgb(71,28,72)"
             ],
             [
              0.25098039215686274,
              "rgb(97,30,82)"
             ],
             [
              0.3137254901960784,
              "rgb(123,30,89)"
             ],
             [
              0.3764705882352941,
              "rgb(150,27,91)"
             ],
             [
              0.4392156862745098,
              "rgb(177,22,88)"
             ],
             [
              0.5019607843137255,
              "rgb(203,26,79)"
             ],
             [
              0.5647058823529412,
              "rgb(223,47,67)"
             ],
             [
              0.6274509803921569,
              "rgb(236,76,61)"
             ],
             [
              0.6901960784313725,
              "rgb(242,107,73)"
             ],
             [
              0.7529411764705882,
              "rgb(244,135,95)"
             ],
             [
              0.8156862745098039,
              "rgb(245,162,122)"
             ],
             [
              0.8784313725490196,
              "rgb(246,188,153)"
             ],
             [
              0.9411764705882353,
              "rgb(247,212,187)"
             ],
             [
              1,
              "rgb(250,234,220)"
             ]
            ],
            "type": "heatmap"
           }
          ],
          "heatmapgl": [
           {
            "colorbar": {
             "outlinewidth": 0,
             "tickcolor": "rgb(36,36,36)",
             "ticklen": 8,
             "ticks": "outside",
             "tickwidth": 2
            },
            "colorscale": [
             [
              0,
              "rgb(2,4,25)"
             ],
             [
              0.06274509803921569,
              "rgb(24,15,41)"
             ],
             [
              0.12549019607843137,
              "rgb(47,23,57)"
             ],
             [
              0.18823529411764706,
              "rgb(71,28,72)"
             ],
             [
              0.25098039215686274,
              "rgb(97,30,82)"
             ],
             [
              0.3137254901960784,
              "rgb(123,30,89)"
             ],
             [
              0.3764705882352941,
              "rgb(150,27,91)"
             ],
             [
              0.4392156862745098,
              "rgb(177,22,88)"
             ],
             [
              0.5019607843137255,
              "rgb(203,26,79)"
             ],
             [
              0.5647058823529412,
              "rgb(223,47,67)"
             ],
             [
              0.6274509803921569,
              "rgb(236,76,61)"
             ],
             [
              0.6901960784313725,
              "rgb(242,107,73)"
             ],
             [
              0.7529411764705882,
              "rgb(244,135,95)"
             ],
             [
              0.8156862745098039,
              "rgb(245,162,122)"
             ],
             [
              0.8784313725490196,
              "rgb(246,188,153)"
             ],
             [
              0.9411764705882353,
              "rgb(247,212,187)"
             ],
             [
              1,
              "rgb(250,234,220)"
             ]
            ],
            "type": "heatmapgl"
           }
          ],
          "histogram": [
           {
            "marker": {
             "pattern": {
              "fillmode": "overlay",
              "size": 10,
              "solidity": 0.2
             }
            },
            "type": "histogram"
           }
          ],
          "histogram2d": [
           {
            "colorbar": {
             "outlinewidth": 0,
             "tickcolor": "rgb(36,36,36)",
             "ticklen": 8,
             "ticks": "outside",
             "tickwidth": 2
            },
            "colorscale": [
             [
              0,
              "rgb(2,4,25)"
             ],
             [
              0.06274509803921569,
              "rgb(24,15,41)"
             ],
             [
              0.12549019607843137,
              "rgb(47,23,57)"
             ],
             [
              0.18823529411764706,
              "rgb(71,28,72)"
             ],
             [
              0.25098039215686274,
              "rgb(97,30,82)"
             ],
             [
              0.3137254901960784,
              "rgb(123,30,89)"
             ],
             [
              0.3764705882352941,
              "rgb(150,27,91)"
             ],
             [
              0.4392156862745098,
              "rgb(177,22,88)"
             ],
             [
              0.5019607843137255,
              "rgb(203,26,79)"
             ],
             [
              0.5647058823529412,
              "rgb(223,47,67)"
             ],
             [
              0.6274509803921569,
              "rgb(236,76,61)"
             ],
             [
              0.6901960784313725,
              "rgb(242,107,73)"
             ],
             [
              0.7529411764705882,
              "rgb(244,135,95)"
             ],
             [
              0.8156862745098039,
              "rgb(245,162,122)"
             ],
             [
              0.8784313725490196,
              "rgb(246,188,153)"
             ],
             [
              0.9411764705882353,
              "rgb(247,212,187)"
             ],
             [
              1,
              "rgb(250,234,220)"
             ]
            ],
            "type": "histogram2d"
           }
          ],
          "histogram2dcontour": [
           {
            "colorbar": {
             "outlinewidth": 0,
             "tickcolor": "rgb(36,36,36)",
             "ticklen": 8,
             "ticks": "outside",
             "tickwidth": 2
            },
            "colorscale": [
             [
              0,
              "rgb(2,4,25)"
             ],
             [
              0.06274509803921569,
              "rgb(24,15,41)"
             ],
             [
              0.12549019607843137,
              "rgb(47,23,57)"
             ],
             [
              0.18823529411764706,
              "rgb(71,28,72)"
             ],
             [
              0.25098039215686274,
              "rgb(97,30,82)"
             ],
             [
              0.3137254901960784,
              "rgb(123,30,89)"
             ],
             [
              0.3764705882352941,
              "rgb(150,27,91)"
             ],
             [
              0.4392156862745098,
              "rgb(177,22,88)"
             ],
             [
              0.5019607843137255,
              "rgb(203,26,79)"
             ],
             [
              0.5647058823529412,
              "rgb(223,47,67)"
             ],
             [
              0.6274509803921569,
              "rgb(236,76,61)"
             ],
             [
              0.6901960784313725,
              "rgb(242,107,73)"
             ],
             [
              0.7529411764705882,
              "rgb(244,135,95)"
             ],
             [
              0.8156862745098039,
              "rgb(245,162,122)"
             ],
             [
              0.8784313725490196,
              "rgb(246,188,153)"
             ],
             [
              0.9411764705882353,
              "rgb(247,212,187)"
             ],
             [
              1,
              "rgb(250,234,220)"
             ]
            ],
            "type": "histogram2dcontour"
           }
          ],
          "mesh3d": [
           {
            "colorbar": {
             "outlinewidth": 0,
             "tickcolor": "rgb(36,36,36)",
             "ticklen": 8,
             "ticks": "outside",
             "tickwidth": 2
            },
            "type": "mesh3d"
           }
          ],
          "parcoords": [
           {
            "line": {
             "colorbar": {
              "outlinewidth": 0,
              "tickcolor": "rgb(36,36,36)",
              "ticklen": 8,
              "ticks": "outside",
              "tickwidth": 2
             }
            },
            "type": "parcoords"
           }
          ],
          "pie": [
           {
            "automargin": true,
            "type": "pie"
           }
          ],
          "scatter": [
           {
            "fillpattern": {
             "fillmode": "overlay",
             "size": 10,
             "solidity": 0.2
            },
            "type": "scatter"
           }
          ],
          "scatter3d": [
           {
            "line": {
             "colorbar": {
              "outlinewidth": 0,
              "tickcolor": "rgb(36,36,36)",
              "ticklen": 8,
              "ticks": "outside",
              "tickwidth": 2
             }
            },
            "marker": {
             "colorbar": {
              "outlinewidth": 0,
              "tickcolor": "rgb(36,36,36)",
              "ticklen": 8,
              "ticks": "outside",
              "tickwidth": 2
             }
            },
            "type": "scatter3d"
           }
          ],
          "scattercarpet": [
           {
            "marker": {
             "colorbar": {
              "outlinewidth": 0,
              "tickcolor": "rgb(36,36,36)",
              "ticklen": 8,
              "ticks": "outside",
              "tickwidth": 2
             }
            },
            "type": "scattercarpet"
           }
          ],
          "scattergeo": [
           {
            "marker": {
             "colorbar": {
              "outlinewidth": 0,
              "tickcolor": "rgb(36,36,36)",
              "ticklen": 8,
              "ticks": "outside",
              "tickwidth": 2
             }
            },
            "type": "scattergeo"
           }
          ],
          "scattergl": [
           {
            "marker": {
             "colorbar": {
              "outlinewidth": 0,
              "tickcolor": "rgb(36,36,36)",
              "ticklen": 8,
              "ticks": "outside",
              "tickwidth": 2
             }
            },
            "type": "scattergl"
           }
          ],
          "scattermapbox": [
           {
            "marker": {
             "colorbar": {
              "outlinewidth": 0,
              "tickcolor": "rgb(36,36,36)",
              "ticklen": 8,
              "ticks": "outside",
              "tickwidth": 2
             }
            },
            "type": "scattermapbox"
           }
          ],
          "scatterpolar": [
           {
            "marker": {
             "colorbar": {
              "outlinewidth": 0,
              "tickcolor": "rgb(36,36,36)",
              "ticklen": 8,
              "ticks": "outside",
              "tickwidth": 2
             }
            },
            "type": "scatterpolar"
           }
          ],
          "scatterpolargl": [
           {
            "marker": {
             "colorbar": {
              "outlinewidth": 0,
              "tickcolor": "rgb(36,36,36)",
              "ticklen": 8,
              "ticks": "outside",
              "tickwidth": 2
             }
            },
            "type": "scatterpolargl"
           }
          ],
          "scatterternary": [
           {
            "marker": {
             "colorbar": {
              "outlinewidth": 0,
              "tickcolor": "rgb(36,36,36)",
              "ticklen": 8,
              "ticks": "outside",
              "tickwidth": 2
             }
            },
            "type": "scatterternary"
           }
          ],
          "surface": [
           {
            "colorbar": {
             "outlinewidth": 0,
             "tickcolor": "rgb(36,36,36)",
             "ticklen": 8,
             "ticks": "outside",
             "tickwidth": 2
            },
            "colorscale": [
             [
              0,
              "rgb(2,4,25)"
             ],
             [
              0.06274509803921569,
              "rgb(24,15,41)"
             ],
             [
              0.12549019607843137,
              "rgb(47,23,57)"
             ],
             [
              0.18823529411764706,
              "rgb(71,28,72)"
             ],
             [
              0.25098039215686274,
              "rgb(97,30,82)"
             ],
             [
              0.3137254901960784,
              "rgb(123,30,89)"
             ],
             [
              0.3764705882352941,
              "rgb(150,27,91)"
             ],
             [
              0.4392156862745098,
              "rgb(177,22,88)"
             ],
             [
              0.5019607843137255,
              "rgb(203,26,79)"
             ],
             [
              0.5647058823529412,
              "rgb(223,47,67)"
             ],
             [
              0.6274509803921569,
              "rgb(236,76,61)"
             ],
             [
              0.6901960784313725,
              "rgb(242,107,73)"
             ],
             [
              0.7529411764705882,
              "rgb(244,135,95)"
             ],
             [
              0.8156862745098039,
              "rgb(245,162,122)"
             ],
             [
              0.8784313725490196,
              "rgb(246,188,153)"
             ],
             [
              0.9411764705882353,
              "rgb(247,212,187)"
             ],
             [
              1,
              "rgb(250,234,220)"
             ]
            ],
            "type": "surface"
           }
          ],
          "table": [
           {
            "cells": {
             "fill": {
              "color": "rgb(231,231,240)"
             },
             "line": {
              "color": "white"
             }
            },
            "header": {
             "fill": {
              "color": "rgb(183,183,191)"
             },
             "line": {
              "color": "white"
             }
            },
            "type": "table"
           }
          ]
         },
         "layout": {
          "annotationdefaults": {
           "arrowcolor": "rgb(67,103,167)"
          },
          "autotypenumbers": "strict",
          "coloraxis": {
           "colorbar": {
            "outlinewidth": 0,
            "tickcolor": "rgb(36,36,36)",
            "ticklen": 8,
            "ticks": "outside",
            "tickwidth": 2
           }
          },
          "colorscale": {
           "sequential": [
            [
             0,
             "rgb(2,4,25)"
            ],
            [
             0.06274509803921569,
             "rgb(24,15,41)"
            ],
            [
             0.12549019607843137,
             "rgb(47,23,57)"
            ],
            [
             0.18823529411764706,
             "rgb(71,28,72)"
            ],
            [
             0.25098039215686274,
             "rgb(97,30,82)"
            ],
            [
             0.3137254901960784,
             "rgb(123,30,89)"
            ],
            [
             0.3764705882352941,
             "rgb(150,27,91)"
            ],
            [
             0.4392156862745098,
             "rgb(177,22,88)"
            ],
            [
             0.5019607843137255,
             "rgb(203,26,79)"
            ],
            [
             0.5647058823529412,
             "rgb(223,47,67)"
            ],
            [
             0.6274509803921569,
             "rgb(236,76,61)"
            ],
            [
             0.6901960784313725,
             "rgb(242,107,73)"
            ],
            [
             0.7529411764705882,
             "rgb(244,135,95)"
            ],
            [
             0.8156862745098039,
             "rgb(245,162,122)"
            ],
            [
             0.8784313725490196,
             "rgb(246,188,153)"
            ],
            [
             0.9411764705882353,
             "rgb(247,212,187)"
            ],
            [
             1,
             "rgb(250,234,220)"
            ]
           ],
           "sequentialminus": [
            [
             0,
             "rgb(2,4,25)"
            ],
            [
             0.06274509803921569,
             "rgb(24,15,41)"
            ],
            [
             0.12549019607843137,
             "rgb(47,23,57)"
            ],
            [
             0.18823529411764706,
             "rgb(71,28,72)"
            ],
            [
             0.25098039215686274,
             "rgb(97,30,82)"
            ],
            [
             0.3137254901960784,
             "rgb(123,30,89)"
            ],
            [
             0.3764705882352941,
             "rgb(150,27,91)"
            ],
            [
             0.4392156862745098,
             "rgb(177,22,88)"
            ],
            [
             0.5019607843137255,
             "rgb(203,26,79)"
            ],
            [
             0.5647058823529412,
             "rgb(223,47,67)"
            ],
            [
             0.6274509803921569,
             "rgb(236,76,61)"
            ],
            [
             0.6901960784313725,
             "rgb(242,107,73)"
            ],
            [
             0.7529411764705882,
             "rgb(244,135,95)"
            ],
            [
             0.8156862745098039,
             "rgb(245,162,122)"
            ],
            [
             0.8784313725490196,
             "rgb(246,188,153)"
            ],
            [
             0.9411764705882353,
             "rgb(247,212,187)"
            ],
            [
             1,
             "rgb(250,234,220)"
            ]
           ]
          },
          "colorway": [
           "rgb(76,114,176)",
           "rgb(221,132,82)",
           "rgb(85,168,104)",
           "rgb(196,78,82)",
           "rgb(129,114,179)",
           "rgb(147,120,96)",
           "rgb(218,139,195)",
           "rgb(140,140,140)",
           "rgb(204,185,116)",
           "rgb(100,181,205)"
          ],
          "font": {
           "color": "rgb(36,36,36)"
          },
          "geo": {
           "bgcolor": "white",
           "lakecolor": "white",
           "landcolor": "rgb(234,234,242)",
           "showlakes": true,
           "showland": true,
           "subunitcolor": "white"
          },
          "hoverlabel": {
           "align": "left"
          },
          "hovermode": "closest",
          "paper_bgcolor": "white",
          "plot_bgcolor": "rgb(234,234,242)",
          "polar": {
           "angularaxis": {
            "gridcolor": "white",
            "linecolor": "white",
            "showgrid": true,
            "ticks": ""
           },
           "bgcolor": "rgb(234,234,242)",
           "radialaxis": {
            "gridcolor": "white",
            "linecolor": "white",
            "showgrid": true,
            "ticks": ""
           }
          },
          "scene": {
           "xaxis": {
            "backgroundcolor": "rgb(234,234,242)",
            "gridcolor": "white",
            "gridwidth": 2,
            "linecolor": "white",
            "showbackground": true,
            "showgrid": true,
            "ticks": "",
            "zerolinecolor": "white"
           },
           "yaxis": {
            "backgroundcolor": "rgb(234,234,242)",
            "gridcolor": "white",
            "gridwidth": 2,
            "linecolor": "white",
            "showbackground": true,
            "showgrid": true,
            "ticks": "",
            "zerolinecolor": "white"
           },
           "zaxis": {
            "backgroundcolor": "rgb(234,234,242)",
            "gridcolor": "white",
            "gridwidth": 2,
            "linecolor": "white",
            "showbackground": true,
            "showgrid": true,
            "ticks": "",
            "zerolinecolor": "white"
           }
          },
          "shapedefaults": {
           "fillcolor": "rgb(67,103,167)",
           "line": {
            "width": 0
           },
           "opacity": 0.5
          },
          "ternary": {
           "aaxis": {
            "gridcolor": "white",
            "linecolor": "white",
            "showgrid": true,
            "ticks": ""
           },
           "baxis": {
            "gridcolor": "white",
            "linecolor": "white",
            "showgrid": true,
            "ticks": ""
           },
           "bgcolor": "rgb(234,234,242)",
           "caxis": {
            "gridcolor": "white",
            "linecolor": "white",
            "showgrid": true,
            "ticks": ""
           }
          },
          "xaxis": {
           "automargin": true,
           "gridcolor": "white",
           "linecolor": "white",
           "showgrid": true,
           "ticks": "",
           "title": {
            "standoff": 15
           },
           "zerolinecolor": "white"
          },
          "yaxis": {
           "automargin": true,
           "gridcolor": "white",
           "linecolor": "white",
           "showgrid": true,
           "ticks": "",
           "title": {
            "standoff": 15
           },
           "zerolinecolor": "white"
          }
         }
        },
        "title": {
         "text": "Nº de citas en los últimos 15 años"
        },
        "xaxis": {
         "anchor": "y",
         "domain": [
          0,
          1
         ],
         "range": [
          2007.5,
          2023.5
         ],
         "title": {
          "text": "Año"
         }
        },
        "yaxis": {
         "anchor": "x",
         "domain": [
          0,
          1
         ],
         "title": {
          "text": "Nº de citas"
         }
        }
       }
      },
      "text/html": [
       "<div>                            <div id=\"ee525d15-c4bf-42a7-a5c0-8ceb5e8a391f\" class=\"plotly-graph-div\" style=\"height:525px; width:100%;\"></div>            <script type=\"text/javascript\">                require([\"plotly\"], function(Plotly) {                    window.PLOTLYENV=window.PLOTLYENV || {};                                    if (document.getElementById(\"ee525d15-c4bf-42a7-a5c0-8ceb5e8a391f\")) {                    Plotly.newPlot(                        \"ee525d15-c4bf-42a7-a5c0-8ceb5e8a391f\",                        [{\"alignmentgroup\":\"True\",\"hovertemplate\":\"Year=%{x}<br>Cited by=%{y}<extra></extra>\",\"legendgroup\":\"\",\"marker\":{\"color\":\"rgb(76,114,176)\",\"pattern\":{\"shape\":\"\"}},\"name\":\"\",\"offsetgroup\":\"\",\"orientation\":\"v\",\"showlegend\":false,\"textposition\":\"auto\",\"x\":[2009,2010,2011,2012,2013,2014,2015,2016,2017,2018,2019,2020,2021,2022,2023],\"xaxis\":\"x\",\"y\":[107,76,87,92,84,166,79,86,37,66,23,34,13,5,1],\"yaxis\":\"y\",\"type\":\"bar\"}],                        {\"template\":{\"data\":{\"barpolar\":[{\"marker\":{\"line\":{\"color\":\"rgb(234,234,242)\",\"width\":0.5},\"pattern\":{\"fillmode\":\"overlay\",\"size\":10,\"solidity\":0.2}},\"type\":\"barpolar\"}],\"bar\":[{\"error_x\":{\"color\":\"rgb(36,36,36)\"},\"error_y\":{\"color\":\"rgb(36,36,36)\"},\"marker\":{\"line\":{\"color\":\"rgb(234,234,242)\",\"width\":0.5},\"pattern\":{\"fillmode\":\"overlay\",\"size\":10,\"solidity\":0.2}},\"type\":\"bar\"}],\"carpet\":[{\"aaxis\":{\"endlinecolor\":\"rgb(36,36,36)\",\"gridcolor\":\"white\",\"linecolor\":\"white\",\"minorgridcolor\":\"white\",\"startlinecolor\":\"rgb(36,36,36)\"},\"baxis\":{\"endlinecolor\":\"rgb(36,36,36)\",\"gridcolor\":\"white\",\"linecolor\":\"white\",\"minorgridcolor\":\"white\",\"startlinecolor\":\"rgb(36,36,36)\"},\"type\":\"carpet\"}],\"choropleth\":[{\"colorbar\":{\"outlinewidth\":0,\"tickcolor\":\"rgb(36,36,36)\",\"ticklen\":8,\"ticks\":\"outside\",\"tickwidth\":2},\"type\":\"choropleth\"}],\"contourcarpet\":[{\"colorbar\":{\"outlinewidth\":0,\"tickcolor\":\"rgb(36,36,36)\",\"ticklen\":8,\"ticks\":\"outside\",\"tickwidth\":2},\"type\":\"contourcarpet\"}],\"contour\":[{\"colorbar\":{\"outlinewidth\":0,\"tickcolor\":\"rgb(36,36,36)\",\"ticklen\":8,\"ticks\":\"outside\",\"tickwidth\":2},\"colorscale\":[[0.0,\"rgb(2,4,25)\"],[0.06274509803921569,\"rgb(24,15,41)\"],[0.12549019607843137,\"rgb(47,23,57)\"],[0.18823529411764706,\"rgb(71,28,72)\"],[0.25098039215686274,\"rgb(97,30,82)\"],[0.3137254901960784,\"rgb(123,30,89)\"],[0.3764705882352941,\"rgb(150,27,91)\"],[0.4392156862745098,\"rgb(177,22,88)\"],[0.5019607843137255,\"rgb(203,26,79)\"],[0.5647058823529412,\"rgb(223,47,67)\"],[0.6274509803921569,\"rgb(236,76,61)\"],[0.6901960784313725,\"rgb(242,107,73)\"],[0.7529411764705882,\"rgb(244,135,95)\"],[0.8156862745098039,\"rgb(245,162,122)\"],[0.8784313725490196,\"rgb(246,188,153)\"],[0.9411764705882353,\"rgb(247,212,187)\"],[1.0,\"rgb(250,234,220)\"]],\"type\":\"contour\"}],\"heatmapgl\":[{\"colorbar\":{\"outlinewidth\":0,\"tickcolor\":\"rgb(36,36,36)\",\"ticklen\":8,\"ticks\":\"outside\",\"tickwidth\":2},\"colorscale\":[[0.0,\"rgb(2,4,25)\"],[0.06274509803921569,\"rgb(24,15,41)\"],[0.12549019607843137,\"rgb(47,23,57)\"],[0.18823529411764706,\"rgb(71,28,72)\"],[0.25098039215686274,\"rgb(97,30,82)\"],[0.3137254901960784,\"rgb(123,30,89)\"],[0.3764705882352941,\"rgb(150,27,91)\"],[0.4392156862745098,\"rgb(177,22,88)\"],[0.5019607843137255,\"rgb(203,26,79)\"],[0.5647058823529412,\"rgb(223,47,67)\"],[0.6274509803921569,\"rgb(236,76,61)\"],[0.6901960784313725,\"rgb(242,107,73)\"],[0.7529411764705882,\"rgb(244,135,95)\"],[0.8156862745098039,\"rgb(245,162,122)\"],[0.8784313725490196,\"rgb(246,188,153)\"],[0.9411764705882353,\"rgb(247,212,187)\"],[1.0,\"rgb(250,234,220)\"]],\"type\":\"heatmapgl\"}],\"heatmap\":[{\"colorbar\":{\"outlinewidth\":0,\"tickcolor\":\"rgb(36,36,36)\",\"ticklen\":8,\"ticks\":\"outside\",\"tickwidth\":2},\"colorscale\":[[0.0,\"rgb(2,4,25)\"],[0.06274509803921569,\"rgb(24,15,41)\"],[0.12549019607843137,\"rgb(47,23,57)\"],[0.18823529411764706,\"rgb(71,28,72)\"],[0.25098039215686274,\"rgb(97,30,82)\"],[0.3137254901960784,\"rgb(123,30,89)\"],[0.3764705882352941,\"rgb(150,27,91)\"],[0.4392156862745098,\"rgb(177,22,88)\"],[0.5019607843137255,\"rgb(203,26,79)\"],[0.5647058823529412,\"rgb(223,47,67)\"],[0.6274509803921569,\"rgb(236,76,61)\"],[0.6901960784313725,\"rgb(242,107,73)\"],[0.7529411764705882,\"rgb(244,135,95)\"],[0.8156862745098039,\"rgb(245,162,122)\"],[0.8784313725490196,\"rgb(246,188,153)\"],[0.9411764705882353,\"rgb(247,212,187)\"],[1.0,\"rgb(250,234,220)\"]],\"type\":\"heatmap\"}],\"histogram2dcontour\":[{\"colorbar\":{\"outlinewidth\":0,\"tickcolor\":\"rgb(36,36,36)\",\"ticklen\":8,\"ticks\":\"outside\",\"tickwidth\":2},\"colorscale\":[[0.0,\"rgb(2,4,25)\"],[0.06274509803921569,\"rgb(24,15,41)\"],[0.12549019607843137,\"rgb(47,23,57)\"],[0.18823529411764706,\"rgb(71,28,72)\"],[0.25098039215686274,\"rgb(97,30,82)\"],[0.3137254901960784,\"rgb(123,30,89)\"],[0.3764705882352941,\"rgb(150,27,91)\"],[0.4392156862745098,\"rgb(177,22,88)\"],[0.5019607843137255,\"rgb(203,26,79)\"],[0.5647058823529412,\"rgb(223,47,67)\"],[0.6274509803921569,\"rgb(236,76,61)\"],[0.6901960784313725,\"rgb(242,107,73)\"],[0.7529411764705882,\"rgb(244,135,95)\"],[0.8156862745098039,\"rgb(245,162,122)\"],[0.8784313725490196,\"rgb(246,188,153)\"],[0.9411764705882353,\"rgb(247,212,187)\"],[1.0,\"rgb(250,234,220)\"]],\"type\":\"histogram2dcontour\"}],\"histogram2d\":[{\"colorbar\":{\"outlinewidth\":0,\"tickcolor\":\"rgb(36,36,36)\",\"ticklen\":8,\"ticks\":\"outside\",\"tickwidth\":2},\"colorscale\":[[0.0,\"rgb(2,4,25)\"],[0.06274509803921569,\"rgb(24,15,41)\"],[0.12549019607843137,\"rgb(47,23,57)\"],[0.18823529411764706,\"rgb(71,28,72)\"],[0.25098039215686274,\"rgb(97,30,82)\"],[0.3137254901960784,\"rgb(123,30,89)\"],[0.3764705882352941,\"rgb(150,27,91)\"],[0.4392156862745098,\"rgb(177,22,88)\"],[0.5019607843137255,\"rgb(203,26,79)\"],[0.5647058823529412,\"rgb(223,47,67)\"],[0.6274509803921569,\"rgb(236,76,61)\"],[0.6901960784313725,\"rgb(242,107,73)\"],[0.7529411764705882,\"rgb(244,135,95)\"],[0.8156862745098039,\"rgb(245,162,122)\"],[0.8784313725490196,\"rgb(246,188,153)\"],[0.9411764705882353,\"rgb(247,212,187)\"],[1.0,\"rgb(250,234,220)\"]],\"type\":\"histogram2d\"}],\"histogram\":[{\"marker\":{\"pattern\":{\"fillmode\":\"overlay\",\"size\":10,\"solidity\":0.2}},\"type\":\"histogram\"}],\"mesh3d\":[{\"colorbar\":{\"outlinewidth\":0,\"tickcolor\":\"rgb(36,36,36)\",\"ticklen\":8,\"ticks\":\"outside\",\"tickwidth\":2},\"type\":\"mesh3d\"}],\"parcoords\":[{\"line\":{\"colorbar\":{\"outlinewidth\":0,\"tickcolor\":\"rgb(36,36,36)\",\"ticklen\":8,\"ticks\":\"outside\",\"tickwidth\":2}},\"type\":\"parcoords\"}],\"pie\":[{\"automargin\":true,\"type\":\"pie\"}],\"scatter3d\":[{\"line\":{\"colorbar\":{\"outlinewidth\":0,\"tickcolor\":\"rgb(36,36,36)\",\"ticklen\":8,\"ticks\":\"outside\",\"tickwidth\":2}},\"marker\":{\"colorbar\":{\"outlinewidth\":0,\"tickcolor\":\"rgb(36,36,36)\",\"ticklen\":8,\"ticks\":\"outside\",\"tickwidth\":2}},\"type\":\"scatter3d\"}],\"scattercarpet\":[{\"marker\":{\"colorbar\":{\"outlinewidth\":0,\"tickcolor\":\"rgb(36,36,36)\",\"ticklen\":8,\"ticks\":\"outside\",\"tickwidth\":2}},\"type\":\"scattercarpet\"}],\"scattergeo\":[{\"marker\":{\"colorbar\":{\"outlinewidth\":0,\"tickcolor\":\"rgb(36,36,36)\",\"ticklen\":8,\"ticks\":\"outside\",\"tickwidth\":2}},\"type\":\"scattergeo\"}],\"scattergl\":[{\"marker\":{\"colorbar\":{\"outlinewidth\":0,\"tickcolor\":\"rgb(36,36,36)\",\"ticklen\":8,\"ticks\":\"outside\",\"tickwidth\":2}},\"type\":\"scattergl\"}],\"scattermapbox\":[{\"marker\":{\"colorbar\":{\"outlinewidth\":0,\"tickcolor\":\"rgb(36,36,36)\",\"ticklen\":8,\"ticks\":\"outside\",\"tickwidth\":2}},\"type\":\"scattermapbox\"}],\"scatterpolargl\":[{\"marker\":{\"colorbar\":{\"outlinewidth\":0,\"tickcolor\":\"rgb(36,36,36)\",\"ticklen\":8,\"ticks\":\"outside\",\"tickwidth\":2}},\"type\":\"scatterpolargl\"}],\"scatterpolar\":[{\"marker\":{\"colorbar\":{\"outlinewidth\":0,\"tickcolor\":\"rgb(36,36,36)\",\"ticklen\":8,\"ticks\":\"outside\",\"tickwidth\":2}},\"type\":\"scatterpolar\"}],\"scatter\":[{\"fillpattern\":{\"fillmode\":\"overlay\",\"size\":10,\"solidity\":0.2},\"type\":\"scatter\"}],\"scatterternary\":[{\"marker\":{\"colorbar\":{\"outlinewidth\":0,\"tickcolor\":\"rgb(36,36,36)\",\"ticklen\":8,\"ticks\":\"outside\",\"tickwidth\":2}},\"type\":\"scatterternary\"}],\"surface\":[{\"colorbar\":{\"outlinewidth\":0,\"tickcolor\":\"rgb(36,36,36)\",\"ticklen\":8,\"ticks\":\"outside\",\"tickwidth\":2},\"colorscale\":[[0.0,\"rgb(2,4,25)\"],[0.06274509803921569,\"rgb(24,15,41)\"],[0.12549019607843137,\"rgb(47,23,57)\"],[0.18823529411764706,\"rgb(71,28,72)\"],[0.25098039215686274,\"rgb(97,30,82)\"],[0.3137254901960784,\"rgb(123,30,89)\"],[0.3764705882352941,\"rgb(150,27,91)\"],[0.4392156862745098,\"rgb(177,22,88)\"],[0.5019607843137255,\"rgb(203,26,79)\"],[0.5647058823529412,\"rgb(223,47,67)\"],[0.6274509803921569,\"rgb(236,76,61)\"],[0.6901960784313725,\"rgb(242,107,73)\"],[0.7529411764705882,\"rgb(244,135,95)\"],[0.8156862745098039,\"rgb(245,162,122)\"],[0.8784313725490196,\"rgb(246,188,153)\"],[0.9411764705882353,\"rgb(247,212,187)\"],[1.0,\"rgb(250,234,220)\"]],\"type\":\"surface\"}],\"table\":[{\"cells\":{\"fill\":{\"color\":\"rgb(231,231,240)\"},\"line\":{\"color\":\"white\"}},\"header\":{\"fill\":{\"color\":\"rgb(183,183,191)\"},\"line\":{\"color\":\"white\"}},\"type\":\"table\"}]},\"layout\":{\"annotationdefaults\":{\"arrowcolor\":\"rgb(67,103,167)\"},\"autotypenumbers\":\"strict\",\"coloraxis\":{\"colorbar\":{\"outlinewidth\":0,\"tickcolor\":\"rgb(36,36,36)\",\"ticklen\":8,\"ticks\":\"outside\",\"tickwidth\":2}},\"colorscale\":{\"sequential\":[[0.0,\"rgb(2,4,25)\"],[0.06274509803921569,\"rgb(24,15,41)\"],[0.12549019607843137,\"rgb(47,23,57)\"],[0.18823529411764706,\"rgb(71,28,72)\"],[0.25098039215686274,\"rgb(97,30,82)\"],[0.3137254901960784,\"rgb(123,30,89)\"],[0.3764705882352941,\"rgb(150,27,91)\"],[0.4392156862745098,\"rgb(177,22,88)\"],[0.5019607843137255,\"rgb(203,26,79)\"],[0.5647058823529412,\"rgb(223,47,67)\"],[0.6274509803921569,\"rgb(236,76,61)\"],[0.6901960784313725,\"rgb(242,107,73)\"],[0.7529411764705882,\"rgb(244,135,95)\"],[0.8156862745098039,\"rgb(245,162,122)\"],[0.8784313725490196,\"rgb(246,188,153)\"],[0.9411764705882353,\"rgb(247,212,187)\"],[1.0,\"rgb(250,234,220)\"]],\"sequentialminus\":[[0.0,\"rgb(2,4,25)\"],[0.06274509803921569,\"rgb(24,15,41)\"],[0.12549019607843137,\"rgb(47,23,57)\"],[0.18823529411764706,\"rgb(71,28,72)\"],[0.25098039215686274,\"rgb(97,30,82)\"],[0.3137254901960784,\"rgb(123,30,89)\"],[0.3764705882352941,\"rgb(150,27,91)\"],[0.4392156862745098,\"rgb(177,22,88)\"],[0.5019607843137255,\"rgb(203,26,79)\"],[0.5647058823529412,\"rgb(223,47,67)\"],[0.6274509803921569,\"rgb(236,76,61)\"],[0.6901960784313725,\"rgb(242,107,73)\"],[0.7529411764705882,\"rgb(244,135,95)\"],[0.8156862745098039,\"rgb(245,162,122)\"],[0.8784313725490196,\"rgb(246,188,153)\"],[0.9411764705882353,\"rgb(247,212,187)\"],[1.0,\"rgb(250,234,220)\"]]},\"colorway\":[\"rgb(76,114,176)\",\"rgb(221,132,82)\",\"rgb(85,168,104)\",\"rgb(196,78,82)\",\"rgb(129,114,179)\",\"rgb(147,120,96)\",\"rgb(218,139,195)\",\"rgb(140,140,140)\",\"rgb(204,185,116)\",\"rgb(100,181,205)\"],\"font\":{\"color\":\"rgb(36,36,36)\"},\"geo\":{\"bgcolor\":\"white\",\"lakecolor\":\"white\",\"landcolor\":\"rgb(234,234,242)\",\"showlakes\":true,\"showland\":true,\"subunitcolor\":\"white\"},\"hoverlabel\":{\"align\":\"left\"},\"hovermode\":\"closest\",\"paper_bgcolor\":\"white\",\"plot_bgcolor\":\"rgb(234,234,242)\",\"polar\":{\"angularaxis\":{\"gridcolor\":\"white\",\"linecolor\":\"white\",\"showgrid\":true,\"ticks\":\"\"},\"bgcolor\":\"rgb(234,234,242)\",\"radialaxis\":{\"gridcolor\":\"white\",\"linecolor\":\"white\",\"showgrid\":true,\"ticks\":\"\"}},\"scene\":{\"xaxis\":{\"backgroundcolor\":\"rgb(234,234,242)\",\"gridcolor\":\"white\",\"gridwidth\":2,\"linecolor\":\"white\",\"showbackground\":true,\"showgrid\":true,\"ticks\":\"\",\"zerolinecolor\":\"white\"},\"yaxis\":{\"backgroundcolor\":\"rgb(234,234,242)\",\"gridcolor\":\"white\",\"gridwidth\":2,\"linecolor\":\"white\",\"showbackground\":true,\"showgrid\":true,\"ticks\":\"\",\"zerolinecolor\":\"white\"},\"zaxis\":{\"backgroundcolor\":\"rgb(234,234,242)\",\"gridcolor\":\"white\",\"gridwidth\":2,\"linecolor\":\"white\",\"showbackground\":true,\"showgrid\":true,\"ticks\":\"\",\"zerolinecolor\":\"white\"}},\"shapedefaults\":{\"fillcolor\":\"rgb(67,103,167)\",\"line\":{\"width\":0},\"opacity\":0.5},\"ternary\":{\"aaxis\":{\"gridcolor\":\"white\",\"linecolor\":\"white\",\"showgrid\":true,\"ticks\":\"\"},\"baxis\":{\"gridcolor\":\"white\",\"linecolor\":\"white\",\"showgrid\":true,\"ticks\":\"\"},\"bgcolor\":\"rgb(234,234,242)\",\"caxis\":{\"gridcolor\":\"white\",\"linecolor\":\"white\",\"showgrid\":true,\"ticks\":\"\"}},\"xaxis\":{\"automargin\":true,\"gridcolor\":\"white\",\"linecolor\":\"white\",\"showgrid\":true,\"ticks\":\"\",\"title\":{\"standoff\":15},\"zerolinecolor\":\"white\"},\"yaxis\":{\"automargin\":true,\"gridcolor\":\"white\",\"linecolor\":\"white\",\"showgrid\":true,\"ticks\":\"\",\"title\":{\"standoff\":15},\"zerolinecolor\":\"white\"}}},\"xaxis\":{\"anchor\":\"y\",\"domain\":[0.0,1.0],\"title\":{\"text\":\"A\\u00f1o\"},\"range\":[2007.5,2023.5]},\"yaxis\":{\"anchor\":\"x\",\"domain\":[0.0,1.0],\"title\":{\"text\":\"N\\u00ba de citas\"}},\"legend\":{\"tracegroupgap\":0},\"margin\":{\"t\":60},\"barmode\":\"relative\",\"title\":{\"text\":\"N\\u00ba de citas en los \\u00faltimos 15 a\\u00f1os\"}},                        {\"responsive\": true}                    ).then(function(){\n",
       "                            \n",
       "var gd = document.getElementById('ee525d15-c4bf-42a7-a5c0-8ceb5e8a391f');\n",
       "var x = new MutationObserver(function (mutations, observer) {{\n",
       "        var display = window.getComputedStyle(gd).display;\n",
       "        if (!display || display === 'none') {{\n",
       "            console.log([gd, 'removed!']);\n",
       "            Plotly.purge(gd);\n",
       "            observer.disconnect();\n",
       "        }}\n",
       "}});\n",
       "\n",
       "// Listen for the removal of the full notebook cells\n",
       "var notebookContainer = gd.closest('#notebook-container');\n",
       "if (notebookContainer) {{\n",
       "    x.observe(notebookContainer, {childList: true});\n",
       "}}\n",
       "\n",
       "// Listen for the clearing of the current output cell\n",
       "var outputEl = gd.closest('.output');\n",
       "if (outputEl) {{\n",
       "    x.observe(outputEl, {childList: true});\n",
       "}}\n",
       "\n",
       "                        })                };                });            </script>        </div>"
      ]
     },
     "metadata": {},
     "output_type": "display_data"
    },
    {
     "name": "stdout",
     "output_type": "stream",
     "text": [
      "Los documentos tienen en total   956  citas. De las cuales,   956  fueron realizados en los últimos  15  años. Su distribución se muestra en la figura \\ref{fig:RELIME__n_241citas_ultimos_15_anos_2025_1_13_9_48}.\n",
      "Citas de artículos publicados en Scopus de RELIME. Fuente: Scopus.\n"
     ]
    }
   ],
   "source": [
    "import plotly.express as px\n",
    "\n",
    "\n",
    "######## Gráfico de nº de artículos ############\n",
    "\n",
    "# Agrupar el DataFrame por año y contar el número de EID en cada grupo\n",
    "dfA_plot = dfA.groupby('Year')['EID'].count().reset_index()\n",
    "\n",
    "# Crear un gráfico de barras usando Plotly Express\n",
    "fig = px.bar(dfA_plot, x='Year', y='EID', template=template_elegido)\n",
    "\n",
    "# Personalizar el título, los ejes x e y del gráfico\n",
    "fig.update_layout(title='Nº de artículos en los últimos ' + str(años_a_mostrar) + ' años')\n",
    "fig.update_xaxes(range=[dfA['Year'].max() - años_a_mostrar - 0.5, dfA['Year'].max() + 0.5-1])\n",
    "fig.update_yaxes(title='Nº de artículos')\n",
    "fig.update_xaxes(title='Año')\n",
    "\n",
    "# Mostrar el gráfico\n",
    "fig.show()\n",
    "\n",
    "# Crear un nombre de archivo para guardar el gráfico\n",
    "nombre_archivo = abrev + '_' + \"_n_\" + str(len(dfA)) + 'articulos_ultimos_' + str(años_a_mostrar) + '_anos_' + str(\n",
    "    now.year) + '_' + str(now.month) + '_' + str(now.day) + '_' + str(now.hour) + '_' + str(now.minute)\n",
    "\n",
    "# Crear un párrafo con información sobre el gráfico\n",
    "lista_párrafo2 = ['De los ', str(len(dfA)), ' documentos analizados en este informe, ',\n",
    "                  str(len(dfA[dfA['Year'] >= dfA['Year'].max() - años_a_mostrar])),\n",
    "                  ' fueron realizados en los últimos ', str(años_a_mostrar), ' años, es decir, el',\n",
    "                  str(round(100 * len(dfA[dfA['Year'] >= dfA['Year'].max() - años_a_mostrar]) / len(dfA), 1)),\n",
    "                  '\\\\% del total. Su distribución se muestra en la figura \\\\ref{fig:' + nombre_archivo + '}.']\n",
    "\n",
    "párrafo2 = ' '.join(lista_párrafo2)\n",
    "print(párrafo2)\n",
    "\n",
    "# Agregar el párrafo al archivo informe.tex\n",
    "parrafo_tex(ruta_archivo, nombre_archivo_tex, párrafo2)\n",
    "\n",
    "# Guardar el gráfico como un archivo HTML y PDF\n",
    "fig.write_html(abrev + '/' + nombre_archivo + \".html\")\n",
    "fig.write_image(abrev + '/' + nombre_archivo + \".pdf\", width=600, height=300)\n",
    "\n",
    "# Agregar la figura al archivo informe.tex\n",
    "nombre_archivo_figura = nombre_archivo\n",
    "leyenda = 'Artículos publicados en ' + fuente_articulos + ' de ' + nombre_largo + '. Fuente: ' + fuente_articulos + '.'\n",
    "entorno_figura_tex(ruta_archivo, nombre_archivo_tex, nombre_archivo_figura, leyenda)\n",
    "\n",
    "\n",
    "\n",
    "\n",
    "\n",
    "\n",
    "\n",
    "######## Gráfico de citas############\n",
    "\n",
    "# Agrupar los datos por año y calcular la suma de las citas para cada año\n",
    "dfA_plot = dfA.groupby('Year')['Cited by'].sum().reset_index()\n",
    "\n",
    "# Crear un gráfico de barras usando Plotly Express\n",
    "fig = px.bar(dfA_plot, x='Year', y='Cited by', template=template_elegido)\n",
    "\n",
    "# Actualizar el título del gráfico\n",
    "fig.update_layout(title='Nº de citas en los últimos ' + str(años_a_mostrar) + ' años')\n",
    "\n",
    "# Ajustar el rango del eje x y agregar un margen adicional para evitar recortes en las barras extremas\n",
    "fig.update_xaxes(range=[dfA['Year'].max() - años_a_mostrar - 0.5, dfA['Year'].max() + 0.5])\n",
    "\n",
    "# Actualizar el título del eje y\n",
    "fig.update_yaxes(title='Nº de citas')\n",
    "\n",
    "# Actualizar el título del eje x\n",
    "fig.update_xaxes(title='Año')\n",
    "\n",
    "# Mostrar el gráfico\n",
    "fig.show()\n",
    "\n",
    "# Crear el nombre del archivo\n",
    "nombre_archivo = abrev + '_' + \"_n_\" + str(len(dfA)) + 'citas_ultimos_' + str(años_a_mostrar) + '_anos_' + str(now.year) + '_' + str(now.month) + '_' + str(now.day) + '_' + str(now.hour) + '_' + str(now.minute)\n",
    "\n",
    "# Crear el párrafo para el informe\n",
    "lista_párrafo3 = ['Los documentos tienen en total  ', str(dfA['Cited by'].sum().astype(int)), ' citas. De las cuales,  ',\n",
    "                  str((dfA[dfA['Year'] >= dfA['Year'].max() - años_a_mostrar]['Cited by'].sum()).astype(int)),\n",
    "                  ' fueron realizados en los últimos ', str(años_a_mostrar), ' años.',\n",
    "                  'Su distribución se muestra en la figura \\\\ref{fig:' + nombre_archivo + '}.']\n",
    "\n",
    "párrafo3 = ' '.join(lista_párrafo3)\n",
    "print(párrafo3)\n",
    "\n",
    "# Agregar el párrafo al archivo LaTeX\n",
    "parrafo_tex(ruta_archivo, nombre_archivo_tex, párrafo3)\n",
    "\n",
    "# Guardar el gráfico como archivo HTML y PDF\n",
    "fig.write_html(abrev + '/' + nombre_archivo + \".html\")\n",
    "fig.write_image(abrev + '/' + nombre_archivo + \".pdf\", width=600, height=300)\n",
    "\n",
    "# Crear la leyenda de la figura\n",
    "nombre_archivo_figura = nombre_archivo\n",
    "leyenda = 'Citas de artículos publicados en ' + fuente_articulos + ' de ' + nombre_largo + '. Fuente: ' + fuente_articulos + '.'\n",
    "\n",
    "# Agregar la figura y su leyenda al archivo LaTeX\n",
    "entorno_figura_tex(ruta_archivo, nombre_archivo_tex, nombre_archivo_figura, leyenda)\n",
    "\n",
    "# Imprimir la leyenda\n",
    "print(leyenda)\n",
    "\n"
   ]
  },
  {
   "cell_type": "markdown",
   "id": "92c9697c",
   "metadata": {},
   "source": [
    "# 9 Conteo de todos los campos antes de tratar la información"
   ]
  },
  {
   "cell_type": "code",
   "execution_count": 10,
   "id": "6982867a",
   "metadata": {},
   "outputs": [
    {
     "data": {
      "application/vnd.plotly.v1+json": {
       "config": {
        "plotlyServerURL": "https://plot.ly"
       },
       "data": [
        {
         "alignmentgroup": "True",
         "hovertemplate": "frecuencia=%{x}<br>palabras_clave=%{y}<br>text=%{text}<extra></extra>",
         "legendgroup": "",
         "marker": {
          "color": "rgb(76,114,176)",
          "pattern": {
           "shape": ""
          }
         },
         "name": "",
         "offsetgroup": "",
         "orientation": "h",
         "showlegend": false,
         "text": [
          "14 (5.8%)",
          "11 (4.6%)",
          "11 (4.6%)",
          "6 (2.5%)",
          "5 (2.1%)",
          "5 (2.1%)",
          "5 (2.1%)",
          "5 (2.1%)",
          "5 (2.1%)",
          "5 (2.1%)",
          "5 (2.1%)",
          "5 (2.1%)",
          "4 (1.7%)",
          "4 (1.7%)",
          "4 (1.7%)",
          "4 (1.7%)",
          "4 (1.7%)",
          "4 (1.7%)",
          "4 (1.7%)",
          "4 (1.7%)",
          "3 (1.2%)",
          "3 (1.2%)",
          "3 (1.2%)",
          "3 (1.2%)",
          "3 (1.2%)",
          "3 (1.2%)",
          "3 (1.2%)",
          "3 (1.2%)",
          "3 (1.2%)",
          "3 (1.2%)",
          "3 (1.2%)",
          "3 (1.2%)",
          "3 (1.2%)",
          "3 (1.2%)"
         ],
         "textfont": {
          "size": 14
         },
         "textposition": "outside",
         "type": "bar",
         "x": [
          14,
          11,
          11,
          6,
          5,
          5,
          5,
          5,
          5,
          5,
          5,
          5,
          4,
          4,
          4,
          4,
          4,
          4,
          4,
          4,
          3,
          3,
          3,
          3,
          3,
          3,
          3,
          3,
          3,
          3,
          3,
          3,
          3,
          3
         ],
         "xaxis": "x",
         "y": [
          "mathematics",
          "problem solving",
          "mathematics education",
          "modeling",
          "teaching",
          "strategies",
          "apos theory",
          "socioepistemology",
          "secondary education",
          "mathematical working space",
          "teacher training",
          "teacher education",
          "understanding",
          "teaching and learning",
          "mathematical modeling",
          "proportionality",
          "geometrical working space",
          "mathematical activity",
          "professional development",
          "visualization",
          "ethnomathematics",
          "mental calculation",
          "mathematics learning",
          "teaching experiment",
          "preservice teacher education",
          "data analysis",
          "geometry",
          "assessment",
          "textbooks",
          "didactics of mathematics",
          "geometry teaching",
          "dynamic geometry",
          "tasks",
          "probability"
         ],
         "yaxis": "y"
        }
       ],
       "layout": {
        "barmode": "relative",
        "font": {
         "size": 8
        },
        "legend": {
         "tracegroupgap": 0
        },
        "margin": {
         "t": 60
        },
        "template": {
         "data": {
          "bar": [
           {
            "error_x": {
             "color": "rgb(36,36,36)"
            },
            "error_y": {
             "color": "rgb(36,36,36)"
            },
            "marker": {
             "line": {
              "color": "rgb(234,234,242)",
              "width": 0.5
             },
             "pattern": {
              "fillmode": "overlay",
              "size": 10,
              "solidity": 0.2
             }
            },
            "type": "bar"
           }
          ],
          "barpolar": [
           {
            "marker": {
             "line": {
              "color": "rgb(234,234,242)",
              "width": 0.5
             },
             "pattern": {
              "fillmode": "overlay",
              "size": 10,
              "solidity": 0.2
             }
            },
            "type": "barpolar"
           }
          ],
          "carpet": [
           {
            "aaxis": {
             "endlinecolor": "rgb(36,36,36)",
             "gridcolor": "white",
             "linecolor": "white",
             "minorgridcolor": "white",
             "startlinecolor": "rgb(36,36,36)"
            },
            "baxis": {
             "endlinecolor": "rgb(36,36,36)",
             "gridcolor": "white",
             "linecolor": "white",
             "minorgridcolor": "white",
             "startlinecolor": "rgb(36,36,36)"
            },
            "type": "carpet"
           }
          ],
          "choropleth": [
           {
            "colorbar": {
             "outlinewidth": 0,
             "tickcolor": "rgb(36,36,36)",
             "ticklen": 8,
             "ticks": "outside",
             "tickwidth": 2
            },
            "type": "choropleth"
           }
          ],
          "contour": [
           {
            "colorbar": {
             "outlinewidth": 0,
             "tickcolor": "rgb(36,36,36)",
             "ticklen": 8,
             "ticks": "outside",
             "tickwidth": 2
            },
            "colorscale": [
             [
              0,
              "rgb(2,4,25)"
             ],
             [
              0.06274509803921569,
              "rgb(24,15,41)"
             ],
             [
              0.12549019607843137,
              "rgb(47,23,57)"
             ],
             [
              0.18823529411764706,
              "rgb(71,28,72)"
             ],
             [
              0.25098039215686274,
              "rgb(97,30,82)"
             ],
             [
              0.3137254901960784,
              "rgb(123,30,89)"
             ],
             [
              0.3764705882352941,
              "rgb(150,27,91)"
             ],
             [
              0.4392156862745098,
              "rgb(177,22,88)"
             ],
             [
              0.5019607843137255,
              "rgb(203,26,79)"
             ],
             [
              0.5647058823529412,
              "rgb(223,47,67)"
             ],
             [
              0.6274509803921569,
              "rgb(236,76,61)"
             ],
             [
              0.6901960784313725,
              "rgb(242,107,73)"
             ],
             [
              0.7529411764705882,
              "rgb(244,135,95)"
             ],
             [
              0.8156862745098039,
              "rgb(245,162,122)"
             ],
             [
              0.8784313725490196,
              "rgb(246,188,153)"
             ],
             [
              0.9411764705882353,
              "rgb(247,212,187)"
             ],
             [
              1,
              "rgb(250,234,220)"
             ]
            ],
            "type": "contour"
           }
          ],
          "contourcarpet": [
           {
            "colorbar": {
             "outlinewidth": 0,
             "tickcolor": "rgb(36,36,36)",
             "ticklen": 8,
             "ticks": "outside",
             "tickwidth": 2
            },
            "type": "contourcarpet"
           }
          ],
          "heatmap": [
           {
            "colorbar": {
             "outlinewidth": 0,
             "tickcolor": "rgb(36,36,36)",
             "ticklen": 8,
             "ticks": "outside",
             "tickwidth": 2
            },
            "colorscale": [
             [
              0,
              "rgb(2,4,25)"
             ],
             [
              0.06274509803921569,
              "rgb(24,15,41)"
             ],
             [
              0.12549019607843137,
              "rgb(47,23,57)"
             ],
             [
              0.18823529411764706,
              "rgb(71,28,72)"
             ],
             [
              0.25098039215686274,
              "rgb(97,30,82)"
             ],
             [
              0.3137254901960784,
              "rgb(123,30,89)"
             ],
             [
              0.3764705882352941,
              "rgb(150,27,91)"
             ],
             [
              0.4392156862745098,
              "rgb(177,22,88)"
             ],
             [
              0.5019607843137255,
              "rgb(203,26,79)"
             ],
             [
              0.5647058823529412,
              "rgb(223,47,67)"
             ],
             [
              0.6274509803921569,
              "rgb(236,76,61)"
             ],
             [
              0.6901960784313725,
              "rgb(242,107,73)"
             ],
             [
              0.7529411764705882,
              "rgb(244,135,95)"
             ],
             [
              0.8156862745098039,
              "rgb(245,162,122)"
             ],
             [
              0.8784313725490196,
              "rgb(246,188,153)"
             ],
             [
              0.9411764705882353,
              "rgb(247,212,187)"
             ],
             [
              1,
              "rgb(250,234,220)"
             ]
            ],
            "type": "heatmap"
           }
          ],
          "heatmapgl": [
           {
            "colorbar": {
             "outlinewidth": 0,
             "tickcolor": "rgb(36,36,36)",
             "ticklen": 8,
             "ticks": "outside",
             "tickwidth": 2
            },
            "colorscale": [
             [
              0,
              "rgb(2,4,25)"
             ],
             [
              0.06274509803921569,
              "rgb(24,15,41)"
             ],
             [
              0.12549019607843137,
              "rgb(47,23,57)"
             ],
             [
              0.18823529411764706,
              "rgb(71,28,72)"
             ],
             [
              0.25098039215686274,
              "rgb(97,30,82)"
             ],
             [
              0.3137254901960784,
              "rgb(123,30,89)"
             ],
             [
              0.3764705882352941,
              "rgb(150,27,91)"
             ],
             [
              0.4392156862745098,
              "rgb(177,22,88)"
             ],
             [
              0.5019607843137255,
              "rgb(203,26,79)"
             ],
             [
              0.5647058823529412,
              "rgb(223,47,67)"
             ],
             [
              0.6274509803921569,
              "rgb(236,76,61)"
             ],
             [
              0.6901960784313725,
              "rgb(242,107,73)"
             ],
             [
              0.7529411764705882,
              "rgb(244,135,95)"
             ],
             [
              0.8156862745098039,
              "rgb(245,162,122)"
             ],
             [
              0.8784313725490196,
              "rgb(246,188,153)"
             ],
             [
              0.9411764705882353,
              "rgb(247,212,187)"
             ],
             [
              1,
              "rgb(250,234,220)"
             ]
            ],
            "type": "heatmapgl"
           }
          ],
          "histogram": [
           {
            "marker": {
             "pattern": {
              "fillmode": "overlay",
              "size": 10,
              "solidity": 0.2
             }
            },
            "type": "histogram"
           }
          ],
          "histogram2d": [
           {
            "colorbar": {
             "outlinewidth": 0,
             "tickcolor": "rgb(36,36,36)",
             "ticklen": 8,
             "ticks": "outside",
             "tickwidth": 2
            },
            "colorscale": [
             [
              0,
              "rgb(2,4,25)"
             ],
             [
              0.06274509803921569,
              "rgb(24,15,41)"
             ],
             [
              0.12549019607843137,
              "rgb(47,23,57)"
             ],
             [
              0.18823529411764706,
              "rgb(71,28,72)"
             ],
             [
              0.25098039215686274,
              "rgb(97,30,82)"
             ],
             [
              0.3137254901960784,
              "rgb(123,30,89)"
             ],
             [
              0.3764705882352941,
              "rgb(150,27,91)"
             ],
             [
              0.4392156862745098,
              "rgb(177,22,88)"
             ],
             [
              0.5019607843137255,
              "rgb(203,26,79)"
             ],
             [
              0.5647058823529412,
              "rgb(223,47,67)"
             ],
             [
              0.6274509803921569,
              "rgb(236,76,61)"
             ],
             [
              0.6901960784313725,
              "rgb(242,107,73)"
             ],
             [
              0.7529411764705882,
              "rgb(244,135,95)"
             ],
             [
              0.8156862745098039,
              "rgb(245,162,122)"
             ],
             [
              0.8784313725490196,
              "rgb(246,188,153)"
             ],
             [
              0.9411764705882353,
              "rgb(247,212,187)"
             ],
             [
              1,
              "rgb(250,234,220)"
             ]
            ],
            "type": "histogram2d"
           }
          ],
          "histogram2dcontour": [
           {
            "colorbar": {
             "outlinewidth": 0,
             "tickcolor": "rgb(36,36,36)",
             "ticklen": 8,
             "ticks": "outside",
             "tickwidth": 2
            },
            "colorscale": [
             [
              0,
              "rgb(2,4,25)"
             ],
             [
              0.06274509803921569,
              "rgb(24,15,41)"
             ],
             [
              0.12549019607843137,
              "rgb(47,23,57)"
             ],
             [
              0.18823529411764706,
              "rgb(71,28,72)"
             ],
             [
              0.25098039215686274,
              "rgb(97,30,82)"
             ],
             [
              0.3137254901960784,
              "rgb(123,30,89)"
             ],
             [
              0.3764705882352941,
              "rgb(150,27,91)"
             ],
             [
              0.4392156862745098,
              "rgb(177,22,88)"
             ],
             [
              0.5019607843137255,
              "rgb(203,26,79)"
             ],
             [
              0.5647058823529412,
              "rgb(223,47,67)"
             ],
             [
              0.6274509803921569,
              "rgb(236,76,61)"
             ],
             [
              0.6901960784313725,
              "rgb(242,107,73)"
             ],
             [
              0.7529411764705882,
              "rgb(244,135,95)"
             ],
             [
              0.8156862745098039,
              "rgb(245,162,122)"
             ],
             [
              0.8784313725490196,
              "rgb(246,188,153)"
             ],
             [
              0.9411764705882353,
              "rgb(247,212,187)"
             ],
             [
              1,
              "rgb(250,234,220)"
             ]
            ],
            "type": "histogram2dcontour"
           }
          ],
          "mesh3d": [
           {
            "colorbar": {
             "outlinewidth": 0,
             "tickcolor": "rgb(36,36,36)",
             "ticklen": 8,
             "ticks": "outside",
             "tickwidth": 2
            },
            "type": "mesh3d"
           }
          ],
          "parcoords": [
           {
            "line": {
             "colorbar": {
              "outlinewidth": 0,
              "tickcolor": "rgb(36,36,36)",
              "ticklen": 8,
              "ticks": "outside",
              "tickwidth": 2
             }
            },
            "type": "parcoords"
           }
          ],
          "pie": [
           {
            "automargin": true,
            "type": "pie"
           }
          ],
          "scatter": [
           {
            "fillpattern": {
             "fillmode": "overlay",
             "size": 10,
             "solidity": 0.2
            },
            "type": "scatter"
           }
          ],
          "scatter3d": [
           {
            "line": {
             "colorbar": {
              "outlinewidth": 0,
              "tickcolor": "rgb(36,36,36)",
              "ticklen": 8,
              "ticks": "outside",
              "tickwidth": 2
             }
            },
            "marker": {
             "colorbar": {
              "outlinewidth": 0,
              "tickcolor": "rgb(36,36,36)",
              "ticklen": 8,
              "ticks": "outside",
              "tickwidth": 2
             }
            },
            "type": "scatter3d"
           }
          ],
          "scattercarpet": [
           {
            "marker": {
             "colorbar": {
              "outlinewidth": 0,
              "tickcolor": "rgb(36,36,36)",
              "ticklen": 8,
              "ticks": "outside",
              "tickwidth": 2
             }
            },
            "type": "scattercarpet"
           }
          ],
          "scattergeo": [
           {
            "marker": {
             "colorbar": {
              "outlinewidth": 0,
              "tickcolor": "rgb(36,36,36)",
              "ticklen": 8,
              "ticks": "outside",
              "tickwidth": 2
             }
            },
            "type": "scattergeo"
           }
          ],
          "scattergl": [
           {
            "marker": {
             "colorbar": {
              "outlinewidth": 0,
              "tickcolor": "rgb(36,36,36)",
              "ticklen": 8,
              "ticks": "outside",
              "tickwidth": 2
             }
            },
            "type": "scattergl"
           }
          ],
          "scattermapbox": [
           {
            "marker": {
             "colorbar": {
              "outlinewidth": 0,
              "tickcolor": "rgb(36,36,36)",
              "ticklen": 8,
              "ticks": "outside",
              "tickwidth": 2
             }
            },
            "type": "scattermapbox"
           }
          ],
          "scatterpolar": [
           {
            "marker": {
             "colorbar": {
              "outlinewidth": 0,
              "tickcolor": "rgb(36,36,36)",
              "ticklen": 8,
              "ticks": "outside",
              "tickwidth": 2
             }
            },
            "type": "scatterpolar"
           }
          ],
          "scatterpolargl": [
           {
            "marker": {
             "colorbar": {
              "outlinewidth": 0,
              "tickcolor": "rgb(36,36,36)",
              "ticklen": 8,
              "ticks": "outside",
              "tickwidth": 2
             }
            },
            "type": "scatterpolargl"
           }
          ],
          "scatterternary": [
           {
            "marker": {
             "colorbar": {
              "outlinewidth": 0,
              "tickcolor": "rgb(36,36,36)",
              "ticklen": 8,
              "ticks": "outside",
              "tickwidth": 2
             }
            },
            "type": "scatterternary"
           }
          ],
          "surface": [
           {
            "colorbar": {
             "outlinewidth": 0,
             "tickcolor": "rgb(36,36,36)",
             "ticklen": 8,
             "ticks": "outside",
             "tickwidth": 2
            },
            "colorscale": [
             [
              0,
              "rgb(2,4,25)"
             ],
             [
              0.06274509803921569,
              "rgb(24,15,41)"
             ],
             [
              0.12549019607843137,
              "rgb(47,23,57)"
             ],
             [
              0.18823529411764706,
              "rgb(71,28,72)"
             ],
             [
              0.25098039215686274,
              "rgb(97,30,82)"
             ],
             [
              0.3137254901960784,
              "rgb(123,30,89)"
             ],
             [
              0.3764705882352941,
              "rgb(150,27,91)"
             ],
             [
              0.4392156862745098,
              "rgb(177,22,88)"
             ],
             [
              0.5019607843137255,
              "rgb(203,26,79)"
             ],
             [
              0.5647058823529412,
              "rgb(223,47,67)"
             ],
             [
              0.6274509803921569,
              "rgb(236,76,61)"
             ],
             [
              0.6901960784313725,
              "rgb(242,107,73)"
             ],
             [
              0.7529411764705882,
              "rgb(244,135,95)"
             ],
             [
              0.8156862745098039,
              "rgb(245,162,122)"
             ],
             [
              0.8784313725490196,
              "rgb(246,188,153)"
             ],
             [
              0.9411764705882353,
              "rgb(247,212,187)"
             ],
             [
              1,
              "rgb(250,234,220)"
             ]
            ],
            "type": "surface"
           }
          ],
          "table": [
           {
            "cells": {
             "fill": {
              "color": "rgb(231,231,240)"
             },
             "line": {
              "color": "white"
             }
            },
            "header": {
             "fill": {
              "color": "rgb(183,183,191)"
             },
             "line": {
              "color": "white"
             }
            },
            "type": "table"
           }
          ]
         },
         "layout": {
          "annotationdefaults": {
           "arrowcolor": "rgb(67,103,167)"
          },
          "autotypenumbers": "strict",
          "coloraxis": {
           "colorbar": {
            "outlinewidth": 0,
            "tickcolor": "rgb(36,36,36)",
            "ticklen": 8,
            "ticks": "outside",
            "tickwidth": 2
           }
          },
          "colorscale": {
           "sequential": [
            [
             0,
             "rgb(2,4,25)"
            ],
            [
             0.06274509803921569,
             "rgb(24,15,41)"
            ],
            [
             0.12549019607843137,
             "rgb(47,23,57)"
            ],
            [
             0.18823529411764706,
             "rgb(71,28,72)"
            ],
            [
             0.25098039215686274,
             "rgb(97,30,82)"
            ],
            [
             0.3137254901960784,
             "rgb(123,30,89)"
            ],
            [
             0.3764705882352941,
             "rgb(150,27,91)"
            ],
            [
             0.4392156862745098,
             "rgb(177,22,88)"
            ],
            [
             0.5019607843137255,
             "rgb(203,26,79)"
            ],
            [
             0.5647058823529412,
             "rgb(223,47,67)"
            ],
            [
             0.6274509803921569,
             "rgb(236,76,61)"
            ],
            [
             0.6901960784313725,
             "rgb(242,107,73)"
            ],
            [
             0.7529411764705882,
             "rgb(244,135,95)"
            ],
            [
             0.8156862745098039,
             "rgb(245,162,122)"
            ],
            [
             0.8784313725490196,
             "rgb(246,188,153)"
            ],
            [
             0.9411764705882353,
             "rgb(247,212,187)"
            ],
            [
             1,
             "rgb(250,234,220)"
            ]
           ],
           "sequentialminus": [
            [
             0,
             "rgb(2,4,25)"
            ],
            [
             0.06274509803921569,
             "rgb(24,15,41)"
            ],
            [
             0.12549019607843137,
             "rgb(47,23,57)"
            ],
            [
             0.18823529411764706,
             "rgb(71,28,72)"
            ],
            [
             0.25098039215686274,
             "rgb(97,30,82)"
            ],
            [
             0.3137254901960784,
             "rgb(123,30,89)"
            ],
            [
             0.3764705882352941,
             "rgb(150,27,91)"
            ],
            [
             0.4392156862745098,
             "rgb(177,22,88)"
            ],
            [
             0.5019607843137255,
             "rgb(203,26,79)"
            ],
            [
             0.5647058823529412,
             "rgb(223,47,67)"
            ],
            [
             0.6274509803921569,
             "rgb(236,76,61)"
            ],
            [
             0.6901960784313725,
             "rgb(242,107,73)"
            ],
            [
             0.7529411764705882,
             "rgb(244,135,95)"
            ],
            [
             0.8156862745098039,
             "rgb(245,162,122)"
            ],
            [
             0.8784313725490196,
             "rgb(246,188,153)"
            ],
            [
             0.9411764705882353,
             "rgb(247,212,187)"
            ],
            [
             1,
             "rgb(250,234,220)"
            ]
           ]
          },
          "colorway": [
           "rgb(76,114,176)",
           "rgb(221,132,82)",
           "rgb(85,168,104)",
           "rgb(196,78,82)",
           "rgb(129,114,179)",
           "rgb(147,120,96)",
           "rgb(218,139,195)",
           "rgb(140,140,140)",
           "rgb(204,185,116)",
           "rgb(100,181,205)"
          ],
          "font": {
           "color": "rgb(36,36,36)"
          },
          "geo": {
           "bgcolor": "white",
           "lakecolor": "white",
           "landcolor": "rgb(234,234,242)",
           "showlakes": true,
           "showland": true,
           "subunitcolor": "white"
          },
          "hoverlabel": {
           "align": "left"
          },
          "hovermode": "closest",
          "paper_bgcolor": "white",
          "plot_bgcolor": "rgb(234,234,242)",
          "polar": {
           "angularaxis": {
            "gridcolor": "white",
            "linecolor": "white",
            "showgrid": true,
            "ticks": ""
           },
           "bgcolor": "rgb(234,234,242)",
           "radialaxis": {
            "gridcolor": "white",
            "linecolor": "white",
            "showgrid": true,
            "ticks": ""
           }
          },
          "scene": {
           "xaxis": {
            "backgroundcolor": "rgb(234,234,242)",
            "gridcolor": "white",
            "gridwidth": 2,
            "linecolor": "white",
            "showbackground": true,
            "showgrid": true,
            "ticks": "",
            "zerolinecolor": "white"
           },
           "yaxis": {
            "backgroundcolor": "rgb(234,234,242)",
            "gridcolor": "white",
            "gridwidth": 2,
            "linecolor": "white",
            "showbackground": true,
            "showgrid": true,
            "ticks": "",
            "zerolinecolor": "white"
           },
           "zaxis": {
            "backgroundcolor": "rgb(234,234,242)",
            "gridcolor": "white",
            "gridwidth": 2,
            "linecolor": "white",
            "showbackground": true,
            "showgrid": true,
            "ticks": "",
            "zerolinecolor": "white"
           }
          },
          "shapedefaults": {
           "fillcolor": "rgb(67,103,167)",
           "line": {
            "width": 0
           },
           "opacity": 0.5
          },
          "ternary": {
           "aaxis": {
            "gridcolor": "white",
            "linecolor": "white",
            "showgrid": true,
            "ticks": ""
           },
           "baxis": {
            "gridcolor": "white",
            "linecolor": "white",
            "showgrid": true,
            "ticks": ""
           },
           "bgcolor": "rgb(234,234,242)",
           "caxis": {
            "gridcolor": "white",
            "linecolor": "white",
            "showgrid": true,
            "ticks": ""
           }
          },
          "xaxis": {
           "automargin": true,
           "gridcolor": "white",
           "linecolor": "white",
           "showgrid": true,
           "ticks": "",
           "title": {
            "standoff": 15
           },
           "zerolinecolor": "white"
          },
          "yaxis": {
           "automargin": true,
           "gridcolor": "white",
           "linecolor": "white",
           "showgrid": true,
           "ticks": "",
           "title": {
            "standoff": 15
           },
           "zerolinecolor": "white"
          }
         }
        },
        "title": {
         "text": "35 palabras clave más frecuentes de RELIME"
        },
        "xaxis": {
         "anchor": "y",
         "domain": [
          0,
          1
         ],
         "range": [
          0,
          17.5
         ],
         "tickangle": 35,
         "title": {
          "text": "frecuencia"
         }
        },
        "yaxis": {
         "anchor": "x",
         "domain": [
          0,
          1
         ],
         "title": {
          "text": "palabras clave"
         }
        }
       }
      },
      "text/html": [
       "<div>                            <div id=\"fb530afc-2d28-47d1-b741-531961116c46\" class=\"plotly-graph-div\" style=\"height:525px; width:100%;\"></div>            <script type=\"text/javascript\">                require([\"plotly\"], function(Plotly) {                    window.PLOTLYENV=window.PLOTLYENV || {};                                    if (document.getElementById(\"fb530afc-2d28-47d1-b741-531961116c46\")) {                    Plotly.newPlot(                        \"fb530afc-2d28-47d1-b741-531961116c46\",                        [{\"alignmentgroup\":\"True\",\"hovertemplate\":\"frecuencia=%{x}<br>palabras_clave=%{y}<br>text=%{text}<extra></extra>\",\"legendgroup\":\"\",\"marker\":{\"color\":\"rgb(76,114,176)\",\"pattern\":{\"shape\":\"\"}},\"name\":\"\",\"offsetgroup\":\"\",\"orientation\":\"h\",\"showlegend\":false,\"text\":[\"14 (5.8%)\",\"11 (4.6%)\",\"11 (4.6%)\",\"6 (2.5%)\",\"5 (2.1%)\",\"5 (2.1%)\",\"5 (2.1%)\",\"5 (2.1%)\",\"5 (2.1%)\",\"5 (2.1%)\",\"5 (2.1%)\",\"5 (2.1%)\",\"4 (1.7%)\",\"4 (1.7%)\",\"4 (1.7%)\",\"4 (1.7%)\",\"4 (1.7%)\",\"4 (1.7%)\",\"4 (1.7%)\",\"4 (1.7%)\",\"3 (1.2%)\",\"3 (1.2%)\",\"3 (1.2%)\",\"3 (1.2%)\",\"3 (1.2%)\",\"3 (1.2%)\",\"3 (1.2%)\",\"3 (1.2%)\",\"3 (1.2%)\",\"3 (1.2%)\",\"3 (1.2%)\",\"3 (1.2%)\",\"3 (1.2%)\",\"3 (1.2%)\"],\"textposition\":\"outside\",\"x\":[14,11,11,6,5,5,5,5,5,5,5,5,4,4,4,4,4,4,4,4,3,3,3,3,3,3,3,3,3,3,3,3,3,3],\"xaxis\":\"x\",\"y\":[\"mathematics\",\"problem solving\",\"mathematics education\",\"modeling\",\"teaching\",\"strategies\",\"apos theory\",\"socioepistemology\",\"secondary education\",\"mathematical working space\",\"teacher training\",\"teacher education\",\"understanding\",\"teaching and learning\",\"mathematical modeling\",\"proportionality\",\"geometrical working space\",\"mathematical activity\",\"professional development\",\"visualization\",\"ethnomathematics\",\"mental calculation\",\"mathematics learning\",\"teaching experiment\",\"preservice teacher education\",\"data analysis\",\"geometry\",\"assessment\",\"textbooks\",\"didactics of mathematics\",\"geometry teaching\",\"dynamic geometry\",\"tasks\",\"probability\"],\"yaxis\":\"y\",\"type\":\"bar\",\"textfont\":{\"size\":14}}],                        {\"template\":{\"data\":{\"barpolar\":[{\"marker\":{\"line\":{\"color\":\"rgb(234,234,242)\",\"width\":0.5},\"pattern\":{\"fillmode\":\"overlay\",\"size\":10,\"solidity\":0.2}},\"type\":\"barpolar\"}],\"bar\":[{\"error_x\":{\"color\":\"rgb(36,36,36)\"},\"error_y\":{\"color\":\"rgb(36,36,36)\"},\"marker\":{\"line\":{\"color\":\"rgb(234,234,242)\",\"width\":0.5},\"pattern\":{\"fillmode\":\"overlay\",\"size\":10,\"solidity\":0.2}},\"type\":\"bar\"}],\"carpet\":[{\"aaxis\":{\"endlinecolor\":\"rgb(36,36,36)\",\"gridcolor\":\"white\",\"linecolor\":\"white\",\"minorgridcolor\":\"white\",\"startlinecolor\":\"rgb(36,36,36)\"},\"baxis\":{\"endlinecolor\":\"rgb(36,36,36)\",\"gridcolor\":\"white\",\"linecolor\":\"white\",\"minorgridcolor\":\"white\",\"startlinecolor\":\"rgb(36,36,36)\"},\"type\":\"carpet\"}],\"choropleth\":[{\"colorbar\":{\"outlinewidth\":0,\"tickcolor\":\"rgb(36,36,36)\",\"ticklen\":8,\"ticks\":\"outside\",\"tickwidth\":2},\"type\":\"choropleth\"}],\"contourcarpet\":[{\"colorbar\":{\"outlinewidth\":0,\"tickcolor\":\"rgb(36,36,36)\",\"ticklen\":8,\"ticks\":\"outside\",\"tickwidth\":2},\"type\":\"contourcarpet\"}],\"contour\":[{\"colorbar\":{\"outlinewidth\":0,\"tickcolor\":\"rgb(36,36,36)\",\"ticklen\":8,\"ticks\":\"outside\",\"tickwidth\":2},\"colorscale\":[[0.0,\"rgb(2,4,25)\"],[0.06274509803921569,\"rgb(24,15,41)\"],[0.12549019607843137,\"rgb(47,23,57)\"],[0.18823529411764706,\"rgb(71,28,72)\"],[0.25098039215686274,\"rgb(97,30,82)\"],[0.3137254901960784,\"rgb(123,30,89)\"],[0.3764705882352941,\"rgb(150,27,91)\"],[0.4392156862745098,\"rgb(177,22,88)\"],[0.5019607843137255,\"rgb(203,26,79)\"],[0.5647058823529412,\"rgb(223,47,67)\"],[0.6274509803921569,\"rgb(236,76,61)\"],[0.6901960784313725,\"rgb(242,107,73)\"],[0.7529411764705882,\"rgb(244,135,95)\"],[0.8156862745098039,\"rgb(245,162,122)\"],[0.8784313725490196,\"rgb(246,188,153)\"],[0.9411764705882353,\"rgb(247,212,187)\"],[1.0,\"rgb(250,234,220)\"]],\"type\":\"contour\"}],\"heatmapgl\":[{\"colorbar\":{\"outlinewidth\":0,\"tickcolor\":\"rgb(36,36,36)\",\"ticklen\":8,\"ticks\":\"outside\",\"tickwidth\":2},\"colorscale\":[[0.0,\"rgb(2,4,25)\"],[0.06274509803921569,\"rgb(24,15,41)\"],[0.12549019607843137,\"rgb(47,23,57)\"],[0.18823529411764706,\"rgb(71,28,72)\"],[0.25098039215686274,\"rgb(97,30,82)\"],[0.3137254901960784,\"rgb(123,30,89)\"],[0.3764705882352941,\"rgb(150,27,91)\"],[0.4392156862745098,\"rgb(177,22,88)\"],[0.5019607843137255,\"rgb(203,26,79)\"],[0.5647058823529412,\"rgb(223,47,67)\"],[0.6274509803921569,\"rgb(236,76,61)\"],[0.6901960784313725,\"rgb(242,107,73)\"],[0.7529411764705882,\"rgb(244,135,95)\"],[0.8156862745098039,\"rgb(245,162,122)\"],[0.8784313725490196,\"rgb(246,188,153)\"],[0.9411764705882353,\"rgb(247,212,187)\"],[1.0,\"rgb(250,234,220)\"]],\"type\":\"heatmapgl\"}],\"heatmap\":[{\"colorbar\":{\"outlinewidth\":0,\"tickcolor\":\"rgb(36,36,36)\",\"ticklen\":8,\"ticks\":\"outside\",\"tickwidth\":2},\"colorscale\":[[0.0,\"rgb(2,4,25)\"],[0.06274509803921569,\"rgb(24,15,41)\"],[0.12549019607843137,\"rgb(47,23,57)\"],[0.18823529411764706,\"rgb(71,28,72)\"],[0.25098039215686274,\"rgb(97,30,82)\"],[0.3137254901960784,\"rgb(123,30,89)\"],[0.3764705882352941,\"rgb(150,27,91)\"],[0.4392156862745098,\"rgb(177,22,88)\"],[0.5019607843137255,\"rgb(203,26,79)\"],[0.5647058823529412,\"rgb(223,47,67)\"],[0.6274509803921569,\"rgb(236,76,61)\"],[0.6901960784313725,\"rgb(242,107,73)\"],[0.7529411764705882,\"rgb(244,135,95)\"],[0.8156862745098039,\"rgb(245,162,122)\"],[0.8784313725490196,\"rgb(246,188,153)\"],[0.9411764705882353,\"rgb(247,212,187)\"],[1.0,\"rgb(250,234,220)\"]],\"type\":\"heatmap\"}],\"histogram2dcontour\":[{\"colorbar\":{\"outlinewidth\":0,\"tickcolor\":\"rgb(36,36,36)\",\"ticklen\":8,\"ticks\":\"outside\",\"tickwidth\":2},\"colorscale\":[[0.0,\"rgb(2,4,25)\"],[0.06274509803921569,\"rgb(24,15,41)\"],[0.12549019607843137,\"rgb(47,23,57)\"],[0.18823529411764706,\"rgb(71,28,72)\"],[0.25098039215686274,\"rgb(97,30,82)\"],[0.3137254901960784,\"rgb(123,30,89)\"],[0.3764705882352941,\"rgb(150,27,91)\"],[0.4392156862745098,\"rgb(177,22,88)\"],[0.5019607843137255,\"rgb(203,26,79)\"],[0.5647058823529412,\"rgb(223,47,67)\"],[0.6274509803921569,\"rgb(236,76,61)\"],[0.6901960784313725,\"rgb(242,107,73)\"],[0.7529411764705882,\"rgb(244,135,95)\"],[0.8156862745098039,\"rgb(245,162,122)\"],[0.8784313725490196,\"rgb(246,188,153)\"],[0.9411764705882353,\"rgb(247,212,187)\"],[1.0,\"rgb(250,234,220)\"]],\"type\":\"histogram2dcontour\"}],\"histogram2d\":[{\"colorbar\":{\"outlinewidth\":0,\"tickcolor\":\"rgb(36,36,36)\",\"ticklen\":8,\"ticks\":\"outside\",\"tickwidth\":2},\"colorscale\":[[0.0,\"rgb(2,4,25)\"],[0.06274509803921569,\"rgb(24,15,41)\"],[0.12549019607843137,\"rgb(47,23,57)\"],[0.18823529411764706,\"rgb(71,28,72)\"],[0.25098039215686274,\"rgb(97,30,82)\"],[0.3137254901960784,\"rgb(123,30,89)\"],[0.3764705882352941,\"rgb(150,27,91)\"],[0.4392156862745098,\"rgb(177,22,88)\"],[0.5019607843137255,\"rgb(203,26,79)\"],[0.5647058823529412,\"rgb(223,47,67)\"],[0.6274509803921569,\"rgb(236,76,61)\"],[0.6901960784313725,\"rgb(242,107,73)\"],[0.7529411764705882,\"rgb(244,135,95)\"],[0.8156862745098039,\"rgb(245,162,122)\"],[0.8784313725490196,\"rgb(246,188,153)\"],[0.9411764705882353,\"rgb(247,212,187)\"],[1.0,\"rgb(250,234,220)\"]],\"type\":\"histogram2d\"}],\"histogram\":[{\"marker\":{\"pattern\":{\"fillmode\":\"overlay\",\"size\":10,\"solidity\":0.2}},\"type\":\"histogram\"}],\"mesh3d\":[{\"colorbar\":{\"outlinewidth\":0,\"tickcolor\":\"rgb(36,36,36)\",\"ticklen\":8,\"ticks\":\"outside\",\"tickwidth\":2},\"type\":\"mesh3d\"}],\"parcoords\":[{\"line\":{\"colorbar\":{\"outlinewidth\":0,\"tickcolor\":\"rgb(36,36,36)\",\"ticklen\":8,\"ticks\":\"outside\",\"tickwidth\":2}},\"type\":\"parcoords\"}],\"pie\":[{\"automargin\":true,\"type\":\"pie\"}],\"scatter3d\":[{\"line\":{\"colorbar\":{\"outlinewidth\":0,\"tickcolor\":\"rgb(36,36,36)\",\"ticklen\":8,\"ticks\":\"outside\",\"tickwidth\":2}},\"marker\":{\"colorbar\":{\"outlinewidth\":0,\"tickcolor\":\"rgb(36,36,36)\",\"ticklen\":8,\"ticks\":\"outside\",\"tickwidth\":2}},\"type\":\"scatter3d\"}],\"scattercarpet\":[{\"marker\":{\"colorbar\":{\"outlinewidth\":0,\"tickcolor\":\"rgb(36,36,36)\",\"ticklen\":8,\"ticks\":\"outside\",\"tickwidth\":2}},\"type\":\"scattercarpet\"}],\"scattergeo\":[{\"marker\":{\"colorbar\":{\"outlinewidth\":0,\"tickcolor\":\"rgb(36,36,36)\",\"ticklen\":8,\"ticks\":\"outside\",\"tickwidth\":2}},\"type\":\"scattergeo\"}],\"scattergl\":[{\"marker\":{\"colorbar\":{\"outlinewidth\":0,\"tickcolor\":\"rgb(36,36,36)\",\"ticklen\":8,\"ticks\":\"outside\",\"tickwidth\":2}},\"type\":\"scattergl\"}],\"scattermapbox\":[{\"marker\":{\"colorbar\":{\"outlinewidth\":0,\"tickcolor\":\"rgb(36,36,36)\",\"ticklen\":8,\"ticks\":\"outside\",\"tickwidth\":2}},\"type\":\"scattermapbox\"}],\"scatterpolargl\":[{\"marker\":{\"colorbar\":{\"outlinewidth\":0,\"tickcolor\":\"rgb(36,36,36)\",\"ticklen\":8,\"ticks\":\"outside\",\"tickwidth\":2}},\"type\":\"scatterpolargl\"}],\"scatterpolar\":[{\"marker\":{\"colorbar\":{\"outlinewidth\":0,\"tickcolor\":\"rgb(36,36,36)\",\"ticklen\":8,\"ticks\":\"outside\",\"tickwidth\":2}},\"type\":\"scatterpolar\"}],\"scatter\":[{\"fillpattern\":{\"fillmode\":\"overlay\",\"size\":10,\"solidity\":0.2},\"type\":\"scatter\"}],\"scatterternary\":[{\"marker\":{\"colorbar\":{\"outlinewidth\":0,\"tickcolor\":\"rgb(36,36,36)\",\"ticklen\":8,\"ticks\":\"outside\",\"tickwidth\":2}},\"type\":\"scatterternary\"}],\"surface\":[{\"colorbar\":{\"outlinewidth\":0,\"tickcolor\":\"rgb(36,36,36)\",\"ticklen\":8,\"ticks\":\"outside\",\"tickwidth\":2},\"colorscale\":[[0.0,\"rgb(2,4,25)\"],[0.06274509803921569,\"rgb(24,15,41)\"],[0.12549019607843137,\"rgb(47,23,57)\"],[0.18823529411764706,\"rgb(71,28,72)\"],[0.25098039215686274,\"rgb(97,30,82)\"],[0.3137254901960784,\"rgb(123,30,89)\"],[0.3764705882352941,\"rgb(150,27,91)\"],[0.4392156862745098,\"rgb(177,22,88)\"],[0.5019607843137255,\"rgb(203,26,79)\"],[0.5647058823529412,\"rgb(223,47,67)\"],[0.6274509803921569,\"rgb(236,76,61)\"],[0.6901960784313725,\"rgb(242,107,73)\"],[0.7529411764705882,\"rgb(244,135,95)\"],[0.8156862745098039,\"rgb(245,162,122)\"],[0.8784313725490196,\"rgb(246,188,153)\"],[0.9411764705882353,\"rgb(247,212,187)\"],[1.0,\"rgb(250,234,220)\"]],\"type\":\"surface\"}],\"table\":[{\"cells\":{\"fill\":{\"color\":\"rgb(231,231,240)\"},\"line\":{\"color\":\"white\"}},\"header\":{\"fill\":{\"color\":\"rgb(183,183,191)\"},\"line\":{\"color\":\"white\"}},\"type\":\"table\"}]},\"layout\":{\"annotationdefaults\":{\"arrowcolor\":\"rgb(67,103,167)\"},\"autotypenumbers\":\"strict\",\"coloraxis\":{\"colorbar\":{\"outlinewidth\":0,\"tickcolor\":\"rgb(36,36,36)\",\"ticklen\":8,\"ticks\":\"outside\",\"tickwidth\":2}},\"colorscale\":{\"sequential\":[[0.0,\"rgb(2,4,25)\"],[0.06274509803921569,\"rgb(24,15,41)\"],[0.12549019607843137,\"rgb(47,23,57)\"],[0.18823529411764706,\"rgb(71,28,72)\"],[0.25098039215686274,\"rgb(97,30,82)\"],[0.3137254901960784,\"rgb(123,30,89)\"],[0.3764705882352941,\"rgb(150,27,91)\"],[0.4392156862745098,\"rgb(177,22,88)\"],[0.5019607843137255,\"rgb(203,26,79)\"],[0.5647058823529412,\"rgb(223,47,67)\"],[0.6274509803921569,\"rgb(236,76,61)\"],[0.6901960784313725,\"rgb(242,107,73)\"],[0.7529411764705882,\"rgb(244,135,95)\"],[0.8156862745098039,\"rgb(245,162,122)\"],[0.8784313725490196,\"rgb(246,188,153)\"],[0.9411764705882353,\"rgb(247,212,187)\"],[1.0,\"rgb(250,234,220)\"]],\"sequentialminus\":[[0.0,\"rgb(2,4,25)\"],[0.06274509803921569,\"rgb(24,15,41)\"],[0.12549019607843137,\"rgb(47,23,57)\"],[0.18823529411764706,\"rgb(71,28,72)\"],[0.25098039215686274,\"rgb(97,30,82)\"],[0.3137254901960784,\"rgb(123,30,89)\"],[0.3764705882352941,\"rgb(150,27,91)\"],[0.4392156862745098,\"rgb(177,22,88)\"],[0.5019607843137255,\"rgb(203,26,79)\"],[0.5647058823529412,\"rgb(223,47,67)\"],[0.6274509803921569,\"rgb(236,76,61)\"],[0.6901960784313725,\"rgb(242,107,73)\"],[0.7529411764705882,\"rgb(244,135,95)\"],[0.8156862745098039,\"rgb(245,162,122)\"],[0.8784313725490196,\"rgb(246,188,153)\"],[0.9411764705882353,\"rgb(247,212,187)\"],[1.0,\"rgb(250,234,220)\"]]},\"colorway\":[\"rgb(76,114,176)\",\"rgb(221,132,82)\",\"rgb(85,168,104)\",\"rgb(196,78,82)\",\"rgb(129,114,179)\",\"rgb(147,120,96)\",\"rgb(218,139,195)\",\"rgb(140,140,140)\",\"rgb(204,185,116)\",\"rgb(100,181,205)\"],\"font\":{\"color\":\"rgb(36,36,36)\"},\"geo\":{\"bgcolor\":\"white\",\"lakecolor\":\"white\",\"landcolor\":\"rgb(234,234,242)\",\"showlakes\":true,\"showland\":true,\"subunitcolor\":\"white\"},\"hoverlabel\":{\"align\":\"left\"},\"hovermode\":\"closest\",\"paper_bgcolor\":\"white\",\"plot_bgcolor\":\"rgb(234,234,242)\",\"polar\":{\"angularaxis\":{\"gridcolor\":\"white\",\"linecolor\":\"white\",\"showgrid\":true,\"ticks\":\"\"},\"bgcolor\":\"rgb(234,234,242)\",\"radialaxis\":{\"gridcolor\":\"white\",\"linecolor\":\"white\",\"showgrid\":true,\"ticks\":\"\"}},\"scene\":{\"xaxis\":{\"backgroundcolor\":\"rgb(234,234,242)\",\"gridcolor\":\"white\",\"gridwidth\":2,\"linecolor\":\"white\",\"showbackground\":true,\"showgrid\":true,\"ticks\":\"\",\"zerolinecolor\":\"white\"},\"yaxis\":{\"backgroundcolor\":\"rgb(234,234,242)\",\"gridcolor\":\"white\",\"gridwidth\":2,\"linecolor\":\"white\",\"showbackground\":true,\"showgrid\":true,\"ticks\":\"\",\"zerolinecolor\":\"white\"},\"zaxis\":{\"backgroundcolor\":\"rgb(234,234,242)\",\"gridcolor\":\"white\",\"gridwidth\":2,\"linecolor\":\"white\",\"showbackground\":true,\"showgrid\":true,\"ticks\":\"\",\"zerolinecolor\":\"white\"}},\"shapedefaults\":{\"fillcolor\":\"rgb(67,103,167)\",\"line\":{\"width\":0},\"opacity\":0.5},\"ternary\":{\"aaxis\":{\"gridcolor\":\"white\",\"linecolor\":\"white\",\"showgrid\":true,\"ticks\":\"\"},\"baxis\":{\"gridcolor\":\"white\",\"linecolor\":\"white\",\"showgrid\":true,\"ticks\":\"\"},\"bgcolor\":\"rgb(234,234,242)\",\"caxis\":{\"gridcolor\":\"white\",\"linecolor\":\"white\",\"showgrid\":true,\"ticks\":\"\"}},\"xaxis\":{\"automargin\":true,\"gridcolor\":\"white\",\"linecolor\":\"white\",\"showgrid\":true,\"ticks\":\"\",\"title\":{\"standoff\":15},\"zerolinecolor\":\"white\"},\"yaxis\":{\"automargin\":true,\"gridcolor\":\"white\",\"linecolor\":\"white\",\"showgrid\":true,\"ticks\":\"\",\"title\":{\"standoff\":15},\"zerolinecolor\":\"white\"}}},\"xaxis\":{\"anchor\":\"y\",\"domain\":[0.0,1.0],\"title\":{\"text\":\"frecuencia\"},\"range\":[0,17.5],\"tickangle\":35},\"yaxis\":{\"anchor\":\"x\",\"domain\":[0.0,1.0],\"title\":{\"text\":\"palabras clave\"}},\"legend\":{\"tracegroupgap\":0},\"margin\":{\"t\":60},\"barmode\":\"relative\",\"title\":{\"text\":\"35 palabras clave m\\u00e1s frecuentes de RELIME\"},\"font\":{\"size\":8}},                        {\"responsive\": true}                    ).then(function(){\n",
       "                            \n",
       "var gd = document.getElementById('fb530afc-2d28-47d1-b741-531961116c46');\n",
       "var x = new MutationObserver(function (mutations, observer) {{\n",
       "        var display = window.getComputedStyle(gd).display;\n",
       "        if (!display || display === 'none') {{\n",
       "            console.log([gd, 'removed!']);\n",
       "            Plotly.purge(gd);\n",
       "            observer.disconnect();\n",
       "        }}\n",
       "}});\n",
       "\n",
       "// Listen for the removal of the full notebook cells\n",
       "var notebookContainer = gd.closest('#notebook-container');\n",
       "if (notebookContainer) {{\n",
       "    x.observe(notebookContainer, {childList: true});\n",
       "}}\n",
       "\n",
       "// Listen for the clearing of the current output cell\n",
       "var outputEl = gd.closest('.output');\n",
       "if (outputEl) {{\n",
       "    x.observe(outputEl, {childList: true});\n",
       "}}\n",
       "\n",
       "                        })                };                });            </script>        </div>"
      ]
     },
     "metadata": {},
     "output_type": "display_data"
    },
    {
     "name": "stdout",
     "output_type": "stream",
     "text": [
      "Palabras clave proporcionadas por los autores en cada uno de los 241 artículos analizados. Fuente: Scopus. Solo se muestran las palabras clave más frecuentes porque en el título y abstract el proceso implica transformarlos.\n"
     ]
    }
   ],
   "source": [
    "import plotly.express as px\n",
    "\n",
    "# Filtrar las filas con palabras clave de autor no nulas\n",
    "dfK = dfA[dfA['Author Keywords'].notnull()]\n",
    "\n",
    "# Crear una lista de palabras clave separadas por punto y coma\n",
    "dfK['key_words'] = dfK['Author Keywords'].apply(lambda x: x.split(';'))\n",
    "\n",
    "# Eliminar espacios en blanco de las palabras clave\n",
    "dfK['key_words'] = dfK['key_words'].apply(lambda x: [word.strip() for word in x])\n",
    "\n",
    "# Convertir todas las palabras clave a minúsculas\n",
    "def minus(lista):\n",
    "    return list(map(lambda x: x.lower(), lista))\n",
    "\n",
    "dfK['key_words'] = dfK['key_words'].transform(minus)\n",
    "\n",
    "# Crear una lista de palabras clave ordenadas alfabéticamente\n",
    "key_word_list0 = sorted(dfK['key_words'].tolist())\n",
    "\n",
    "# Contar la frecuencia de cada palabra clave\n",
    "from collections import Counter\n",
    "\n",
    "key_word_count0 = dict(Counter(i for sub in key_word_list0 for i in set(sub)))\n",
    "key_word_count0.pop('nan', None)\n",
    "\n",
    "# Ordenar las palabras clave por frecuencia\n",
    "key_word_list0_ordenado = sorted(key_word_count0.items(), key=lambda x: x[1], reverse=True)\n",
    "\n",
    "# Seleccionar las n palabras clave más frecuentes\n",
    "n1= 35\n",
    "n = min(n1, min(len(key_word_list0_ordenado), n1)) \n",
    "\n",
    "key_word_list0_ordenado_elegidos = key_word_list0_ordenado[:n]\n",
    "\n",
    "##### Gráfico de palabras clave más frecuentes ###\n",
    "\n",
    "\n",
    "# Calcular porcentajes\n",
    "porcentajes = [round((frecuencia / len(dfA)) * 100, 1) for palabra, frecuencia in key_word_list0_ordenado_elegidos]\n",
    "\n",
    "\n",
    "#bar_texts = [f\"{frecuencia} ({porcentaje}%)\" for frecuencia, porcentaje in zip([key_word_list0_ordenado_elegidos[j][1] for j in range(n)], porcentajes)]\n",
    "\n",
    "bar_texts = [f\"{frecuencia} ({porcentaje}%)\" for frecuencia, porcentaje in zip([key_word_list0_ordenado_elegidos[j][1] for j in range(0, n - 1)], porcentajes)]\n",
    "\n",
    "\n",
    "\n",
    "#Crear títulos y gráfico\n",
    "title = str(n) + ' palabras clave más frecuentes de ' + nombre_largo\n",
    "\n",
    "# Crear un DataFrame a partir de las listas\n",
    "df_bar = pd.DataFrame(\n",
    "    {\"palabras_clave\": [key_word_list0_ordenado_elegidos[j][0] for j in range(0, n - 1)],\n",
    "    \"frecuencia\": [key_word_list0_ordenado_elegidos[j][1] for j in range(0, n - 1)]})\n",
    "\n",
    "# Crear el gráfico de barras\n",
    "fig = px.bar(df_bar, y=\"palabras_clave\", x=\"frecuencia\", text=bar_texts, orientation='h', template=template_elegido)\n",
    "\n",
    "\n",
    "# Intenta calcular el máximo y multiplicarlo por 1.25\n",
    "try:\n",
    "    max_value = max([key_word_list0_ordenado_elegidos[j][1] for j in range(0, n - 1)]) * 1.25\n",
    "except ValueError:\n",
    "    # Si hay un error (la secuencia está vacía), establece un valor por defecto\n",
    "    max_value = 1\n",
    "    \n",
    "\n",
    "# Actualizar el título, los títulos de los ejes y el ángulo de las etiquetas del eje x\n",
    "fig.update_layout(\n",
    "    title=title,\n",
    "    yaxis_title=\"palabras clave\",\n",
    "    xaxis_title=\"frecuencia\",\n",
    "    xaxis=dict(range=[0, max_value]))  # Usar max_value aquí\n",
    "fig.update_xaxes(tickangle=35)\n",
    "fig.update_layout(font_size=8)\n",
    "# Actualizar el tamaño de la fuente del texto de las barras\n",
    "fig.update_traces(textposition='outside', textfont=dict(size=14))  # Ajustar el tamaño y la posición del texto\n",
    "\n",
    "# Mostrar el gráfico\n",
    "fig.show()\n",
    "\n",
    "# Crear el nombre del archivo\n",
    "nombre_archivo = abrev + \"_\" + str(n) + '_palabras_claves_mas_frecuentes_' + str(now.year) + '_' + str(now.month) + '_' + str(now.day) + '_' + str(now.hour) + '_' + str(now.minute)\n",
    "\n",
    "# Guardar el gráfico como archivo HTML y PDF\n",
    "fig.write_html(abrev + '/' + nombre_archivo + \".html\")\n",
    "fig.write_image(abrev + '/' + nombre_archivo + \".pdf\", width=700, height=800)\n",
    "nombre_archivo_figura = nombre_archivo\n",
    "\n",
    "# Agregar una sección al archivo LaTeX\n",
    "entorno_section_tex(ruta_archivo, nombre_archivo_tex, 'Palabras clave de la base de datos')\n",
    "\n",
    "# Crear el párrafo para el informe\n",
    "lista_párrafo4 = ['En la figura \\\\ref{fig:' + nombre_archivo + '}',\n",
    "                  'se observan las ', str(n), 'palabras clave con mayor frecuencia en la',\n",
    "                  'base de datos analizada. La palabra que más aparece es <<', key_word_list0_ordenado_elegidos[0][0], '>>,',\n",
    "                  'la cual, se repite ', str(key_word_list0_ordenado_elegidos[0][1]), 'veces,',\n",
    "                  'es decir, en ', str(round(100 * key_word_list0_ordenado_elegidos[0][1] / len(dfA), 1)),\n",
    "                  '\\% de los documentos.']\n",
    "\n",
    "párrafo4 = ' '.join(lista_párrafo4)\n",
    "\n",
    "# Añadir el párrafo al archivo LaTeX\n",
    "parrafo_tex(ruta_archivo, nombre_archivo_tex, párrafo4)\n",
    "\n",
    "# Crear la leyenda para el gráfico\n",
    "leyenda = 'Palabras clave proporcionadas por los autores en cada uno de los '+str(len(dfA))+' artículos analizados. Fuente: ' + fuente_articulos + '. Solo se muestran las palabras clave más frecuentes porque en el título y abstract el proceso implica transformarlos.'\n",
    "\n",
    "# Añadir el entorno de figura al archivo LaTeX\n",
    "entorno_figura_tex(ruta_archivo, nombre_archivo_tex, nombre_archivo_figura, leyenda)\n",
    "print(leyenda)\n",
    "\n",
    "# Imprimir las palabras clave más frecuentes\n",
    "\n",
    "# Crear una lista de palabras clave y sus frecuencias\n",
    "lista_palabras_clave = [key_word_list0_ordenado_elegidos[j][0] + ': ' + str(key_word_list0_ordenado_elegidos[j][1]) for j in range(0, n - 1)]\n",
    "\n"
   ]
  },
  {
   "cell_type": "code",
   "execution_count": 45,
   "id": "5ffcbb72",
   "metadata": {},
   "outputs": [
    {
     "data": {
      "application/vnd.plotly.v1+json": {
       "config": {
        "plotlyServerURL": "https://plot.ly"
       },
       "data": [
        {
         "alignmentgroup": "True",
         "hovertemplate": "frecuencia=%{x}<br>palabras_clave=%{y}<br>text=%{text}<extra></extra>",
         "legendgroup": "",
         "marker": {
          "color": "rgb(76,114,176)",
          "pattern": {
           "shape": ""
          }
         },
         "name": "",
         "offsetgroup": "",
         "orientation": "h",
         "showlegend": false,
         "text": [
          "14 (5.8%)",
          "11 (4.6%)",
          "11 (4.6%)",
          "6 (2.5%)",
          "5 (2.1%)",
          "5 (2.1%)",
          "5 (2.1%)",
          "5 (2.1%)",
          "5 (2.1%)",
          "5 (2.1%)",
          "5 (2.1%)",
          "5 (2.1%)",
          "4 (1.7%)",
          "4 (1.7%)",
          "4 (1.7%)",
          "4 (1.7%)",
          "4 (1.7%)",
          "4 (1.7%)",
          "4 (1.7%)"
         ],
         "textfont": {
          "size": 14
         },
         "textposition": "outside",
         "type": "bar",
         "x": [
          14,
          11,
          11,
          6,
          5,
          5,
          5,
          5,
          5,
          5,
          5,
          5,
          4,
          4,
          4,
          4,
          4,
          4,
          4
         ],
         "xaxis": "x",
         "y": [
          "mathematics",
          "problem solving",
          "mathematics education",
          "modeling",
          "teaching",
          "strategies",
          "apos theory",
          "socioepistemology",
          "secondary education",
          "mathematical working space",
          "teacher training",
          "teacher education",
          "understanding",
          "teaching and learning",
          "mathematical modeling",
          "proportionality",
          "geometrical working space",
          "mathematical activity",
          "professional development"
         ],
         "yaxis": "y"
        }
       ],
       "layout": {
        "barmode": "relative",
        "font": {
         "size": 8
        },
        "legend": {
         "tracegroupgap": 0
        },
        "margin": {
         "t": 60
        },
        "template": {
         "data": {
          "bar": [
           {
            "error_x": {
             "color": "rgb(36,36,36)"
            },
            "error_y": {
             "color": "rgb(36,36,36)"
            },
            "marker": {
             "line": {
              "color": "rgb(234,234,242)",
              "width": 0.5
             },
             "pattern": {
              "fillmode": "overlay",
              "size": 10,
              "solidity": 0.2
             }
            },
            "type": "bar"
           }
          ],
          "barpolar": [
           {
            "marker": {
             "line": {
              "color": "rgb(234,234,242)",
              "width": 0.5
             },
             "pattern": {
              "fillmode": "overlay",
              "size": 10,
              "solidity": 0.2
             }
            },
            "type": "barpolar"
           }
          ],
          "carpet": [
           {
            "aaxis": {
             "endlinecolor": "rgb(36,36,36)",
             "gridcolor": "white",
             "linecolor": "white",
             "minorgridcolor": "white",
             "startlinecolor": "rgb(36,36,36)"
            },
            "baxis": {
             "endlinecolor": "rgb(36,36,36)",
             "gridcolor": "white",
             "linecolor": "white",
             "minorgridcolor": "white",
             "startlinecolor": "rgb(36,36,36)"
            },
            "type": "carpet"
           }
          ],
          "choropleth": [
           {
            "colorbar": {
             "outlinewidth": 0,
             "tickcolor": "rgb(36,36,36)",
             "ticklen": 8,
             "ticks": "outside",
             "tickwidth": 2
            },
            "type": "choropleth"
           }
          ],
          "contour": [
           {
            "colorbar": {
             "outlinewidth": 0,
             "tickcolor": "rgb(36,36,36)",
             "ticklen": 8,
             "ticks": "outside",
             "tickwidth": 2
            },
            "colorscale": [
             [
              0,
              "rgb(2,4,25)"
             ],
             [
              0.06274509803921569,
              "rgb(24,15,41)"
             ],
             [
              0.12549019607843137,
              "rgb(47,23,57)"
             ],
             [
              0.18823529411764706,
              "rgb(71,28,72)"
             ],
             [
              0.25098039215686274,
              "rgb(97,30,82)"
             ],
             [
              0.3137254901960784,
              "rgb(123,30,89)"
             ],
             [
              0.3764705882352941,
              "rgb(150,27,91)"
             ],
             [
              0.4392156862745098,
              "rgb(177,22,88)"
             ],
             [
              0.5019607843137255,
              "rgb(203,26,79)"
             ],
             [
              0.5647058823529412,
              "rgb(223,47,67)"
             ],
             [
              0.6274509803921569,
              "rgb(236,76,61)"
             ],
             [
              0.6901960784313725,
              "rgb(242,107,73)"
             ],
             [
              0.7529411764705882,
              "rgb(244,135,95)"
             ],
             [
              0.8156862745098039,
              "rgb(245,162,122)"
             ],
             [
              0.8784313725490196,
              "rgb(246,188,153)"
             ],
             [
              0.9411764705882353,
              "rgb(247,212,187)"
             ],
             [
              1,
              "rgb(250,234,220)"
             ]
            ],
            "type": "contour"
           }
          ],
          "contourcarpet": [
           {
            "colorbar": {
             "outlinewidth": 0,
             "tickcolor": "rgb(36,36,36)",
             "ticklen": 8,
             "ticks": "outside",
             "tickwidth": 2
            },
            "type": "contourcarpet"
           }
          ],
          "heatmap": [
           {
            "colorbar": {
             "outlinewidth": 0,
             "tickcolor": "rgb(36,36,36)",
             "ticklen": 8,
             "ticks": "outside",
             "tickwidth": 2
            },
            "colorscale": [
             [
              0,
              "rgb(2,4,25)"
             ],
             [
              0.06274509803921569,
              "rgb(24,15,41)"
             ],
             [
              0.12549019607843137,
              "rgb(47,23,57)"
             ],
             [
              0.18823529411764706,
              "rgb(71,28,72)"
             ],
             [
              0.25098039215686274,
              "rgb(97,30,82)"
             ],
             [
              0.3137254901960784,
              "rgb(123,30,89)"
             ],
             [
              0.3764705882352941,
              "rgb(150,27,91)"
             ],
             [
              0.4392156862745098,
              "rgb(177,22,88)"
             ],
             [
              0.5019607843137255,
              "rgb(203,26,79)"
             ],
             [
              0.5647058823529412,
              "rgb(223,47,67)"
             ],
             [
              0.6274509803921569,
              "rgb(236,76,61)"
             ],
             [
              0.6901960784313725,
              "rgb(242,107,73)"
             ],
             [
              0.7529411764705882,
              "rgb(244,135,95)"
             ],
             [
              0.8156862745098039,
              "rgb(245,162,122)"
             ],
             [
              0.8784313725490196,
              "rgb(246,188,153)"
             ],
             [
              0.9411764705882353,
              "rgb(247,212,187)"
             ],
             [
              1,
              "rgb(250,234,220)"
             ]
            ],
            "type": "heatmap"
           }
          ],
          "heatmapgl": [
           {
            "colorbar": {
             "outlinewidth": 0,
             "tickcolor": "rgb(36,36,36)",
             "ticklen": 8,
             "ticks": "outside",
             "tickwidth": 2
            },
            "colorscale": [
             [
              0,
              "rgb(2,4,25)"
             ],
             [
              0.06274509803921569,
              "rgb(24,15,41)"
             ],
             [
              0.12549019607843137,
              "rgb(47,23,57)"
             ],
             [
              0.18823529411764706,
              "rgb(71,28,72)"
             ],
             [
              0.25098039215686274,
              "rgb(97,30,82)"
             ],
             [
              0.3137254901960784,
              "rgb(123,30,89)"
             ],
             [
              0.3764705882352941,
              "rgb(150,27,91)"
             ],
             [
              0.4392156862745098,
              "rgb(177,22,88)"
             ],
             [
              0.5019607843137255,
              "rgb(203,26,79)"
             ],
             [
              0.5647058823529412,
              "rgb(223,47,67)"
             ],
             [
              0.6274509803921569,
              "rgb(236,76,61)"
             ],
             [
              0.6901960784313725,
              "rgb(242,107,73)"
             ],
             [
              0.7529411764705882,
              "rgb(244,135,95)"
             ],
             [
              0.8156862745098039,
              "rgb(245,162,122)"
             ],
             [
              0.8784313725490196,
              "rgb(246,188,153)"
             ],
             [
              0.9411764705882353,
              "rgb(247,212,187)"
             ],
             [
              1,
              "rgb(250,234,220)"
             ]
            ],
            "type": "heatmapgl"
           }
          ],
          "histogram": [
           {
            "marker": {
             "pattern": {
              "fillmode": "overlay",
              "size": 10,
              "solidity": 0.2
             }
            },
            "type": "histogram"
           }
          ],
          "histogram2d": [
           {
            "colorbar": {
             "outlinewidth": 0,
             "tickcolor": "rgb(36,36,36)",
             "ticklen": 8,
             "ticks": "outside",
             "tickwidth": 2
            },
            "colorscale": [
             [
              0,
              "rgb(2,4,25)"
             ],
             [
              0.06274509803921569,
              "rgb(24,15,41)"
             ],
             [
              0.12549019607843137,
              "rgb(47,23,57)"
             ],
             [
              0.18823529411764706,
              "rgb(71,28,72)"
             ],
             [
              0.25098039215686274,
              "rgb(97,30,82)"
             ],
             [
              0.3137254901960784,
              "rgb(123,30,89)"
             ],
             [
              0.3764705882352941,
              "rgb(150,27,91)"
             ],
             [
              0.4392156862745098,
              "rgb(177,22,88)"
             ],
             [
              0.5019607843137255,
              "rgb(203,26,79)"
             ],
             [
              0.5647058823529412,
              "rgb(223,47,67)"
             ],
             [
              0.6274509803921569,
              "rgb(236,76,61)"
             ],
             [
              0.6901960784313725,
              "rgb(242,107,73)"
             ],
             [
              0.7529411764705882,
              "rgb(244,135,95)"
             ],
             [
              0.8156862745098039,
              "rgb(245,162,122)"
             ],
             [
              0.8784313725490196,
              "rgb(246,188,153)"
             ],
             [
              0.9411764705882353,
              "rgb(247,212,187)"
             ],
             [
              1,
              "rgb(250,234,220)"
             ]
            ],
            "type": "histogram2d"
           }
          ],
          "histogram2dcontour": [
           {
            "colorbar": {
             "outlinewidth": 0,
             "tickcolor": "rgb(36,36,36)",
             "ticklen": 8,
             "ticks": "outside",
             "tickwidth": 2
            },
            "colorscale": [
             [
              0,
              "rgb(2,4,25)"
             ],
             [
              0.06274509803921569,
              "rgb(24,15,41)"
             ],
             [
              0.12549019607843137,
              "rgb(47,23,57)"
             ],
             [
              0.18823529411764706,
              "rgb(71,28,72)"
             ],
             [
              0.25098039215686274,
              "rgb(97,30,82)"
             ],
             [
              0.3137254901960784,
              "rgb(123,30,89)"
             ],
             [
              0.3764705882352941,
              "rgb(150,27,91)"
             ],
             [
              0.4392156862745098,
              "rgb(177,22,88)"
             ],
             [
              0.5019607843137255,
              "rgb(203,26,79)"
             ],
             [
              0.5647058823529412,
              "rgb(223,47,67)"
             ],
             [
              0.6274509803921569,
              "rgb(236,76,61)"
             ],
             [
              0.6901960784313725,
              "rgb(242,107,73)"
             ],
             [
              0.7529411764705882,
              "rgb(244,135,95)"
             ],
             [
              0.8156862745098039,
              "rgb(245,162,122)"
             ],
             [
              0.8784313725490196,
              "rgb(246,188,153)"
             ],
             [
              0.9411764705882353,
              "rgb(247,212,187)"
             ],
             [
              1,
              "rgb(250,234,220)"
             ]
            ],
            "type": "histogram2dcontour"
           }
          ],
          "mesh3d": [
           {
            "colorbar": {
             "outlinewidth": 0,
             "tickcolor": "rgb(36,36,36)",
             "ticklen": 8,
             "ticks": "outside",
             "tickwidth": 2
            },
            "type": "mesh3d"
           }
          ],
          "parcoords": [
           {
            "line": {
             "colorbar": {
              "outlinewidth": 0,
              "tickcolor": "rgb(36,36,36)",
              "ticklen": 8,
              "ticks": "outside",
              "tickwidth": 2
             }
            },
            "type": "parcoords"
           }
          ],
          "pie": [
           {
            "automargin": true,
            "type": "pie"
           }
          ],
          "scatter": [
           {
            "fillpattern": {
             "fillmode": "overlay",
             "size": 10,
             "solidity": 0.2
            },
            "type": "scatter"
           }
          ],
          "scatter3d": [
           {
            "line": {
             "colorbar": {
              "outlinewidth": 0,
              "tickcolor": "rgb(36,36,36)",
              "ticklen": 8,
              "ticks": "outside",
              "tickwidth": 2
             }
            },
            "marker": {
             "colorbar": {
              "outlinewidth": 0,
              "tickcolor": "rgb(36,36,36)",
              "ticklen": 8,
              "ticks": "outside",
              "tickwidth": 2
             }
            },
            "type": "scatter3d"
           }
          ],
          "scattercarpet": [
           {
            "marker": {
             "colorbar": {
              "outlinewidth": 0,
              "tickcolor": "rgb(36,36,36)",
              "ticklen": 8,
              "ticks": "outside",
              "tickwidth": 2
             }
            },
            "type": "scattercarpet"
           }
          ],
          "scattergeo": [
           {
            "marker": {
             "colorbar": {
              "outlinewidth": 0,
              "tickcolor": "rgb(36,36,36)",
              "ticklen": 8,
              "ticks": "outside",
              "tickwidth": 2
             }
            },
            "type": "scattergeo"
           }
          ],
          "scattergl": [
           {
            "marker": {
             "colorbar": {
              "outlinewidth": 0,
              "tickcolor": "rgb(36,36,36)",
              "ticklen": 8,
              "ticks": "outside",
              "tickwidth": 2
             }
            },
            "type": "scattergl"
           }
          ],
          "scattermapbox": [
           {
            "marker": {
             "colorbar": {
              "outlinewidth": 0,
              "tickcolor": "rgb(36,36,36)",
              "ticklen": 8,
              "ticks": "outside",
              "tickwidth": 2
             }
            },
            "type": "scattermapbox"
           }
          ],
          "scatterpolar": [
           {
            "marker": {
             "colorbar": {
              "outlinewidth": 0,
              "tickcolor": "rgb(36,36,36)",
              "ticklen": 8,
              "ticks": "outside",
              "tickwidth": 2
             }
            },
            "type": "scatterpolar"
           }
          ],
          "scatterpolargl": [
           {
            "marker": {
             "colorbar": {
              "outlinewidth": 0,
              "tickcolor": "rgb(36,36,36)",
              "ticklen": 8,
              "ticks": "outside",
              "tickwidth": 2
             }
            },
            "type": "scatterpolargl"
           }
          ],
          "scatterternary": [
           {
            "marker": {
             "colorbar": {
              "outlinewidth": 0,
              "tickcolor": "rgb(36,36,36)",
              "ticklen": 8,
              "ticks": "outside",
              "tickwidth": 2
             }
            },
            "type": "scatterternary"
           }
          ],
          "surface": [
           {
            "colorbar": {
             "outlinewidth": 0,
             "tickcolor": "rgb(36,36,36)",
             "ticklen": 8,
             "ticks": "outside",
             "tickwidth": 2
            },
            "colorscale": [
             [
              0,
              "rgb(2,4,25)"
             ],
             [
              0.06274509803921569,
              "rgb(24,15,41)"
             ],
             [
              0.12549019607843137,
              "rgb(47,23,57)"
             ],
             [
              0.18823529411764706,
              "rgb(71,28,72)"
             ],
             [
              0.25098039215686274,
              "rgb(97,30,82)"
             ],
             [
              0.3137254901960784,
              "rgb(123,30,89)"
             ],
             [
              0.3764705882352941,
              "rgb(150,27,91)"
             ],
             [
              0.4392156862745098,
              "rgb(177,22,88)"
             ],
             [
              0.5019607843137255,
              "rgb(203,26,79)"
             ],
             [
              0.5647058823529412,
              "rgb(223,47,67)"
             ],
             [
              0.6274509803921569,
              "rgb(236,76,61)"
             ],
             [
              0.6901960784313725,
              "rgb(242,107,73)"
             ],
             [
              0.7529411764705882,
              "rgb(244,135,95)"
             ],
             [
              0.8156862745098039,
              "rgb(245,162,122)"
             ],
             [
              0.8784313725490196,
              "rgb(246,188,153)"
             ],
             [
              0.9411764705882353,
              "rgb(247,212,187)"
             ],
             [
              1,
              "rgb(250,234,220)"
             ]
            ],
            "type": "surface"
           }
          ],
          "table": [
           {
            "cells": {
             "fill": {
              "color": "rgb(231,231,240)"
             },
             "line": {
              "color": "white"
             }
            },
            "header": {
             "fill": {
              "color": "rgb(183,183,191)"
             },
             "line": {
              "color": "white"
             }
            },
            "type": "table"
           }
          ]
         },
         "layout": {
          "annotationdefaults": {
           "arrowcolor": "rgb(67,103,167)"
          },
          "autotypenumbers": "strict",
          "coloraxis": {
           "colorbar": {
            "outlinewidth": 0,
            "tickcolor": "rgb(36,36,36)",
            "ticklen": 8,
            "ticks": "outside",
            "tickwidth": 2
           }
          },
          "colorscale": {
           "sequential": [
            [
             0,
             "rgb(2,4,25)"
            ],
            [
             0.06274509803921569,
             "rgb(24,15,41)"
            ],
            [
             0.12549019607843137,
             "rgb(47,23,57)"
            ],
            [
             0.18823529411764706,
             "rgb(71,28,72)"
            ],
            [
             0.25098039215686274,
             "rgb(97,30,82)"
            ],
            [
             0.3137254901960784,
             "rgb(123,30,89)"
            ],
            [
             0.3764705882352941,
             "rgb(150,27,91)"
            ],
            [
             0.4392156862745098,
             "rgb(177,22,88)"
            ],
            [
             0.5019607843137255,
             "rgb(203,26,79)"
            ],
            [
             0.5647058823529412,
             "rgb(223,47,67)"
            ],
            [
             0.6274509803921569,
             "rgb(236,76,61)"
            ],
            [
             0.6901960784313725,
             "rgb(242,107,73)"
            ],
            [
             0.7529411764705882,
             "rgb(244,135,95)"
            ],
            [
             0.8156862745098039,
             "rgb(245,162,122)"
            ],
            [
             0.8784313725490196,
             "rgb(246,188,153)"
            ],
            [
             0.9411764705882353,
             "rgb(247,212,187)"
            ],
            [
             1,
             "rgb(250,234,220)"
            ]
           ],
           "sequentialminus": [
            [
             0,
             "rgb(2,4,25)"
            ],
            [
             0.06274509803921569,
             "rgb(24,15,41)"
            ],
            [
             0.12549019607843137,
             "rgb(47,23,57)"
            ],
            [
             0.18823529411764706,
             "rgb(71,28,72)"
            ],
            [
             0.25098039215686274,
             "rgb(97,30,82)"
            ],
            [
             0.3137254901960784,
             "rgb(123,30,89)"
            ],
            [
             0.3764705882352941,
             "rgb(150,27,91)"
            ],
            [
             0.4392156862745098,
             "rgb(177,22,88)"
            ],
            [
             0.5019607843137255,
             "rgb(203,26,79)"
            ],
            [
             0.5647058823529412,
             "rgb(223,47,67)"
            ],
            [
             0.6274509803921569,
             "rgb(236,76,61)"
            ],
            [
             0.6901960784313725,
             "rgb(242,107,73)"
            ],
            [
             0.7529411764705882,
             "rgb(244,135,95)"
            ],
            [
             0.8156862745098039,
             "rgb(245,162,122)"
            ],
            [
             0.8784313725490196,
             "rgb(246,188,153)"
            ],
            [
             0.9411764705882353,
             "rgb(247,212,187)"
            ],
            [
             1,
             "rgb(250,234,220)"
            ]
           ]
          },
          "colorway": [
           "rgb(76,114,176)",
           "rgb(221,132,82)",
           "rgb(85,168,104)",
           "rgb(196,78,82)",
           "rgb(129,114,179)",
           "rgb(147,120,96)",
           "rgb(218,139,195)",
           "rgb(140,140,140)",
           "rgb(204,185,116)",
           "rgb(100,181,205)"
          ],
          "font": {
           "color": "rgb(36,36,36)"
          },
          "geo": {
           "bgcolor": "white",
           "lakecolor": "white",
           "landcolor": "rgb(234,234,242)",
           "showlakes": true,
           "showland": true,
           "subunitcolor": "white"
          },
          "hoverlabel": {
           "align": "left"
          },
          "hovermode": "closest",
          "paper_bgcolor": "white",
          "plot_bgcolor": "rgb(234,234,242)",
          "polar": {
           "angularaxis": {
            "gridcolor": "white",
            "linecolor": "white",
            "showgrid": true,
            "ticks": ""
           },
           "bgcolor": "rgb(234,234,242)",
           "radialaxis": {
            "gridcolor": "white",
            "linecolor": "white",
            "showgrid": true,
            "ticks": ""
           }
          },
          "scene": {
           "xaxis": {
            "backgroundcolor": "rgb(234,234,242)",
            "gridcolor": "white",
            "gridwidth": 2,
            "linecolor": "white",
            "showbackground": true,
            "showgrid": true,
            "ticks": "",
            "zerolinecolor": "white"
           },
           "yaxis": {
            "backgroundcolor": "rgb(234,234,242)",
            "gridcolor": "white",
            "gridwidth": 2,
            "linecolor": "white",
            "showbackground": true,
            "showgrid": true,
            "ticks": "",
            "zerolinecolor": "white"
           },
           "zaxis": {
            "backgroundcolor": "rgb(234,234,242)",
            "gridcolor": "white",
            "gridwidth": 2,
            "linecolor": "white",
            "showbackground": true,
            "showgrid": true,
            "ticks": "",
            "zerolinecolor": "white"
           }
          },
          "shapedefaults": {
           "fillcolor": "rgb(67,103,167)",
           "line": {
            "width": 0
           },
           "opacity": 0.5
          },
          "ternary": {
           "aaxis": {
            "gridcolor": "white",
            "linecolor": "white",
            "showgrid": true,
            "ticks": ""
           },
           "baxis": {
            "gridcolor": "white",
            "linecolor": "white",
            "showgrid": true,
            "ticks": ""
           },
           "bgcolor": "rgb(234,234,242)",
           "caxis": {
            "gridcolor": "white",
            "linecolor": "white",
            "showgrid": true,
            "ticks": ""
           }
          },
          "xaxis": {
           "automargin": true,
           "gridcolor": "white",
           "linecolor": "white",
           "showgrid": true,
           "ticks": "",
           "title": {
            "standoff": 15
           },
           "zerolinecolor": "white"
          },
          "yaxis": {
           "automargin": true,
           "gridcolor": "white",
           "linecolor": "white",
           "showgrid": true,
           "ticks": "",
           "title": {
            "standoff": 15
           },
           "zerolinecolor": "white"
          }
         }
        },
        "title": {
         "text": "20 most frequent keywords of RELIME"
        },
        "xaxis": {
         "anchor": "y",
         "domain": [
          0,
          1
         ],
         "range": [
          0,
          17.5
         ],
         "tickangle": 35,
         "title": {
          "text": "frequency"
         }
        },
        "yaxis": {
         "anchor": "x",
         "domain": [
          0,
          1
         ],
         "title": {
          "text": "keywords"
         }
        }
       }
      },
      "text/html": [
       "<div>                            <div id=\"1dfa56f3-7479-4e38-837e-0d1e215fdbde\" class=\"plotly-graph-div\" style=\"height:525px; width:100%;\"></div>            <script type=\"text/javascript\">                require([\"plotly\"], function(Plotly) {                    window.PLOTLYENV=window.PLOTLYENV || {};                                    if (document.getElementById(\"1dfa56f3-7479-4e38-837e-0d1e215fdbde\")) {                    Plotly.newPlot(                        \"1dfa56f3-7479-4e38-837e-0d1e215fdbde\",                        [{\"alignmentgroup\":\"True\",\"hovertemplate\":\"frecuencia=%{x}<br>palabras_clave=%{y}<br>text=%{text}<extra></extra>\",\"legendgroup\":\"\",\"marker\":{\"color\":\"rgb(76,114,176)\",\"pattern\":{\"shape\":\"\"}},\"name\":\"\",\"offsetgroup\":\"\",\"orientation\":\"h\",\"showlegend\":false,\"text\":[\"14 (5.8%)\",\"11 (4.6%)\",\"11 (4.6%)\",\"6 (2.5%)\",\"5 (2.1%)\",\"5 (2.1%)\",\"5 (2.1%)\",\"5 (2.1%)\",\"5 (2.1%)\",\"5 (2.1%)\",\"5 (2.1%)\",\"5 (2.1%)\",\"4 (1.7%)\",\"4 (1.7%)\",\"4 (1.7%)\",\"4 (1.7%)\",\"4 (1.7%)\",\"4 (1.7%)\",\"4 (1.7%)\"],\"textposition\":\"outside\",\"x\":[14,11,11,6,5,5,5,5,5,5,5,5,4,4,4,4,4,4,4],\"xaxis\":\"x\",\"y\":[\"mathematics\",\"problem solving\",\"mathematics education\",\"modeling\",\"teaching\",\"strategies\",\"apos theory\",\"socioepistemology\",\"secondary education\",\"mathematical working space\",\"teacher training\",\"teacher education\",\"understanding\",\"teaching and learning\",\"mathematical modeling\",\"proportionality\",\"geometrical working space\",\"mathematical activity\",\"professional development\"],\"yaxis\":\"y\",\"type\":\"bar\",\"textfont\":{\"size\":14}}],                        {\"template\":{\"data\":{\"barpolar\":[{\"marker\":{\"line\":{\"color\":\"rgb(234,234,242)\",\"width\":0.5},\"pattern\":{\"fillmode\":\"overlay\",\"size\":10,\"solidity\":0.2}},\"type\":\"barpolar\"}],\"bar\":[{\"error_x\":{\"color\":\"rgb(36,36,36)\"},\"error_y\":{\"color\":\"rgb(36,36,36)\"},\"marker\":{\"line\":{\"color\":\"rgb(234,234,242)\",\"width\":0.5},\"pattern\":{\"fillmode\":\"overlay\",\"size\":10,\"solidity\":0.2}},\"type\":\"bar\"}],\"carpet\":[{\"aaxis\":{\"endlinecolor\":\"rgb(36,36,36)\",\"gridcolor\":\"white\",\"linecolor\":\"white\",\"minorgridcolor\":\"white\",\"startlinecolor\":\"rgb(36,36,36)\"},\"baxis\":{\"endlinecolor\":\"rgb(36,36,36)\",\"gridcolor\":\"white\",\"linecolor\":\"white\",\"minorgridcolor\":\"white\",\"startlinecolor\":\"rgb(36,36,36)\"},\"type\":\"carpet\"}],\"choropleth\":[{\"colorbar\":{\"outlinewidth\":0,\"tickcolor\":\"rgb(36,36,36)\",\"ticklen\":8,\"ticks\":\"outside\",\"tickwidth\":2},\"type\":\"choropleth\"}],\"contourcarpet\":[{\"colorbar\":{\"outlinewidth\":0,\"tickcolor\":\"rgb(36,36,36)\",\"ticklen\":8,\"ticks\":\"outside\",\"tickwidth\":2},\"type\":\"contourcarpet\"}],\"contour\":[{\"colorbar\":{\"outlinewidth\":0,\"tickcolor\":\"rgb(36,36,36)\",\"ticklen\":8,\"ticks\":\"outside\",\"tickwidth\":2},\"colorscale\":[[0.0,\"rgb(2,4,25)\"],[0.06274509803921569,\"rgb(24,15,41)\"],[0.12549019607843137,\"rgb(47,23,57)\"],[0.18823529411764706,\"rgb(71,28,72)\"],[0.25098039215686274,\"rgb(97,30,82)\"],[0.3137254901960784,\"rgb(123,30,89)\"],[0.3764705882352941,\"rgb(150,27,91)\"],[0.4392156862745098,\"rgb(177,22,88)\"],[0.5019607843137255,\"rgb(203,26,79)\"],[0.5647058823529412,\"rgb(223,47,67)\"],[0.6274509803921569,\"rgb(236,76,61)\"],[0.6901960784313725,\"rgb(242,107,73)\"],[0.7529411764705882,\"rgb(244,135,95)\"],[0.8156862745098039,\"rgb(245,162,122)\"],[0.8784313725490196,\"rgb(246,188,153)\"],[0.9411764705882353,\"rgb(247,212,187)\"],[1.0,\"rgb(250,234,220)\"]],\"type\":\"contour\"}],\"heatmapgl\":[{\"colorbar\":{\"outlinewidth\":0,\"tickcolor\":\"rgb(36,36,36)\",\"ticklen\":8,\"ticks\":\"outside\",\"tickwidth\":2},\"colorscale\":[[0.0,\"rgb(2,4,25)\"],[0.06274509803921569,\"rgb(24,15,41)\"],[0.12549019607843137,\"rgb(47,23,57)\"],[0.18823529411764706,\"rgb(71,28,72)\"],[0.25098039215686274,\"rgb(97,30,82)\"],[0.3137254901960784,\"rgb(123,30,89)\"],[0.3764705882352941,\"rgb(150,27,91)\"],[0.4392156862745098,\"rgb(177,22,88)\"],[0.5019607843137255,\"rgb(203,26,79)\"],[0.5647058823529412,\"rgb(223,47,67)\"],[0.6274509803921569,\"rgb(236,76,61)\"],[0.6901960784313725,\"rgb(242,107,73)\"],[0.7529411764705882,\"rgb(244,135,95)\"],[0.8156862745098039,\"rgb(245,162,122)\"],[0.8784313725490196,\"rgb(246,188,153)\"],[0.9411764705882353,\"rgb(247,212,187)\"],[1.0,\"rgb(250,234,220)\"]],\"type\":\"heatmapgl\"}],\"heatmap\":[{\"colorbar\":{\"outlinewidth\":0,\"tickcolor\":\"rgb(36,36,36)\",\"ticklen\":8,\"ticks\":\"outside\",\"tickwidth\":2},\"colorscale\":[[0.0,\"rgb(2,4,25)\"],[0.06274509803921569,\"rgb(24,15,41)\"],[0.12549019607843137,\"rgb(47,23,57)\"],[0.18823529411764706,\"rgb(71,28,72)\"],[0.25098039215686274,\"rgb(97,30,82)\"],[0.3137254901960784,\"rgb(123,30,89)\"],[0.3764705882352941,\"rgb(150,27,91)\"],[0.4392156862745098,\"rgb(177,22,88)\"],[0.5019607843137255,\"rgb(203,26,79)\"],[0.5647058823529412,\"rgb(223,47,67)\"],[0.6274509803921569,\"rgb(236,76,61)\"],[0.6901960784313725,\"rgb(242,107,73)\"],[0.7529411764705882,\"rgb(244,135,95)\"],[0.8156862745098039,\"rgb(245,162,122)\"],[0.8784313725490196,\"rgb(246,188,153)\"],[0.9411764705882353,\"rgb(247,212,187)\"],[1.0,\"rgb(250,234,220)\"]],\"type\":\"heatmap\"}],\"histogram2dcontour\":[{\"colorbar\":{\"outlinewidth\":0,\"tickcolor\":\"rgb(36,36,36)\",\"ticklen\":8,\"ticks\":\"outside\",\"tickwidth\":2},\"colorscale\":[[0.0,\"rgb(2,4,25)\"],[0.06274509803921569,\"rgb(24,15,41)\"],[0.12549019607843137,\"rgb(47,23,57)\"],[0.18823529411764706,\"rgb(71,28,72)\"],[0.25098039215686274,\"rgb(97,30,82)\"],[0.3137254901960784,\"rgb(123,30,89)\"],[0.3764705882352941,\"rgb(150,27,91)\"],[0.4392156862745098,\"rgb(177,22,88)\"],[0.5019607843137255,\"rgb(203,26,79)\"],[0.5647058823529412,\"rgb(223,47,67)\"],[0.6274509803921569,\"rgb(236,76,61)\"],[0.6901960784313725,\"rgb(242,107,73)\"],[0.7529411764705882,\"rgb(244,135,95)\"],[0.8156862745098039,\"rgb(245,162,122)\"],[0.8784313725490196,\"rgb(246,188,153)\"],[0.9411764705882353,\"rgb(247,212,187)\"],[1.0,\"rgb(250,234,220)\"]],\"type\":\"histogram2dcontour\"}],\"histogram2d\":[{\"colorbar\":{\"outlinewidth\":0,\"tickcolor\":\"rgb(36,36,36)\",\"ticklen\":8,\"ticks\":\"outside\",\"tickwidth\":2},\"colorscale\":[[0.0,\"rgb(2,4,25)\"],[0.06274509803921569,\"rgb(24,15,41)\"],[0.12549019607843137,\"rgb(47,23,57)\"],[0.18823529411764706,\"rgb(71,28,72)\"],[0.25098039215686274,\"rgb(97,30,82)\"],[0.3137254901960784,\"rgb(123,30,89)\"],[0.3764705882352941,\"rgb(150,27,91)\"],[0.4392156862745098,\"rgb(177,22,88)\"],[0.5019607843137255,\"rgb(203,26,79)\"],[0.5647058823529412,\"rgb(223,47,67)\"],[0.6274509803921569,\"rgb(236,76,61)\"],[0.6901960784313725,\"rgb(242,107,73)\"],[0.7529411764705882,\"rgb(244,135,95)\"],[0.8156862745098039,\"rgb(245,162,122)\"],[0.8784313725490196,\"rgb(246,188,153)\"],[0.9411764705882353,\"rgb(247,212,187)\"],[1.0,\"rgb(250,234,220)\"]],\"type\":\"histogram2d\"}],\"histogram\":[{\"marker\":{\"pattern\":{\"fillmode\":\"overlay\",\"size\":10,\"solidity\":0.2}},\"type\":\"histogram\"}],\"mesh3d\":[{\"colorbar\":{\"outlinewidth\":0,\"tickcolor\":\"rgb(36,36,36)\",\"ticklen\":8,\"ticks\":\"outside\",\"tickwidth\":2},\"type\":\"mesh3d\"}],\"parcoords\":[{\"line\":{\"colorbar\":{\"outlinewidth\":0,\"tickcolor\":\"rgb(36,36,36)\",\"ticklen\":8,\"ticks\":\"outside\",\"tickwidth\":2}},\"type\":\"parcoords\"}],\"pie\":[{\"automargin\":true,\"type\":\"pie\"}],\"scatter3d\":[{\"line\":{\"colorbar\":{\"outlinewidth\":0,\"tickcolor\":\"rgb(36,36,36)\",\"ticklen\":8,\"ticks\":\"outside\",\"tickwidth\":2}},\"marker\":{\"colorbar\":{\"outlinewidth\":0,\"tickcolor\":\"rgb(36,36,36)\",\"ticklen\":8,\"ticks\":\"outside\",\"tickwidth\":2}},\"type\":\"scatter3d\"}],\"scattercarpet\":[{\"marker\":{\"colorbar\":{\"outlinewidth\":0,\"tickcolor\":\"rgb(36,36,36)\",\"ticklen\":8,\"ticks\":\"outside\",\"tickwidth\":2}},\"type\":\"scattercarpet\"}],\"scattergeo\":[{\"marker\":{\"colorbar\":{\"outlinewidth\":0,\"tickcolor\":\"rgb(36,36,36)\",\"ticklen\":8,\"ticks\":\"outside\",\"tickwidth\":2}},\"type\":\"scattergeo\"}],\"scattergl\":[{\"marker\":{\"colorbar\":{\"outlinewidth\":0,\"tickcolor\":\"rgb(36,36,36)\",\"ticklen\":8,\"ticks\":\"outside\",\"tickwidth\":2}},\"type\":\"scattergl\"}],\"scattermapbox\":[{\"marker\":{\"colorbar\":{\"outlinewidth\":0,\"tickcolor\":\"rgb(36,36,36)\",\"ticklen\":8,\"ticks\":\"outside\",\"tickwidth\":2}},\"type\":\"scattermapbox\"}],\"scatterpolargl\":[{\"marker\":{\"colorbar\":{\"outlinewidth\":0,\"tickcolor\":\"rgb(36,36,36)\",\"ticklen\":8,\"ticks\":\"outside\",\"tickwidth\":2}},\"type\":\"scatterpolargl\"}],\"scatterpolar\":[{\"marker\":{\"colorbar\":{\"outlinewidth\":0,\"tickcolor\":\"rgb(36,36,36)\",\"ticklen\":8,\"ticks\":\"outside\",\"tickwidth\":2}},\"type\":\"scatterpolar\"}],\"scatter\":[{\"fillpattern\":{\"fillmode\":\"overlay\",\"size\":10,\"solidity\":0.2},\"type\":\"scatter\"}],\"scatterternary\":[{\"marker\":{\"colorbar\":{\"outlinewidth\":0,\"tickcolor\":\"rgb(36,36,36)\",\"ticklen\":8,\"ticks\":\"outside\",\"tickwidth\":2}},\"type\":\"scatterternary\"}],\"surface\":[{\"colorbar\":{\"outlinewidth\":0,\"tickcolor\":\"rgb(36,36,36)\",\"ticklen\":8,\"ticks\":\"outside\",\"tickwidth\":2},\"colorscale\":[[0.0,\"rgb(2,4,25)\"],[0.06274509803921569,\"rgb(24,15,41)\"],[0.12549019607843137,\"rgb(47,23,57)\"],[0.18823529411764706,\"rgb(71,28,72)\"],[0.25098039215686274,\"rgb(97,30,82)\"],[0.3137254901960784,\"rgb(123,30,89)\"],[0.3764705882352941,\"rgb(150,27,91)\"],[0.4392156862745098,\"rgb(177,22,88)\"],[0.5019607843137255,\"rgb(203,26,79)\"],[0.5647058823529412,\"rgb(223,47,67)\"],[0.6274509803921569,\"rgb(236,76,61)\"],[0.6901960784313725,\"rgb(242,107,73)\"],[0.7529411764705882,\"rgb(244,135,95)\"],[0.8156862745098039,\"rgb(245,162,122)\"],[0.8784313725490196,\"rgb(246,188,153)\"],[0.9411764705882353,\"rgb(247,212,187)\"],[1.0,\"rgb(250,234,220)\"]],\"type\":\"surface\"}],\"table\":[{\"cells\":{\"fill\":{\"color\":\"rgb(231,231,240)\"},\"line\":{\"color\":\"white\"}},\"header\":{\"fill\":{\"color\":\"rgb(183,183,191)\"},\"line\":{\"color\":\"white\"}},\"type\":\"table\"}]},\"layout\":{\"annotationdefaults\":{\"arrowcolor\":\"rgb(67,103,167)\"},\"autotypenumbers\":\"strict\",\"coloraxis\":{\"colorbar\":{\"outlinewidth\":0,\"tickcolor\":\"rgb(36,36,36)\",\"ticklen\":8,\"ticks\":\"outside\",\"tickwidth\":2}},\"colorscale\":{\"sequential\":[[0.0,\"rgb(2,4,25)\"],[0.06274509803921569,\"rgb(24,15,41)\"],[0.12549019607843137,\"rgb(47,23,57)\"],[0.18823529411764706,\"rgb(71,28,72)\"],[0.25098039215686274,\"rgb(97,30,82)\"],[0.3137254901960784,\"rgb(123,30,89)\"],[0.3764705882352941,\"rgb(150,27,91)\"],[0.4392156862745098,\"rgb(177,22,88)\"],[0.5019607843137255,\"rgb(203,26,79)\"],[0.5647058823529412,\"rgb(223,47,67)\"],[0.6274509803921569,\"rgb(236,76,61)\"],[0.6901960784313725,\"rgb(242,107,73)\"],[0.7529411764705882,\"rgb(244,135,95)\"],[0.8156862745098039,\"rgb(245,162,122)\"],[0.8784313725490196,\"rgb(246,188,153)\"],[0.9411764705882353,\"rgb(247,212,187)\"],[1.0,\"rgb(250,234,220)\"]],\"sequentialminus\":[[0.0,\"rgb(2,4,25)\"],[0.06274509803921569,\"rgb(24,15,41)\"],[0.12549019607843137,\"rgb(47,23,57)\"],[0.18823529411764706,\"rgb(71,28,72)\"],[0.25098039215686274,\"rgb(97,30,82)\"],[0.3137254901960784,\"rgb(123,30,89)\"],[0.3764705882352941,\"rgb(150,27,91)\"],[0.4392156862745098,\"rgb(177,22,88)\"],[0.5019607843137255,\"rgb(203,26,79)\"],[0.5647058823529412,\"rgb(223,47,67)\"],[0.6274509803921569,\"rgb(236,76,61)\"],[0.6901960784313725,\"rgb(242,107,73)\"],[0.7529411764705882,\"rgb(244,135,95)\"],[0.8156862745098039,\"rgb(245,162,122)\"],[0.8784313725490196,\"rgb(246,188,153)\"],[0.9411764705882353,\"rgb(247,212,187)\"],[1.0,\"rgb(250,234,220)\"]]},\"colorway\":[\"rgb(76,114,176)\",\"rgb(221,132,82)\",\"rgb(85,168,104)\",\"rgb(196,78,82)\",\"rgb(129,114,179)\",\"rgb(147,120,96)\",\"rgb(218,139,195)\",\"rgb(140,140,140)\",\"rgb(204,185,116)\",\"rgb(100,181,205)\"],\"font\":{\"color\":\"rgb(36,36,36)\"},\"geo\":{\"bgcolor\":\"white\",\"lakecolor\":\"white\",\"landcolor\":\"rgb(234,234,242)\",\"showlakes\":true,\"showland\":true,\"subunitcolor\":\"white\"},\"hoverlabel\":{\"align\":\"left\"},\"hovermode\":\"closest\",\"paper_bgcolor\":\"white\",\"plot_bgcolor\":\"rgb(234,234,242)\",\"polar\":{\"angularaxis\":{\"gridcolor\":\"white\",\"linecolor\":\"white\",\"showgrid\":true,\"ticks\":\"\"},\"bgcolor\":\"rgb(234,234,242)\",\"radialaxis\":{\"gridcolor\":\"white\",\"linecolor\":\"white\",\"showgrid\":true,\"ticks\":\"\"}},\"scene\":{\"xaxis\":{\"backgroundcolor\":\"rgb(234,234,242)\",\"gridcolor\":\"white\",\"gridwidth\":2,\"linecolor\":\"white\",\"showbackground\":true,\"showgrid\":true,\"ticks\":\"\",\"zerolinecolor\":\"white\"},\"yaxis\":{\"backgroundcolor\":\"rgb(234,234,242)\",\"gridcolor\":\"white\",\"gridwidth\":2,\"linecolor\":\"white\",\"showbackground\":true,\"showgrid\":true,\"ticks\":\"\",\"zerolinecolor\":\"white\"},\"zaxis\":{\"backgroundcolor\":\"rgb(234,234,242)\",\"gridcolor\":\"white\",\"gridwidth\":2,\"linecolor\":\"white\",\"showbackground\":true,\"showgrid\":true,\"ticks\":\"\",\"zerolinecolor\":\"white\"}},\"shapedefaults\":{\"fillcolor\":\"rgb(67,103,167)\",\"line\":{\"width\":0},\"opacity\":0.5},\"ternary\":{\"aaxis\":{\"gridcolor\":\"white\",\"linecolor\":\"white\",\"showgrid\":true,\"ticks\":\"\"},\"baxis\":{\"gridcolor\":\"white\",\"linecolor\":\"white\",\"showgrid\":true,\"ticks\":\"\"},\"bgcolor\":\"rgb(234,234,242)\",\"caxis\":{\"gridcolor\":\"white\",\"linecolor\":\"white\",\"showgrid\":true,\"ticks\":\"\"}},\"xaxis\":{\"automargin\":true,\"gridcolor\":\"white\",\"linecolor\":\"white\",\"showgrid\":true,\"ticks\":\"\",\"title\":{\"standoff\":15},\"zerolinecolor\":\"white\"},\"yaxis\":{\"automargin\":true,\"gridcolor\":\"white\",\"linecolor\":\"white\",\"showgrid\":true,\"ticks\":\"\",\"title\":{\"standoff\":15},\"zerolinecolor\":\"white\"}}},\"xaxis\":{\"anchor\":\"y\",\"domain\":[0.0,1.0],\"title\":{\"text\":\"frequency\"},\"range\":[0,17.5],\"tickangle\":35},\"yaxis\":{\"anchor\":\"x\",\"domain\":[0.0,1.0],\"title\":{\"text\":\"keywords\"}},\"legend\":{\"tracegroupgap\":0},\"margin\":{\"t\":60},\"barmode\":\"relative\",\"title\":{\"text\":\"20 most frequent keywords of RELIME\"},\"font\":{\"size\":8}},                        {\"responsive\": true}                    ).then(function(){\n",
       "                            \n",
       "var gd = document.getElementById('1dfa56f3-7479-4e38-837e-0d1e215fdbde');\n",
       "var x = new MutationObserver(function (mutations, observer) {{\n",
       "        var display = window.getComputedStyle(gd).display;\n",
       "        if (!display || display === 'none') {{\n",
       "            console.log([gd, 'removed!']);\n",
       "            Plotly.purge(gd);\n",
       "            observer.disconnect();\n",
       "        }}\n",
       "}});\n",
       "\n",
       "// Listen for the removal of the full notebook cells\n",
       "var notebookContainer = gd.closest('#notebook-container');\n",
       "if (notebookContainer) {{\n",
       "    x.observe(notebookContainer, {childList: true});\n",
       "}}\n",
       "\n",
       "// Listen for the clearing of the current output cell\n",
       "var outputEl = gd.closest('.output');\n",
       "if (outputEl) {{\n",
       "    x.observe(outputEl, {childList: true});\n",
       "}}\n",
       "\n",
       "                        })                };                });            </script>        </div>"
      ]
     },
     "metadata": {},
     "output_type": "display_data"
    },
    {
     "name": "stdout",
     "output_type": "stream",
     "text": [
      "Palabras clave proporcionadas por los autores en cada uno de los 241 artículos analizados. Fuente: Scopus. Solo se muestran las palabras clave más frecuentes porque en el título y abstract el proceso implica transformarlos.\n"
     ]
    }
   ],
   "source": [
    "import plotly.express as px\n",
    "\n",
    "# Filtrar las filas con palabras clave de autor no nulas\n",
    "dfK = dfA[dfA['Author Keywords'].notnull()]\n",
    "\n",
    "# Crear una lista de palabras clave separadas por punto y coma\n",
    "dfK['key_words'] = dfK['Author Keywords'].apply(lambda x: x.split(';'))\n",
    "\n",
    "# Eliminar espacios en blanco de las palabras clave\n",
    "dfK['key_words'] = dfK['key_words'].apply(lambda x: [word.strip() for word in x])\n",
    "\n",
    "# Convertir todas las palabras clave a minúsculas\n",
    "def minus(lista):\n",
    "    return list(map(lambda x: x.lower(), lista))\n",
    "\n",
    "dfK['key_words'] = dfK['key_words'].transform(minus)\n",
    "\n",
    "# Crear una lista de palabras clave ordenadas alfabéticamente\n",
    "key_word_list0 = sorted(dfK['key_words'].tolist())\n",
    "\n",
    "# Contar la frecuencia de cada palabra clave\n",
    "from collections import Counter\n",
    "\n",
    "key_word_count0 = dict(Counter(i for sub in key_word_list0 for i in set(sub)))\n",
    "key_word_count0.pop('nan', None)\n",
    "\n",
    "# Ordenar las palabras clave por frecuencia\n",
    "key_word_list0_ordenado = sorted(key_word_count0.items(), key=lambda x: x[1], reverse=True)\n",
    "\n",
    "# Seleccionar las n palabras clave más frecuentes\n",
    "n1= 20\n",
    "n = min(n1, min(len(key_word_list0_ordenado), n1)) \n",
    "\n",
    "key_word_list0_ordenado_elegidos = key_word_list0_ordenado[:n]\n",
    "\n",
    "##### Gráfico de palabras clave más frecuentes ###\n",
    "\n",
    "\n",
    "# Calcular porcentajes\n",
    "porcentajes = [round((frecuencia / len(dfA)) * 100, 1) for palabra, frecuencia in key_word_list0_ordenado_elegidos]\n",
    "\n",
    "\n",
    "#bar_texts = [f\"{frecuencia} ({porcentaje}%)\" for frecuencia, porcentaje in zip([key_word_list0_ordenado_elegidos[j][1] for j in range(n)], porcentajes)]\n",
    "\n",
    "bar_texts = [f\"{frecuencia} ({porcentaje}%)\" for frecuencia, porcentaje in zip([key_word_list0_ordenado_elegidos[j][1] for j in range(0, n - 1)], porcentajes)]\n",
    "\n",
    "\n",
    "\n",
    "#Crear títulos y gráfico\n",
    "title = str(n) + ' most frequent keywords of ' + nombre_largo\n",
    "\n",
    "# Crear un DataFrame a partir de las listas\n",
    "df_bar = pd.DataFrame(\n",
    "    {\"palabras_clave\": [key_word_list0_ordenado_elegidos[j][0] for j in range(0, n - 1)],\n",
    "    \"frecuencia\": [key_word_list0_ordenado_elegidos[j][1] for j in range(0, n - 1)]})\n",
    "\n",
    "# Crear el gráfico de barras\n",
    "fig = px.bar(df_bar, y=\"palabras_clave\", x=\"frecuencia\", text=bar_texts, orientation='h', template=template_elegido)\n",
    "\n",
    "\n",
    "# Intenta calcular el máximo y multiplicarlo por 1.25\n",
    "try:\n",
    "    max_value = max([key_word_list0_ordenado_elegidos[j][1] for j in range(0, n - 1)]) * 1.25\n",
    "except ValueError:\n",
    "    # Si hay un error (la secuencia está vacía), establece un valor por defecto\n",
    "    max_value = 1\n",
    "    \n",
    "\n",
    "# Actualizar el título, los títulos de los ejes y el ángulo de las etiquetas del eje x\n",
    "fig.update_layout(\n",
    "    title=title,\n",
    "    yaxis_title=\"keywords\",\n",
    "    xaxis_title=\"frequency\",\n",
    "    xaxis=dict(range=[0, max_value]))  # Usar max_value aquí\n",
    "fig.update_xaxes(tickangle=35)\n",
    "fig.update_layout(font_size=8)\n",
    "# Actualizar el tamaño de la fuente del texto de las barras\n",
    "fig.update_traces(textposition='outside', textfont=dict(size=14))  # Ajustar el tamaño y la posición del texto\n",
    "\n",
    "# Mostrar el gráfico\n",
    "fig.show()\n",
    "\n",
    "# Crear el nombre del archivo\n",
    "nombre_archivo = abrev + \"_\" + str(n) + '_palabras_claves_mas_frecuentes_' + str(now.year) + '_' + str(now.month) + '_' + str(now.day) + '_' + str(now.hour) + '_' + str(now.minute)\n",
    "\n",
    "# Guardar el gráfico como archivo HTML y PDF\n",
    "fig.write_html(abrev + '/' + nombre_archivo + \".html\")\n",
    "fig.write_image(abrev + '/' + nombre_archivo + \".pdf\", width=400, height=600)\n",
    "nombre_archivo_figura = nombre_archivo\n",
    "\n",
    "# Agregar una sección al archivo LaTeX\n",
    "entorno_section_tex(ruta_archivo, nombre_archivo_tex, 'Palabras clave de la base de datos')\n",
    "\n",
    "# Crear el párrafo para el informe\n",
    "lista_párrafo4 = ['En la figura \\\\ref{fig:' + nombre_archivo + '}',\n",
    "                  'se observan las ', str(n), 'palabras clave con mayor frecuencia en la',\n",
    "                  'base de datos analizada. La palabra que más aparece es <<', key_word_list0_ordenado_elegidos[0][0], '>>,',\n",
    "                  'la cual, se repite ', str(key_word_list0_ordenado_elegidos[0][1]), 'veces,',\n",
    "                  'es decir, en ', str(round(100 * key_word_list0_ordenado_elegidos[0][1] / len(dfA), 1)),\n",
    "                  '\\% de los documentos.']\n",
    "\n",
    "párrafo4 = ' '.join(lista_párrafo4)\n",
    "\n",
    "# Añadir el párrafo al archivo LaTeX\n",
    "parrafo_tex(ruta_archivo, nombre_archivo_tex, párrafo4)\n",
    "\n",
    "# Crear la leyenda para el gráfico\n",
    "leyenda = 'Palabras clave proporcionadas por los autores en cada uno de los '+str(len(dfA))+' artículos analizados. Fuente: ' + fuente_articulos + '. Solo se muestran las palabras clave más frecuentes porque en el título y abstract el proceso implica transformarlos.'\n",
    "\n",
    "# Añadir el entorno de figura al archivo LaTeX\n",
    "entorno_figura_tex(ruta_archivo, nombre_archivo_tex, nombre_archivo_figura, leyenda)\n",
    "print(leyenda)\n",
    "\n",
    "# Imprimir las palabras clave más frecuentes\n",
    "\n",
    "# Crear una lista de palabras clave y sus frecuencias\n",
    "lista_palabras_clave = [key_word_list0_ordenado_elegidos[j][0] + ': ' + str(key_word_list0_ordenado_elegidos[j][1]) for j in range(0, n - 1)]\n",
    "\n"
   ]
  },
  {
   "cell_type": "raw",
   "id": "ee80d14d",
   "metadata": {},
   "source": [
    "import plotly.express as px\n",
    "\n",
    "# Filtrar las filas con palabras clave de autor no nulas\n",
    "dfK = dfA[dfA['Author Keywords'].notnull()]\n",
    "\n",
    "# Crear una lista de palabras clave separadas por punto y coma\n",
    "dfK['key_words'] = dfK['Author Keywords'].apply(lambda x: x.split(';'))\n",
    "\n",
    "# Eliminar espacios en blanco de las palabras clave\n",
    "dfK['key_words'] = dfK['key_words'].apply(lambda x: [word.strip() for word in x])\n",
    "\n",
    "# Convertir todas las palabras clave a minúsculas\n",
    "def minus(lista):\n",
    "    return list(map(lambda x: x.lower(), lista))\n",
    "\n",
    "dfK['key_words'] = dfK['key_words'].transform(minus)\n",
    "\n",
    "# Crear una lista de palabras clave ordenadas alfabéticamente\n",
    "key_word_list0 = sorted(dfK['key_words'].tolist())\n",
    "\n",
    "# Contar la frecuencia de cada palabra clave\n",
    "from collections import Counter\n",
    "\n",
    "key_word_count0 = dict(Counter(i for sub in key_word_list0 for i in set(sub)))\n",
    "key_word_count0.pop('nan', None)\n",
    "\n",
    "# Ordenar las palabras clave por frecuencia\n",
    "key_word_list0_ordenado = sorted(key_word_count0.items(), key=lambda x: x[1], reverse=True)\n",
    "\n",
    "# Seleccionar las n palabras clave más frecuentes\n",
    "n = 35\n",
    "key_word_list0_ordenado_elegidos = key_word_list0_ordenado[:n]\n",
    "\n",
    "##### Gráfico de palabras clave más frecuentes ###\n",
    "\n",
    "\n",
    "# Calcular porcentajes\n",
    "porcentajes = [round((frecuencia / len(dfA)) * 100, 1) for palabra, frecuencia in key_word_list0_ordenado_elegidos]\n",
    "\n",
    "\n",
    "bar_texts = [f\"{frecuencia} ({porcentaje}%)\" for frecuencia, porcentaje in zip([key_word_list0_ordenado_elegidos[j][1] for j in range(0, n - 1)], porcentajes)]\n",
    "\n",
    "\n",
    "\n",
    "#Crear títulos y gráfico\n",
    "title = str(n) + ' palabras clave más frecuentes de ' + nombre_largo\n",
    "\n",
    "# Crear el gráfico de barras\n",
    "fig = px.bar(template=template_elegido, orientation='h',\n",
    "             y=[key_word_list0_ordenado_elegidos[j][0] for j in range(0, n - 1)],\n",
    "             x=[key_word_list0_ordenado_elegidos[j][1] for j in range(0, n - 1)], text=bar_texts,\n",
    "             )\n",
    "\n",
    "    \n",
    "\n",
    "# Actualizar el título, los títulos de los ejes y el ángulo de las etiquetas del eje x\n",
    "fig.update_layout(\n",
    "    title=title,\n",
    "    yaxis_title=\"palabras clave\",\n",
    "    xaxis_title=\"frecuencia\",\n",
    "    xaxis=dict(range=[0, max([key_word_list0_ordenado_elegidos[j][1] for j in range(0, n - 1)]) * 1.25]))  # Aumentar el rango del eje x en un 15%)\n",
    "fig.update_xaxes(tickangle=35)\n",
    "fig.update_layout(font_size=8)\n",
    "# Actualizar el tamaño de la fuente del texto de las barras\n",
    "fig.update_traces(textposition='outside', textfont=dict(size=14))  # Ajustar el tamaño y la posición del texto\n",
    "\n",
    "# Mostrar el gráfico\n",
    "fig.show()\n",
    "\n",
    "# Crear el nombre del archivo\n",
    "nombre_archivo = abrev + \"_\" + str(n) + '_palabras_claves_mas_frecuentes_' + str(now.year) + '_' + str(now.month) + '_' + str(now.day) + '_' + str(now.hour) + '_' + str(now.minute)\n",
    "\n",
    "# Guardar el gráfico como archivo HTML y PDF\n",
    "fig.write_html(abrev + '/' + nombre_archivo + \".html\")\n",
    "fig.write_image(abrev + '/' + nombre_archivo + \".pdf\", width=700, height=800)\n",
    "nombre_archivo_figura = nombre_archivo\n",
    "\n",
    "# Agregar una sección al archivo LaTeX\n",
    "entorno_section_tex(ruta_archivo, nombre_archivo_tex, 'Palabras clave de la base de datos')\n",
    "\n",
    "# Crear el párrafo para el informe\n",
    "lista_párrafo4 = ['En la figura \\\\ref{fig:' + nombre_archivo + '}',\n",
    "                  'se observan las ', str(n), 'palabras clave con mayor frecuencia en la',\n",
    "                  'base de datos analizada. La palabra que más aparece es <<', key_word_list0_ordenado_elegidos[0][0], '>>,',\n",
    "                  'la cual, se repite ', str(key_word_list0_ordenado_elegidos[0][1]), 'veces,',\n",
    "                  'es decir, en ', str(round(100 * key_word_list0_ordenado_elegidos[0][1] / len(dfA), 1)),\n",
    "                  '\\% de los documentos.']\n",
    "\n",
    "párrafo4 = ' '.join(lista_párrafo4)\n",
    "\n",
    "# Añadir el párrafo al archivo LaTeX\n",
    "parrafo_tex(ruta_archivo, nombre_archivo_tex, párrafo4)\n",
    "\n",
    "# Crear la leyenda para el gráfico\n",
    "leyenda = 'Palabras clave proporcionadas por los autores en cada uno de los '+str(len(dfA))+' artículos analizados. Fuente: ' + fuente_articulos + '. Solo se muestran las palabras clave más frecuentes porque en el título y abstract el proceso implica transformarlos.'\n",
    "\n",
    "# Añadir el entorno de figura al archivo LaTeX\n",
    "entorno_figura_tex(ruta_archivo, nombre_archivo_tex, nombre_archivo_figura, leyenda)\n",
    "print(leyenda)\n",
    "\n",
    "# Imprimir las palabras clave más frecuentes\n",
    "\n",
    "# Crear una lista de palabras clave y sus frecuencias\n",
    "lista_palabras_clave = [key_word_list0_ordenado_elegidos[j][0] + ': ' + str(key_word_list0_ordenado_elegidos[j][1]) for j in range(0, n - 1)]\n",
    "\n"
   ]
  },
  {
   "cell_type": "markdown",
   "id": "d4f4ecfa",
   "metadata": {},
   "source": [
    "# 10 Importar librerías sobre tratamiento del lenguaje natural"
   ]
  },
  {
   "cell_type": "code",
   "execution_count": 11,
   "id": "a5ac19b6",
   "metadata": {},
   "outputs": [],
   "source": [
    "# Importar la librería nltk\n",
    "import nltk\n",
    "\n",
    "# Descargar el paquete \"popular\" de nltk (si es necesario), esto incluye recursos como corpus y modelos para el procesamiento del lenguaje natural\n",
    "# nltk.download('popular')\n",
    "\n",
    "# Importar módulos adicionales\n",
    "import re\n",
    "import string\n",
    "\n",
    "# Inicializar el lematizador de WordNet y el stemmer de Porter\n",
    "wn = nltk.WordNetLemmatizer()\n",
    "ps = nltk.PorterStemmer()\n",
    "\n",
    "# Obtener la lista de palabras vacías (stopwords) en inglés de nltk\n",
    "stopwords = nltk.corpus.stopwords.words('english')\n",
    "\n",
    "# Agregar palabras adicionales a la lista de stopwords\n",
    "stopwords.append('The')\n",
    "stopwords.append('use')\n"
   ]
  },
  {
   "cell_type": "markdown",
   "id": "329337e9",
   "metadata": {},
   "source": [
    "# 11  Limpieza de conectores e ilativos"
   ]
  },
  {
   "cell_type": "code",
   "execution_count": 12,
   "id": "e0fd044d",
   "metadata": {},
   "outputs": [],
   "source": [
    "# Función para limpiar el texto, eliminando puntuación y palabras vacías (stopwords)\n",
    "def clean_text(txt):\n",
    "    # Eliminar puntuación\n",
    "    txt = \"\".join([c for c in txt if c not in string.punctuation])\n",
    "    # Tokenizar el texto utilizando expresiones regulares\n",
    "    tokens = re.split('\\W+', txt)\n",
    "    # Eliminar palabras vacías (stopwords)\n",
    "    txt = [word for word in tokens if word not in stopwords]\n",
    "    return txt\n",
    "\n",
    "# Lista de palabras adicionales a eliminar\n",
    "lista_eliminar = ['al', 'ano', 'año', 'com', 'commun', 'como', 'con', 'da', 'de', 'del', 'desd', 'do', 'e', 'el', 'em', 'en','et', 'entr', 'la','las', 'lo','los', 'na', 'para', 'por', 'que','sobre', 'sobr', 'su', 'sua', 'toward', 'two','um', 'uma', 'un', 'una', 'use', 'uso']\n",
    "\n",
    "# Función para eliminar palabras específicas de una lista\n",
    "def eliminar_palabras(lista):\n",
    "    for x in range(0, len(lista_eliminar)):\n",
    "        if lista_eliminar[x] in lista:\n",
    "            lista.remove(lista_eliminar[x])            \n",
    "    return lista\n",
    "\n",
    "# Aplicar la limpieza en la columna 'Author Keywords' si existe\n",
    "if 'Author Keywords' in dfA.columns:\n",
    "    dfA['Author Keywords'] = dfA['Author Keywords'].astype(str)\n",
    "    dfA['Author Keywords'] = dfA['Author Keywords'].str.lower()\n",
    "    dfA['key_words_non_spot'] = dfA['Author Keywords'].apply(lambda x: clean_text(x))\n",
    "\n",
    "# Aplicar la limpieza en la columna 'Title' si existe\n",
    "if 'Title' in dfA.columns:\n",
    "    dfA['Title'] = dfA['Title'].astype(str)\n",
    "    dfA['Title'] = dfA['Title'].str.lower()\n",
    "    dfA['title_non_spot'] = dfA['Title'].apply(lambda x: clean_text(x))\n",
    "\n",
    "# Aplicar la limpieza en la columna 'Abstract' si existe\n",
    "if 'Abstract' in dfA.columns:\n",
    "    dfA['Abstract'] = dfA['Abstract'].astype(str)\n",
    "    dfA['Abstract'] = dfA['Abstract'].str.lower()\n",
    "    dfA['abstract_non_spot'] = dfA['Abstract'].apply(lambda x: clean_text(x))\n"
   ]
  },
  {
   "cell_type": "markdown",
   "id": "3d01aa44",
   "metadata": {},
   "source": [
    "# 12 Aplicar método lemmatize o stemming"
   ]
  },
  {
   "cell_type": "code",
   "execution_count": 13,
   "id": "50cf4622",
   "metadata": {},
   "outputs": [],
   "source": [
    "# Función que lematiza las palabras en un texto tokenizado\n",
    "def lemmatization(token_txt):\n",
    "    text = [wn.lemmatize(word) for word in token_txt]\n",
    "    return text\n",
    "\n",
    "# Función que aplica stemming en un texto tokenizado\n",
    "def stemming(token_txt):\n",
    "    text = [ps.stem(word) for word in token_txt]\n",
    "    return text\n",
    "\n",
    "# Aplicar lematización o stemming en función del valor de 'metodo'\n",
    "if metodo == 1:\n",
    "    met = 'lemmatize'\n",
    "    # Aplicar lematización a las columnas 'key_words_non_spot', 'title_non_spot' y 'abstract_non_spot'\n",
    "    processing_function = lemmatization\n",
    "else:\n",
    "    met = 'stemming'\n",
    "    # Aplicar stemming a las columnas 'key_words_non_spot', 'title_non_spot' y 'abstract_non_spot'\n",
    "    processing_function = stemming\n",
    "\n",
    "# Crear columnas 'key_words_metodo', 'title_metodo' y 'abstract_metodo'\n",
    "for column in ['key_words_non_spot', 'title_non_spot', 'abstract_non_spot']:\n",
    "    dfA[f'{column[:-9]}_metodo'] = dfA[column].apply(processing_function)\n",
    "    dfA[f'{column[:-9]}_metodo'] = dfA[f'{column[:-9]}_metodo'].apply(lambda x: list(set(x)))\n",
    "    dfA[f'{column[:-9]}_metodo'] = dfA[f'{column[:-9]}_metodo'].apply(eliminar_palabras)\n",
    "\n",
    "# Funciones para combinar palabras de diferentes columnas\n",
    "def combinar_title_key(row):\n",
    "    return row['title_metodo'] + row['key_words_metodo']\n",
    "\n",
    "def combinar_title_abs(row):\n",
    "    return row['title_metodo'] + row['abstract_metodo']\n",
    "\n",
    "def combinar_key_abs(row):\n",
    "    return row['key_words_metodo'] + row['abstract_metodo']\n",
    "\n",
    "def combinar_title_abs_key(row):\n",
    "    return row['title_metodo'] + row['abstract_metodo'] + row['key_words_metodo']\n",
    "\n",
    "# Combinar palabras en nuevas columnas y eliminar duplicados\n",
    "combinations = {\n",
    "    'title_key_metodo': combinar_title_key,\n",
    "    'title_abs_metodo': combinar_title_abs,\n",
    "    'key_abs_metodo': combinar_key_abs,\n",
    "    'title_abs_key_metodo': combinar_title_abs_key\n",
    "}\n",
    "\n",
    "for column, comb_function in combinations.items():\n",
    "    dfA[column] = dfA.apply(comb_function, axis=1)\n",
    "    dfA[column] = dfA[column].apply(lambda x: list(set(x)))\n",
    "\n",
    "# Crear listas y diccionarios para mapear campos y nombres\n",
    "lista_campos = ['key_words_metodo', 'title_metodo', 'abstract_metodo', 'title_key_metodo', 'title_abs_metodo', 'key_abs_metodo', 'title_abs_key_metodo']\n",
    "nombre_campos = ['PALABRAS CLAVE', 'TÍTULOS', 'RESÚMENES', 'TÍTULO - PALABRAS CLAVE', 'TÍTULO - RESÚMENES', 'PALABRAS CLAVE - RESÚMENES', 'TÍTULO - PALABRAS CLAVE - RESÚMENES']\n",
    "dic_campo_a_contar_palabras = dict(zip(dic_campo_a_analizar.values(), lista_campos))\n",
    "dic_nombres_campo = dict(zip(dic_campo_a_analizar.values(), nombre_campos))\n",
    "\n",
    "# Imprimir mapeo de campos y nombres\n"
   ]
  },
  {
   "cell_type": "markdown",
   "id": "1d00f571",
   "metadata": {},
   "source": [
    "## 13 Cálculo de los promedios de los campos analizados"
   ]
  },
  {
   "cell_type": "code",
   "execution_count": 14,
   "id": "b19539f2",
   "metadata": {},
   "outputs": [
    {
     "name": "stdout",
     "output_type": "stream",
     "text": [
      "El promedio del largo de las listas en la columna 'title_key_metodo' es: 12.427385892116183\n",
      "El promedio del largo de las listas en la columna 'title_metodo' es: 8.53941908713693\n",
      "El promedio del largo de las listas en la columna 'abstract_metodo' es: 49.24066390041494\n",
      "El promedio del largo de las listas en la columna 'title_key_metodo' es: 12.427385892116183\n",
      "El promedio del largo de las listas en la columna 'title_abs_metodo' es: 52.97925311203319\n",
      "El promedio del largo de las listas en la columna 'key_abs_metodo' es: 51.190871369294605\n",
      "El promedio del largo de las listas en la columna 'title_abs_key_metodo' es: 54.67634854771784\n"
     ]
    }
   ],
   "source": [
    "import numpy as np\n",
    "\n",
    "# Convertir cada lista en su longitud correspondiente\n",
    "lengths_key = dfA['title_key_metodo'].map(lambda x: len(x))  # Longitudes de la columna 'title_key_metodo'\n",
    "lengths_title_metodo = dfA['title_metodo'].map(lambda x: len(x))  # Longitudes de la columna 'title_metodo'\n",
    "lengths_abstract_metodo = dfA['abstract_metodo'].map(lambda x: len(x))  # Longitudes de la columna 'abstract_metodo'\n",
    "lengths_title_key = dfA['title_key_metodo'].map(lambda x: len(x))  # Longitudes de la columna 'title_key_metodo'\n",
    "lengths_title_abs_metodo = dfA['title_abs_metodo'].map(lambda x: len(x))  # Longitudes de la columna 'title_abs_metodo'\n",
    "lengths_key_abs_metodo = dfA['key_abs_metodo'].map(lambda x: len(x))  # Longitudes de la columna 'key_abs_metodo'\n",
    "lengths_title_abs_key_metodo = dfA['title_abs_key_metodo'].map(lambda x: len(x))  # Longitudes de la columna 'title_abs_key_metodo'\n",
    "\n",
    "# Calcular el promedio de las longitudes\n",
    "avg_lengths_key = np.mean(lengths_key)\n",
    "avg_lengths_title_metodo = np.mean(lengths_title_metodo)\n",
    "avg_lengths_abstract_metodo = np.mean(lengths_abstract_metodo)\n",
    "avg_lengths_title_key = np.mean(lengths_title_key)\n",
    "avg_lengths_title_abs_metodo = np.mean(lengths_title_abs_metodo)\n",
    "avg_lengths_key_abs_metodo = np.mean(lengths_key_abs_metodo)\n",
    "avg_lengths_title_abs_key_metodo = np.mean(lengths_title_abs_key_metodo)\n",
    "\n",
    "# Imprimir promedios de las longitudes\n",
    "print(\"El promedio del largo de las listas en la columna 'title_key_metodo' es:\", avg_lengths_key)\n",
    "print(\"El promedio del largo de las listas en la columna 'title_metodo' es:\", avg_lengths_title_metodo)\n",
    "print(\"El promedio del largo de las listas en la columna 'abstract_metodo' es:\", avg_lengths_abstract_metodo)\n",
    "print(\"El promedio del largo de las listas en la columna 'title_key_metodo' es:\", avg_lengths_title_key)\n",
    "print(\"El promedio del largo de las listas en la columna 'title_abs_metodo' es:\", avg_lengths_title_abs_metodo)\n",
    "print(\"El promedio del largo de las listas en la columna 'key_abs_metodo' es:\", avg_lengths_key_abs_metodo)\n",
    "print(\"El promedio del largo de las listas en la columna 'title_abs_key_metodo' es:\", avg_lengths_title_abs_key_metodo)\n"
   ]
  },
  {
   "cell_type": "markdown",
   "id": "079bd281",
   "metadata": {},
   "source": [
    "# 14 Definir nombre de campos a analizar"
   ]
  },
  {
   "cell_type": "code",
   "execution_count": 15,
   "id": "bea8dee2",
   "metadata": {},
   "outputs": [
    {
     "name": "stdout",
     "output_type": "stream",
     "text": [
      "key_words_metodo\n",
      "parejas_key_words\n",
      "PALABRAS CLAVE\n"
     ]
    }
   ],
   "source": [
    "# Diccionario para mapear las variables en función de campo_a_analizar\n",
    "campo_a_analizar_dict = {\n",
    "    1: ('key_words_metodo', 'parejas_key_words', 'PALABRAS CLAVE'),\n",
    "    2: ('title_metodo', 'parejas_title', 'TÍTULOS'),\n",
    "    3: ('abstract_metodo', 'parejas_abstract', 'RESÚMENES'),\n",
    "    4: ('title_key_metodo', 'parejas_title_key', 'PALABRAS CLAVE y TÍTULOS'),\n",
    "    5: ('title_abs_metodo', 'parejas_title_abs', 'TÍTULOS y RESÚMENES'),\n",
    "    6: ('key_abs_metodo', 'parejas_key_abs', 'PALABRAS CLAVE y RESÚMENES'),\n",
    "    7: ('title_abs_key_metodo', 'parejas_title_abs_key', 'TÍTULOS, PALABRAS CLAVE y RESÚMENES')\n",
    "}\n",
    "\n",
    "# Asignar las variables usando el diccionario y campo_a_analizar\n",
    "campo_para_nodos_grafo, campo_para_aristas_grafo, nombre_de_campo_analizado = campo_a_analizar_dict.get(campo_a_analizar)\n",
    "\n",
    "# Imprimir las variables asignadas\n",
    "print(campo_para_nodos_grafo)\n",
    "print(campo_para_aristas_grafo)\n",
    "print(nombre_de_campo_analizado)\n"
   ]
  },
  {
   "cell_type": "markdown",
   "id": "99939356",
   "metadata": {},
   "source": [
    "# 15 Conteo y gráfica del método aplicado al campo elegido"
   ]
  },
  {
   "cell_type": "code",
   "execution_count": 16,
   "id": "dead94b5",
   "metadata": {},
   "outputs": [
    {
     "data": {
      "application/vnd.plotly.v1+json": {
       "config": {
        "plotlyServerURL": "https://plot.ly"
       },
       "data": [
        {
         "alignmentgroup": "True",
         "hovertemplate": "x=%{x}<br>y=%{y}<br>text=%{text}<extra></extra>",
         "legendgroup": "",
         "marker": {
          "color": "rgb(76,114,176)",
          "pattern": {
           "shape": ""
          }
         },
         "name": "",
         "offsetgroup": "",
         "orientation": "h",
         "showlegend": false,
         "text": [
          "58 (24.1%)",
          "45 (18.7%)",
          "43 (17.8%)",
          "38 (15.8%)",
          "36 (14.9%)",
          "25 (10.4%)",
          "22 (9.1%)",
          "21 (8.7%)",
          "18 (7.5%)",
          "18 (7.5%)",
          "16 (6.6%)",
          "15 (6.2%)",
          "14 (5.8%)",
          "13 (5.4%)",
          "13 (5.4%)",
          "12 (5.0%)",
          "12 (5.0%)",
          "12 (5.0%)",
          "11 (4.6%)",
          "11 (4.6%)",
          "11 (4.6%)",
          "10 (4.1%)",
          "10 (4.1%)",
          "10 (4.1%)",
          "10 (4.1%)",
          "10 (4.1%)",
          "10 (4.1%)",
          "9 (3.7%)",
          "9 (3.7%)",
          "9 (3.7%)",
          "9 (3.7%)",
          "8 (3.3%)",
          "8 (3.3%)",
          "8 (3.3%)"
         ],
         "textfont": {
          "size": 14
         },
         "textposition": "outside",
         "type": "bar",
         "x": [
          58,
          45,
          43,
          38,
          36,
          25,
          22,
          21,
          18,
          18,
          16,
          15,
          14,
          13,
          13,
          12,
          12,
          12,
          11,
          11,
          11,
          10,
          10,
          10,
          10,
          10,
          10,
          9,
          9,
          9,
          9,
          8,
          8,
          8
         ],
         "xaxis": "x",
         "y": [
          "mathematics",
          "education",
          "teacher",
          "teaching",
          "mathematical",
          "learning",
          "problem",
          "knowledge",
          "geometry",
          "space",
          "working",
          "solving",
          "modeling",
          "professional",
          "thinking",
          "practice",
          "theory",
          "training",
          "reasoning",
          "school",
          "strategy",
          "algebra",
          "analysis",
          "didactic",
          "function",
          "meaning",
          "representation",
          "activity",
          "level",
          "model",
          "secondary",
          "development",
          "dynamic",
          "history"
         ],
         "yaxis": "y"
        }
       ],
       "layout": {
        "barmode": "relative",
        "font": {
         "size": 9
        },
        "legend": {
         "tracegroupgap": 0
        },
        "margin": {
         "t": 60
        },
        "template": {
         "data": {
          "bar": [
           {
            "error_x": {
             "color": "rgb(36,36,36)"
            },
            "error_y": {
             "color": "rgb(36,36,36)"
            },
            "marker": {
             "line": {
              "color": "rgb(234,234,242)",
              "width": 0.5
             },
             "pattern": {
              "fillmode": "overlay",
              "size": 10,
              "solidity": 0.2
             }
            },
            "type": "bar"
           }
          ],
          "barpolar": [
           {
            "marker": {
             "line": {
              "color": "rgb(234,234,242)",
              "width": 0.5
             },
             "pattern": {
              "fillmode": "overlay",
              "size": 10,
              "solidity": 0.2
             }
            },
            "type": "barpolar"
           }
          ],
          "carpet": [
           {
            "aaxis": {
             "endlinecolor": "rgb(36,36,36)",
             "gridcolor": "white",
             "linecolor": "white",
             "minorgridcolor": "white",
             "startlinecolor": "rgb(36,36,36)"
            },
            "baxis": {
             "endlinecolor": "rgb(36,36,36)",
             "gridcolor": "white",
             "linecolor": "white",
             "minorgridcolor": "white",
             "startlinecolor": "rgb(36,36,36)"
            },
            "type": "carpet"
           }
          ],
          "choropleth": [
           {
            "colorbar": {
             "outlinewidth": 0,
             "tickcolor": "rgb(36,36,36)",
             "ticklen": 8,
             "ticks": "outside",
             "tickwidth": 2
            },
            "type": "choropleth"
           }
          ],
          "contour": [
           {
            "colorbar": {
             "outlinewidth": 0,
             "tickcolor": "rgb(36,36,36)",
             "ticklen": 8,
             "ticks": "outside",
             "tickwidth": 2
            },
            "colorscale": [
             [
              0,
              "rgb(2,4,25)"
             ],
             [
              0.06274509803921569,
              "rgb(24,15,41)"
             ],
             [
              0.12549019607843137,
              "rgb(47,23,57)"
             ],
             [
              0.18823529411764706,
              "rgb(71,28,72)"
             ],
             [
              0.25098039215686274,
              "rgb(97,30,82)"
             ],
             [
              0.3137254901960784,
              "rgb(123,30,89)"
             ],
             [
              0.3764705882352941,
              "rgb(150,27,91)"
             ],
             [
              0.4392156862745098,
              "rgb(177,22,88)"
             ],
             [
              0.5019607843137255,
              "rgb(203,26,79)"
             ],
             [
              0.5647058823529412,
              "rgb(223,47,67)"
             ],
             [
              0.6274509803921569,
              "rgb(236,76,61)"
             ],
             [
              0.6901960784313725,
              "rgb(242,107,73)"
             ],
             [
              0.7529411764705882,
              "rgb(244,135,95)"
             ],
             [
              0.8156862745098039,
              "rgb(245,162,122)"
             ],
             [
              0.8784313725490196,
              "rgb(246,188,153)"
             ],
             [
              0.9411764705882353,
              "rgb(247,212,187)"
             ],
             [
              1,
              "rgb(250,234,220)"
             ]
            ],
            "type": "contour"
           }
          ],
          "contourcarpet": [
           {
            "colorbar": {
             "outlinewidth": 0,
             "tickcolor": "rgb(36,36,36)",
             "ticklen": 8,
             "ticks": "outside",
             "tickwidth": 2
            },
            "type": "contourcarpet"
           }
          ],
          "heatmap": [
           {
            "colorbar": {
             "outlinewidth": 0,
             "tickcolor": "rgb(36,36,36)",
             "ticklen": 8,
             "ticks": "outside",
             "tickwidth": 2
            },
            "colorscale": [
             [
              0,
              "rgb(2,4,25)"
             ],
             [
              0.06274509803921569,
              "rgb(24,15,41)"
             ],
             [
              0.12549019607843137,
              "rgb(47,23,57)"
             ],
             [
              0.18823529411764706,
              "rgb(71,28,72)"
             ],
             [
              0.25098039215686274,
              "rgb(97,30,82)"
             ],
             [
              0.3137254901960784,
              "rgb(123,30,89)"
             ],
             [
              0.3764705882352941,
              "rgb(150,27,91)"
             ],
             [
              0.4392156862745098,
              "rgb(177,22,88)"
             ],
             [
              0.5019607843137255,
              "rgb(203,26,79)"
             ],
             [
              0.5647058823529412,
              "rgb(223,47,67)"
             ],
             [
              0.6274509803921569,
              "rgb(236,76,61)"
             ],
             [
              0.6901960784313725,
              "rgb(242,107,73)"
             ],
             [
              0.7529411764705882,
              "rgb(244,135,95)"
             ],
             [
              0.8156862745098039,
              "rgb(245,162,122)"
             ],
             [
              0.8784313725490196,
              "rgb(246,188,153)"
             ],
             [
              0.9411764705882353,
              "rgb(247,212,187)"
             ],
             [
              1,
              "rgb(250,234,220)"
             ]
            ],
            "type": "heatmap"
           }
          ],
          "heatmapgl": [
           {
            "colorbar": {
             "outlinewidth": 0,
             "tickcolor": "rgb(36,36,36)",
             "ticklen": 8,
             "ticks": "outside",
             "tickwidth": 2
            },
            "colorscale": [
             [
              0,
              "rgb(2,4,25)"
             ],
             [
              0.06274509803921569,
              "rgb(24,15,41)"
             ],
             [
              0.12549019607843137,
              "rgb(47,23,57)"
             ],
             [
              0.18823529411764706,
              "rgb(71,28,72)"
             ],
             [
              0.25098039215686274,
              "rgb(97,30,82)"
             ],
             [
              0.3137254901960784,
              "rgb(123,30,89)"
             ],
             [
              0.3764705882352941,
              "rgb(150,27,91)"
             ],
             [
              0.4392156862745098,
              "rgb(177,22,88)"
             ],
             [
              0.5019607843137255,
              "rgb(203,26,79)"
             ],
             [
              0.5647058823529412,
              "rgb(223,47,67)"
             ],
             [
              0.6274509803921569,
              "rgb(236,76,61)"
             ],
             [
              0.6901960784313725,
              "rgb(242,107,73)"
             ],
             [
              0.7529411764705882,
              "rgb(244,135,95)"
             ],
             [
              0.8156862745098039,
              "rgb(245,162,122)"
             ],
             [
              0.8784313725490196,
              "rgb(246,188,153)"
             ],
             [
              0.9411764705882353,
              "rgb(247,212,187)"
             ],
             [
              1,
              "rgb(250,234,220)"
             ]
            ],
            "type": "heatmapgl"
           }
          ],
          "histogram": [
           {
            "marker": {
             "pattern": {
              "fillmode": "overlay",
              "size": 10,
              "solidity": 0.2
             }
            },
            "type": "histogram"
           }
          ],
          "histogram2d": [
           {
            "colorbar": {
             "outlinewidth": 0,
             "tickcolor": "rgb(36,36,36)",
             "ticklen": 8,
             "ticks": "outside",
             "tickwidth": 2
            },
            "colorscale": [
             [
              0,
              "rgb(2,4,25)"
             ],
             [
              0.06274509803921569,
              "rgb(24,15,41)"
             ],
             [
              0.12549019607843137,
              "rgb(47,23,57)"
             ],
             [
              0.18823529411764706,
              "rgb(71,28,72)"
             ],
             [
              0.25098039215686274,
              "rgb(97,30,82)"
             ],
             [
              0.3137254901960784,
              "rgb(123,30,89)"
             ],
             [
              0.3764705882352941,
              "rgb(150,27,91)"
             ],
             [
              0.4392156862745098,
              "rgb(177,22,88)"
             ],
             [
              0.5019607843137255,
              "rgb(203,26,79)"
             ],
             [
              0.5647058823529412,
              "rgb(223,47,67)"
             ],
             [
              0.6274509803921569,
              "rgb(236,76,61)"
             ],
             [
              0.6901960784313725,
              "rgb(242,107,73)"
             ],
             [
              0.7529411764705882,
              "rgb(244,135,95)"
             ],
             [
              0.8156862745098039,
              "rgb(245,162,122)"
             ],
             [
              0.8784313725490196,
              "rgb(246,188,153)"
             ],
             [
              0.9411764705882353,
              "rgb(247,212,187)"
             ],
             [
              1,
              "rgb(250,234,220)"
             ]
            ],
            "type": "histogram2d"
           }
          ],
          "histogram2dcontour": [
           {
            "colorbar": {
             "outlinewidth": 0,
             "tickcolor": "rgb(36,36,36)",
             "ticklen": 8,
             "ticks": "outside",
             "tickwidth": 2
            },
            "colorscale": [
             [
              0,
              "rgb(2,4,25)"
             ],
             [
              0.06274509803921569,
              "rgb(24,15,41)"
             ],
             [
              0.12549019607843137,
              "rgb(47,23,57)"
             ],
             [
              0.18823529411764706,
              "rgb(71,28,72)"
             ],
             [
              0.25098039215686274,
              "rgb(97,30,82)"
             ],
             [
              0.3137254901960784,
              "rgb(123,30,89)"
             ],
             [
              0.3764705882352941,
              "rgb(150,27,91)"
             ],
             [
              0.4392156862745098,
              "rgb(177,22,88)"
             ],
             [
              0.5019607843137255,
              "rgb(203,26,79)"
             ],
             [
              0.5647058823529412,
              "rgb(223,47,67)"
             ],
             [
              0.6274509803921569,
              "rgb(236,76,61)"
             ],
             [
              0.6901960784313725,
              "rgb(242,107,73)"
             ],
             [
              0.7529411764705882,
              "rgb(244,135,95)"
             ],
             [
              0.8156862745098039,
              "rgb(245,162,122)"
             ],
             [
              0.8784313725490196,
              "rgb(246,188,153)"
             ],
             [
              0.9411764705882353,
              "rgb(247,212,187)"
             ],
             [
              1,
              "rgb(250,234,220)"
             ]
            ],
            "type": "histogram2dcontour"
           }
          ],
          "mesh3d": [
           {
            "colorbar": {
             "outlinewidth": 0,
             "tickcolor": "rgb(36,36,36)",
             "ticklen": 8,
             "ticks": "outside",
             "tickwidth": 2
            },
            "type": "mesh3d"
           }
          ],
          "parcoords": [
           {
            "line": {
             "colorbar": {
              "outlinewidth": 0,
              "tickcolor": "rgb(36,36,36)",
              "ticklen": 8,
              "ticks": "outside",
              "tickwidth": 2
             }
            },
            "type": "parcoords"
           }
          ],
          "pie": [
           {
            "automargin": true,
            "type": "pie"
           }
          ],
          "scatter": [
           {
            "fillpattern": {
             "fillmode": "overlay",
             "size": 10,
             "solidity": 0.2
            },
            "type": "scatter"
           }
          ],
          "scatter3d": [
           {
            "line": {
             "colorbar": {
              "outlinewidth": 0,
              "tickcolor": "rgb(36,36,36)",
              "ticklen": 8,
              "ticks": "outside",
              "tickwidth": 2
             }
            },
            "marker": {
             "colorbar": {
              "outlinewidth": 0,
              "tickcolor": "rgb(36,36,36)",
              "ticklen": 8,
              "ticks": "outside",
              "tickwidth": 2
             }
            },
            "type": "scatter3d"
           }
          ],
          "scattercarpet": [
           {
            "marker": {
             "colorbar": {
              "outlinewidth": 0,
              "tickcolor": "rgb(36,36,36)",
              "ticklen": 8,
              "ticks": "outside",
              "tickwidth": 2
             }
            },
            "type": "scattercarpet"
           }
          ],
          "scattergeo": [
           {
            "marker": {
             "colorbar": {
              "outlinewidth": 0,
              "tickcolor": "rgb(36,36,36)",
              "ticklen": 8,
              "ticks": "outside",
              "tickwidth": 2
             }
            },
            "type": "scattergeo"
           }
          ],
          "scattergl": [
           {
            "marker": {
             "colorbar": {
              "outlinewidth": 0,
              "tickcolor": "rgb(36,36,36)",
              "ticklen": 8,
              "ticks": "outside",
              "tickwidth": 2
             }
            },
            "type": "scattergl"
           }
          ],
          "scattermapbox": [
           {
            "marker": {
             "colorbar": {
              "outlinewidth": 0,
              "tickcolor": "rgb(36,36,36)",
              "ticklen": 8,
              "ticks": "outside",
              "tickwidth": 2
             }
            },
            "type": "scattermapbox"
           }
          ],
          "scatterpolar": [
           {
            "marker": {
             "colorbar": {
              "outlinewidth": 0,
              "tickcolor": "rgb(36,36,36)",
              "ticklen": 8,
              "ticks": "outside",
              "tickwidth": 2
             }
            },
            "type": "scatterpolar"
           }
          ],
          "scatterpolargl": [
           {
            "marker": {
             "colorbar": {
              "outlinewidth": 0,
              "tickcolor": "rgb(36,36,36)",
              "ticklen": 8,
              "ticks": "outside",
              "tickwidth": 2
             }
            },
            "type": "scatterpolargl"
           }
          ],
          "scatterternary": [
           {
            "marker": {
             "colorbar": {
              "outlinewidth": 0,
              "tickcolor": "rgb(36,36,36)",
              "ticklen": 8,
              "ticks": "outside",
              "tickwidth": 2
             }
            },
            "type": "scatterternary"
           }
          ],
          "surface": [
           {
            "colorbar": {
             "outlinewidth": 0,
             "tickcolor": "rgb(36,36,36)",
             "ticklen": 8,
             "ticks": "outside",
             "tickwidth": 2
            },
            "colorscale": [
             [
              0,
              "rgb(2,4,25)"
             ],
             [
              0.06274509803921569,
              "rgb(24,15,41)"
             ],
             [
              0.12549019607843137,
              "rgb(47,23,57)"
             ],
             [
              0.18823529411764706,
              "rgb(71,28,72)"
             ],
             [
              0.25098039215686274,
              "rgb(97,30,82)"
             ],
             [
              0.3137254901960784,
              "rgb(123,30,89)"
             ],
             [
              0.3764705882352941,
              "rgb(150,27,91)"
             ],
             [
              0.4392156862745098,
              "rgb(177,22,88)"
             ],
             [
              0.5019607843137255,
              "rgb(203,26,79)"
             ],
             [
              0.5647058823529412,
              "rgb(223,47,67)"
             ],
             [
              0.6274509803921569,
              "rgb(236,76,61)"
             ],
             [
              0.6901960784313725,
              "rgb(242,107,73)"
             ],
             [
              0.7529411764705882,
              "rgb(244,135,95)"
             ],
             [
              0.8156862745098039,
              "rgb(245,162,122)"
             ],
             [
              0.8784313725490196,
              "rgb(246,188,153)"
             ],
             [
              0.9411764705882353,
              "rgb(247,212,187)"
             ],
             [
              1,
              "rgb(250,234,220)"
             ]
            ],
            "type": "surface"
           }
          ],
          "table": [
           {
            "cells": {
             "fill": {
              "color": "rgb(231,231,240)"
             },
             "line": {
              "color": "white"
             }
            },
            "header": {
             "fill": {
              "color": "rgb(183,183,191)"
             },
             "line": {
              "color": "white"
             }
            },
            "type": "table"
           }
          ]
         },
         "layout": {
          "annotationdefaults": {
           "arrowcolor": "rgb(67,103,167)"
          },
          "autotypenumbers": "strict",
          "coloraxis": {
           "colorbar": {
            "outlinewidth": 0,
            "tickcolor": "rgb(36,36,36)",
            "ticklen": 8,
            "ticks": "outside",
            "tickwidth": 2
           }
          },
          "colorscale": {
           "sequential": [
            [
             0,
             "rgb(2,4,25)"
            ],
            [
             0.06274509803921569,
             "rgb(24,15,41)"
            ],
            [
             0.12549019607843137,
             "rgb(47,23,57)"
            ],
            [
             0.18823529411764706,
             "rgb(71,28,72)"
            ],
            [
             0.25098039215686274,
             "rgb(97,30,82)"
            ],
            [
             0.3137254901960784,
             "rgb(123,30,89)"
            ],
            [
             0.3764705882352941,
             "rgb(150,27,91)"
            ],
            [
             0.4392156862745098,
             "rgb(177,22,88)"
            ],
            [
             0.5019607843137255,
             "rgb(203,26,79)"
            ],
            [
             0.5647058823529412,
             "rgb(223,47,67)"
            ],
            [
             0.6274509803921569,
             "rgb(236,76,61)"
            ],
            [
             0.6901960784313725,
             "rgb(242,107,73)"
            ],
            [
             0.7529411764705882,
             "rgb(244,135,95)"
            ],
            [
             0.8156862745098039,
             "rgb(245,162,122)"
            ],
            [
             0.8784313725490196,
             "rgb(246,188,153)"
            ],
            [
             0.9411764705882353,
             "rgb(247,212,187)"
            ],
            [
             1,
             "rgb(250,234,220)"
            ]
           ],
           "sequentialminus": [
            [
             0,
             "rgb(2,4,25)"
            ],
            [
             0.06274509803921569,
             "rgb(24,15,41)"
            ],
            [
             0.12549019607843137,
             "rgb(47,23,57)"
            ],
            [
             0.18823529411764706,
             "rgb(71,28,72)"
            ],
            [
             0.25098039215686274,
             "rgb(97,30,82)"
            ],
            [
             0.3137254901960784,
             "rgb(123,30,89)"
            ],
            [
             0.3764705882352941,
             "rgb(150,27,91)"
            ],
            [
             0.4392156862745098,
             "rgb(177,22,88)"
            ],
            [
             0.5019607843137255,
             "rgb(203,26,79)"
            ],
            [
             0.5647058823529412,
             "rgb(223,47,67)"
            ],
            [
             0.6274509803921569,
             "rgb(236,76,61)"
            ],
            [
             0.6901960784313725,
             "rgb(242,107,73)"
            ],
            [
             0.7529411764705882,
             "rgb(244,135,95)"
            ],
            [
             0.8156862745098039,
             "rgb(245,162,122)"
            ],
            [
             0.8784313725490196,
             "rgb(246,188,153)"
            ],
            [
             0.9411764705882353,
             "rgb(247,212,187)"
            ],
            [
             1,
             "rgb(250,234,220)"
            ]
           ]
          },
          "colorway": [
           "rgb(76,114,176)",
           "rgb(221,132,82)",
           "rgb(85,168,104)",
           "rgb(196,78,82)",
           "rgb(129,114,179)",
           "rgb(147,120,96)",
           "rgb(218,139,195)",
           "rgb(140,140,140)",
           "rgb(204,185,116)",
           "rgb(100,181,205)"
          ],
          "font": {
           "color": "rgb(36,36,36)"
          },
          "geo": {
           "bgcolor": "white",
           "lakecolor": "white",
           "landcolor": "rgb(234,234,242)",
           "showlakes": true,
           "showland": true,
           "subunitcolor": "white"
          },
          "hoverlabel": {
           "align": "left"
          },
          "hovermode": "closest",
          "paper_bgcolor": "white",
          "plot_bgcolor": "rgb(234,234,242)",
          "polar": {
           "angularaxis": {
            "gridcolor": "white",
            "linecolor": "white",
            "showgrid": true,
            "ticks": ""
           },
           "bgcolor": "rgb(234,234,242)",
           "radialaxis": {
            "gridcolor": "white",
            "linecolor": "white",
            "showgrid": true,
            "ticks": ""
           }
          },
          "scene": {
           "xaxis": {
            "backgroundcolor": "rgb(234,234,242)",
            "gridcolor": "white",
            "gridwidth": 2,
            "linecolor": "white",
            "showbackground": true,
            "showgrid": true,
            "ticks": "",
            "zerolinecolor": "white"
           },
           "yaxis": {
            "backgroundcolor": "rgb(234,234,242)",
            "gridcolor": "white",
            "gridwidth": 2,
            "linecolor": "white",
            "showbackground": true,
            "showgrid": true,
            "ticks": "",
            "zerolinecolor": "white"
           },
           "zaxis": {
            "backgroundcolor": "rgb(234,234,242)",
            "gridcolor": "white",
            "gridwidth": 2,
            "linecolor": "white",
            "showbackground": true,
            "showgrid": true,
            "ticks": "",
            "zerolinecolor": "white"
           }
          },
          "shapedefaults": {
           "fillcolor": "rgb(67,103,167)",
           "line": {
            "width": 0
           },
           "opacity": 0.5
          },
          "ternary": {
           "aaxis": {
            "gridcolor": "white",
            "linecolor": "white",
            "showgrid": true,
            "ticks": ""
           },
           "baxis": {
            "gridcolor": "white",
            "linecolor": "white",
            "showgrid": true,
            "ticks": ""
           },
           "bgcolor": "rgb(234,234,242)",
           "caxis": {
            "gridcolor": "white",
            "linecolor": "white",
            "showgrid": true,
            "ticks": ""
           }
          },
          "xaxis": {
           "automargin": true,
           "gridcolor": "white",
           "linecolor": "white",
           "showgrid": true,
           "ticks": "",
           "title": {
            "standoff": 15
           },
           "zerolinecolor": "white"
          },
          "yaxis": {
           "automargin": true,
           "gridcolor": "white",
           "linecolor": "white",
           "showgrid": true,
           "ticks": "",
           "title": {
            "standoff": 15
           },
           "zerolinecolor": "white"
          }
         }
        },
        "title": {
         "text": "35 palabras clave más frecuentes de RELIME"
        },
        "xaxis": {
         "anchor": "y",
         "domain": [
          0,
          1
         ],
         "range": [
          0,
          72.5
         ],
         "tickangle": 35,
         "title": {
          "text": "frecuencia"
         }
        },
        "yaxis": {
         "anchor": "x",
         "domain": [
          0,
          1
         ],
         "title": {
          "text": "palabras más frecuentes"
         }
        }
       }
      },
      "text/html": [
       "<div>                            <div id=\"ebe39c97-3adb-428e-a1cd-3c7155cfe7da\" class=\"plotly-graph-div\" style=\"height:525px; width:100%;\"></div>            <script type=\"text/javascript\">                require([\"plotly\"], function(Plotly) {                    window.PLOTLYENV=window.PLOTLYENV || {};                                    if (document.getElementById(\"ebe39c97-3adb-428e-a1cd-3c7155cfe7da\")) {                    Plotly.newPlot(                        \"ebe39c97-3adb-428e-a1cd-3c7155cfe7da\",                        [{\"alignmentgroup\":\"True\",\"hovertemplate\":\"x=%{x}<br>y=%{y}<br>text=%{text}<extra></extra>\",\"legendgroup\":\"\",\"marker\":{\"color\":\"rgb(76,114,176)\",\"pattern\":{\"shape\":\"\"}},\"name\":\"\",\"offsetgroup\":\"\",\"orientation\":\"h\",\"showlegend\":false,\"text\":[\"58 (24.1%)\",\"45 (18.7%)\",\"43 (17.8%)\",\"38 (15.8%)\",\"36 (14.9%)\",\"25 (10.4%)\",\"22 (9.1%)\",\"21 (8.7%)\",\"18 (7.5%)\",\"18 (7.5%)\",\"16 (6.6%)\",\"15 (6.2%)\",\"14 (5.8%)\",\"13 (5.4%)\",\"13 (5.4%)\",\"12 (5.0%)\",\"12 (5.0%)\",\"12 (5.0%)\",\"11 (4.6%)\",\"11 (4.6%)\",\"11 (4.6%)\",\"10 (4.1%)\",\"10 (4.1%)\",\"10 (4.1%)\",\"10 (4.1%)\",\"10 (4.1%)\",\"10 (4.1%)\",\"9 (3.7%)\",\"9 (3.7%)\",\"9 (3.7%)\",\"9 (3.7%)\",\"8 (3.3%)\",\"8 (3.3%)\",\"8 (3.3%)\"],\"textposition\":\"outside\",\"x\":[58,45,43,38,36,25,22,21,18,18,16,15,14,13,13,12,12,12,11,11,11,10,10,10,10,10,10,9,9,9,9,8,8,8],\"xaxis\":\"x\",\"y\":[\"mathematics\",\"education\",\"teacher\",\"teaching\",\"mathematical\",\"learning\",\"problem\",\"knowledge\",\"geometry\",\"space\",\"working\",\"solving\",\"modeling\",\"professional\",\"thinking\",\"practice\",\"theory\",\"training\",\"reasoning\",\"school\",\"strategy\",\"algebra\",\"analysis\",\"didactic\",\"function\",\"meaning\",\"representation\",\"activity\",\"level\",\"model\",\"secondary\",\"development\",\"dynamic\",\"history\"],\"yaxis\":\"y\",\"type\":\"bar\",\"textfont\":{\"size\":14}}],                        {\"template\":{\"data\":{\"barpolar\":[{\"marker\":{\"line\":{\"color\":\"rgb(234,234,242)\",\"width\":0.5},\"pattern\":{\"fillmode\":\"overlay\",\"size\":10,\"solidity\":0.2}},\"type\":\"barpolar\"}],\"bar\":[{\"error_x\":{\"color\":\"rgb(36,36,36)\"},\"error_y\":{\"color\":\"rgb(36,36,36)\"},\"marker\":{\"line\":{\"color\":\"rgb(234,234,242)\",\"width\":0.5},\"pattern\":{\"fillmode\":\"overlay\",\"size\":10,\"solidity\":0.2}},\"type\":\"bar\"}],\"carpet\":[{\"aaxis\":{\"endlinecolor\":\"rgb(36,36,36)\",\"gridcolor\":\"white\",\"linecolor\":\"white\",\"minorgridcolor\":\"white\",\"startlinecolor\":\"rgb(36,36,36)\"},\"baxis\":{\"endlinecolor\":\"rgb(36,36,36)\",\"gridcolor\":\"white\",\"linecolor\":\"white\",\"minorgridcolor\":\"white\",\"startlinecolor\":\"rgb(36,36,36)\"},\"type\":\"carpet\"}],\"choropleth\":[{\"colorbar\":{\"outlinewidth\":0,\"tickcolor\":\"rgb(36,36,36)\",\"ticklen\":8,\"ticks\":\"outside\",\"tickwidth\":2},\"type\":\"choropleth\"}],\"contourcarpet\":[{\"colorbar\":{\"outlinewidth\":0,\"tickcolor\":\"rgb(36,36,36)\",\"ticklen\":8,\"ticks\":\"outside\",\"tickwidth\":2},\"type\":\"contourcarpet\"}],\"contour\":[{\"colorbar\":{\"outlinewidth\":0,\"tickcolor\":\"rgb(36,36,36)\",\"ticklen\":8,\"ticks\":\"outside\",\"tickwidth\":2},\"colorscale\":[[0.0,\"rgb(2,4,25)\"],[0.06274509803921569,\"rgb(24,15,41)\"],[0.12549019607843137,\"rgb(47,23,57)\"],[0.18823529411764706,\"rgb(71,28,72)\"],[0.25098039215686274,\"rgb(97,30,82)\"],[0.3137254901960784,\"rgb(123,30,89)\"],[0.3764705882352941,\"rgb(150,27,91)\"],[0.4392156862745098,\"rgb(177,22,88)\"],[0.5019607843137255,\"rgb(203,26,79)\"],[0.5647058823529412,\"rgb(223,47,67)\"],[0.6274509803921569,\"rgb(236,76,61)\"],[0.6901960784313725,\"rgb(242,107,73)\"],[0.7529411764705882,\"rgb(244,135,95)\"],[0.8156862745098039,\"rgb(245,162,122)\"],[0.8784313725490196,\"rgb(246,188,153)\"],[0.9411764705882353,\"rgb(247,212,187)\"],[1.0,\"rgb(250,234,220)\"]],\"type\":\"contour\"}],\"heatmapgl\":[{\"colorbar\":{\"outlinewidth\":0,\"tickcolor\":\"rgb(36,36,36)\",\"ticklen\":8,\"ticks\":\"outside\",\"tickwidth\":2},\"colorscale\":[[0.0,\"rgb(2,4,25)\"],[0.06274509803921569,\"rgb(24,15,41)\"],[0.12549019607843137,\"rgb(47,23,57)\"],[0.18823529411764706,\"rgb(71,28,72)\"],[0.25098039215686274,\"rgb(97,30,82)\"],[0.3137254901960784,\"rgb(123,30,89)\"],[0.3764705882352941,\"rgb(150,27,91)\"],[0.4392156862745098,\"rgb(177,22,88)\"],[0.5019607843137255,\"rgb(203,26,79)\"],[0.5647058823529412,\"rgb(223,47,67)\"],[0.6274509803921569,\"rgb(236,76,61)\"],[0.6901960784313725,\"rgb(242,107,73)\"],[0.7529411764705882,\"rgb(244,135,95)\"],[0.8156862745098039,\"rgb(245,162,122)\"],[0.8784313725490196,\"rgb(246,188,153)\"],[0.9411764705882353,\"rgb(247,212,187)\"],[1.0,\"rgb(250,234,220)\"]],\"type\":\"heatmapgl\"}],\"heatmap\":[{\"colorbar\":{\"outlinewidth\":0,\"tickcolor\":\"rgb(36,36,36)\",\"ticklen\":8,\"ticks\":\"outside\",\"tickwidth\":2},\"colorscale\":[[0.0,\"rgb(2,4,25)\"],[0.06274509803921569,\"rgb(24,15,41)\"],[0.12549019607843137,\"rgb(47,23,57)\"],[0.18823529411764706,\"rgb(71,28,72)\"],[0.25098039215686274,\"rgb(97,30,82)\"],[0.3137254901960784,\"rgb(123,30,89)\"],[0.3764705882352941,\"rgb(150,27,91)\"],[0.4392156862745098,\"rgb(177,22,88)\"],[0.5019607843137255,\"rgb(203,26,79)\"],[0.5647058823529412,\"rgb(223,47,67)\"],[0.6274509803921569,\"rgb(236,76,61)\"],[0.6901960784313725,\"rgb(242,107,73)\"],[0.7529411764705882,\"rgb(244,135,95)\"],[0.8156862745098039,\"rgb(245,162,122)\"],[0.8784313725490196,\"rgb(246,188,153)\"],[0.9411764705882353,\"rgb(247,212,187)\"],[1.0,\"rgb(250,234,220)\"]],\"type\":\"heatmap\"}],\"histogram2dcontour\":[{\"colorbar\":{\"outlinewidth\":0,\"tickcolor\":\"rgb(36,36,36)\",\"ticklen\":8,\"ticks\":\"outside\",\"tickwidth\":2},\"colorscale\":[[0.0,\"rgb(2,4,25)\"],[0.06274509803921569,\"rgb(24,15,41)\"],[0.12549019607843137,\"rgb(47,23,57)\"],[0.18823529411764706,\"rgb(71,28,72)\"],[0.25098039215686274,\"rgb(97,30,82)\"],[0.3137254901960784,\"rgb(123,30,89)\"],[0.3764705882352941,\"rgb(150,27,91)\"],[0.4392156862745098,\"rgb(177,22,88)\"],[0.5019607843137255,\"rgb(203,26,79)\"],[0.5647058823529412,\"rgb(223,47,67)\"],[0.6274509803921569,\"rgb(236,76,61)\"],[0.6901960784313725,\"rgb(242,107,73)\"],[0.7529411764705882,\"rgb(244,135,95)\"],[0.8156862745098039,\"rgb(245,162,122)\"],[0.8784313725490196,\"rgb(246,188,153)\"],[0.9411764705882353,\"rgb(247,212,187)\"],[1.0,\"rgb(250,234,220)\"]],\"type\":\"histogram2dcontour\"}],\"histogram2d\":[{\"colorbar\":{\"outlinewidth\":0,\"tickcolor\":\"rgb(36,36,36)\",\"ticklen\":8,\"ticks\":\"outside\",\"tickwidth\":2},\"colorscale\":[[0.0,\"rgb(2,4,25)\"],[0.06274509803921569,\"rgb(24,15,41)\"],[0.12549019607843137,\"rgb(47,23,57)\"],[0.18823529411764706,\"rgb(71,28,72)\"],[0.25098039215686274,\"rgb(97,30,82)\"],[0.3137254901960784,\"rgb(123,30,89)\"],[0.3764705882352941,\"rgb(150,27,91)\"],[0.4392156862745098,\"rgb(177,22,88)\"],[0.5019607843137255,\"rgb(203,26,79)\"],[0.5647058823529412,\"rgb(223,47,67)\"],[0.6274509803921569,\"rgb(236,76,61)\"],[0.6901960784313725,\"rgb(242,107,73)\"],[0.7529411764705882,\"rgb(244,135,95)\"],[0.8156862745098039,\"rgb(245,162,122)\"],[0.8784313725490196,\"rgb(246,188,153)\"],[0.9411764705882353,\"rgb(247,212,187)\"],[1.0,\"rgb(250,234,220)\"]],\"type\":\"histogram2d\"}],\"histogram\":[{\"marker\":{\"pattern\":{\"fillmode\":\"overlay\",\"size\":10,\"solidity\":0.2}},\"type\":\"histogram\"}],\"mesh3d\":[{\"colorbar\":{\"outlinewidth\":0,\"tickcolor\":\"rgb(36,36,36)\",\"ticklen\":8,\"ticks\":\"outside\",\"tickwidth\":2},\"type\":\"mesh3d\"}],\"parcoords\":[{\"line\":{\"colorbar\":{\"outlinewidth\":0,\"tickcolor\":\"rgb(36,36,36)\",\"ticklen\":8,\"ticks\":\"outside\",\"tickwidth\":2}},\"type\":\"parcoords\"}],\"pie\":[{\"automargin\":true,\"type\":\"pie\"}],\"scatter3d\":[{\"line\":{\"colorbar\":{\"outlinewidth\":0,\"tickcolor\":\"rgb(36,36,36)\",\"ticklen\":8,\"ticks\":\"outside\",\"tickwidth\":2}},\"marker\":{\"colorbar\":{\"outlinewidth\":0,\"tickcolor\":\"rgb(36,36,36)\",\"ticklen\":8,\"ticks\":\"outside\",\"tickwidth\":2}},\"type\":\"scatter3d\"}],\"scattercarpet\":[{\"marker\":{\"colorbar\":{\"outlinewidth\":0,\"tickcolor\":\"rgb(36,36,36)\",\"ticklen\":8,\"ticks\":\"outside\",\"tickwidth\":2}},\"type\":\"scattercarpet\"}],\"scattergeo\":[{\"marker\":{\"colorbar\":{\"outlinewidth\":0,\"tickcolor\":\"rgb(36,36,36)\",\"ticklen\":8,\"ticks\":\"outside\",\"tickwidth\":2}},\"type\":\"scattergeo\"}],\"scattergl\":[{\"marker\":{\"colorbar\":{\"outlinewidth\":0,\"tickcolor\":\"rgb(36,36,36)\",\"ticklen\":8,\"ticks\":\"outside\",\"tickwidth\":2}},\"type\":\"scattergl\"}],\"scattermapbox\":[{\"marker\":{\"colorbar\":{\"outlinewidth\":0,\"tickcolor\":\"rgb(36,36,36)\",\"ticklen\":8,\"ticks\":\"outside\",\"tickwidth\":2}},\"type\":\"scattermapbox\"}],\"scatterpolargl\":[{\"marker\":{\"colorbar\":{\"outlinewidth\":0,\"tickcolor\":\"rgb(36,36,36)\",\"ticklen\":8,\"ticks\":\"outside\",\"tickwidth\":2}},\"type\":\"scatterpolargl\"}],\"scatterpolar\":[{\"marker\":{\"colorbar\":{\"outlinewidth\":0,\"tickcolor\":\"rgb(36,36,36)\",\"ticklen\":8,\"ticks\":\"outside\",\"tickwidth\":2}},\"type\":\"scatterpolar\"}],\"scatter\":[{\"fillpattern\":{\"fillmode\":\"overlay\",\"size\":10,\"solidity\":0.2},\"type\":\"scatter\"}],\"scatterternary\":[{\"marker\":{\"colorbar\":{\"outlinewidth\":0,\"tickcolor\":\"rgb(36,36,36)\",\"ticklen\":8,\"ticks\":\"outside\",\"tickwidth\":2}},\"type\":\"scatterternary\"}],\"surface\":[{\"colorbar\":{\"outlinewidth\":0,\"tickcolor\":\"rgb(36,36,36)\",\"ticklen\":8,\"ticks\":\"outside\",\"tickwidth\":2},\"colorscale\":[[0.0,\"rgb(2,4,25)\"],[0.06274509803921569,\"rgb(24,15,41)\"],[0.12549019607843137,\"rgb(47,23,57)\"],[0.18823529411764706,\"rgb(71,28,72)\"],[0.25098039215686274,\"rgb(97,30,82)\"],[0.3137254901960784,\"rgb(123,30,89)\"],[0.3764705882352941,\"rgb(150,27,91)\"],[0.4392156862745098,\"rgb(177,22,88)\"],[0.5019607843137255,\"rgb(203,26,79)\"],[0.5647058823529412,\"rgb(223,47,67)\"],[0.6274509803921569,\"rgb(236,76,61)\"],[0.6901960784313725,\"rgb(242,107,73)\"],[0.7529411764705882,\"rgb(244,135,95)\"],[0.8156862745098039,\"rgb(245,162,122)\"],[0.8784313725490196,\"rgb(246,188,153)\"],[0.9411764705882353,\"rgb(247,212,187)\"],[1.0,\"rgb(250,234,220)\"]],\"type\":\"surface\"}],\"table\":[{\"cells\":{\"fill\":{\"color\":\"rgb(231,231,240)\"},\"line\":{\"color\":\"white\"}},\"header\":{\"fill\":{\"color\":\"rgb(183,183,191)\"},\"line\":{\"color\":\"white\"}},\"type\":\"table\"}]},\"layout\":{\"annotationdefaults\":{\"arrowcolor\":\"rgb(67,103,167)\"},\"autotypenumbers\":\"strict\",\"coloraxis\":{\"colorbar\":{\"outlinewidth\":0,\"tickcolor\":\"rgb(36,36,36)\",\"ticklen\":8,\"ticks\":\"outside\",\"tickwidth\":2}},\"colorscale\":{\"sequential\":[[0.0,\"rgb(2,4,25)\"],[0.06274509803921569,\"rgb(24,15,41)\"],[0.12549019607843137,\"rgb(47,23,57)\"],[0.18823529411764706,\"rgb(71,28,72)\"],[0.25098039215686274,\"rgb(97,30,82)\"],[0.3137254901960784,\"rgb(123,30,89)\"],[0.3764705882352941,\"rgb(150,27,91)\"],[0.4392156862745098,\"rgb(177,22,88)\"],[0.5019607843137255,\"rgb(203,26,79)\"],[0.5647058823529412,\"rgb(223,47,67)\"],[0.6274509803921569,\"rgb(236,76,61)\"],[0.6901960784313725,\"rgb(242,107,73)\"],[0.7529411764705882,\"rgb(244,135,95)\"],[0.8156862745098039,\"rgb(245,162,122)\"],[0.8784313725490196,\"rgb(246,188,153)\"],[0.9411764705882353,\"rgb(247,212,187)\"],[1.0,\"rgb(250,234,220)\"]],\"sequentialminus\":[[0.0,\"rgb(2,4,25)\"],[0.06274509803921569,\"rgb(24,15,41)\"],[0.12549019607843137,\"rgb(47,23,57)\"],[0.18823529411764706,\"rgb(71,28,72)\"],[0.25098039215686274,\"rgb(97,30,82)\"],[0.3137254901960784,\"rgb(123,30,89)\"],[0.3764705882352941,\"rgb(150,27,91)\"],[0.4392156862745098,\"rgb(177,22,88)\"],[0.5019607843137255,\"rgb(203,26,79)\"],[0.5647058823529412,\"rgb(223,47,67)\"],[0.6274509803921569,\"rgb(236,76,61)\"],[0.6901960784313725,\"rgb(242,107,73)\"],[0.7529411764705882,\"rgb(244,135,95)\"],[0.8156862745098039,\"rgb(245,162,122)\"],[0.8784313725490196,\"rgb(246,188,153)\"],[0.9411764705882353,\"rgb(247,212,187)\"],[1.0,\"rgb(250,234,220)\"]]},\"colorway\":[\"rgb(76,114,176)\",\"rgb(221,132,82)\",\"rgb(85,168,104)\",\"rgb(196,78,82)\",\"rgb(129,114,179)\",\"rgb(147,120,96)\",\"rgb(218,139,195)\",\"rgb(140,140,140)\",\"rgb(204,185,116)\",\"rgb(100,181,205)\"],\"font\":{\"color\":\"rgb(36,36,36)\"},\"geo\":{\"bgcolor\":\"white\",\"lakecolor\":\"white\",\"landcolor\":\"rgb(234,234,242)\",\"showlakes\":true,\"showland\":true,\"subunitcolor\":\"white\"},\"hoverlabel\":{\"align\":\"left\"},\"hovermode\":\"closest\",\"paper_bgcolor\":\"white\",\"plot_bgcolor\":\"rgb(234,234,242)\",\"polar\":{\"angularaxis\":{\"gridcolor\":\"white\",\"linecolor\":\"white\",\"showgrid\":true,\"ticks\":\"\"},\"bgcolor\":\"rgb(234,234,242)\",\"radialaxis\":{\"gridcolor\":\"white\",\"linecolor\":\"white\",\"showgrid\":true,\"ticks\":\"\"}},\"scene\":{\"xaxis\":{\"backgroundcolor\":\"rgb(234,234,242)\",\"gridcolor\":\"white\",\"gridwidth\":2,\"linecolor\":\"white\",\"showbackground\":true,\"showgrid\":true,\"ticks\":\"\",\"zerolinecolor\":\"white\"},\"yaxis\":{\"backgroundcolor\":\"rgb(234,234,242)\",\"gridcolor\":\"white\",\"gridwidth\":2,\"linecolor\":\"white\",\"showbackground\":true,\"showgrid\":true,\"ticks\":\"\",\"zerolinecolor\":\"white\"},\"zaxis\":{\"backgroundcolor\":\"rgb(234,234,242)\",\"gridcolor\":\"white\",\"gridwidth\":2,\"linecolor\":\"white\",\"showbackground\":true,\"showgrid\":true,\"ticks\":\"\",\"zerolinecolor\":\"white\"}},\"shapedefaults\":{\"fillcolor\":\"rgb(67,103,167)\",\"line\":{\"width\":0},\"opacity\":0.5},\"ternary\":{\"aaxis\":{\"gridcolor\":\"white\",\"linecolor\":\"white\",\"showgrid\":true,\"ticks\":\"\"},\"baxis\":{\"gridcolor\":\"white\",\"linecolor\":\"white\",\"showgrid\":true,\"ticks\":\"\"},\"bgcolor\":\"rgb(234,234,242)\",\"caxis\":{\"gridcolor\":\"white\",\"linecolor\":\"white\",\"showgrid\":true,\"ticks\":\"\"}},\"xaxis\":{\"automargin\":true,\"gridcolor\":\"white\",\"linecolor\":\"white\",\"showgrid\":true,\"ticks\":\"\",\"title\":{\"standoff\":15},\"zerolinecolor\":\"white\"},\"yaxis\":{\"automargin\":true,\"gridcolor\":\"white\",\"linecolor\":\"white\",\"showgrid\":true,\"ticks\":\"\",\"title\":{\"standoff\":15},\"zerolinecolor\":\"white\"}}},\"xaxis\":{\"anchor\":\"y\",\"domain\":[0.0,1.0],\"title\":{\"text\":\"frecuencia\"},\"range\":[0,72.5],\"tickangle\":35},\"yaxis\":{\"anchor\":\"x\",\"domain\":[0.0,1.0],\"title\":{\"text\":\"palabras m\\u00e1s frecuentes\"}},\"legend\":{\"tracegroupgap\":0},\"margin\":{\"t\":60},\"barmode\":\"relative\",\"title\":{\"text\":\"35 palabras clave m\\u00e1s frecuentes de RELIME\"},\"font\":{\"size\":9}},                        {\"responsive\": true}                    ).then(function(){\n",
       "                            \n",
       "var gd = document.getElementById('ebe39c97-3adb-428e-a1cd-3c7155cfe7da');\n",
       "var x = new MutationObserver(function (mutations, observer) {{\n",
       "        var display = window.getComputedStyle(gd).display;\n",
       "        if (!display || display === 'none') {{\n",
       "            console.log([gd, 'removed!']);\n",
       "            Plotly.purge(gd);\n",
       "            observer.disconnect();\n",
       "        }}\n",
       "}});\n",
       "\n",
       "// Listen for the removal of the full notebook cells\n",
       "var notebookContainer = gd.closest('#notebook-container');\n",
       "if (notebookContainer) {{\n",
       "    x.observe(notebookContainer, {childList: true});\n",
       "}}\n",
       "\n",
       "// Listen for the clearing of the current output cell\n",
       "var outputEl = gd.closest('.output');\n",
       "if (outputEl) {{\n",
       "    x.observe(outputEl, {childList: true});\n",
       "}}\n",
       "\n",
       "                        })                };                });            </script>        </div>"
      ]
     },
     "metadata": {},
     "output_type": "display_data"
    },
    {
     "name": "stdout",
     "output_type": "stream",
     "text": [
      "En la figura \\ref{fig:RELIME_key_words_n_35_met_lemmatize_2025_1_13_9_48} se observan las  35 palabras con mayor frecuencia en  PALABRAS CLAVE  de  241  artículos.  Las 3 palabras que más aparecen son  \\textit{ mathematics }, \\textit{ education },  y  \\textit{ teacher }, las cuales, se repiten  58 ,  45 y  58   veces respectivamente.\n",
      "Principales palabras de: PALABRAS CLAVE en 241 artículos. Fuente: Scopus.\n",
      "RELIME_key_words_n_35_met_lemmatize_2025_1_13_9_48\n"
     ]
    }
   ],
   "source": [
    "# Obtener el nombre de la columna correspondiente al campo a analizar\n",
    "campo_a_contar_palabras = dic_campo_a_contar_palabras.get(dic_campo_a_analizar.get(campo_a_analizar))\n",
    "\n",
    "# Obtener todas las palabras en la columna seleccionada y ordenarlas\n",
    "campo_con_palabras = sorted(dfA[campo_a_contar_palabras].explode().dropna())\n",
    "\n",
    "# Contar la frecuencia de cada palabra única en el campo seleccionado\n",
    "cuenta_campo_a_analizar = dict(Counter(campo_con_palabras))\n",
    "\n",
    "# Ordenar las palabras por frecuencia de mayor a menor\n",
    "cuenta_campo_a_analizar_ordenado = sorted(cuenta_campo_a_analizar.items(), key=lambda x: x[1], reverse=True)\n",
    "\n",
    "# Crear una lista de palabras a eliminar\n",
    "palabras_a_eliminar = ['', ' ','nan']\n",
    "\n",
    "# Filtrar las palabras en cuenta_campo_a_analizar_ordenado para excluir palabras en palabras_a_eliminar\n",
    "cuenta_campo_a_analizar_ordenado_filtrado = [(palabra, frecuencia) for palabra, frecuencia in cuenta_campo_a_analizar_ordenado if palabra not in palabras_a_eliminar]\n",
    "\n",
    "# Seleccionar las n palabras más frecuentes después de eliminar las palabras no deseadas\n",
    "cuenta_campo_a_analizar_ordenado_elegidos = cuenta_campo_a_analizar_ordenado_filtrado[:n]\n",
    "\n",
    "# Calcular porcentajes\n",
    "porcentajes = [round((frecuencia / len(dfA)) * 100, 1) for palabra, frecuencia in cuenta_campo_a_analizar_ordenado_elegidos]\n",
    "\n",
    "# Crear texto para cada barra que incluye la frecuencia y el porcentaje\n",
    "bar_texts = [f\"{frecuencia} ({porcentaje}%)\" for frecuencia, porcentaje in zip([cuenta_campo_a_analizar_ordenado_elegidos[j][1] for j in range(0, n - 1)], porcentajes)]\n",
    "\n",
    "#Crear títulos \n",
    "title = str(n) + ' palabras clave más frecuentes de ' + nombre_largo\n",
    "\n",
    "\n",
    "# Crear un gráfico de barras con las palabras más frecuentes después de la eliminación\n",
    "fig = px.bar(template=template_elegido, orientation='h', y=[cuenta_campo_a_analizar_ordenado_elegidos[j][0] for j in range(0, n - 1)], x=[cuenta_campo_a_analizar_ordenado_elegidos[j][1] for j in range(0, n - 1)], text=bar_texts)\n",
    "\n",
    "# Actualizar el tamaño de la fuente del texto de las barras\n",
    "fig.update_traces(textposition='outside', textfont=dict(size=14))  # Ajustar el tamaño y la posición del texto\n",
    "\n",
    "# Configurar el diseño del gráfico\n",
    "fig.update_layout(\n",
    "    title=title,\n",
    "    yaxis_title=\"palabras más frecuentes\",\n",
    "    xaxis_title=\"frecuencia\",\n",
    "    xaxis=dict(range=[0, max([cuenta_campo_a_analizar_ordenado_elegidos[j][1] for j in range(0, n - 1)]) * 1.25]))  # Aumentar el rango del eje x en un 15%)\n",
    "fig.update_xaxes(tickangle=35)\n",
    "fig.update_layout(font_size=9)  # Tamaño de la fuente para leyendas y otros elementos\n",
    "\n",
    "# Mostrar el gráfico\n",
    "fig.show()\n",
    "nombre_archivo =abrev +'_'+dic_campo_a_analizar.get(campo_a_analizar)+ \"_n_\" +str(n)+'_met_'+met+'_'+str(now.year)+'_'+str(now.month)+'_'+str(now.day)+'_'+str(now.hour)+'_'+str(now.minute)\n",
    "fig.write_html(abrev + '/' + nombre_archivo+\".html\")\n",
    "fig.write_image(abrev + '/' + nombre_archivo+\".pdf\",width=700, height=800)\n",
    "\n",
    "# Agregar una sección al archivo LaTeX\n",
    "entorno_section_tex(ruta_archivo, nombre_archivo_tex, 'Principales palabras de: '+nombre_de_campo_analizado)\n",
    "\n",
    "# Crear el párrafo para el informe\n",
    "lista_párrafo4 = ['En la figura \\\\ref{fig:' + nombre_archivo + '}',\n",
    "                  'se observan las ', str(n), 'palabras con mayor frecuencia en ', \n",
    "                  nombre_de_campo_analizado,' de ',str(len(dfA)),' artículos.',\n",
    "                  ' Las 3 palabras que más aparecen son ', \n",
    "                  '\\\\textit{', cuenta_campo_a_analizar_ordenado_elegidos[0][0], '},',\n",
    "                  '\\\\textit{', cuenta_campo_a_analizar_ordenado_elegidos[1][0], '},',' y ',\n",
    "                  '\\\\textit{', cuenta_campo_a_analizar_ordenado_elegidos[2][0], '},',\n",
    "                  'las cuales, se repiten ', str(cuenta_campo_a_analizar_ordenado_elegidos[0][1]),', ', \n",
    "                  str(cuenta_campo_a_analizar_ordenado_elegidos[1][1]),'y ', \n",
    "                  str(cuenta_campo_a_analizar_ordenado_elegidos[0][1]),' ', \n",
    "                  'veces respectivamente.']\n",
    "\n",
    "párrafo4 = ' '.join(lista_párrafo4)\n",
    "\n",
    "print(párrafo4)\n",
    "\n",
    "# Añadir el párrafo al archivo LaTeX\n",
    "parrafo_tex(ruta_archivo, nombre_archivo_tex, párrafo4)\n",
    "\n",
    "# Crear la leyenda para el gráfico\n",
    "leyenda = 'Principales palabras de: '+nombre_de_campo_analizado+ ' en '+str(len(dfA))+' artículos. Fuente: ' + fuente_articulos + '.'\n",
    "\n",
    "# Añadir el entorno de figura al archivo LaTeX\n",
    "entorno_figura_tex(ruta_archivo, nombre_archivo_tex, nombre_archivo, leyenda)\n",
    "print(leyenda)\n",
    "\n",
    "\n",
    "\n",
    "# Mostrar las palabras más frecuentes en una lista\n",
    "[[cuenta_campo_a_analizar_ordenado_elegidos[j][0] for j in range(0, n - 1)]]\n",
    "print(nombre_archivo)"
   ]
  },
  {
   "cell_type": "markdown",
   "id": "774fcf9b",
   "metadata": {},
   "source": [
    "# 16 Definición de parejas"
   ]
  },
  {
   "cell_type": "code",
   "execution_count": 17,
   "id": "8a2d88a2",
   "metadata": {},
   "outputs": [],
   "source": [
    "# Función para crear parejas de palabras únicas en una lista, evitando duplicados y parejas de una palabra consigo misma\n",
    "def parejas(lista):\n",
    "    # Crear una lista de tuplas (parejas) con palabras únicas en pares ordenados alfabéticamente y sin repeticiones\n",
    "    salida1 = [(lista[x], lista[y]) for x in range(len(lista)) for y in range(len(lista)) if y > x]\n",
    "    return salida1\n",
    "\n",
    "\n",
    "# Diccionario para asignar un nombre a cada campo a analizar (no se usa en este fragmento de código)\n",
    "# dic_campo_a_analizar = {1: 'key_words', 2: 'title', 3: 'abstract', 4: 'title_key', 5: 'title_abs', 6: 'key_abs', 7: 'title_abs_key'}\n",
    "\n",
    "# Crear una columna en el DataFrame dfA con parejas de palabras según el valor de campo_a_analizar\n",
    "if campo_a_analizar == 1:\n",
    "    # Crear parejas de palabras clave\n",
    "    dfA['parejas_key_words'] = dfA['key_words_metodo'].apply(lambda x: sorted(list(set(x)))).transform(parejas)\n",
    "elif campo_a_analizar == 2:\n",
    "    # Crear parejas de palabras en el título\n",
    "    dfA['parejas_title'] = dfA['title_metodo'].apply(lambda x: sorted(list(set(x)))).transform(parejas)\n",
    "elif campo_a_analizar == 3:\n",
    "    # Crear parejas de palabras en el resumen\n",
    "    dfA['parejas_abstract'] = dfA['abstract_metodo'].apply(lambda x: sorted(list(set(x)))).transform(parejas)\n",
    "elif campo_a_analizar == 4:\n",
    "    # Crear parejas de palabras en el título y palabras clave\n",
    "    dfA['parejas_title_key'] = dfA['title_key_metodo'].apply(lambda x: sorted(list(set(x)))).transform(parejas)\n",
    "elif campo_a_analizar == 5:\n",
    "    # Crear parejas de palabras en el título y resumen\n",
    "    dfA['parejas_title_abs'] = dfA['title_abs_metodo'].apply(lambda x: sorted(list(set(x)))).transform(parejas)\n",
    "elif campo_a_analizar == 6:\n",
    "    # Crear parejas de palabras en palabras clave y resumen\n",
    "    dfA['parejas_key_abs'] = dfA['key_abs_metodo'].apply(lambda x: sorted(list(set(x)))).transform(parejas)\n",
    "else:\n",
    "    # Crear parejas de palabras en el título, resumen y palabras clave\n",
    "    dfA['parejas_title_abs_key'] = dfA['title_abs_key_metodo'].apply(lambda x: sorted(list(set(x)))).transform(parejas)\n",
    "\n",
    "\n",
    "# Las columnas que deseas incluir en dfB\n",
    "columnas = ['Authors', 'Author(s) ID', 'Title', 'Year',\n",
    "            'Source title', 'Volume', 'Issue', 'Cited by', 'DOI', 'Link', 'Affiliations',\n",
    "            'Abstract', 'Author Keywords',\n",
    "            'Index Keywords', 'Document Type', 'Source', 'EID', 'key_words_non_spot', 'title_non_spot',\n",
    "            'abstract_non_spot', 'key_words_metodo', 'title_metodo',\n",
    "            'abstract_metodo', 'title_key_metodo', 'title_abs_metodo',\n",
    "            'key_abs_metodo', 'title_abs_key_metodo', 'parejas_title_key']\n",
    "\n",
    "# Crear dfB con solo las columnas que existen en dfA y están en la lista de columnas\n",
    "dfB = dfA[[col for col in columnas if col in dfA.columns]]\n",
    "\n",
    "# Exportar dfB a un archivo de Excel\n",
    "dfB.to_excel(abrev + '/' +\"02_df_\"+abrev+\"_con_parejas.xlsx\", index=False)\n"
   ]
  },
  {
   "cell_type": "markdown",
   "id": "69049d9c",
   "metadata": {},
   "source": [
    "# 17 Definición de grafo completo"
   ]
  },
  {
   "cell_type": "code",
   "execution_count": 18,
   "id": "a0925dcd",
   "metadata": {},
   "outputs": [
    {
     "name": "stdout",
     "output_type": "stream",
     "text": [
      "0.005239963531494141 seg. Equivalentes a 8.733272552490235e-05 min\n",
      "Información del grafo:\n",
      "Grafo de la base de datos:  RELIME\n",
      "Cantidad de artículos:  241\n",
      "Cantidad de nodos grafo completo G:  608\n",
      "Cantidad de aristas grafo completo G:  5003\n",
      "PALABRAS CLAVE\n"
     ]
    }
   ],
   "source": [
    "import time\n",
    "import networkx as nx\n",
    "from collections import Counter\n",
    "\n",
    "# Registrar el tiempo de inicio\n",
    "inicio = time.time()\n",
    "\n",
    "# Crear un grafo vacío\n",
    "G = nx.Graph()\n",
    "\n",
    "# Extraer lista de nodos y aristas de los campos correspondientes en el DataFrame dfA\n",
    "lista_nodos = [x for row in dfA[campo_para_nodos_grafo] for x in row]\n",
    "lista_aristas = [x for row in dfA[campo_para_aristas_grafo] for x in row]\n",
    "\n",
    "# Contar la frecuencia de cada nodo y arista\n",
    "cuenta_pesos_nodos = Counter(lista_nodos)\n",
    "cuenta_pesos_aristas = Counter(lista_aristas)\n",
    "\n",
    "# Calcular los pesos de los nodos y aristas ponderados por la cantidad total de documentos en dfA\n",
    "cuenta_pesos_nodos_ponderado = {clave: round(valor * 100 / len(dfA), 1) for clave, valor in cuenta_pesos_nodos.items()}\n",
    "cuenta_pesos_aristas_ponderado = {clave: round(valor * 100 / len(dfA), 1) for clave, valor in cuenta_pesos_aristas.items()}\n",
    "\n",
    "# Registrar el tiempo de finalización y calcular la duración\n",
    "fin = time.time()\n",
    "print(f\"{fin-inicio} seg. Equivalentes a {(fin-inicio)/60} min\")\n",
    "\n",
    "\n",
    "from pyvis.network import Network\n",
    "\n",
    "# Crear nodos en el grafo G con sus atributos correspondientes\n",
    "for clave, valor in cuenta_pesos_nodos.items():\n",
    "    ponderado = cuenta_pesos_nodos_ponderado[clave]\n",
    "    G.add_node(clave, label=clave + ' (' + str(valor) + ')', value=valor, ponderado=ponderado)\n",
    "\n",
    "# Crear aristas en el grafo G con sus atributos correspondientes\n",
    "for clave, valor in cuenta_pesos_aristas.items():\n",
    "    ponderado = cuenta_pesos_aristas_ponderado[clave]\n",
    "    G.add_edge(clave[0], clave[1], value=valor, label=str(valor), ponderado=ponderado)\n",
    "\n",
    "# Imprimir información relevante del grafo\n",
    "print('Información del grafo:')\n",
    "print('Grafo de la base de datos: ', nombre_largo)\n",
    "print('Cantidad de artículos: ', len(dfA))\n",
    "print('Cantidad de nodos grafo completo G: ', len(G.nodes))\n",
    "print('Cantidad de aristas grafo completo G: ', len(G.edges))\n",
    "print(dic_nombres_campo.get(dic_campo_a_analizar.get(campo_a_analizar)))\n",
    "\n",
    "# Registrar el tiempo de finalización y calcular la duración\n"
   ]
  },
  {
   "cell_type": "code",
   "execution_count": 19,
   "id": "c79cca77",
   "metadata": {},
   "outputs": [],
   "source": [
    "nombre_archivo = abrev + '_ERC_G_completo_'+ campo_para_nodos_grafo+ '_met_'+met\n",
    "nx.write_gml(G, abrev + '/' + nombre_archivo+\".gml\")\n",
    "nx.write_graphml(G, abrev + '/' + nombre_archivo+\".graphml\")\n"
   ]
  },
  {
   "cell_type": "markdown",
   "id": "6cc66bbe",
   "metadata": {},
   "source": [
    "# 18 Información a Latex sobre el Espacio rizomático conceptual (ERC)"
   ]
  },
  {
   "cell_type": "raw",
   "id": "e72d72f2",
   "metadata": {},
   "source": [
    "# Agregar una nueva página al archivo LaTeX\n",
    "entorno_nueva_pagina_tex(ruta_archivo, nombre_archivo_tex)\n",
    "\n",
    "# Agregar una sección al archivo LaTeX con el título especificado\n",
    "entorno_section_tex(ruta_archivo, nombre_archivo_tex, 'Espacio rizomático conceptual (\\\\textit{ERC}) a partir de las palabras en: ' + dic_nombres_campo.get(dic_campo_a_analizar.get(campo_a_analizar)))\n",
    "\n",
    "# Agregar una subsección al archivo LaTeX con el título especificado\n",
    "entorno_sub_section_tex(ruta_archivo, nombre_archivo_tex, 'Información general del ERC')\n",
    "\n",
    "# Agregar un párrafo al archivo LaTeX\n",
    "parrafo_tex(ruta_archivo, nombre_archivo_tex, 'La información general del ERC es la siguiente:')\n",
    "\n",
    "# Crear una lista con la información general del ERC\n",
    "lista_información_general = [\n",
    "    'Grafo de la base de datos denominada: ' + nombre_largo,\n",
    "    'El método utilizado fue: ' + met,\n",
    "    'Cantidad de artículos: ' + str(len(dfA)),\n",
    "    'Cantidad de nodos grafo completo G: ' + str(len(G.nodes)),\n",
    "    'Cantidad de aristas grafo completo G: ' + str(len(G.edges)),\n",
    "    'Tiempo requerido para generar el grafo: ' + str(round(fin - inicio, 1)) + ' seg. Equivalentes a ' + str(round((fin - inicio) / 60, 1)) + ' min.'\n",
    "]\n",
    "\n",
    "# Agregar la lista de información general del ERC al archivo LaTeX usando el entorno \"itemize\"\n",
    "entorno_itemize_tex(ruta_archivo, nombre_archivo_tex, lista_información_general)\n",
    "\n",
    "# Imprimir la lista de información general del ERC\n",
    "print(lista_información_general)\n",
    "\n",
    "# Imprimir el título de la sección del ERC\n",
    "print('Espacio rizomático conceptual (ERC) a partir de las palabras en: ' + dic_nombres_campo.get(dic_campo_a_analizar.get(campo_a_analizar)))\n"
   ]
  },
  {
   "cell_type": "markdown",
   "id": "344946ca",
   "metadata": {},
   "source": [
    "# 19 Calcular cantidad de nodos"
   ]
  },
  {
   "cell_type": "code",
   "execution_count": 20,
   "id": "6d830a1f",
   "metadata": {},
   "outputs": [
    {
     "name": "stdout",
     "output_type": "stream",
     "text": [
      "3\n"
     ]
    },
    {
     "data": {
      "application/vnd.plotly.v1+json": {
       "config": {
        "plotlyServerURL": "https://plot.ly"
       },
       "data": [
        {
         "hovertemplate": "x=%{x}<br>y=%{y}<extra></extra>",
         "legendgroup": "",
         "marker": {
          "color": "#636efa",
          "symbol": "circle"
         },
         "mode": "markers",
         "name": "",
         "orientation": "v",
         "showlegend": false,
         "type": "scatter",
         "x": [
          1,
          2,
          3,
          4,
          5,
          6,
          7,
          8,
          9,
          10,
          11,
          12,
          13,
          14,
          15,
          16,
          17,
          18,
          19,
          20,
          21,
          22,
          23,
          24,
          25,
          26,
          27,
          28,
          29,
          30,
          31,
          32,
          33,
          34,
          35,
          36,
          37,
          38,
          39,
          40,
          41,
          42,
          43,
          44,
          45,
          46,
          47,
          48,
          49,
          50,
          51,
          52,
          53,
          54,
          55,
          56,
          57,
          58,
          59,
          60,
          61,
          62,
          63,
          64,
          65,
          66,
          67,
          68,
          69,
          70,
          71,
          72,
          73,
          74,
          75,
          76,
          77,
          78,
          79,
          80,
          81,
          82,
          83,
          84,
          85,
          86,
          87,
          88,
          89,
          90,
          91,
          92,
          93,
          94,
          95,
          96,
          97,
          98,
          99,
          100,
          101,
          102,
          103,
          104,
          105,
          106,
          107,
          108,
          109,
          110,
          111,
          112,
          113,
          114,
          115,
          116,
          117,
          118,
          119,
          120,
          121,
          122,
          123,
          124,
          125,
          126,
          127,
          128,
          129,
          130,
          131,
          132,
          133,
          134,
          135,
          136,
          137,
          138,
          139,
          140,
          141,
          142,
          143,
          144,
          145,
          146,
          147,
          148,
          149,
          150,
          151,
          152,
          153,
          154,
          155,
          156,
          157,
          158,
          159,
          160,
          161,
          162,
          163,
          164,
          165,
          166,
          167,
          168,
          169,
          170,
          171,
          172,
          173,
          174,
          175,
          176,
          177,
          178,
          179,
          180,
          181,
          182,
          183,
          184,
          185,
          186,
          187,
          188,
          189,
          190,
          191,
          192,
          193,
          194,
          195,
          196,
          197,
          198,
          199,
          200,
          201,
          202,
          203,
          204,
          205,
          206,
          207,
          208,
          209,
          210,
          211,
          212,
          213,
          214,
          215,
          216,
          217,
          218,
          219,
          220,
          221,
          222,
          223,
          224,
          225,
          226,
          227,
          228,
          229,
          230,
          231,
          232,
          233,
          234,
          235,
          236,
          237,
          238,
          239,
          240,
          241,
          242,
          243,
          244,
          245,
          246,
          247,
          248,
          249,
          250,
          251,
          252,
          253,
          254,
          255,
          256,
          257,
          258,
          259,
          260,
          261,
          262,
          263,
          264,
          265,
          266,
          267,
          268,
          269,
          270,
          271,
          272,
          273,
          274,
          275,
          276,
          277,
          278,
          279,
          280,
          281,
          282,
          283,
          284,
          285,
          286,
          287,
          288,
          289,
          290,
          291,
          292,
          293,
          294,
          295,
          296,
          297,
          298,
          299,
          300,
          301,
          302,
          303,
          304,
          305,
          306,
          307,
          308,
          309,
          310,
          311,
          312,
          313,
          314,
          315,
          316,
          317,
          318,
          319,
          320,
          321,
          322,
          323,
          324,
          325,
          326,
          327,
          328,
          329,
          330,
          331,
          332,
          333,
          334,
          335,
          336,
          337,
          338,
          339,
          340,
          341,
          342,
          343,
          344,
          345,
          346,
          347,
          348,
          349,
          350,
          351,
          352,
          353,
          354,
          355,
          356,
          357,
          358,
          359,
          360,
          361,
          362,
          363,
          364,
          365,
          366,
          367,
          368,
          369,
          370,
          371,
          372,
          373,
          374,
          375,
          376,
          377,
          378,
          379,
          380,
          381,
          382,
          383,
          384,
          385,
          386,
          387,
          388,
          389,
          390,
          391,
          392,
          393,
          394,
          395,
          396,
          397,
          398,
          399
         ],
         "xaxis": "x",
         "y": [
          221,
          143,
          88,
          66,
          54,
          46,
          40,
          32,
          28,
          22,
          19,
          16,
          14,
          13,
          12,
          11,
          11,
          9,
          9,
          9,
          8,
          7,
          7,
          7,
          6,
          6,
          6,
          6,
          6,
          6,
          6,
          6,
          6,
          6,
          6,
          5,
          5,
          4,
          4,
          4,
          4,
          4,
          3,
          2,
          1,
          1,
          1,
          1,
          1,
          1,
          1,
          1,
          1,
          1,
          1,
          1,
          1,
          0,
          0,
          0,
          0,
          0,
          0,
          0,
          0,
          0,
          0,
          0,
          0,
          0,
          0,
          0,
          0,
          0,
          0,
          0,
          0,
          0,
          0,
          0,
          0,
          0,
          0,
          0,
          0,
          0,
          0,
          0,
          0,
          0,
          0,
          0,
          0,
          0,
          0,
          0,
          0,
          0,
          0,
          0,
          0,
          0,
          0,
          0,
          0,
          0,
          0,
          0,
          0,
          0,
          0,
          0,
          0,
          0,
          0,
          0,
          0,
          0,
          0,
          0,
          0,
          0,
          0,
          0,
          0,
          0,
          0,
          0,
          0,
          0,
          0,
          0,
          0,
          0,
          0,
          0,
          0,
          0,
          0,
          0,
          0,
          0,
          0,
          0,
          0,
          0,
          0,
          0,
          0,
          0,
          0,
          0,
          0,
          0,
          0,
          0,
          0,
          0,
          0,
          0,
          0,
          0,
          0,
          0,
          0,
          0,
          0,
          0,
          0,
          0,
          0,
          0,
          0,
          0,
          0,
          0,
          0,
          0,
          0,
          0,
          0,
          0,
          0,
          0,
          0,
          0,
          0,
          0,
          0,
          0,
          0,
          0,
          0,
          0,
          0,
          0,
          0,
          0,
          0,
          0,
          0,
          0,
          0,
          0,
          0,
          0,
          0,
          0,
          0,
          0,
          0,
          0,
          0,
          0,
          0,
          0,
          0,
          0,
          0,
          0,
          0,
          0,
          0,
          0,
          0,
          0,
          0,
          0,
          0,
          0,
          0,
          0,
          0,
          0,
          0,
          0,
          0,
          0,
          0,
          0,
          0,
          0,
          0,
          0,
          0,
          0,
          0,
          0,
          0,
          0,
          0,
          0,
          0,
          0,
          0,
          0,
          0,
          0,
          0,
          0,
          0,
          0,
          0,
          0,
          0,
          0,
          0,
          0,
          0,
          0,
          0,
          0,
          0,
          0,
          0,
          0,
          0,
          0,
          0,
          0,
          0,
          0,
          0,
          0,
          0,
          0,
          0,
          0,
          0,
          0,
          0,
          0,
          0,
          0,
          0,
          0,
          0,
          0,
          0,
          0,
          0,
          0,
          0,
          0,
          0,
          0,
          0,
          0,
          0,
          0,
          0,
          0,
          0,
          0,
          0,
          0,
          0,
          0,
          0,
          0,
          0,
          0,
          0,
          0,
          0,
          0,
          0,
          0,
          0,
          0,
          0,
          0,
          0,
          0,
          0,
          0,
          0,
          0,
          0,
          0,
          0,
          0,
          0,
          0,
          0,
          0,
          0,
          0,
          0,
          0,
          0,
          0,
          0,
          0,
          0,
          0,
          0,
          0,
          0,
          0,
          0,
          0,
          0,
          0,
          0,
          0,
          0,
          0,
          0,
          0,
          0,
          0,
          0,
          0,
          0,
          0,
          0,
          0,
          0,
          0,
          0,
          0,
          0,
          0,
          0,
          0,
          0,
          0,
          0,
          0,
          0,
          0,
          0,
          0,
          0,
          0,
          0,
          0,
          0
         ],
         "yaxis": "y"
        }
       ],
       "layout": {
        "legend": {
         "tracegroupgap": 0
        },
        "template": {
         "data": {
          "bar": [
           {
            "error_x": {
             "color": "#2a3f5f"
            },
            "error_y": {
             "color": "#2a3f5f"
            },
            "marker": {
             "line": {
              "color": "#E5ECF6",
              "width": 0.5
             },
             "pattern": {
              "fillmode": "overlay",
              "size": 10,
              "solidity": 0.2
             }
            },
            "type": "bar"
           }
          ],
          "barpolar": [
           {
            "marker": {
             "line": {
              "color": "#E5ECF6",
              "width": 0.5
             },
             "pattern": {
              "fillmode": "overlay",
              "size": 10,
              "solidity": 0.2
             }
            },
            "type": "barpolar"
           }
          ],
          "carpet": [
           {
            "aaxis": {
             "endlinecolor": "#2a3f5f",
             "gridcolor": "white",
             "linecolor": "white",
             "minorgridcolor": "white",
             "startlinecolor": "#2a3f5f"
            },
            "baxis": {
             "endlinecolor": "#2a3f5f",
             "gridcolor": "white",
             "linecolor": "white",
             "minorgridcolor": "white",
             "startlinecolor": "#2a3f5f"
            },
            "type": "carpet"
           }
          ],
          "choropleth": [
           {
            "colorbar": {
             "outlinewidth": 0,
             "ticks": ""
            },
            "type": "choropleth"
           }
          ],
          "contour": [
           {
            "colorbar": {
             "outlinewidth": 0,
             "ticks": ""
            },
            "colorscale": [
             [
              0,
              "#0d0887"
             ],
             [
              0.1111111111111111,
              "#46039f"
             ],
             [
              0.2222222222222222,
              "#7201a8"
             ],
             [
              0.3333333333333333,
              "#9c179e"
             ],
             [
              0.4444444444444444,
              "#bd3786"
             ],
             [
              0.5555555555555556,
              "#d8576b"
             ],
             [
              0.6666666666666666,
              "#ed7953"
             ],
             [
              0.7777777777777778,
              "#fb9f3a"
             ],
             [
              0.8888888888888888,
              "#fdca26"
             ],
             [
              1,
              "#f0f921"
             ]
            ],
            "type": "contour"
           }
          ],
          "contourcarpet": [
           {
            "colorbar": {
             "outlinewidth": 0,
             "ticks": ""
            },
            "type": "contourcarpet"
           }
          ],
          "heatmap": [
           {
            "colorbar": {
             "outlinewidth": 0,
             "ticks": ""
            },
            "colorscale": [
             [
              0,
              "#0d0887"
             ],
             [
              0.1111111111111111,
              "#46039f"
             ],
             [
              0.2222222222222222,
              "#7201a8"
             ],
             [
              0.3333333333333333,
              "#9c179e"
             ],
             [
              0.4444444444444444,
              "#bd3786"
             ],
             [
              0.5555555555555556,
              "#d8576b"
             ],
             [
              0.6666666666666666,
              "#ed7953"
             ],
             [
              0.7777777777777778,
              "#fb9f3a"
             ],
             [
              0.8888888888888888,
              "#fdca26"
             ],
             [
              1,
              "#f0f921"
             ]
            ],
            "type": "heatmap"
           }
          ],
          "heatmapgl": [
           {
            "colorbar": {
             "outlinewidth": 0,
             "ticks": ""
            },
            "colorscale": [
             [
              0,
              "#0d0887"
             ],
             [
              0.1111111111111111,
              "#46039f"
             ],
             [
              0.2222222222222222,
              "#7201a8"
             ],
             [
              0.3333333333333333,
              "#9c179e"
             ],
             [
              0.4444444444444444,
              "#bd3786"
             ],
             [
              0.5555555555555556,
              "#d8576b"
             ],
             [
              0.6666666666666666,
              "#ed7953"
             ],
             [
              0.7777777777777778,
              "#fb9f3a"
             ],
             [
              0.8888888888888888,
              "#fdca26"
             ],
             [
              1,
              "#f0f921"
             ]
            ],
            "type": "heatmapgl"
           }
          ],
          "histogram": [
           {
            "marker": {
             "pattern": {
              "fillmode": "overlay",
              "size": 10,
              "solidity": 0.2
             }
            },
            "type": "histogram"
           }
          ],
          "histogram2d": [
           {
            "colorbar": {
             "outlinewidth": 0,
             "ticks": ""
            },
            "colorscale": [
             [
              0,
              "#0d0887"
             ],
             [
              0.1111111111111111,
              "#46039f"
             ],
             [
              0.2222222222222222,
              "#7201a8"
             ],
             [
              0.3333333333333333,
              "#9c179e"
             ],
             [
              0.4444444444444444,
              "#bd3786"
             ],
             [
              0.5555555555555556,
              "#d8576b"
             ],
             [
              0.6666666666666666,
              "#ed7953"
             ],
             [
              0.7777777777777778,
              "#fb9f3a"
             ],
             [
              0.8888888888888888,
              "#fdca26"
             ],
             [
              1,
              "#f0f921"
             ]
            ],
            "type": "histogram2d"
           }
          ],
          "histogram2dcontour": [
           {
            "colorbar": {
             "outlinewidth": 0,
             "ticks": ""
            },
            "colorscale": [
             [
              0,
              "#0d0887"
             ],
             [
              0.1111111111111111,
              "#46039f"
             ],
             [
              0.2222222222222222,
              "#7201a8"
             ],
             [
              0.3333333333333333,
              "#9c179e"
             ],
             [
              0.4444444444444444,
              "#bd3786"
             ],
             [
              0.5555555555555556,
              "#d8576b"
             ],
             [
              0.6666666666666666,
              "#ed7953"
             ],
             [
              0.7777777777777778,
              "#fb9f3a"
             ],
             [
              0.8888888888888888,
              "#fdca26"
             ],
             [
              1,
              "#f0f921"
             ]
            ],
            "type": "histogram2dcontour"
           }
          ],
          "mesh3d": [
           {
            "colorbar": {
             "outlinewidth": 0,
             "ticks": ""
            },
            "type": "mesh3d"
           }
          ],
          "parcoords": [
           {
            "line": {
             "colorbar": {
              "outlinewidth": 0,
              "ticks": ""
             }
            },
            "type": "parcoords"
           }
          ],
          "pie": [
           {
            "automargin": true,
            "type": "pie"
           }
          ],
          "scatter": [
           {
            "fillpattern": {
             "fillmode": "overlay",
             "size": 10,
             "solidity": 0.2
            },
            "type": "scatter"
           }
          ],
          "scatter3d": [
           {
            "line": {
             "colorbar": {
              "outlinewidth": 0,
              "ticks": ""
             }
            },
            "marker": {
             "colorbar": {
              "outlinewidth": 0,
              "ticks": ""
             }
            },
            "type": "scatter3d"
           }
          ],
          "scattercarpet": [
           {
            "marker": {
             "colorbar": {
              "outlinewidth": 0,
              "ticks": ""
             }
            },
            "type": "scattercarpet"
           }
          ],
          "scattergeo": [
           {
            "marker": {
             "colorbar": {
              "outlinewidth": 0,
              "ticks": ""
             }
            },
            "type": "scattergeo"
           }
          ],
          "scattergl": [
           {
            "marker": {
             "colorbar": {
              "outlinewidth": 0,
              "ticks": ""
             }
            },
            "type": "scattergl"
           }
          ],
          "scattermapbox": [
           {
            "marker": {
             "colorbar": {
              "outlinewidth": 0,
              "ticks": ""
             }
            },
            "type": "scattermapbox"
           }
          ],
          "scatterpolar": [
           {
            "marker": {
             "colorbar": {
              "outlinewidth": 0,
              "ticks": ""
             }
            },
            "type": "scatterpolar"
           }
          ],
          "scatterpolargl": [
           {
            "marker": {
             "colorbar": {
              "outlinewidth": 0,
              "ticks": ""
             }
            },
            "type": "scatterpolargl"
           }
          ],
          "scatterternary": [
           {
            "marker": {
             "colorbar": {
              "outlinewidth": 0,
              "ticks": ""
             }
            },
            "type": "scatterternary"
           }
          ],
          "surface": [
           {
            "colorbar": {
             "outlinewidth": 0,
             "ticks": ""
            },
            "colorscale": [
             [
              0,
              "#0d0887"
             ],
             [
              0.1111111111111111,
              "#46039f"
             ],
             [
              0.2222222222222222,
              "#7201a8"
             ],
             [
              0.3333333333333333,
              "#9c179e"
             ],
             [
              0.4444444444444444,
              "#bd3786"
             ],
             [
              0.5555555555555556,
              "#d8576b"
             ],
             [
              0.6666666666666666,
              "#ed7953"
             ],
             [
              0.7777777777777778,
              "#fb9f3a"
             ],
             [
              0.8888888888888888,
              "#fdca26"
             ],
             [
              1,
              "#f0f921"
             ]
            ],
            "type": "surface"
           }
          ],
          "table": [
           {
            "cells": {
             "fill": {
              "color": "#EBF0F8"
             },
             "line": {
              "color": "white"
             }
            },
            "header": {
             "fill": {
              "color": "#C8D4E3"
             },
             "line": {
              "color": "white"
             }
            },
            "type": "table"
           }
          ]
         },
         "layout": {
          "annotationdefaults": {
           "arrowcolor": "#2a3f5f",
           "arrowhead": 0,
           "arrowwidth": 1
          },
          "autotypenumbers": "strict",
          "coloraxis": {
           "colorbar": {
            "outlinewidth": 0,
            "ticks": ""
           }
          },
          "colorscale": {
           "diverging": [
            [
             0,
             "#8e0152"
            ],
            [
             0.1,
             "#c51b7d"
            ],
            [
             0.2,
             "#de77ae"
            ],
            [
             0.3,
             "#f1b6da"
            ],
            [
             0.4,
             "#fde0ef"
            ],
            [
             0.5,
             "#f7f7f7"
            ],
            [
             0.6,
             "#e6f5d0"
            ],
            [
             0.7,
             "#b8e186"
            ],
            [
             0.8,
             "#7fbc41"
            ],
            [
             0.9,
             "#4d9221"
            ],
            [
             1,
             "#276419"
            ]
           ],
           "sequential": [
            [
             0,
             "#0d0887"
            ],
            [
             0.1111111111111111,
             "#46039f"
            ],
            [
             0.2222222222222222,
             "#7201a8"
            ],
            [
             0.3333333333333333,
             "#9c179e"
            ],
            [
             0.4444444444444444,
             "#bd3786"
            ],
            [
             0.5555555555555556,
             "#d8576b"
            ],
            [
             0.6666666666666666,
             "#ed7953"
            ],
            [
             0.7777777777777778,
             "#fb9f3a"
            ],
            [
             0.8888888888888888,
             "#fdca26"
            ],
            [
             1,
             "#f0f921"
            ]
           ],
           "sequentialminus": [
            [
             0,
             "#0d0887"
            ],
            [
             0.1111111111111111,
             "#46039f"
            ],
            [
             0.2222222222222222,
             "#7201a8"
            ],
            [
             0.3333333333333333,
             "#9c179e"
            ],
            [
             0.4444444444444444,
             "#bd3786"
            ],
            [
             0.5555555555555556,
             "#d8576b"
            ],
            [
             0.6666666666666666,
             "#ed7953"
            ],
            [
             0.7777777777777778,
             "#fb9f3a"
            ],
            [
             0.8888888888888888,
             "#fdca26"
            ],
            [
             1,
             "#f0f921"
            ]
           ]
          },
          "colorway": [
           "#636efa",
           "#EF553B",
           "#00cc96",
           "#ab63fa",
           "#FFA15A",
           "#19d3f3",
           "#FF6692",
           "#B6E880",
           "#FF97FF",
           "#FECB52"
          ],
          "font": {
           "color": "#2a3f5f"
          },
          "geo": {
           "bgcolor": "white",
           "lakecolor": "white",
           "landcolor": "#E5ECF6",
           "showlakes": true,
           "showland": true,
           "subunitcolor": "white"
          },
          "hoverlabel": {
           "align": "left"
          },
          "hovermode": "closest",
          "mapbox": {
           "style": "light"
          },
          "paper_bgcolor": "white",
          "plot_bgcolor": "#E5ECF6",
          "polar": {
           "angularaxis": {
            "gridcolor": "white",
            "linecolor": "white",
            "ticks": ""
           },
           "bgcolor": "#E5ECF6",
           "radialaxis": {
            "gridcolor": "white",
            "linecolor": "white",
            "ticks": ""
           }
          },
          "scene": {
           "xaxis": {
            "backgroundcolor": "#E5ECF6",
            "gridcolor": "white",
            "gridwidth": 2,
            "linecolor": "white",
            "showbackground": true,
            "ticks": "",
            "zerolinecolor": "white"
           },
           "yaxis": {
            "backgroundcolor": "#E5ECF6",
            "gridcolor": "white",
            "gridwidth": 2,
            "linecolor": "white",
            "showbackground": true,
            "ticks": "",
            "zerolinecolor": "white"
           },
           "zaxis": {
            "backgroundcolor": "#E5ECF6",
            "gridcolor": "white",
            "gridwidth": 2,
            "linecolor": "white",
            "showbackground": true,
            "ticks": "",
            "zerolinecolor": "white"
           }
          },
          "shapedefaults": {
           "line": {
            "color": "#2a3f5f"
           }
          },
          "ternary": {
           "aaxis": {
            "gridcolor": "white",
            "linecolor": "white",
            "ticks": ""
           },
           "baxis": {
            "gridcolor": "white",
            "linecolor": "white",
            "ticks": ""
           },
           "bgcolor": "#E5ECF6",
           "caxis": {
            "gridcolor": "white",
            "linecolor": "white",
            "ticks": ""
           }
          },
          "title": {
           "x": 0.05
          },
          "xaxis": {
           "automargin": true,
           "gridcolor": "white",
           "linecolor": "white",
           "ticks": "",
           "title": {
            "standoff": 15
           },
           "zerolinecolor": "white",
           "zerolinewidth": 2
          },
          "yaxis": {
           "automargin": true,
           "gridcolor": "white",
           "linecolor": "white",
           "ticks": "",
           "title": {
            "standoff": 15
           },
           "zerolinecolor": "white",
           "zerolinewidth": 2
          }
         }
        },
        "title": {
         "text": "Cantidad de nodos según el peso mínimo del nodo"
        },
        "xaxis": {
         "anchor": "y",
         "domain": [
          0,
          1
         ],
         "title": {
          "text": "peso mínimo de los nodos"
         }
        },
        "yaxis": {
         "anchor": "x",
         "domain": [
          0,
          1
         ],
         "title": {
          "text": "cantidad de nodos"
         }
        }
       }
      },
      "text/html": [
       "<div>                            <div id=\"8d760f25-0f13-4e8e-b7e8-ab73d3c66798\" class=\"plotly-graph-div\" style=\"height:525px; width:100%;\"></div>            <script type=\"text/javascript\">                require([\"plotly\"], function(Plotly) {                    window.PLOTLYENV=window.PLOTLYENV || {};                                    if (document.getElementById(\"8d760f25-0f13-4e8e-b7e8-ab73d3c66798\")) {                    Plotly.newPlot(                        \"8d760f25-0f13-4e8e-b7e8-ab73d3c66798\",                        [{\"hovertemplate\":\"x=%{x}<br>y=%{y}<extra></extra>\",\"legendgroup\":\"\",\"marker\":{\"color\":\"#636efa\",\"symbol\":\"circle\"},\"mode\":\"markers\",\"name\":\"\",\"orientation\":\"v\",\"showlegend\":false,\"x\":[1,2,3,4,5,6,7,8,9,10,11,12,13,14,15,16,17,18,19,20,21,22,23,24,25,26,27,28,29,30,31,32,33,34,35,36,37,38,39,40,41,42,43,44,45,46,47,48,49,50,51,52,53,54,55,56,57,58,59,60,61,62,63,64,65,66,67,68,69,70,71,72,73,74,75,76,77,78,79,80,81,82,83,84,85,86,87,88,89,90,91,92,93,94,95,96,97,98,99,100,101,102,103,104,105,106,107,108,109,110,111,112,113,114,115,116,117,118,119,120,121,122,123,124,125,126,127,128,129,130,131,132,133,134,135,136,137,138,139,140,141,142,143,144,145,146,147,148,149,150,151,152,153,154,155,156,157,158,159,160,161,162,163,164,165,166,167,168,169,170,171,172,173,174,175,176,177,178,179,180,181,182,183,184,185,186,187,188,189,190,191,192,193,194,195,196,197,198,199,200,201,202,203,204,205,206,207,208,209,210,211,212,213,214,215,216,217,218,219,220,221,222,223,224,225,226,227,228,229,230,231,232,233,234,235,236,237,238,239,240,241,242,243,244,245,246,247,248,249,250,251,252,253,254,255,256,257,258,259,260,261,262,263,264,265,266,267,268,269,270,271,272,273,274,275,276,277,278,279,280,281,282,283,284,285,286,287,288,289,290,291,292,293,294,295,296,297,298,299,300,301,302,303,304,305,306,307,308,309,310,311,312,313,314,315,316,317,318,319,320,321,322,323,324,325,326,327,328,329,330,331,332,333,334,335,336,337,338,339,340,341,342,343,344,345,346,347,348,349,350,351,352,353,354,355,356,357,358,359,360,361,362,363,364,365,366,367,368,369,370,371,372,373,374,375,376,377,378,379,380,381,382,383,384,385,386,387,388,389,390,391,392,393,394,395,396,397,398,399],\"xaxis\":\"x\",\"y\":[221,143,88,66,54,46,40,32,28,22,19,16,14,13,12,11,11,9,9,9,8,7,7,7,6,6,6,6,6,6,6,6,6,6,6,5,5,4,4,4,4,4,3,2,1,1,1,1,1,1,1,1,1,1,1,1,1,0,0,0,0,0,0,0,0,0,0,0,0,0,0,0,0,0,0,0,0,0,0,0,0,0,0,0,0,0,0,0,0,0,0,0,0,0,0,0,0,0,0,0,0,0,0,0,0,0,0,0,0,0,0,0,0,0,0,0,0,0,0,0,0,0,0,0,0,0,0,0,0,0,0,0,0,0,0,0,0,0,0,0,0,0,0,0,0,0,0,0,0,0,0,0,0,0,0,0,0,0,0,0,0,0,0,0,0,0,0,0,0,0,0,0,0,0,0,0,0,0,0,0,0,0,0,0,0,0,0,0,0,0,0,0,0,0,0,0,0,0,0,0,0,0,0,0,0,0,0,0,0,0,0,0,0,0,0,0,0,0,0,0,0,0,0,0,0,0,0,0,0,0,0,0,0,0,0,0,0,0,0,0,0,0,0,0,0,0,0,0,0,0,0,0,0,0,0,0,0,0,0,0,0,0,0,0,0,0,0,0,0,0,0,0,0,0,0,0,0,0,0,0,0,0,0,0,0,0,0,0,0,0,0,0,0,0,0,0,0,0,0,0,0,0,0,0,0,0,0,0,0,0,0,0,0,0,0,0,0,0,0,0,0,0,0,0,0,0,0,0,0,0,0,0,0,0,0,0,0,0,0,0,0,0,0,0,0,0,0,0,0,0,0,0,0,0,0,0,0,0,0,0,0,0,0,0,0,0,0,0,0,0,0,0,0,0,0,0,0,0,0,0,0,0,0,0,0,0,0,0,0,0,0,0,0,0,0,0,0,0,0],\"yaxis\":\"y\",\"type\":\"scatter\"}],                        {\"template\":{\"data\":{\"histogram2dcontour\":[{\"type\":\"histogram2dcontour\",\"colorbar\":{\"outlinewidth\":0,\"ticks\":\"\"},\"colorscale\":[[0.0,\"#0d0887\"],[0.1111111111111111,\"#46039f\"],[0.2222222222222222,\"#7201a8\"],[0.3333333333333333,\"#9c179e\"],[0.4444444444444444,\"#bd3786\"],[0.5555555555555556,\"#d8576b\"],[0.6666666666666666,\"#ed7953\"],[0.7777777777777778,\"#fb9f3a\"],[0.8888888888888888,\"#fdca26\"],[1.0,\"#f0f921\"]]}],\"choropleth\":[{\"type\":\"choropleth\",\"colorbar\":{\"outlinewidth\":0,\"ticks\":\"\"}}],\"histogram2d\":[{\"type\":\"histogram2d\",\"colorbar\":{\"outlinewidth\":0,\"ticks\":\"\"},\"colorscale\":[[0.0,\"#0d0887\"],[0.1111111111111111,\"#46039f\"],[0.2222222222222222,\"#7201a8\"],[0.3333333333333333,\"#9c179e\"],[0.4444444444444444,\"#bd3786\"],[0.5555555555555556,\"#d8576b\"],[0.6666666666666666,\"#ed7953\"],[0.7777777777777778,\"#fb9f3a\"],[0.8888888888888888,\"#fdca26\"],[1.0,\"#f0f921\"]]}],\"heatmap\":[{\"type\":\"heatmap\",\"colorbar\":{\"outlinewidth\":0,\"ticks\":\"\"},\"colorscale\":[[0.0,\"#0d0887\"],[0.1111111111111111,\"#46039f\"],[0.2222222222222222,\"#7201a8\"],[0.3333333333333333,\"#9c179e\"],[0.4444444444444444,\"#bd3786\"],[0.5555555555555556,\"#d8576b\"],[0.6666666666666666,\"#ed7953\"],[0.7777777777777778,\"#fb9f3a\"],[0.8888888888888888,\"#fdca26\"],[1.0,\"#f0f921\"]]}],\"heatmapgl\":[{\"type\":\"heatmapgl\",\"colorbar\":{\"outlinewidth\":0,\"ticks\":\"\"},\"colorscale\":[[0.0,\"#0d0887\"],[0.1111111111111111,\"#46039f\"],[0.2222222222222222,\"#7201a8\"],[0.3333333333333333,\"#9c179e\"],[0.4444444444444444,\"#bd3786\"],[0.5555555555555556,\"#d8576b\"],[0.6666666666666666,\"#ed7953\"],[0.7777777777777778,\"#fb9f3a\"],[0.8888888888888888,\"#fdca26\"],[1.0,\"#f0f921\"]]}],\"contourcarpet\":[{\"type\":\"contourcarpet\",\"colorbar\":{\"outlinewidth\":0,\"ticks\":\"\"}}],\"contour\":[{\"type\":\"contour\",\"colorbar\":{\"outlinewidth\":0,\"ticks\":\"\"},\"colorscale\":[[0.0,\"#0d0887\"],[0.1111111111111111,\"#46039f\"],[0.2222222222222222,\"#7201a8\"],[0.3333333333333333,\"#9c179e\"],[0.4444444444444444,\"#bd3786\"],[0.5555555555555556,\"#d8576b\"],[0.6666666666666666,\"#ed7953\"],[0.7777777777777778,\"#fb9f3a\"],[0.8888888888888888,\"#fdca26\"],[1.0,\"#f0f921\"]]}],\"surface\":[{\"type\":\"surface\",\"colorbar\":{\"outlinewidth\":0,\"ticks\":\"\"},\"colorscale\":[[0.0,\"#0d0887\"],[0.1111111111111111,\"#46039f\"],[0.2222222222222222,\"#7201a8\"],[0.3333333333333333,\"#9c179e\"],[0.4444444444444444,\"#bd3786\"],[0.5555555555555556,\"#d8576b\"],[0.6666666666666666,\"#ed7953\"],[0.7777777777777778,\"#fb9f3a\"],[0.8888888888888888,\"#fdca26\"],[1.0,\"#f0f921\"]]}],\"mesh3d\":[{\"type\":\"mesh3d\",\"colorbar\":{\"outlinewidth\":0,\"ticks\":\"\"}}],\"scatter\":[{\"fillpattern\":{\"fillmode\":\"overlay\",\"size\":10,\"solidity\":0.2},\"type\":\"scatter\"}],\"parcoords\":[{\"type\":\"parcoords\",\"line\":{\"colorbar\":{\"outlinewidth\":0,\"ticks\":\"\"}}}],\"scatterpolargl\":[{\"type\":\"scatterpolargl\",\"marker\":{\"colorbar\":{\"outlinewidth\":0,\"ticks\":\"\"}}}],\"bar\":[{\"error_x\":{\"color\":\"#2a3f5f\"},\"error_y\":{\"color\":\"#2a3f5f\"},\"marker\":{\"line\":{\"color\":\"#E5ECF6\",\"width\":0.5},\"pattern\":{\"fillmode\":\"overlay\",\"size\":10,\"solidity\":0.2}},\"type\":\"bar\"}],\"scattergeo\":[{\"type\":\"scattergeo\",\"marker\":{\"colorbar\":{\"outlinewidth\":0,\"ticks\":\"\"}}}],\"scatterpolar\":[{\"type\":\"scatterpolar\",\"marker\":{\"colorbar\":{\"outlinewidth\":0,\"ticks\":\"\"}}}],\"histogram\":[{\"marker\":{\"pattern\":{\"fillmode\":\"overlay\",\"size\":10,\"solidity\":0.2}},\"type\":\"histogram\"}],\"scattergl\":[{\"type\":\"scattergl\",\"marker\":{\"colorbar\":{\"outlinewidth\":0,\"ticks\":\"\"}}}],\"scatter3d\":[{\"type\":\"scatter3d\",\"line\":{\"colorbar\":{\"outlinewidth\":0,\"ticks\":\"\"}},\"marker\":{\"colorbar\":{\"outlinewidth\":0,\"ticks\":\"\"}}}],\"scattermapbox\":[{\"type\":\"scattermapbox\",\"marker\":{\"colorbar\":{\"outlinewidth\":0,\"ticks\":\"\"}}}],\"scatterternary\":[{\"type\":\"scatterternary\",\"marker\":{\"colorbar\":{\"outlinewidth\":0,\"ticks\":\"\"}}}],\"scattercarpet\":[{\"type\":\"scattercarpet\",\"marker\":{\"colorbar\":{\"outlinewidth\":0,\"ticks\":\"\"}}}],\"carpet\":[{\"aaxis\":{\"endlinecolor\":\"#2a3f5f\",\"gridcolor\":\"white\",\"linecolor\":\"white\",\"minorgridcolor\":\"white\",\"startlinecolor\":\"#2a3f5f\"},\"baxis\":{\"endlinecolor\":\"#2a3f5f\",\"gridcolor\":\"white\",\"linecolor\":\"white\",\"minorgridcolor\":\"white\",\"startlinecolor\":\"#2a3f5f\"},\"type\":\"carpet\"}],\"table\":[{\"cells\":{\"fill\":{\"color\":\"#EBF0F8\"},\"line\":{\"color\":\"white\"}},\"header\":{\"fill\":{\"color\":\"#C8D4E3\"},\"line\":{\"color\":\"white\"}},\"type\":\"table\"}],\"barpolar\":[{\"marker\":{\"line\":{\"color\":\"#E5ECF6\",\"width\":0.5},\"pattern\":{\"fillmode\":\"overlay\",\"size\":10,\"solidity\":0.2}},\"type\":\"barpolar\"}],\"pie\":[{\"automargin\":true,\"type\":\"pie\"}]},\"layout\":{\"autotypenumbers\":\"strict\",\"colorway\":[\"#636efa\",\"#EF553B\",\"#00cc96\",\"#ab63fa\",\"#FFA15A\",\"#19d3f3\",\"#FF6692\",\"#B6E880\",\"#FF97FF\",\"#FECB52\"],\"font\":{\"color\":\"#2a3f5f\"},\"hovermode\":\"closest\",\"hoverlabel\":{\"align\":\"left\"},\"paper_bgcolor\":\"white\",\"plot_bgcolor\":\"#E5ECF6\",\"polar\":{\"bgcolor\":\"#E5ECF6\",\"angularaxis\":{\"gridcolor\":\"white\",\"linecolor\":\"white\",\"ticks\":\"\"},\"radialaxis\":{\"gridcolor\":\"white\",\"linecolor\":\"white\",\"ticks\":\"\"}},\"ternary\":{\"bgcolor\":\"#E5ECF6\",\"aaxis\":{\"gridcolor\":\"white\",\"linecolor\":\"white\",\"ticks\":\"\"},\"baxis\":{\"gridcolor\":\"white\",\"linecolor\":\"white\",\"ticks\":\"\"},\"caxis\":{\"gridcolor\":\"white\",\"linecolor\":\"white\",\"ticks\":\"\"}},\"coloraxis\":{\"colorbar\":{\"outlinewidth\":0,\"ticks\":\"\"}},\"colorscale\":{\"sequential\":[[0.0,\"#0d0887\"],[0.1111111111111111,\"#46039f\"],[0.2222222222222222,\"#7201a8\"],[0.3333333333333333,\"#9c179e\"],[0.4444444444444444,\"#bd3786\"],[0.5555555555555556,\"#d8576b\"],[0.6666666666666666,\"#ed7953\"],[0.7777777777777778,\"#fb9f3a\"],[0.8888888888888888,\"#fdca26\"],[1.0,\"#f0f921\"]],\"sequentialminus\":[[0.0,\"#0d0887\"],[0.1111111111111111,\"#46039f\"],[0.2222222222222222,\"#7201a8\"],[0.3333333333333333,\"#9c179e\"],[0.4444444444444444,\"#bd3786\"],[0.5555555555555556,\"#d8576b\"],[0.6666666666666666,\"#ed7953\"],[0.7777777777777778,\"#fb9f3a\"],[0.8888888888888888,\"#fdca26\"],[1.0,\"#f0f921\"]],\"diverging\":[[0,\"#8e0152\"],[0.1,\"#c51b7d\"],[0.2,\"#de77ae\"],[0.3,\"#f1b6da\"],[0.4,\"#fde0ef\"],[0.5,\"#f7f7f7\"],[0.6,\"#e6f5d0\"],[0.7,\"#b8e186\"],[0.8,\"#7fbc41\"],[0.9,\"#4d9221\"],[1,\"#276419\"]]},\"xaxis\":{\"gridcolor\":\"white\",\"linecolor\":\"white\",\"ticks\":\"\",\"title\":{\"standoff\":15},\"zerolinecolor\":\"white\",\"automargin\":true,\"zerolinewidth\":2},\"yaxis\":{\"gridcolor\":\"white\",\"linecolor\":\"white\",\"ticks\":\"\",\"title\":{\"standoff\":15},\"zerolinecolor\":\"white\",\"automargin\":true,\"zerolinewidth\":2},\"scene\":{\"xaxis\":{\"backgroundcolor\":\"#E5ECF6\",\"gridcolor\":\"white\",\"linecolor\":\"white\",\"showbackground\":true,\"ticks\":\"\",\"zerolinecolor\":\"white\",\"gridwidth\":2},\"yaxis\":{\"backgroundcolor\":\"#E5ECF6\",\"gridcolor\":\"white\",\"linecolor\":\"white\",\"showbackground\":true,\"ticks\":\"\",\"zerolinecolor\":\"white\",\"gridwidth\":2},\"zaxis\":{\"backgroundcolor\":\"#E5ECF6\",\"gridcolor\":\"white\",\"linecolor\":\"white\",\"showbackground\":true,\"ticks\":\"\",\"zerolinecolor\":\"white\",\"gridwidth\":2}},\"shapedefaults\":{\"line\":{\"color\":\"#2a3f5f\"}},\"annotationdefaults\":{\"arrowcolor\":\"#2a3f5f\",\"arrowhead\":0,\"arrowwidth\":1},\"geo\":{\"bgcolor\":\"white\",\"landcolor\":\"#E5ECF6\",\"subunitcolor\":\"white\",\"showland\":true,\"showlakes\":true,\"lakecolor\":\"white\"},\"title\":{\"x\":0.05},\"mapbox\":{\"style\":\"light\"}}},\"xaxis\":{\"anchor\":\"y\",\"domain\":[0.0,1.0],\"title\":{\"text\":\"peso m\\u00ednimo de los nodos\"}},\"yaxis\":{\"anchor\":\"x\",\"domain\":[0.0,1.0],\"title\":{\"text\":\"cantidad de nodos\"}},\"legend\":{\"tracegroupgap\":0},\"title\":{\"text\":\"Cantidad de nodos seg\\u00fan el peso m\\u00ednimo del nodo\"}},                        {\"responsive\": true}                    ).then(function(){\n",
       "                            \n",
       "var gd = document.getElementById('8d760f25-0f13-4e8e-b7e8-ab73d3c66798');\n",
       "var x = new MutationObserver(function (mutations, observer) {{\n",
       "        var display = window.getComputedStyle(gd).display;\n",
       "        if (!display || display === 'none') {{\n",
       "            console.log([gd, 'removed!']);\n",
       "            Plotly.purge(gd);\n",
       "            observer.disconnect();\n",
       "        }}\n",
       "}});\n",
       "\n",
       "// Listen for the removal of the full notebook cells\n",
       "var notebookContainer = gd.closest('#notebook-container');\n",
       "if (notebookContainer) {{\n",
       "    x.observe(notebookContainer, {childList: true});\n",
       "}}\n",
       "\n",
       "// Listen for the clearing of the current output cell\n",
       "var outputEl = gd.closest('.output');\n",
       "if (outputEl) {{\n",
       "    x.observe(outputEl, {childList: true});\n",
       "}}\n",
       "\n",
       "                        })                };                });            </script>        </div>"
      ]
     },
     "metadata": {},
     "output_type": "display_data"
    },
    {
     "name": "stdout",
     "output_type": "stream",
     "text": [
      "Cantidad de nodos de tamaño 1: 387\n",
      "Cantidad de nodos de tamaño 2: 78\n",
      "3\n",
      "Cantidad de aristas de tamaño 1: 4467\n",
      "Cantidad de aristas de tamaño 2: 360\n",
      "4\n"
     ]
    },
    {
     "data": {
      "application/vnd.plotly.v1+json": {
       "config": {
        "plotlyServerURL": "https://plot.ly"
       },
       "data": [
        {
         "hovertemplate": "x=%{x}<br>y=%{y}<extra></extra>",
         "legendgroup": "",
         "marker": {
          "color": "#636efa",
          "symbol": "circle"
         },
         "mode": "markers",
         "name": "",
         "orientation": "v",
         "showlegend": false,
         "type": "scatter",
         "x": [
          1,
          2,
          3,
          4,
          5,
          6,
          7,
          8,
          9,
          10,
          11,
          12,
          13,
          14,
          15,
          16,
          17,
          18,
          19,
          20,
          21,
          22,
          23,
          24,
          25,
          26,
          27,
          28,
          29,
          30,
          31,
          32,
          33,
          34,
          35,
          36,
          37,
          38,
          39,
          40,
          41,
          42,
          43,
          44,
          45,
          46,
          47,
          48,
          49,
          50,
          51,
          52,
          53,
          54,
          55,
          56,
          57,
          58,
          59,
          60,
          61,
          62,
          63,
          64,
          65,
          66,
          67,
          68,
          69,
          70,
          71,
          72,
          73,
          74,
          75,
          76,
          77,
          78,
          79,
          80,
          81,
          82,
          83,
          84,
          85,
          86,
          87,
          88,
          89,
          90,
          91,
          92,
          93,
          94,
          95,
          96,
          97,
          98,
          99,
          100,
          101,
          102,
          103,
          104,
          105,
          106,
          107,
          108,
          109,
          110,
          111,
          112,
          113,
          114,
          115,
          116,
          117,
          118,
          119,
          120,
          121,
          122,
          123,
          124,
          125,
          126,
          127,
          128,
          129,
          130,
          131,
          132,
          133,
          134,
          135,
          136,
          137,
          138,
          139,
          140,
          141,
          142,
          143,
          144,
          145,
          146,
          147,
          148,
          149,
          150,
          151,
          152,
          153,
          154,
          155,
          156,
          157,
          158,
          159,
          160,
          161,
          162,
          163,
          164,
          165,
          166,
          167,
          168,
          169,
          170,
          171,
          172,
          173,
          174,
          175,
          176,
          177,
          178,
          179,
          180,
          181,
          182,
          183,
          184,
          185,
          186,
          187,
          188,
          189,
          190,
          191,
          192,
          193,
          194,
          195,
          196,
          197,
          198,
          199,
          200,
          201,
          202,
          203,
          204,
          205,
          206,
          207,
          208,
          209,
          210,
          211,
          212,
          213,
          214,
          215,
          216,
          217,
          218,
          219,
          220,
          221,
          222,
          223,
          224,
          225,
          226,
          227,
          228,
          229,
          230,
          231,
          232,
          233,
          234,
          235,
          236,
          237,
          238,
          239,
          240,
          241,
          242,
          243,
          244,
          245,
          246,
          247,
          248,
          249,
          250,
          251,
          252,
          253,
          254,
          255,
          256,
          257,
          258,
          259,
          260,
          261,
          262,
          263,
          264,
          265,
          266,
          267,
          268,
          269,
          270,
          271,
          272,
          273,
          274,
          275,
          276,
          277,
          278,
          279,
          280,
          281,
          282,
          283,
          284,
          285,
          286,
          287,
          288,
          289,
          290,
          291,
          292,
          293,
          294,
          295,
          296,
          297,
          298,
          299,
          300,
          301,
          302,
          303,
          304,
          305,
          306,
          307,
          308,
          309,
          310,
          311,
          312,
          313,
          314,
          315,
          316,
          317,
          318,
          319,
          320,
          321,
          322,
          323,
          324,
          325,
          326,
          327,
          328,
          329,
          330,
          331,
          332,
          333,
          334,
          335,
          336,
          337,
          338,
          339,
          340,
          341,
          342,
          343,
          344,
          345,
          346,
          347,
          348,
          349,
          350,
          351,
          352,
          353,
          354,
          355,
          356,
          357,
          358,
          359,
          360,
          361,
          362,
          363,
          364,
          365,
          366,
          367,
          368,
          369,
          370,
          371,
          372,
          373,
          374,
          375,
          376,
          377,
          378,
          379,
          380,
          381,
          382,
          383,
          384,
          385,
          386,
          387,
          388,
          389,
          390,
          391,
          392,
          393,
          394,
          395,
          396,
          397,
          398,
          399
         ],
         "xaxis": "x",
         "y": [
          5003,
          536,
          176,
          83,
          53,
          38,
          26,
          20,
          12,
          12,
          10,
          10,
          9,
          7,
          5,
          4,
          3,
          3,
          2,
          1,
          1,
          1,
          1,
          1,
          1,
          1,
          1,
          1,
          1,
          1,
          1,
          0,
          0,
          0,
          0,
          0,
          0,
          0,
          0,
          0,
          0,
          0,
          0,
          0,
          0,
          0,
          0,
          0,
          0,
          0,
          0,
          0,
          0,
          0,
          0,
          0,
          0,
          0,
          0,
          0,
          0,
          0,
          0,
          0,
          0,
          0,
          0,
          0,
          0,
          0,
          0,
          0,
          0,
          0,
          0,
          0,
          0,
          0,
          0,
          0,
          0,
          0,
          0,
          0,
          0,
          0,
          0,
          0,
          0,
          0,
          0,
          0,
          0,
          0,
          0,
          0,
          0,
          0,
          0,
          0,
          0,
          0,
          0,
          0,
          0,
          0,
          0,
          0,
          0,
          0,
          0,
          0,
          0,
          0,
          0,
          0,
          0,
          0,
          0,
          0,
          0,
          0,
          0,
          0,
          0,
          0,
          0,
          0,
          0,
          0,
          0,
          0,
          0,
          0,
          0,
          0,
          0,
          0,
          0,
          0,
          0,
          0,
          0,
          0,
          0,
          0,
          0,
          0,
          0,
          0,
          0,
          0,
          0,
          0,
          0,
          0,
          0,
          0,
          0,
          0,
          0,
          0,
          0,
          0,
          0,
          0,
          0,
          0,
          0,
          0,
          0,
          0,
          0,
          0,
          0,
          0,
          0,
          0,
          0,
          0,
          0,
          0,
          0,
          0,
          0,
          0,
          0,
          0,
          0,
          0,
          0,
          0,
          0,
          0,
          0,
          0,
          0,
          0,
          0,
          0,
          0,
          0,
          0,
          0,
          0,
          0,
          0,
          0,
          0,
          0,
          0,
          0,
          0,
          0,
          0,
          0,
          0,
          0,
          0,
          0,
          0,
          0,
          0,
          0,
          0,
          0,
          0,
          0,
          0,
          0,
          0,
          0,
          0,
          0,
          0,
          0,
          0,
          0,
          0,
          0,
          0,
          0,
          0,
          0,
          0,
          0,
          0,
          0,
          0,
          0,
          0,
          0,
          0,
          0,
          0,
          0,
          0,
          0,
          0,
          0,
          0,
          0,
          0,
          0,
          0,
          0,
          0,
          0,
          0,
          0,
          0,
          0,
          0,
          0,
          0,
          0,
          0,
          0,
          0,
          0,
          0,
          0,
          0,
          0,
          0,
          0,
          0,
          0,
          0,
          0,
          0,
          0,
          0,
          0,
          0,
          0,
          0,
          0,
          0,
          0,
          0,
          0,
          0,
          0,
          0,
          0,
          0,
          0,
          0,
          0,
          0,
          0,
          0,
          0,
          0,
          0,
          0,
          0,
          0,
          0,
          0,
          0,
          0,
          0,
          0,
          0,
          0,
          0,
          0,
          0,
          0,
          0,
          0,
          0,
          0,
          0,
          0,
          0,
          0,
          0,
          0,
          0,
          0,
          0,
          0,
          0,
          0,
          0,
          0,
          0,
          0,
          0,
          0,
          0,
          0,
          0,
          0,
          0,
          0,
          0,
          0,
          0,
          0,
          0,
          0,
          0,
          0,
          0,
          0,
          0,
          0,
          0,
          0,
          0,
          0,
          0,
          0,
          0,
          0,
          0,
          0,
          0,
          0,
          0,
          0,
          0,
          0,
          0,
          0,
          0,
          0,
          0,
          0,
          0,
          0,
          0,
          0,
          0,
          0
         ],
         "yaxis": "y"
        }
       ],
       "layout": {
        "legend": {
         "tracegroupgap": 0
        },
        "template": {
         "data": {
          "bar": [
           {
            "error_x": {
             "color": "#2a3f5f"
            },
            "error_y": {
             "color": "#2a3f5f"
            },
            "marker": {
             "line": {
              "color": "#E5ECF6",
              "width": 0.5
             },
             "pattern": {
              "fillmode": "overlay",
              "size": 10,
              "solidity": 0.2
             }
            },
            "type": "bar"
           }
          ],
          "barpolar": [
           {
            "marker": {
             "line": {
              "color": "#E5ECF6",
              "width": 0.5
             },
             "pattern": {
              "fillmode": "overlay",
              "size": 10,
              "solidity": 0.2
             }
            },
            "type": "barpolar"
           }
          ],
          "carpet": [
           {
            "aaxis": {
             "endlinecolor": "#2a3f5f",
             "gridcolor": "white",
             "linecolor": "white",
             "minorgridcolor": "white",
             "startlinecolor": "#2a3f5f"
            },
            "baxis": {
             "endlinecolor": "#2a3f5f",
             "gridcolor": "white",
             "linecolor": "white",
             "minorgridcolor": "white",
             "startlinecolor": "#2a3f5f"
            },
            "type": "carpet"
           }
          ],
          "choropleth": [
           {
            "colorbar": {
             "outlinewidth": 0,
             "ticks": ""
            },
            "type": "choropleth"
           }
          ],
          "contour": [
           {
            "colorbar": {
             "outlinewidth": 0,
             "ticks": ""
            },
            "colorscale": [
             [
              0,
              "#0d0887"
             ],
             [
              0.1111111111111111,
              "#46039f"
             ],
             [
              0.2222222222222222,
              "#7201a8"
             ],
             [
              0.3333333333333333,
              "#9c179e"
             ],
             [
              0.4444444444444444,
              "#bd3786"
             ],
             [
              0.5555555555555556,
              "#d8576b"
             ],
             [
              0.6666666666666666,
              "#ed7953"
             ],
             [
              0.7777777777777778,
              "#fb9f3a"
             ],
             [
              0.8888888888888888,
              "#fdca26"
             ],
             [
              1,
              "#f0f921"
             ]
            ],
            "type": "contour"
           }
          ],
          "contourcarpet": [
           {
            "colorbar": {
             "outlinewidth": 0,
             "ticks": ""
            },
            "type": "contourcarpet"
           }
          ],
          "heatmap": [
           {
            "colorbar": {
             "outlinewidth": 0,
             "ticks": ""
            },
            "colorscale": [
             [
              0,
              "#0d0887"
             ],
             [
              0.1111111111111111,
              "#46039f"
             ],
             [
              0.2222222222222222,
              "#7201a8"
             ],
             [
              0.3333333333333333,
              "#9c179e"
             ],
             [
              0.4444444444444444,
              "#bd3786"
             ],
             [
              0.5555555555555556,
              "#d8576b"
             ],
             [
              0.6666666666666666,
              "#ed7953"
             ],
             [
              0.7777777777777778,
              "#fb9f3a"
             ],
             [
              0.8888888888888888,
              "#fdca26"
             ],
             [
              1,
              "#f0f921"
             ]
            ],
            "type": "heatmap"
           }
          ],
          "heatmapgl": [
           {
            "colorbar": {
             "outlinewidth": 0,
             "ticks": ""
            },
            "colorscale": [
             [
              0,
              "#0d0887"
             ],
             [
              0.1111111111111111,
              "#46039f"
             ],
             [
              0.2222222222222222,
              "#7201a8"
             ],
             [
              0.3333333333333333,
              "#9c179e"
             ],
             [
              0.4444444444444444,
              "#bd3786"
             ],
             [
              0.5555555555555556,
              "#d8576b"
             ],
             [
              0.6666666666666666,
              "#ed7953"
             ],
             [
              0.7777777777777778,
              "#fb9f3a"
             ],
             [
              0.8888888888888888,
              "#fdca26"
             ],
             [
              1,
              "#f0f921"
             ]
            ],
            "type": "heatmapgl"
           }
          ],
          "histogram": [
           {
            "marker": {
             "pattern": {
              "fillmode": "overlay",
              "size": 10,
              "solidity": 0.2
             }
            },
            "type": "histogram"
           }
          ],
          "histogram2d": [
           {
            "colorbar": {
             "outlinewidth": 0,
             "ticks": ""
            },
            "colorscale": [
             [
              0,
              "#0d0887"
             ],
             [
              0.1111111111111111,
              "#46039f"
             ],
             [
              0.2222222222222222,
              "#7201a8"
             ],
             [
              0.3333333333333333,
              "#9c179e"
             ],
             [
              0.4444444444444444,
              "#bd3786"
             ],
             [
              0.5555555555555556,
              "#d8576b"
             ],
             [
              0.6666666666666666,
              "#ed7953"
             ],
             [
              0.7777777777777778,
              "#fb9f3a"
             ],
             [
              0.8888888888888888,
              "#fdca26"
             ],
             [
              1,
              "#f0f921"
             ]
            ],
            "type": "histogram2d"
           }
          ],
          "histogram2dcontour": [
           {
            "colorbar": {
             "outlinewidth": 0,
             "ticks": ""
            },
            "colorscale": [
             [
              0,
              "#0d0887"
             ],
             [
              0.1111111111111111,
              "#46039f"
             ],
             [
              0.2222222222222222,
              "#7201a8"
             ],
             [
              0.3333333333333333,
              "#9c179e"
             ],
             [
              0.4444444444444444,
              "#bd3786"
             ],
             [
              0.5555555555555556,
              "#d8576b"
             ],
             [
              0.6666666666666666,
              "#ed7953"
             ],
             [
              0.7777777777777778,
              "#fb9f3a"
             ],
             [
              0.8888888888888888,
              "#fdca26"
             ],
             [
              1,
              "#f0f921"
             ]
            ],
            "type": "histogram2dcontour"
           }
          ],
          "mesh3d": [
           {
            "colorbar": {
             "outlinewidth": 0,
             "ticks": ""
            },
            "type": "mesh3d"
           }
          ],
          "parcoords": [
           {
            "line": {
             "colorbar": {
              "outlinewidth": 0,
              "ticks": ""
             }
            },
            "type": "parcoords"
           }
          ],
          "pie": [
           {
            "automargin": true,
            "type": "pie"
           }
          ],
          "scatter": [
           {
            "fillpattern": {
             "fillmode": "overlay",
             "size": 10,
             "solidity": 0.2
            },
            "type": "scatter"
           }
          ],
          "scatter3d": [
           {
            "line": {
             "colorbar": {
              "outlinewidth": 0,
              "ticks": ""
             }
            },
            "marker": {
             "colorbar": {
              "outlinewidth": 0,
              "ticks": ""
             }
            },
            "type": "scatter3d"
           }
          ],
          "scattercarpet": [
           {
            "marker": {
             "colorbar": {
              "outlinewidth": 0,
              "ticks": ""
             }
            },
            "type": "scattercarpet"
           }
          ],
          "scattergeo": [
           {
            "marker": {
             "colorbar": {
              "outlinewidth": 0,
              "ticks": ""
             }
            },
            "type": "scattergeo"
           }
          ],
          "scattergl": [
           {
            "marker": {
             "colorbar": {
              "outlinewidth": 0,
              "ticks": ""
             }
            },
            "type": "scattergl"
           }
          ],
          "scattermapbox": [
           {
            "marker": {
             "colorbar": {
              "outlinewidth": 0,
              "ticks": ""
             }
            },
            "type": "scattermapbox"
           }
          ],
          "scatterpolar": [
           {
            "marker": {
             "colorbar": {
              "outlinewidth": 0,
              "ticks": ""
             }
            },
            "type": "scatterpolar"
           }
          ],
          "scatterpolargl": [
           {
            "marker": {
             "colorbar": {
              "outlinewidth": 0,
              "ticks": ""
             }
            },
            "type": "scatterpolargl"
           }
          ],
          "scatterternary": [
           {
            "marker": {
             "colorbar": {
              "outlinewidth": 0,
              "ticks": ""
             }
            },
            "type": "scatterternary"
           }
          ],
          "surface": [
           {
            "colorbar": {
             "outlinewidth": 0,
             "ticks": ""
            },
            "colorscale": [
             [
              0,
              "#0d0887"
             ],
             [
              0.1111111111111111,
              "#46039f"
             ],
             [
              0.2222222222222222,
              "#7201a8"
             ],
             [
              0.3333333333333333,
              "#9c179e"
             ],
             [
              0.4444444444444444,
              "#bd3786"
             ],
             [
              0.5555555555555556,
              "#d8576b"
             ],
             [
              0.6666666666666666,
              "#ed7953"
             ],
             [
              0.7777777777777778,
              "#fb9f3a"
             ],
             [
              0.8888888888888888,
              "#fdca26"
             ],
             [
              1,
              "#f0f921"
             ]
            ],
            "type": "surface"
           }
          ],
          "table": [
           {
            "cells": {
             "fill": {
              "color": "#EBF0F8"
             },
             "line": {
              "color": "white"
             }
            },
            "header": {
             "fill": {
              "color": "#C8D4E3"
             },
             "line": {
              "color": "white"
             }
            },
            "type": "table"
           }
          ]
         },
         "layout": {
          "annotationdefaults": {
           "arrowcolor": "#2a3f5f",
           "arrowhead": 0,
           "arrowwidth": 1
          },
          "autotypenumbers": "strict",
          "coloraxis": {
           "colorbar": {
            "outlinewidth": 0,
            "ticks": ""
           }
          },
          "colorscale": {
           "diverging": [
            [
             0,
             "#8e0152"
            ],
            [
             0.1,
             "#c51b7d"
            ],
            [
             0.2,
             "#de77ae"
            ],
            [
             0.3,
             "#f1b6da"
            ],
            [
             0.4,
             "#fde0ef"
            ],
            [
             0.5,
             "#f7f7f7"
            ],
            [
             0.6,
             "#e6f5d0"
            ],
            [
             0.7,
             "#b8e186"
            ],
            [
             0.8,
             "#7fbc41"
            ],
            [
             0.9,
             "#4d9221"
            ],
            [
             1,
             "#276419"
            ]
           ],
           "sequential": [
            [
             0,
             "#0d0887"
            ],
            [
             0.1111111111111111,
             "#46039f"
            ],
            [
             0.2222222222222222,
             "#7201a8"
            ],
            [
             0.3333333333333333,
             "#9c179e"
            ],
            [
             0.4444444444444444,
             "#bd3786"
            ],
            [
             0.5555555555555556,
             "#d8576b"
            ],
            [
             0.6666666666666666,
             "#ed7953"
            ],
            [
             0.7777777777777778,
             "#fb9f3a"
            ],
            [
             0.8888888888888888,
             "#fdca26"
            ],
            [
             1,
             "#f0f921"
            ]
           ],
           "sequentialminus": [
            [
             0,
             "#0d0887"
            ],
            [
             0.1111111111111111,
             "#46039f"
            ],
            [
             0.2222222222222222,
             "#7201a8"
            ],
            [
             0.3333333333333333,
             "#9c179e"
            ],
            [
             0.4444444444444444,
             "#bd3786"
            ],
            [
             0.5555555555555556,
             "#d8576b"
            ],
            [
             0.6666666666666666,
             "#ed7953"
            ],
            [
             0.7777777777777778,
             "#fb9f3a"
            ],
            [
             0.8888888888888888,
             "#fdca26"
            ],
            [
             1,
             "#f0f921"
            ]
           ]
          },
          "colorway": [
           "#636efa",
           "#EF553B",
           "#00cc96",
           "#ab63fa",
           "#FFA15A",
           "#19d3f3",
           "#FF6692",
           "#B6E880",
           "#FF97FF",
           "#FECB52"
          ],
          "font": {
           "color": "#2a3f5f"
          },
          "geo": {
           "bgcolor": "white",
           "lakecolor": "white",
           "landcolor": "#E5ECF6",
           "showlakes": true,
           "showland": true,
           "subunitcolor": "white"
          },
          "hoverlabel": {
           "align": "left"
          },
          "hovermode": "closest",
          "mapbox": {
           "style": "light"
          },
          "paper_bgcolor": "white",
          "plot_bgcolor": "#E5ECF6",
          "polar": {
           "angularaxis": {
            "gridcolor": "white",
            "linecolor": "white",
            "ticks": ""
           },
           "bgcolor": "#E5ECF6",
           "radialaxis": {
            "gridcolor": "white",
            "linecolor": "white",
            "ticks": ""
           }
          },
          "scene": {
           "xaxis": {
            "backgroundcolor": "#E5ECF6",
            "gridcolor": "white",
            "gridwidth": 2,
            "linecolor": "white",
            "showbackground": true,
            "ticks": "",
            "zerolinecolor": "white"
           },
           "yaxis": {
            "backgroundcolor": "#E5ECF6",
            "gridcolor": "white",
            "gridwidth": 2,
            "linecolor": "white",
            "showbackground": true,
            "ticks": "",
            "zerolinecolor": "white"
           },
           "zaxis": {
            "backgroundcolor": "#E5ECF6",
            "gridcolor": "white",
            "gridwidth": 2,
            "linecolor": "white",
            "showbackground": true,
            "ticks": "",
            "zerolinecolor": "white"
           }
          },
          "shapedefaults": {
           "line": {
            "color": "#2a3f5f"
           }
          },
          "ternary": {
           "aaxis": {
            "gridcolor": "white",
            "linecolor": "white",
            "ticks": ""
           },
           "baxis": {
            "gridcolor": "white",
            "linecolor": "white",
            "ticks": ""
           },
           "bgcolor": "#E5ECF6",
           "caxis": {
            "gridcolor": "white",
            "linecolor": "white",
            "ticks": ""
           }
          },
          "title": {
           "x": 0.05
          },
          "xaxis": {
           "automargin": true,
           "gridcolor": "white",
           "linecolor": "white",
           "ticks": "",
           "title": {
            "standoff": 15
           },
           "zerolinecolor": "white",
           "zerolinewidth": 2
          },
          "yaxis": {
           "automargin": true,
           "gridcolor": "white",
           "linecolor": "white",
           "ticks": "",
           "title": {
            "standoff": 15
           },
           "zerolinecolor": "white",
           "zerolinewidth": 2
          }
         }
        },
        "title": {
         "text": "Cantidad de aristas  según peso mínimo de las aristas"
        },
        "xaxis": {
         "anchor": "y",
         "domain": [
          0,
          1
         ],
         "title": {
          "text": "peso mínimo de las aristas"
         }
        },
        "yaxis": {
         "anchor": "x",
         "domain": [
          0,
          1
         ],
         "title": {
          "text": "cantidad de aristas"
         }
        }
       }
      },
      "text/html": [
       "<div>                            <div id=\"87ed7e79-fe10-4998-a034-c2768ce31696\" class=\"plotly-graph-div\" style=\"height:525px; width:100%;\"></div>            <script type=\"text/javascript\">                require([\"plotly\"], function(Plotly) {                    window.PLOTLYENV=window.PLOTLYENV || {};                                    if (document.getElementById(\"87ed7e79-fe10-4998-a034-c2768ce31696\")) {                    Plotly.newPlot(                        \"87ed7e79-fe10-4998-a034-c2768ce31696\",                        [{\"hovertemplate\":\"x=%{x}<br>y=%{y}<extra></extra>\",\"legendgroup\":\"\",\"marker\":{\"color\":\"#636efa\",\"symbol\":\"circle\"},\"mode\":\"markers\",\"name\":\"\",\"orientation\":\"v\",\"showlegend\":false,\"x\":[1,2,3,4,5,6,7,8,9,10,11,12,13,14,15,16,17,18,19,20,21,22,23,24,25,26,27,28,29,30,31,32,33,34,35,36,37,38,39,40,41,42,43,44,45,46,47,48,49,50,51,52,53,54,55,56,57,58,59,60,61,62,63,64,65,66,67,68,69,70,71,72,73,74,75,76,77,78,79,80,81,82,83,84,85,86,87,88,89,90,91,92,93,94,95,96,97,98,99,100,101,102,103,104,105,106,107,108,109,110,111,112,113,114,115,116,117,118,119,120,121,122,123,124,125,126,127,128,129,130,131,132,133,134,135,136,137,138,139,140,141,142,143,144,145,146,147,148,149,150,151,152,153,154,155,156,157,158,159,160,161,162,163,164,165,166,167,168,169,170,171,172,173,174,175,176,177,178,179,180,181,182,183,184,185,186,187,188,189,190,191,192,193,194,195,196,197,198,199,200,201,202,203,204,205,206,207,208,209,210,211,212,213,214,215,216,217,218,219,220,221,222,223,224,225,226,227,228,229,230,231,232,233,234,235,236,237,238,239,240,241,242,243,244,245,246,247,248,249,250,251,252,253,254,255,256,257,258,259,260,261,262,263,264,265,266,267,268,269,270,271,272,273,274,275,276,277,278,279,280,281,282,283,284,285,286,287,288,289,290,291,292,293,294,295,296,297,298,299,300,301,302,303,304,305,306,307,308,309,310,311,312,313,314,315,316,317,318,319,320,321,322,323,324,325,326,327,328,329,330,331,332,333,334,335,336,337,338,339,340,341,342,343,344,345,346,347,348,349,350,351,352,353,354,355,356,357,358,359,360,361,362,363,364,365,366,367,368,369,370,371,372,373,374,375,376,377,378,379,380,381,382,383,384,385,386,387,388,389,390,391,392,393,394,395,396,397,398,399],\"xaxis\":\"x\",\"y\":[5003,536,176,83,53,38,26,20,12,12,10,10,9,7,5,4,3,3,2,1,1,1,1,1,1,1,1,1,1,1,1,0,0,0,0,0,0,0,0,0,0,0,0,0,0,0,0,0,0,0,0,0,0,0,0,0,0,0,0,0,0,0,0,0,0,0,0,0,0,0,0,0,0,0,0,0,0,0,0,0,0,0,0,0,0,0,0,0,0,0,0,0,0,0,0,0,0,0,0,0,0,0,0,0,0,0,0,0,0,0,0,0,0,0,0,0,0,0,0,0,0,0,0,0,0,0,0,0,0,0,0,0,0,0,0,0,0,0,0,0,0,0,0,0,0,0,0,0,0,0,0,0,0,0,0,0,0,0,0,0,0,0,0,0,0,0,0,0,0,0,0,0,0,0,0,0,0,0,0,0,0,0,0,0,0,0,0,0,0,0,0,0,0,0,0,0,0,0,0,0,0,0,0,0,0,0,0,0,0,0,0,0,0,0,0,0,0,0,0,0,0,0,0,0,0,0,0,0,0,0,0,0,0,0,0,0,0,0,0,0,0,0,0,0,0,0,0,0,0,0,0,0,0,0,0,0,0,0,0,0,0,0,0,0,0,0,0,0,0,0,0,0,0,0,0,0,0,0,0,0,0,0,0,0,0,0,0,0,0,0,0,0,0,0,0,0,0,0,0,0,0,0,0,0,0,0,0,0,0,0,0,0,0,0,0,0,0,0,0,0,0,0,0,0,0,0,0,0,0,0,0,0,0,0,0,0,0,0,0,0,0,0,0,0,0,0,0,0,0,0,0,0,0,0,0,0,0,0,0,0,0,0,0,0,0,0,0,0,0,0,0,0,0,0,0,0,0,0,0,0,0,0,0,0,0,0,0,0,0,0,0,0,0,0,0,0,0,0,0],\"yaxis\":\"y\",\"type\":\"scatter\"}],                        {\"template\":{\"data\":{\"histogram2dcontour\":[{\"type\":\"histogram2dcontour\",\"colorbar\":{\"outlinewidth\":0,\"ticks\":\"\"},\"colorscale\":[[0.0,\"#0d0887\"],[0.1111111111111111,\"#46039f\"],[0.2222222222222222,\"#7201a8\"],[0.3333333333333333,\"#9c179e\"],[0.4444444444444444,\"#bd3786\"],[0.5555555555555556,\"#d8576b\"],[0.6666666666666666,\"#ed7953\"],[0.7777777777777778,\"#fb9f3a\"],[0.8888888888888888,\"#fdca26\"],[1.0,\"#f0f921\"]]}],\"choropleth\":[{\"type\":\"choropleth\",\"colorbar\":{\"outlinewidth\":0,\"ticks\":\"\"}}],\"histogram2d\":[{\"type\":\"histogram2d\",\"colorbar\":{\"outlinewidth\":0,\"ticks\":\"\"},\"colorscale\":[[0.0,\"#0d0887\"],[0.1111111111111111,\"#46039f\"],[0.2222222222222222,\"#7201a8\"],[0.3333333333333333,\"#9c179e\"],[0.4444444444444444,\"#bd3786\"],[0.5555555555555556,\"#d8576b\"],[0.6666666666666666,\"#ed7953\"],[0.7777777777777778,\"#fb9f3a\"],[0.8888888888888888,\"#fdca26\"],[1.0,\"#f0f921\"]]}],\"heatmap\":[{\"type\":\"heatmap\",\"colorbar\":{\"outlinewidth\":0,\"ticks\":\"\"},\"colorscale\":[[0.0,\"#0d0887\"],[0.1111111111111111,\"#46039f\"],[0.2222222222222222,\"#7201a8\"],[0.3333333333333333,\"#9c179e\"],[0.4444444444444444,\"#bd3786\"],[0.5555555555555556,\"#d8576b\"],[0.6666666666666666,\"#ed7953\"],[0.7777777777777778,\"#fb9f3a\"],[0.8888888888888888,\"#fdca26\"],[1.0,\"#f0f921\"]]}],\"heatmapgl\":[{\"type\":\"heatmapgl\",\"colorbar\":{\"outlinewidth\":0,\"ticks\":\"\"},\"colorscale\":[[0.0,\"#0d0887\"],[0.1111111111111111,\"#46039f\"],[0.2222222222222222,\"#7201a8\"],[0.3333333333333333,\"#9c179e\"],[0.4444444444444444,\"#bd3786\"],[0.5555555555555556,\"#d8576b\"],[0.6666666666666666,\"#ed7953\"],[0.7777777777777778,\"#fb9f3a\"],[0.8888888888888888,\"#fdca26\"],[1.0,\"#f0f921\"]]}],\"contourcarpet\":[{\"type\":\"contourcarpet\",\"colorbar\":{\"outlinewidth\":0,\"ticks\":\"\"}}],\"contour\":[{\"type\":\"contour\",\"colorbar\":{\"outlinewidth\":0,\"ticks\":\"\"},\"colorscale\":[[0.0,\"#0d0887\"],[0.1111111111111111,\"#46039f\"],[0.2222222222222222,\"#7201a8\"],[0.3333333333333333,\"#9c179e\"],[0.4444444444444444,\"#bd3786\"],[0.5555555555555556,\"#d8576b\"],[0.6666666666666666,\"#ed7953\"],[0.7777777777777778,\"#fb9f3a\"],[0.8888888888888888,\"#fdca26\"],[1.0,\"#f0f921\"]]}],\"surface\":[{\"type\":\"surface\",\"colorbar\":{\"outlinewidth\":0,\"ticks\":\"\"},\"colorscale\":[[0.0,\"#0d0887\"],[0.1111111111111111,\"#46039f\"],[0.2222222222222222,\"#7201a8\"],[0.3333333333333333,\"#9c179e\"],[0.4444444444444444,\"#bd3786\"],[0.5555555555555556,\"#d8576b\"],[0.6666666666666666,\"#ed7953\"],[0.7777777777777778,\"#fb9f3a\"],[0.8888888888888888,\"#fdca26\"],[1.0,\"#f0f921\"]]}],\"mesh3d\":[{\"type\":\"mesh3d\",\"colorbar\":{\"outlinewidth\":0,\"ticks\":\"\"}}],\"scatter\":[{\"fillpattern\":{\"fillmode\":\"overlay\",\"size\":10,\"solidity\":0.2},\"type\":\"scatter\"}],\"parcoords\":[{\"type\":\"parcoords\",\"line\":{\"colorbar\":{\"outlinewidth\":0,\"ticks\":\"\"}}}],\"scatterpolargl\":[{\"type\":\"scatterpolargl\",\"marker\":{\"colorbar\":{\"outlinewidth\":0,\"ticks\":\"\"}}}],\"bar\":[{\"error_x\":{\"color\":\"#2a3f5f\"},\"error_y\":{\"color\":\"#2a3f5f\"},\"marker\":{\"line\":{\"color\":\"#E5ECF6\",\"width\":0.5},\"pattern\":{\"fillmode\":\"overlay\",\"size\":10,\"solidity\":0.2}},\"type\":\"bar\"}],\"scattergeo\":[{\"type\":\"scattergeo\",\"marker\":{\"colorbar\":{\"outlinewidth\":0,\"ticks\":\"\"}}}],\"scatterpolar\":[{\"type\":\"scatterpolar\",\"marker\":{\"colorbar\":{\"outlinewidth\":0,\"ticks\":\"\"}}}],\"histogram\":[{\"marker\":{\"pattern\":{\"fillmode\":\"overlay\",\"size\":10,\"solidity\":0.2}},\"type\":\"histogram\"}],\"scattergl\":[{\"type\":\"scattergl\",\"marker\":{\"colorbar\":{\"outlinewidth\":0,\"ticks\":\"\"}}}],\"scatter3d\":[{\"type\":\"scatter3d\",\"line\":{\"colorbar\":{\"outlinewidth\":0,\"ticks\":\"\"}},\"marker\":{\"colorbar\":{\"outlinewidth\":0,\"ticks\":\"\"}}}],\"scattermapbox\":[{\"type\":\"scattermapbox\",\"marker\":{\"colorbar\":{\"outlinewidth\":0,\"ticks\":\"\"}}}],\"scatterternary\":[{\"type\":\"scatterternary\",\"marker\":{\"colorbar\":{\"outlinewidth\":0,\"ticks\":\"\"}}}],\"scattercarpet\":[{\"type\":\"scattercarpet\",\"marker\":{\"colorbar\":{\"outlinewidth\":0,\"ticks\":\"\"}}}],\"carpet\":[{\"aaxis\":{\"endlinecolor\":\"#2a3f5f\",\"gridcolor\":\"white\",\"linecolor\":\"white\",\"minorgridcolor\":\"white\",\"startlinecolor\":\"#2a3f5f\"},\"baxis\":{\"endlinecolor\":\"#2a3f5f\",\"gridcolor\":\"white\",\"linecolor\":\"white\",\"minorgridcolor\":\"white\",\"startlinecolor\":\"#2a3f5f\"},\"type\":\"carpet\"}],\"table\":[{\"cells\":{\"fill\":{\"color\":\"#EBF0F8\"},\"line\":{\"color\":\"white\"}},\"header\":{\"fill\":{\"color\":\"#C8D4E3\"},\"line\":{\"color\":\"white\"}},\"type\":\"table\"}],\"barpolar\":[{\"marker\":{\"line\":{\"color\":\"#E5ECF6\",\"width\":0.5},\"pattern\":{\"fillmode\":\"overlay\",\"size\":10,\"solidity\":0.2}},\"type\":\"barpolar\"}],\"pie\":[{\"automargin\":true,\"type\":\"pie\"}]},\"layout\":{\"autotypenumbers\":\"strict\",\"colorway\":[\"#636efa\",\"#EF553B\",\"#00cc96\",\"#ab63fa\",\"#FFA15A\",\"#19d3f3\",\"#FF6692\",\"#B6E880\",\"#FF97FF\",\"#FECB52\"],\"font\":{\"color\":\"#2a3f5f\"},\"hovermode\":\"closest\",\"hoverlabel\":{\"align\":\"left\"},\"paper_bgcolor\":\"white\",\"plot_bgcolor\":\"#E5ECF6\",\"polar\":{\"bgcolor\":\"#E5ECF6\",\"angularaxis\":{\"gridcolor\":\"white\",\"linecolor\":\"white\",\"ticks\":\"\"},\"radialaxis\":{\"gridcolor\":\"white\",\"linecolor\":\"white\",\"ticks\":\"\"}},\"ternary\":{\"bgcolor\":\"#E5ECF6\",\"aaxis\":{\"gridcolor\":\"white\",\"linecolor\":\"white\",\"ticks\":\"\"},\"baxis\":{\"gridcolor\":\"white\",\"linecolor\":\"white\",\"ticks\":\"\"},\"caxis\":{\"gridcolor\":\"white\",\"linecolor\":\"white\",\"ticks\":\"\"}},\"coloraxis\":{\"colorbar\":{\"outlinewidth\":0,\"ticks\":\"\"}},\"colorscale\":{\"sequential\":[[0.0,\"#0d0887\"],[0.1111111111111111,\"#46039f\"],[0.2222222222222222,\"#7201a8\"],[0.3333333333333333,\"#9c179e\"],[0.4444444444444444,\"#bd3786\"],[0.5555555555555556,\"#d8576b\"],[0.6666666666666666,\"#ed7953\"],[0.7777777777777778,\"#fb9f3a\"],[0.8888888888888888,\"#fdca26\"],[1.0,\"#f0f921\"]],\"sequentialminus\":[[0.0,\"#0d0887\"],[0.1111111111111111,\"#46039f\"],[0.2222222222222222,\"#7201a8\"],[0.3333333333333333,\"#9c179e\"],[0.4444444444444444,\"#bd3786\"],[0.5555555555555556,\"#d8576b\"],[0.6666666666666666,\"#ed7953\"],[0.7777777777777778,\"#fb9f3a\"],[0.8888888888888888,\"#fdca26\"],[1.0,\"#f0f921\"]],\"diverging\":[[0,\"#8e0152\"],[0.1,\"#c51b7d\"],[0.2,\"#de77ae\"],[0.3,\"#f1b6da\"],[0.4,\"#fde0ef\"],[0.5,\"#f7f7f7\"],[0.6,\"#e6f5d0\"],[0.7,\"#b8e186\"],[0.8,\"#7fbc41\"],[0.9,\"#4d9221\"],[1,\"#276419\"]]},\"xaxis\":{\"gridcolor\":\"white\",\"linecolor\":\"white\",\"ticks\":\"\",\"title\":{\"standoff\":15},\"zerolinecolor\":\"white\",\"automargin\":true,\"zerolinewidth\":2},\"yaxis\":{\"gridcolor\":\"white\",\"linecolor\":\"white\",\"ticks\":\"\",\"title\":{\"standoff\":15},\"zerolinecolor\":\"white\",\"automargin\":true,\"zerolinewidth\":2},\"scene\":{\"xaxis\":{\"backgroundcolor\":\"#E5ECF6\",\"gridcolor\":\"white\",\"linecolor\":\"white\",\"showbackground\":true,\"ticks\":\"\",\"zerolinecolor\":\"white\",\"gridwidth\":2},\"yaxis\":{\"backgroundcolor\":\"#E5ECF6\",\"gridcolor\":\"white\",\"linecolor\":\"white\",\"showbackground\":true,\"ticks\":\"\",\"zerolinecolor\":\"white\",\"gridwidth\":2},\"zaxis\":{\"backgroundcolor\":\"#E5ECF6\",\"gridcolor\":\"white\",\"linecolor\":\"white\",\"showbackground\":true,\"ticks\":\"\",\"zerolinecolor\":\"white\",\"gridwidth\":2}},\"shapedefaults\":{\"line\":{\"color\":\"#2a3f5f\"}},\"annotationdefaults\":{\"arrowcolor\":\"#2a3f5f\",\"arrowhead\":0,\"arrowwidth\":1},\"geo\":{\"bgcolor\":\"white\",\"landcolor\":\"#E5ECF6\",\"subunitcolor\":\"white\",\"showland\":true,\"showlakes\":true,\"lakecolor\":\"white\"},\"title\":{\"x\":0.05},\"mapbox\":{\"style\":\"light\"}}},\"xaxis\":{\"anchor\":\"y\",\"domain\":[0.0,1.0],\"title\":{\"text\":\"peso m\\u00ednimo de las aristas\"}},\"yaxis\":{\"anchor\":\"x\",\"domain\":[0.0,1.0],\"title\":{\"text\":\"cantidad de aristas\"}},\"legend\":{\"tracegroupgap\":0},\"title\":{\"text\":\"Cantidad de aristas  seg\\u00fan peso m\\u00ednimo de las aristas\"}},                        {\"responsive\": true}                    ).then(function(){\n",
       "                            \n",
       "var gd = document.getElementById('87ed7e79-fe10-4998-a034-c2768ce31696');\n",
       "var x = new MutationObserver(function (mutations, observer) {{\n",
       "        var display = window.getComputedStyle(gd).display;\n",
       "        if (!display || display === 'none') {{\n",
       "            console.log([gd, 'removed!']);\n",
       "            Plotly.purge(gd);\n",
       "            observer.disconnect();\n",
       "        }}\n",
       "}});\n",
       "\n",
       "// Listen for the removal of the full notebook cells\n",
       "var notebookContainer = gd.closest('#notebook-container');\n",
       "if (notebookContainer) {{\n",
       "    x.observe(notebookContainer, {childList: true});\n",
       "}}\n",
       "\n",
       "// Listen for the clearing of the current output cell\n",
       "var outputEl = gd.closest('.output');\n",
       "if (outputEl) {{\n",
       "    x.observe(outputEl, {childList: true});\n",
       "}}\n",
       "\n",
       "                        })                };                });            </script>        </div>"
      ]
     },
     "metadata": {},
     "output_type": "display_data"
    },
    {
     "name": "stdout",
     "output_type": "stream",
     "text": [
      "3\n"
     ]
    }
   ],
   "source": [
    "# Establecer la cantidad de aristas y nodos adecuados para el grafo\n",
    "cantidad_aristas_adecuadas = 120\n",
    "cantidad_nodos_adecuados = 120\n",
    "\n",
    "# Inicializar listas para almacenar la información de los nodos\n",
    "nodos = []\n",
    "cantidad_nodos = []\n",
    "\n",
    "# Iterar a través de un rango de valores (1 a 399)\n",
    "for i in range(1, 400):\n",
    "    # Agregar el valor actual de 'i' a la lista de nodos\n",
    "    nodos.append(i)\n",
    "    \n",
    "    # Agregar la cantidad de nodos con un valor mayor que 'i' al grafo G a la lista cantidad_nodos\n",
    "    cantidad_nodos.append(len([n for n, v in G.nodes(data=True) if v['value'] > i]))\n",
    "\n",
    "# Crear una lista de pares ordenados con los nodos y sus respectivas cantidades de nodos adecuados\n",
    "pares_ordenados_nodos = [[nodos[i], cantidad_nodos[i]] for i in range(len(nodos)) if cantidad_nodos[i] <= cantidad_nodos_adecuados]\n",
    "\n",
    "# Establecer el tamaño del nodo en función del primer par ordenado en la lista\n",
    "tamaño_nodo = pares_ordenados_nodos[0][0]\n",
    "\n",
    "# Imprimir el tamaño del nodo, la cantidad de nodos y los pares ordenados de nodos\n",
    "print(tamaño_nodo)\n",
    "\n",
    "import plotly.express as px\n",
    "title='Cantidad de nodos según el peso mínimo del nodo'\n",
    "fig = px.scatter(x=nodos, y=cantidad_nodos, title=title)\n",
    "fig.update_layout(\n",
    "    title=title,\n",
    "    xaxis_title=\"peso mínimo de los nodos\",\n",
    "    yaxis_title=\"cantidad de nodos\")\n",
    "fig.show()\n",
    "\n",
    "\n",
    "#title='Cantidad de nodos según el peso mínimo del nodo (zoom)'\n",
    "#fig = px.scatter(x=nodos, y=cantidad_nodos, title=title)\n",
    "#fig.update_layout(\n",
    "#    title=title,\n",
    "#    xaxis_title=\"peso mínimo de los nodos\",\n",
    "#    yaxis_title=\"cantidad de nodos\")\n",
    "#fig.update_yaxes(range=[0, 200])\n",
    "#fig.show() \n",
    "\n",
    "# Contar nodos de tamaño 1 y 2\n",
    "nodos_tamaño_1 = len([n for n, v in G.nodes(data=True) if v['value'] == 1])\n",
    "nodos_tamaño_2 = len([n for n, v in G.nodes(data=True) if v['value'] == 2])\n",
    "\n",
    "# Imprimir la cantidad de nodos de tamaño 1 y 2\n",
    "print(\"Cantidad de nodos de tamaño 1:\", nodos_tamaño_1)\n",
    "print(\"Cantidad de nodos de tamaño 2:\", nodos_tamaño_2)\n",
    "\n",
    "\n",
    "# Imprimir la leyenda y el tamaño del nodo\n",
    "\n",
    "print(tamaño_nodo)\n",
    "\n",
    "\n",
    "# Contar aristas de tamaño 1 y 2\n",
    "aristas_tamaño_1 = len([(u, v) for u, v, d in G.edges(data=True) if d['value'] == 1])\n",
    "aristas_tamaño_2 = len([(u, v) for u, v, d in G.edges(data=True) if d['value'] == 2])\n",
    "\n",
    "# Imprimir la cantidad de aristas de tamaño 1 y 2\n",
    "print(\"Cantidad de aristas de tamaño 1:\", aristas_tamaño_1)\n",
    "print(\"Cantidad de aristas de tamaño 2:\", aristas_tamaño_2)\n",
    "\n",
    "\n",
    "\n",
    "# Importar la biblioteca plotly para visualización de datos\n",
    "import plotly.express as px\n",
    "\n",
    "\n",
    "# Crear listas vacías para almacenar aristas y su cantidad\n",
    "aristas = []\n",
    "cantidad_aristas = []\n",
    "\n",
    "# Calcular la cantidad de aristas para cada umbral de 1 a 400\n",
    "for j in range(1, 400):\n",
    "    aristas.append(j)\n",
    "    cantidad_aristas.append(len(dict(filter(lambda x: x[1] >= j, cuenta_pesos_aristas.items()))))\n",
    "\n",
    "\n",
    "# Crear una lista de pares ordenados para las aristas que cumplan con el criterio de cantidad adecuada\n",
    "pares_ordenados_aristas = [[aristas[i], cantidad_aristas[i]] for i in range(0, len(aristas)) if cantidad_aristas[i] <= cantidad_aristas_adecuadas]\n",
    "\n",
    "# Obtener el valor del filtro para las aristas\n",
    "filtro_arista = pares_ordenados_aristas[0][0]\n",
    "\n",
    "# Imprimir el valor del filtro y la lista de pares ordenados\n",
    "print(filtro_arista)\n",
    "#print(pares_ordenados_aristas)\n",
    "\n",
    "\n",
    "title='Cantidad de aristas  según peso mínimo de las aristas'\n",
    "\n",
    "fig = px.scatter(x=aristas, y=cantidad_aristas, title=title)\n",
    "fig.update_layout(\n",
    "    title=title,\n",
    "    xaxis_title=\"peso mínimo de las aristas\",\n",
    "    yaxis_title=\"cantidad de aristas\")\n",
    "\n",
    "fig.show()\n",
    "\n",
    "\n",
    "\n",
    "\n",
    "\n",
    "# Imprimir el tamaño del nodo\n",
    "print(tamaño_nodo)\n",
    "\n",
    "\n",
    "\n"
   ]
  },
  {
   "cell_type": "markdown",
   "id": "1ebbcb38",
   "metadata": {},
   "source": [
    "# 20 Definición manual del tamaño de nodos y aristas"
   ]
  },
  {
   "cell_type": "code",
   "execution_count": 21,
   "id": "011d2e9b",
   "metadata": {},
   "outputs": [],
   "source": [
    "#Cambio de cantidad de nodos y aristas manual\n",
    "#hay que borrar los símbolos # que están delante de las dos líneas siguientes\n",
    "\n",
    "#tamaño_nodo = 2\n",
    "#filtro_arista = 3\n"
   ]
  },
  {
   "cell_type": "markdown",
   "id": "750c3e0a",
   "metadata": {},
   "source": [
    "# 21 Grafo completo con nodos más frecuentes remarcados"
   ]
  },
  {
   "cell_type": "code",
   "execution_count": 22,
   "id": "16677062",
   "metadata": {},
   "outputs": [
    {
     "name": "stdout",
     "output_type": "stream",
     "text": [
      "RELIME\n",
      "Cantidad de nodos subgrafo completo H: 143\n",
      "Cantidad de aristas subgrafo completo H: 83\n",
      "Nodos de tamaño como mínimo: 3\n",
      "Aristas de tamaño como mínimo: 4\n",
      "\\caption{Extracto del Espacio Rizomático Conceptual para RELIME que incluye 241 artículos. En este grafo se muestran solo los nodos de cuyo tamaño es al menos 3 y las aristas de al menos tamaño 4.}\n",
      "grafo_RELIME_POND__key_words_metodo_met_lemmatize_n_241__f_nodo_3_f_edge_4\n"
     ]
    }
   ],
   "source": [
    "# Ordenar cuenta_pesos_nodos en orden descendente\n",
    "cuenta_pesos_nodos_ordenado = dict(sorted(cuenta_pesos_nodos.items(), key=lambda item: item[1], reverse=True))\n",
    "\n",
    "# Obtener los j nodos más frecuentes\n",
    "j = 10\n",
    "lista_nodos_frecuentes = list(cuenta_pesos_nodos_ordenado.keys())[:j]\n",
    "\n",
    "\n",
    "# Filtrar aristas según el umbral 'filtro_arista'\n",
    "cuenta_pesos_aristas_H = dict(filter(lambda x: x[1] >= filtro_arista, cuenta_pesos_aristas.items()))\n",
    "\n",
    "# Crear un grafo vacío\n",
    "H = nx.Graph()\n",
    "\n",
    "\n",
    "# Crear y agregar nodos al grafo H según el modo de visualización (Absoluto o Ponderado)\n",
    "if modo_grafo == 1:  # Modo absoluto\n",
    "    for clave, valor in cuenta_pesos_nodos.items():\n",
    "        if clave in lista_nodos_frecuentes:\n",
    "            H.add_node(clave, label=f\"{clave} ({valor})\", value=valor, color='purple')\n",
    "        else: \n",
    "            H.add_node(clave, label=f\"{clave} ({valor})\", value=valor, color='#5a7497')\n",
    "else:  # Modo ponderado\n",
    "    for clave, valor in cuenta_pesos_nodos.items():\n",
    "        if clave in lista_nodos_frecuentes:\n",
    "            H.add_node(clave, label=f\"{clave} ({cuenta_pesos_nodos_ponderado.get(clave)}%)\", value=cuenta_pesos_nodos_ponderado.get(clave), color='purple')\n",
    "        else: \n",
    "            H.add_node(clave, label=f\"{clave} ({cuenta_pesos_nodos_ponderado.get(clave)}%)\", value=cuenta_pesos_nodos_ponderado.get(clave), color='#5a7497')\n",
    "        \n",
    "    # Agregar aristas al grafo H\n",
    "    for clave, valor in cuenta_pesos_aristas_H.items():\n",
    "        H.add_edge(clave[0], clave[1], value=cuenta_pesos_aristas_ponderado.get(clave), label=f\"{cuenta_pesos_aristas_ponderado.get(clave)}%\", color='#97c2fc')\n",
    "\n",
    "# Filtrar nodos del grafo H según el tamaño mínimo del nodo\n",
    "selected_nodes = [n for n, v in G.nodes(data=True) if v['value'] >= tamaño_nodo]\n",
    "H = H.subgraph(selected_nodes)\n",
    "\n",
    "# Mostrar información sobre el grafo\n",
    "print(nombre_largo)\n",
    "print(f\"Cantidad de nodos subgrafo completo H: {len(H.nodes)}\")\n",
    "print(f\"Cantidad de aristas subgrafo completo H: {len(H.edges)}\")\n",
    "print(f\"Nodos de tamaño como mínimo: {tamaño_nodo}\")\n",
    "print(f\"Aristas de tamaño como mínimo: {filtro_arista}\")\n",
    "\n",
    "# Visualizar el grafo usando la biblioteca pyvis\n",
    "net = Network(notebook=False, heading=f\"Espacio Rizomático Conceptual de {nombre_largo}, n={len(dfA)} artículos\")\n",
    "net.repulsion()\n",
    "net.from_nx(H)\n",
    "\n",
    "# Guardar y mostrar el grafo en un archivo HTML\n",
    "nombre_archivo = f\"grafo_{abrev}{dic_modo_grafo.get(modo_grafo)}_{campo_para_nodos_grafo}_met_{met}_n_{len(dfA.index)}__f_nodo_{tamaño_nodo}_f_edge_{filtro_arista}\"\n",
    "net.show(f\"{abrev}/{nombre_archivo}.html\")\n",
    "\n",
    "# Imprimir la leyenda del gráfico para ser utilizada en un documento LaTeX\n",
    "print(f\"\\\\caption{{Extracto del Espacio Rizomático Conceptual para {nombre_largo} que incluye {len(dfA)} artículos. En este grafo se muestran solo los nodos de cuyo tamaño es al menos {tamaño_nodo} y las aristas de al menos tamaño {filtro_arista}.}}\")\n",
    "print(nombre_archivo)\n",
    "        "
   ]
  },
  {
   "cell_type": "markdown",
   "id": "2746bb9d",
   "metadata": {},
   "source": [
    "# 22 exportar a Datapane"
   ]
  },
  {
   "cell_type": "raw",
   "id": "b6c6a692",
   "metadata": {},
   "source": [
    "import datapane as dp\n",
    "\n",
    "with open(abrev + '/'+nombre_archivo+'.html', 'r') as f:\n",
    "    html_network_1 = f.read()\n",
    "\n",
    "html_block = dp.HTML(html_network_1)\n",
    "\n",
    "# Utilizar la nueva función dp.upload_report() para subir el informe\n",
    "dp.upload_report([html_block], name=abrev+' - espacio rizomático conceptual '+ str(len(dfA)) + ' artículos')\n"
   ]
  },
  {
   "cell_type": "raw",
   "id": "c1480065",
   "metadata": {},
   "source": [
    "import datapane as dp\n",
    "\n",
    "with open(abrev + '/'+nombre_archivo+'.html', 'r') as f:\n",
    "    html_network_1 = f.read()\n",
    "    \n",
    "dp.Report(\n",
    "  dp.HTML(\n",
    "    html_network_1\n",
    "  )\n",
    ").upload(name=abrev+' - espacio rizomático conceptual '+ str(len(dfA)) + ' artículos')"
   ]
  },
  {
   "cell_type": "markdown",
   "id": "0256037a",
   "metadata": {},
   "source": [
    "# 23 Diccionario con palabras en el grafo G"
   ]
  },
  {
   "cell_type": "code",
   "execution_count": 23,
   "id": "b8b82b23",
   "metadata": {
    "scrolled": true
   },
   "outputs": [
    {
     "name": "stdout",
     "output_type": "stream",
     "text": [
      "Palabras que comiencen con la cadena : spa\n",
      "space (18)\n",
      "spacemodel (1)\n",
      "spain (1)\n"
     ]
    }
   ],
   "source": [
    "lista_nodosG = [e for e in G.nodes(data=True)]\n",
    "lista_nodosG_ordenada = sorted(lista_nodosG, key=lambda x: x[1]['value'], reverse=True)  # [:20]\n",
    "\n",
    "parte_de_palabra = 'spa'\n",
    "nodos_con_parte_de_palabra = [nodo for nodo in lista_nodosG_ordenada if nodo[0].startswith(parte_de_palabra)]\n",
    "\n",
    "\n",
    "if not nodos_con_parte_de_palabra:\n",
    "    print(f\"No se encontraron nodos que contengan '{parte_de_palabra}'\")\n",
    "else:\n",
    "    nodos_con_letra = nodos_con_parte_de_palabra\n",
    "    print('Palabras que comiencen con la cadena :',parte_de_palabra)\n",
    "    for x in range(0, len(nodos_con_letra)):\n",
    "        print(nodos_con_letra[x][1].get('label'))\n"
   ]
  },
  {
   "cell_type": "markdown",
   "id": "b851de08",
   "metadata": {},
   "source": [
    "# 24 Finalizar informe LaTex"
   ]
  },
  {
   "cell_type": "code",
   "execution_count": 24,
   "id": "f3338e08",
   "metadata": {},
   "outputs": [
    {
     "data": {
      "application/vnd.plotly.v1+json": {
       "config": {
        "plotlyServerURL": "https://plot.ly"
       },
       "data": [
        {
         "alignmentgroup": "True",
         "hovertemplate": "x=%{x}<br>y=%{y}<br>text=%{text}<extra></extra>",
         "legendgroup": "",
         "marker": {
          "color": "rgb(76,114,176)",
          "pattern": {
           "shape": ""
          }
         },
         "name": "",
         "offsetgroup": "",
         "orientation": "h",
         "showlegend": false,
         "text": [
          "31 (12.9%)",
          "19 (7.9%)",
          "18 (7.5%)",
          "16 (6.6%)",
          "15 (6.2%)",
          "14 (5.8%)",
          "14 (5.8%)",
          "13 (5.4%)",
          "13 (5.4%)",
          "12 (5.0%)",
          "10 (4.1%)",
          "10 (4.1%)",
          "8 (3.3%)",
          "8 (3.3%)",
          "8 (3.3%)",
          "8 (3.3%)",
          "8 (3.3%)",
          "8 (3.3%)",
          "8 (3.3%)",
          "8 (3.3%)",
          "7 (2.9%)",
          "7 (2.9%)",
          "7 (2.9%)",
          "7 (2.9%)",
          "7 (2.9%)",
          "7 (2.9%)",
          "6 (2.5%)",
          "6 (2.5%)",
          "6 (2.5%)",
          "6 (2.5%)",
          "6 (2.5%)",
          "6 (2.5%)",
          "6 (2.5%)",
          "6 (2.5%)",
          "6 (2.5%)"
         ],
         "textfont": {
          "size": 14
         },
         "textposition": "outside",
         "type": "bar",
         "x": [
          31,
          19,
          18,
          16,
          15,
          14,
          14,
          13,
          13,
          12,
          10,
          10,
          8,
          8,
          8,
          8,
          8,
          8,
          8,
          8,
          7,
          7,
          7,
          7,
          7,
          7,
          6,
          6,
          6,
          6,
          6,
          6,
          6,
          6,
          6
         ],
         "xaxis": "x",
         "y": [
          "education-mathematics",
          "teacher-mathematics",
          "teacher-education",
          "space-working",
          "teaching-mathematics",
          "problem-solving",
          "learning-mathematics",
          "teaching-teacher",
          "teacher-knowledge",
          "teacher-training",
          "teaching-learning",
          "teaching-education",
          "teaching-geometry",
          "teacher-professional",
          "teacher-learning",
          "knowledge-mathematics",
          "education-mathematical",
          "mathematical-modeling",
          "mathematical-space",
          "mathematical-working",
          "teacher-mathematical",
          "teacher-preservice",
          "learning-education",
          "education-preservice",
          "mathematics-mathematical",
          "space-geometrical",
          "problem-mathematical",
          "teaching-knowledge",
          "teacher-task",
          "knowledge-mathematical",
          "secondary-education",
          "mathematics-technology",
          "mathematics-preservice",
          "mathematics-history",
          "professional-development"
         ],
         "yaxis": "y"
        }
       ],
       "layout": {
        "barmode": "relative",
        "font": {
         "size": 9
        },
        "legend": {
         "tracegroupgap": 0
        },
        "margin": {
         "t": 60
        },
        "template": {
         "data": {
          "bar": [
           {
            "error_x": {
             "color": "rgb(36,36,36)"
            },
            "error_y": {
             "color": "rgb(36,36,36)"
            },
            "marker": {
             "line": {
              "color": "rgb(234,234,242)",
              "width": 0.5
             },
             "pattern": {
              "fillmode": "overlay",
              "size": 10,
              "solidity": 0.2
             }
            },
            "type": "bar"
           }
          ],
          "barpolar": [
           {
            "marker": {
             "line": {
              "color": "rgb(234,234,242)",
              "width": 0.5
             },
             "pattern": {
              "fillmode": "overlay",
              "size": 10,
              "solidity": 0.2
             }
            },
            "type": "barpolar"
           }
          ],
          "carpet": [
           {
            "aaxis": {
             "endlinecolor": "rgb(36,36,36)",
             "gridcolor": "white",
             "linecolor": "white",
             "minorgridcolor": "white",
             "startlinecolor": "rgb(36,36,36)"
            },
            "baxis": {
             "endlinecolor": "rgb(36,36,36)",
             "gridcolor": "white",
             "linecolor": "white",
             "minorgridcolor": "white",
             "startlinecolor": "rgb(36,36,36)"
            },
            "type": "carpet"
           }
          ],
          "choropleth": [
           {
            "colorbar": {
             "outlinewidth": 0,
             "tickcolor": "rgb(36,36,36)",
             "ticklen": 8,
             "ticks": "outside",
             "tickwidth": 2
            },
            "type": "choropleth"
           }
          ],
          "contour": [
           {
            "colorbar": {
             "outlinewidth": 0,
             "tickcolor": "rgb(36,36,36)",
             "ticklen": 8,
             "ticks": "outside",
             "tickwidth": 2
            },
            "colorscale": [
             [
              0,
              "rgb(2,4,25)"
             ],
             [
              0.06274509803921569,
              "rgb(24,15,41)"
             ],
             [
              0.12549019607843137,
              "rgb(47,23,57)"
             ],
             [
              0.18823529411764706,
              "rgb(71,28,72)"
             ],
             [
              0.25098039215686274,
              "rgb(97,30,82)"
             ],
             [
              0.3137254901960784,
              "rgb(123,30,89)"
             ],
             [
              0.3764705882352941,
              "rgb(150,27,91)"
             ],
             [
              0.4392156862745098,
              "rgb(177,22,88)"
             ],
             [
              0.5019607843137255,
              "rgb(203,26,79)"
             ],
             [
              0.5647058823529412,
              "rgb(223,47,67)"
             ],
             [
              0.6274509803921569,
              "rgb(236,76,61)"
             ],
             [
              0.6901960784313725,
              "rgb(242,107,73)"
             ],
             [
              0.7529411764705882,
              "rgb(244,135,95)"
             ],
             [
              0.8156862745098039,
              "rgb(245,162,122)"
             ],
             [
              0.8784313725490196,
              "rgb(246,188,153)"
             ],
             [
              0.9411764705882353,
              "rgb(247,212,187)"
             ],
             [
              1,
              "rgb(250,234,220)"
             ]
            ],
            "type": "contour"
           }
          ],
          "contourcarpet": [
           {
            "colorbar": {
             "outlinewidth": 0,
             "tickcolor": "rgb(36,36,36)",
             "ticklen": 8,
             "ticks": "outside",
             "tickwidth": 2
            },
            "type": "contourcarpet"
           }
          ],
          "heatmap": [
           {
            "colorbar": {
             "outlinewidth": 0,
             "tickcolor": "rgb(36,36,36)",
             "ticklen": 8,
             "ticks": "outside",
             "tickwidth": 2
            },
            "colorscale": [
             [
              0,
              "rgb(2,4,25)"
             ],
             [
              0.06274509803921569,
              "rgb(24,15,41)"
             ],
             [
              0.12549019607843137,
              "rgb(47,23,57)"
             ],
             [
              0.18823529411764706,
              "rgb(71,28,72)"
             ],
             [
              0.25098039215686274,
              "rgb(97,30,82)"
             ],
             [
              0.3137254901960784,
              "rgb(123,30,89)"
             ],
             [
              0.3764705882352941,
              "rgb(150,27,91)"
             ],
             [
              0.4392156862745098,
              "rgb(177,22,88)"
             ],
             [
              0.5019607843137255,
              "rgb(203,26,79)"
             ],
             [
              0.5647058823529412,
              "rgb(223,47,67)"
             ],
             [
              0.6274509803921569,
              "rgb(236,76,61)"
             ],
             [
              0.6901960784313725,
              "rgb(242,107,73)"
             ],
             [
              0.7529411764705882,
              "rgb(244,135,95)"
             ],
             [
              0.8156862745098039,
              "rgb(245,162,122)"
             ],
             [
              0.8784313725490196,
              "rgb(246,188,153)"
             ],
             [
              0.9411764705882353,
              "rgb(247,212,187)"
             ],
             [
              1,
              "rgb(250,234,220)"
             ]
            ],
            "type": "heatmap"
           }
          ],
          "heatmapgl": [
           {
            "colorbar": {
             "outlinewidth": 0,
             "tickcolor": "rgb(36,36,36)",
             "ticklen": 8,
             "ticks": "outside",
             "tickwidth": 2
            },
            "colorscale": [
             [
              0,
              "rgb(2,4,25)"
             ],
             [
              0.06274509803921569,
              "rgb(24,15,41)"
             ],
             [
              0.12549019607843137,
              "rgb(47,23,57)"
             ],
             [
              0.18823529411764706,
              "rgb(71,28,72)"
             ],
             [
              0.25098039215686274,
              "rgb(97,30,82)"
             ],
             [
              0.3137254901960784,
              "rgb(123,30,89)"
             ],
             [
              0.3764705882352941,
              "rgb(150,27,91)"
             ],
             [
              0.4392156862745098,
              "rgb(177,22,88)"
             ],
             [
              0.5019607843137255,
              "rgb(203,26,79)"
             ],
             [
              0.5647058823529412,
              "rgb(223,47,67)"
             ],
             [
              0.6274509803921569,
              "rgb(236,76,61)"
             ],
             [
              0.6901960784313725,
              "rgb(242,107,73)"
             ],
             [
              0.7529411764705882,
              "rgb(244,135,95)"
             ],
             [
              0.8156862745098039,
              "rgb(245,162,122)"
             ],
             [
              0.8784313725490196,
              "rgb(246,188,153)"
             ],
             [
              0.9411764705882353,
              "rgb(247,212,187)"
             ],
             [
              1,
              "rgb(250,234,220)"
             ]
            ],
            "type": "heatmapgl"
           }
          ],
          "histogram": [
           {
            "marker": {
             "pattern": {
              "fillmode": "overlay",
              "size": 10,
              "solidity": 0.2
             }
            },
            "type": "histogram"
           }
          ],
          "histogram2d": [
           {
            "colorbar": {
             "outlinewidth": 0,
             "tickcolor": "rgb(36,36,36)",
             "ticklen": 8,
             "ticks": "outside",
             "tickwidth": 2
            },
            "colorscale": [
             [
              0,
              "rgb(2,4,25)"
             ],
             [
              0.06274509803921569,
              "rgb(24,15,41)"
             ],
             [
              0.12549019607843137,
              "rgb(47,23,57)"
             ],
             [
              0.18823529411764706,
              "rgb(71,28,72)"
             ],
             [
              0.25098039215686274,
              "rgb(97,30,82)"
             ],
             [
              0.3137254901960784,
              "rgb(123,30,89)"
             ],
             [
              0.3764705882352941,
              "rgb(150,27,91)"
             ],
             [
              0.4392156862745098,
              "rgb(177,22,88)"
             ],
             [
              0.5019607843137255,
              "rgb(203,26,79)"
             ],
             [
              0.5647058823529412,
              "rgb(223,47,67)"
             ],
             [
              0.6274509803921569,
              "rgb(236,76,61)"
             ],
             [
              0.6901960784313725,
              "rgb(242,107,73)"
             ],
             [
              0.7529411764705882,
              "rgb(244,135,95)"
             ],
             [
              0.8156862745098039,
              "rgb(245,162,122)"
             ],
             [
              0.8784313725490196,
              "rgb(246,188,153)"
             ],
             [
              0.9411764705882353,
              "rgb(247,212,187)"
             ],
             [
              1,
              "rgb(250,234,220)"
             ]
            ],
            "type": "histogram2d"
           }
          ],
          "histogram2dcontour": [
           {
            "colorbar": {
             "outlinewidth": 0,
             "tickcolor": "rgb(36,36,36)",
             "ticklen": 8,
             "ticks": "outside",
             "tickwidth": 2
            },
            "colorscale": [
             [
              0,
              "rgb(2,4,25)"
             ],
             [
              0.06274509803921569,
              "rgb(24,15,41)"
             ],
             [
              0.12549019607843137,
              "rgb(47,23,57)"
             ],
             [
              0.18823529411764706,
              "rgb(71,28,72)"
             ],
             [
              0.25098039215686274,
              "rgb(97,30,82)"
             ],
             [
              0.3137254901960784,
              "rgb(123,30,89)"
             ],
             [
              0.3764705882352941,
              "rgb(150,27,91)"
             ],
             [
              0.4392156862745098,
              "rgb(177,22,88)"
             ],
             [
              0.5019607843137255,
              "rgb(203,26,79)"
             ],
             [
              0.5647058823529412,
              "rgb(223,47,67)"
             ],
             [
              0.6274509803921569,
              "rgb(236,76,61)"
             ],
             [
              0.6901960784313725,
              "rgb(242,107,73)"
             ],
             [
              0.7529411764705882,
              "rgb(244,135,95)"
             ],
             [
              0.8156862745098039,
              "rgb(245,162,122)"
             ],
             [
              0.8784313725490196,
              "rgb(246,188,153)"
             ],
             [
              0.9411764705882353,
              "rgb(247,212,187)"
             ],
             [
              1,
              "rgb(250,234,220)"
             ]
            ],
            "type": "histogram2dcontour"
           }
          ],
          "mesh3d": [
           {
            "colorbar": {
             "outlinewidth": 0,
             "tickcolor": "rgb(36,36,36)",
             "ticklen": 8,
             "ticks": "outside",
             "tickwidth": 2
            },
            "type": "mesh3d"
           }
          ],
          "parcoords": [
           {
            "line": {
             "colorbar": {
              "outlinewidth": 0,
              "tickcolor": "rgb(36,36,36)",
              "ticklen": 8,
              "ticks": "outside",
              "tickwidth": 2
             }
            },
            "type": "parcoords"
           }
          ],
          "pie": [
           {
            "automargin": true,
            "type": "pie"
           }
          ],
          "scatter": [
           {
            "fillpattern": {
             "fillmode": "overlay",
             "size": 10,
             "solidity": 0.2
            },
            "type": "scatter"
           }
          ],
          "scatter3d": [
           {
            "line": {
             "colorbar": {
              "outlinewidth": 0,
              "tickcolor": "rgb(36,36,36)",
              "ticklen": 8,
              "ticks": "outside",
              "tickwidth": 2
             }
            },
            "marker": {
             "colorbar": {
              "outlinewidth": 0,
              "tickcolor": "rgb(36,36,36)",
              "ticklen": 8,
              "ticks": "outside",
              "tickwidth": 2
             }
            },
            "type": "scatter3d"
           }
          ],
          "scattercarpet": [
           {
            "marker": {
             "colorbar": {
              "outlinewidth": 0,
              "tickcolor": "rgb(36,36,36)",
              "ticklen": 8,
              "ticks": "outside",
              "tickwidth": 2
             }
            },
            "type": "scattercarpet"
           }
          ],
          "scattergeo": [
           {
            "marker": {
             "colorbar": {
              "outlinewidth": 0,
              "tickcolor": "rgb(36,36,36)",
              "ticklen": 8,
              "ticks": "outside",
              "tickwidth": 2
             }
            },
            "type": "scattergeo"
           }
          ],
          "scattergl": [
           {
            "marker": {
             "colorbar": {
              "outlinewidth": 0,
              "tickcolor": "rgb(36,36,36)",
              "ticklen": 8,
              "ticks": "outside",
              "tickwidth": 2
             }
            },
            "type": "scattergl"
           }
          ],
          "scattermapbox": [
           {
            "marker": {
             "colorbar": {
              "outlinewidth": 0,
              "tickcolor": "rgb(36,36,36)",
              "ticklen": 8,
              "ticks": "outside",
              "tickwidth": 2
             }
            },
            "type": "scattermapbox"
           }
          ],
          "scatterpolar": [
           {
            "marker": {
             "colorbar": {
              "outlinewidth": 0,
              "tickcolor": "rgb(36,36,36)",
              "ticklen": 8,
              "ticks": "outside",
              "tickwidth": 2
             }
            },
            "type": "scatterpolar"
           }
          ],
          "scatterpolargl": [
           {
            "marker": {
             "colorbar": {
              "outlinewidth": 0,
              "tickcolor": "rgb(36,36,36)",
              "ticklen": 8,
              "ticks": "outside",
              "tickwidth": 2
             }
            },
            "type": "scatterpolargl"
           }
          ],
          "scatterternary": [
           {
            "marker": {
             "colorbar": {
              "outlinewidth": 0,
              "tickcolor": "rgb(36,36,36)",
              "ticklen": 8,
              "ticks": "outside",
              "tickwidth": 2
             }
            },
            "type": "scatterternary"
           }
          ],
          "surface": [
           {
            "colorbar": {
             "outlinewidth": 0,
             "tickcolor": "rgb(36,36,36)",
             "ticklen": 8,
             "ticks": "outside",
             "tickwidth": 2
            },
            "colorscale": [
             [
              0,
              "rgb(2,4,25)"
             ],
             [
              0.06274509803921569,
              "rgb(24,15,41)"
             ],
             [
              0.12549019607843137,
              "rgb(47,23,57)"
             ],
             [
              0.18823529411764706,
              "rgb(71,28,72)"
             ],
             [
              0.25098039215686274,
              "rgb(97,30,82)"
             ],
             [
              0.3137254901960784,
              "rgb(123,30,89)"
             ],
             [
              0.3764705882352941,
              "rgb(150,27,91)"
             ],
             [
              0.4392156862745098,
              "rgb(177,22,88)"
             ],
             [
              0.5019607843137255,
              "rgb(203,26,79)"
             ],
             [
              0.5647058823529412,
              "rgb(223,47,67)"
             ],
             [
              0.6274509803921569,
              "rgb(236,76,61)"
             ],
             [
              0.6901960784313725,
              "rgb(242,107,73)"
             ],
             [
              0.7529411764705882,
              "rgb(244,135,95)"
             ],
             [
              0.8156862745098039,
              "rgb(245,162,122)"
             ],
             [
              0.8784313725490196,
              "rgb(246,188,153)"
             ],
             [
              0.9411764705882353,
              "rgb(247,212,187)"
             ],
             [
              1,
              "rgb(250,234,220)"
             ]
            ],
            "type": "surface"
           }
          ],
          "table": [
           {
            "cells": {
             "fill": {
              "color": "rgb(231,231,240)"
             },
             "line": {
              "color": "white"
             }
            },
            "header": {
             "fill": {
              "color": "rgb(183,183,191)"
             },
             "line": {
              "color": "white"
             }
            },
            "type": "table"
           }
          ]
         },
         "layout": {
          "annotationdefaults": {
           "arrowcolor": "rgb(67,103,167)"
          },
          "autotypenumbers": "strict",
          "coloraxis": {
           "colorbar": {
            "outlinewidth": 0,
            "tickcolor": "rgb(36,36,36)",
            "ticklen": 8,
            "ticks": "outside",
            "tickwidth": 2
           }
          },
          "colorscale": {
           "sequential": [
            [
             0,
             "rgb(2,4,25)"
            ],
            [
             0.06274509803921569,
             "rgb(24,15,41)"
            ],
            [
             0.12549019607843137,
             "rgb(47,23,57)"
            ],
            [
             0.18823529411764706,
             "rgb(71,28,72)"
            ],
            [
             0.25098039215686274,
             "rgb(97,30,82)"
            ],
            [
             0.3137254901960784,
             "rgb(123,30,89)"
            ],
            [
             0.3764705882352941,
             "rgb(150,27,91)"
            ],
            [
             0.4392156862745098,
             "rgb(177,22,88)"
            ],
            [
             0.5019607843137255,
             "rgb(203,26,79)"
            ],
            [
             0.5647058823529412,
             "rgb(223,47,67)"
            ],
            [
             0.6274509803921569,
             "rgb(236,76,61)"
            ],
            [
             0.6901960784313725,
             "rgb(242,107,73)"
            ],
            [
             0.7529411764705882,
             "rgb(244,135,95)"
            ],
            [
             0.8156862745098039,
             "rgb(245,162,122)"
            ],
            [
             0.8784313725490196,
             "rgb(246,188,153)"
            ],
            [
             0.9411764705882353,
             "rgb(247,212,187)"
            ],
            [
             1,
             "rgb(250,234,220)"
            ]
           ],
           "sequentialminus": [
            [
             0,
             "rgb(2,4,25)"
            ],
            [
             0.06274509803921569,
             "rgb(24,15,41)"
            ],
            [
             0.12549019607843137,
             "rgb(47,23,57)"
            ],
            [
             0.18823529411764706,
             "rgb(71,28,72)"
            ],
            [
             0.25098039215686274,
             "rgb(97,30,82)"
            ],
            [
             0.3137254901960784,
             "rgb(123,30,89)"
            ],
            [
             0.3764705882352941,
             "rgb(150,27,91)"
            ],
            [
             0.4392156862745098,
             "rgb(177,22,88)"
            ],
            [
             0.5019607843137255,
             "rgb(203,26,79)"
            ],
            [
             0.5647058823529412,
             "rgb(223,47,67)"
            ],
            [
             0.6274509803921569,
             "rgb(236,76,61)"
            ],
            [
             0.6901960784313725,
             "rgb(242,107,73)"
            ],
            [
             0.7529411764705882,
             "rgb(244,135,95)"
            ],
            [
             0.8156862745098039,
             "rgb(245,162,122)"
            ],
            [
             0.8784313725490196,
             "rgb(246,188,153)"
            ],
            [
             0.9411764705882353,
             "rgb(247,212,187)"
            ],
            [
             1,
             "rgb(250,234,220)"
            ]
           ]
          },
          "colorway": [
           "rgb(76,114,176)",
           "rgb(221,132,82)",
           "rgb(85,168,104)",
           "rgb(196,78,82)",
           "rgb(129,114,179)",
           "rgb(147,120,96)",
           "rgb(218,139,195)",
           "rgb(140,140,140)",
           "rgb(204,185,116)",
           "rgb(100,181,205)"
          ],
          "font": {
           "color": "rgb(36,36,36)"
          },
          "geo": {
           "bgcolor": "white",
           "lakecolor": "white",
           "landcolor": "rgb(234,234,242)",
           "showlakes": true,
           "showland": true,
           "subunitcolor": "white"
          },
          "hoverlabel": {
           "align": "left"
          },
          "hovermode": "closest",
          "paper_bgcolor": "white",
          "plot_bgcolor": "rgb(234,234,242)",
          "polar": {
           "angularaxis": {
            "gridcolor": "white",
            "linecolor": "white",
            "showgrid": true,
            "ticks": ""
           },
           "bgcolor": "rgb(234,234,242)",
           "radialaxis": {
            "gridcolor": "white",
            "linecolor": "white",
            "showgrid": true,
            "ticks": ""
           }
          },
          "scene": {
           "xaxis": {
            "backgroundcolor": "rgb(234,234,242)",
            "gridcolor": "white",
            "gridwidth": 2,
            "linecolor": "white",
            "showbackground": true,
            "showgrid": true,
            "ticks": "",
            "zerolinecolor": "white"
           },
           "yaxis": {
            "backgroundcolor": "rgb(234,234,242)",
            "gridcolor": "white",
            "gridwidth": 2,
            "linecolor": "white",
            "showbackground": true,
            "showgrid": true,
            "ticks": "",
            "zerolinecolor": "white"
           },
           "zaxis": {
            "backgroundcolor": "rgb(234,234,242)",
            "gridcolor": "white",
            "gridwidth": 2,
            "linecolor": "white",
            "showbackground": true,
            "showgrid": true,
            "ticks": "",
            "zerolinecolor": "white"
           }
          },
          "shapedefaults": {
           "fillcolor": "rgb(67,103,167)",
           "line": {
            "width": 0
           },
           "opacity": 0.5
          },
          "ternary": {
           "aaxis": {
            "gridcolor": "white",
            "linecolor": "white",
            "showgrid": true,
            "ticks": ""
           },
           "baxis": {
            "gridcolor": "white",
            "linecolor": "white",
            "showgrid": true,
            "ticks": ""
           },
           "bgcolor": "rgb(234,234,242)",
           "caxis": {
            "gridcolor": "white",
            "linecolor": "white",
            "showgrid": true,
            "ticks": ""
           }
          },
          "xaxis": {
           "automargin": true,
           "gridcolor": "white",
           "linecolor": "white",
           "showgrid": true,
           "ticks": "",
           "title": {
            "standoff": 15
           },
           "zerolinecolor": "white"
          },
          "yaxis": {
           "automargin": true,
           "gridcolor": "white",
           "linecolor": "white",
           "showgrid": true,
           "ticks": "",
           "title": {
            "standoff": 15
           },
           "zerolinecolor": "white"
          }
         }
        },
        "title": {
         "text": "35 aristas más frecuentes en RELIME"
        },
        "xaxis": {
         "anchor": "y",
         "domain": [
          0,
          1
         ],
         "range": [
          0,
          38.75
         ],
         "tickangle": 35,
         "title": {
          "text": "Frecuencia"
         }
        },
        "yaxis": {
         "anchor": "x",
         "domain": [
          0,
          1
         ],
         "title": {
          "text": "Aristas"
         }
        }
       }
      },
      "text/html": [
       "<div>                            <div id=\"6847c1ec-c2a8-4744-82ce-9b89bb250bba\" class=\"plotly-graph-div\" style=\"height:525px; width:100%;\"></div>            <script type=\"text/javascript\">                require([\"plotly\"], function(Plotly) {                    window.PLOTLYENV=window.PLOTLYENV || {};                                    if (document.getElementById(\"6847c1ec-c2a8-4744-82ce-9b89bb250bba\")) {                    Plotly.newPlot(                        \"6847c1ec-c2a8-4744-82ce-9b89bb250bba\",                        [{\"alignmentgroup\":\"True\",\"hovertemplate\":\"x=%{x}<br>y=%{y}<br>text=%{text}<extra></extra>\",\"legendgroup\":\"\",\"marker\":{\"color\":\"rgb(76,114,176)\",\"pattern\":{\"shape\":\"\"}},\"name\":\"\",\"offsetgroup\":\"\",\"orientation\":\"h\",\"showlegend\":false,\"text\":[\"31 (12.9%)\",\"19 (7.9%)\",\"18 (7.5%)\",\"16 (6.6%)\",\"15 (6.2%)\",\"14 (5.8%)\",\"14 (5.8%)\",\"13 (5.4%)\",\"13 (5.4%)\",\"12 (5.0%)\",\"10 (4.1%)\",\"10 (4.1%)\",\"8 (3.3%)\",\"8 (3.3%)\",\"8 (3.3%)\",\"8 (3.3%)\",\"8 (3.3%)\",\"8 (3.3%)\",\"8 (3.3%)\",\"8 (3.3%)\",\"7 (2.9%)\",\"7 (2.9%)\",\"7 (2.9%)\",\"7 (2.9%)\",\"7 (2.9%)\",\"7 (2.9%)\",\"6 (2.5%)\",\"6 (2.5%)\",\"6 (2.5%)\",\"6 (2.5%)\",\"6 (2.5%)\",\"6 (2.5%)\",\"6 (2.5%)\",\"6 (2.5%)\",\"6 (2.5%)\"],\"textposition\":\"outside\",\"x\":[31,19,18,16,15,14,14,13,13,12,10,10,8,8,8,8,8,8,8,8,7,7,7,7,7,7,6,6,6,6,6,6,6,6,6],\"xaxis\":\"x\",\"y\":[\"education-mathematics\",\"teacher-mathematics\",\"teacher-education\",\"space-working\",\"teaching-mathematics\",\"problem-solving\",\"learning-mathematics\",\"teaching-teacher\",\"teacher-knowledge\",\"teacher-training\",\"teaching-learning\",\"teaching-education\",\"teaching-geometry\",\"teacher-professional\",\"teacher-learning\",\"knowledge-mathematics\",\"education-mathematical\",\"mathematical-modeling\",\"mathematical-space\",\"mathematical-working\",\"teacher-mathematical\",\"teacher-preservice\",\"learning-education\",\"education-preservice\",\"mathematics-mathematical\",\"space-geometrical\",\"problem-mathematical\",\"teaching-knowledge\",\"teacher-task\",\"knowledge-mathematical\",\"secondary-education\",\"mathematics-technology\",\"mathematics-preservice\",\"mathematics-history\",\"professional-development\"],\"yaxis\":\"y\",\"type\":\"bar\",\"textfont\":{\"size\":14}}],                        {\"template\":{\"data\":{\"barpolar\":[{\"marker\":{\"line\":{\"color\":\"rgb(234,234,242)\",\"width\":0.5},\"pattern\":{\"fillmode\":\"overlay\",\"size\":10,\"solidity\":0.2}},\"type\":\"barpolar\"}],\"bar\":[{\"error_x\":{\"color\":\"rgb(36,36,36)\"},\"error_y\":{\"color\":\"rgb(36,36,36)\"},\"marker\":{\"line\":{\"color\":\"rgb(234,234,242)\",\"width\":0.5},\"pattern\":{\"fillmode\":\"overlay\",\"size\":10,\"solidity\":0.2}},\"type\":\"bar\"}],\"carpet\":[{\"aaxis\":{\"endlinecolor\":\"rgb(36,36,36)\",\"gridcolor\":\"white\",\"linecolor\":\"white\",\"minorgridcolor\":\"white\",\"startlinecolor\":\"rgb(36,36,36)\"},\"baxis\":{\"endlinecolor\":\"rgb(36,36,36)\",\"gridcolor\":\"white\",\"linecolor\":\"white\",\"minorgridcolor\":\"white\",\"startlinecolor\":\"rgb(36,36,36)\"},\"type\":\"carpet\"}],\"choropleth\":[{\"colorbar\":{\"outlinewidth\":0,\"tickcolor\":\"rgb(36,36,36)\",\"ticklen\":8,\"ticks\":\"outside\",\"tickwidth\":2},\"type\":\"choropleth\"}],\"contourcarpet\":[{\"colorbar\":{\"outlinewidth\":0,\"tickcolor\":\"rgb(36,36,36)\",\"ticklen\":8,\"ticks\":\"outside\",\"tickwidth\":2},\"type\":\"contourcarpet\"}],\"contour\":[{\"colorbar\":{\"outlinewidth\":0,\"tickcolor\":\"rgb(36,36,36)\",\"ticklen\":8,\"ticks\":\"outside\",\"tickwidth\":2},\"colorscale\":[[0.0,\"rgb(2,4,25)\"],[0.06274509803921569,\"rgb(24,15,41)\"],[0.12549019607843137,\"rgb(47,23,57)\"],[0.18823529411764706,\"rgb(71,28,72)\"],[0.25098039215686274,\"rgb(97,30,82)\"],[0.3137254901960784,\"rgb(123,30,89)\"],[0.3764705882352941,\"rgb(150,27,91)\"],[0.4392156862745098,\"rgb(177,22,88)\"],[0.5019607843137255,\"rgb(203,26,79)\"],[0.5647058823529412,\"rgb(223,47,67)\"],[0.6274509803921569,\"rgb(236,76,61)\"],[0.6901960784313725,\"rgb(242,107,73)\"],[0.7529411764705882,\"rgb(244,135,95)\"],[0.8156862745098039,\"rgb(245,162,122)\"],[0.8784313725490196,\"rgb(246,188,153)\"],[0.9411764705882353,\"rgb(247,212,187)\"],[1.0,\"rgb(250,234,220)\"]],\"type\":\"contour\"}],\"heatmapgl\":[{\"colorbar\":{\"outlinewidth\":0,\"tickcolor\":\"rgb(36,36,36)\",\"ticklen\":8,\"ticks\":\"outside\",\"tickwidth\":2},\"colorscale\":[[0.0,\"rgb(2,4,25)\"],[0.06274509803921569,\"rgb(24,15,41)\"],[0.12549019607843137,\"rgb(47,23,57)\"],[0.18823529411764706,\"rgb(71,28,72)\"],[0.25098039215686274,\"rgb(97,30,82)\"],[0.3137254901960784,\"rgb(123,30,89)\"],[0.3764705882352941,\"rgb(150,27,91)\"],[0.4392156862745098,\"rgb(177,22,88)\"],[0.5019607843137255,\"rgb(203,26,79)\"],[0.5647058823529412,\"rgb(223,47,67)\"],[0.6274509803921569,\"rgb(236,76,61)\"],[0.6901960784313725,\"rgb(242,107,73)\"],[0.7529411764705882,\"rgb(244,135,95)\"],[0.8156862745098039,\"rgb(245,162,122)\"],[0.8784313725490196,\"rgb(246,188,153)\"],[0.9411764705882353,\"rgb(247,212,187)\"],[1.0,\"rgb(250,234,220)\"]],\"type\":\"heatmapgl\"}],\"heatmap\":[{\"colorbar\":{\"outlinewidth\":0,\"tickcolor\":\"rgb(36,36,36)\",\"ticklen\":8,\"ticks\":\"outside\",\"tickwidth\":2},\"colorscale\":[[0.0,\"rgb(2,4,25)\"],[0.06274509803921569,\"rgb(24,15,41)\"],[0.12549019607843137,\"rgb(47,23,57)\"],[0.18823529411764706,\"rgb(71,28,72)\"],[0.25098039215686274,\"rgb(97,30,82)\"],[0.3137254901960784,\"rgb(123,30,89)\"],[0.3764705882352941,\"rgb(150,27,91)\"],[0.4392156862745098,\"rgb(177,22,88)\"],[0.5019607843137255,\"rgb(203,26,79)\"],[0.5647058823529412,\"rgb(223,47,67)\"],[0.6274509803921569,\"rgb(236,76,61)\"],[0.6901960784313725,\"rgb(242,107,73)\"],[0.7529411764705882,\"rgb(244,135,95)\"],[0.8156862745098039,\"rgb(245,162,122)\"],[0.8784313725490196,\"rgb(246,188,153)\"],[0.9411764705882353,\"rgb(247,212,187)\"],[1.0,\"rgb(250,234,220)\"]],\"type\":\"heatmap\"}],\"histogram2dcontour\":[{\"colorbar\":{\"outlinewidth\":0,\"tickcolor\":\"rgb(36,36,36)\",\"ticklen\":8,\"ticks\":\"outside\",\"tickwidth\":2},\"colorscale\":[[0.0,\"rgb(2,4,25)\"],[0.06274509803921569,\"rgb(24,15,41)\"],[0.12549019607843137,\"rgb(47,23,57)\"],[0.18823529411764706,\"rgb(71,28,72)\"],[0.25098039215686274,\"rgb(97,30,82)\"],[0.3137254901960784,\"rgb(123,30,89)\"],[0.3764705882352941,\"rgb(150,27,91)\"],[0.4392156862745098,\"rgb(177,22,88)\"],[0.5019607843137255,\"rgb(203,26,79)\"],[0.5647058823529412,\"rgb(223,47,67)\"],[0.6274509803921569,\"rgb(236,76,61)\"],[0.6901960784313725,\"rgb(242,107,73)\"],[0.7529411764705882,\"rgb(244,135,95)\"],[0.8156862745098039,\"rgb(245,162,122)\"],[0.8784313725490196,\"rgb(246,188,153)\"],[0.9411764705882353,\"rgb(247,212,187)\"],[1.0,\"rgb(250,234,220)\"]],\"type\":\"histogram2dcontour\"}],\"histogram2d\":[{\"colorbar\":{\"outlinewidth\":0,\"tickcolor\":\"rgb(36,36,36)\",\"ticklen\":8,\"ticks\":\"outside\",\"tickwidth\":2},\"colorscale\":[[0.0,\"rgb(2,4,25)\"],[0.06274509803921569,\"rgb(24,15,41)\"],[0.12549019607843137,\"rgb(47,23,57)\"],[0.18823529411764706,\"rgb(71,28,72)\"],[0.25098039215686274,\"rgb(97,30,82)\"],[0.3137254901960784,\"rgb(123,30,89)\"],[0.3764705882352941,\"rgb(150,27,91)\"],[0.4392156862745098,\"rgb(177,22,88)\"],[0.5019607843137255,\"rgb(203,26,79)\"],[0.5647058823529412,\"rgb(223,47,67)\"],[0.6274509803921569,\"rgb(236,76,61)\"],[0.6901960784313725,\"rgb(242,107,73)\"],[0.7529411764705882,\"rgb(244,135,95)\"],[0.8156862745098039,\"rgb(245,162,122)\"],[0.8784313725490196,\"rgb(246,188,153)\"],[0.9411764705882353,\"rgb(247,212,187)\"],[1.0,\"rgb(250,234,220)\"]],\"type\":\"histogram2d\"}],\"histogram\":[{\"marker\":{\"pattern\":{\"fillmode\":\"overlay\",\"size\":10,\"solidity\":0.2}},\"type\":\"histogram\"}],\"mesh3d\":[{\"colorbar\":{\"outlinewidth\":0,\"tickcolor\":\"rgb(36,36,36)\",\"ticklen\":8,\"ticks\":\"outside\",\"tickwidth\":2},\"type\":\"mesh3d\"}],\"parcoords\":[{\"line\":{\"colorbar\":{\"outlinewidth\":0,\"tickcolor\":\"rgb(36,36,36)\",\"ticklen\":8,\"ticks\":\"outside\",\"tickwidth\":2}},\"type\":\"parcoords\"}],\"pie\":[{\"automargin\":true,\"type\":\"pie\"}],\"scatter3d\":[{\"line\":{\"colorbar\":{\"outlinewidth\":0,\"tickcolor\":\"rgb(36,36,36)\",\"ticklen\":8,\"ticks\":\"outside\",\"tickwidth\":2}},\"marker\":{\"colorbar\":{\"outlinewidth\":0,\"tickcolor\":\"rgb(36,36,36)\",\"ticklen\":8,\"ticks\":\"outside\",\"tickwidth\":2}},\"type\":\"scatter3d\"}],\"scattercarpet\":[{\"marker\":{\"colorbar\":{\"outlinewidth\":0,\"tickcolor\":\"rgb(36,36,36)\",\"ticklen\":8,\"ticks\":\"outside\",\"tickwidth\":2}},\"type\":\"scattercarpet\"}],\"scattergeo\":[{\"marker\":{\"colorbar\":{\"outlinewidth\":0,\"tickcolor\":\"rgb(36,36,36)\",\"ticklen\":8,\"ticks\":\"outside\",\"tickwidth\":2}},\"type\":\"scattergeo\"}],\"scattergl\":[{\"marker\":{\"colorbar\":{\"outlinewidth\":0,\"tickcolor\":\"rgb(36,36,36)\",\"ticklen\":8,\"ticks\":\"outside\",\"tickwidth\":2}},\"type\":\"scattergl\"}],\"scattermapbox\":[{\"marker\":{\"colorbar\":{\"outlinewidth\":0,\"tickcolor\":\"rgb(36,36,36)\",\"ticklen\":8,\"ticks\":\"outside\",\"tickwidth\":2}},\"type\":\"scattermapbox\"}],\"scatterpolargl\":[{\"marker\":{\"colorbar\":{\"outlinewidth\":0,\"tickcolor\":\"rgb(36,36,36)\",\"ticklen\":8,\"ticks\":\"outside\",\"tickwidth\":2}},\"type\":\"scatterpolargl\"}],\"scatterpolar\":[{\"marker\":{\"colorbar\":{\"outlinewidth\":0,\"tickcolor\":\"rgb(36,36,36)\",\"ticklen\":8,\"ticks\":\"outside\",\"tickwidth\":2}},\"type\":\"scatterpolar\"}],\"scatter\":[{\"fillpattern\":{\"fillmode\":\"overlay\",\"size\":10,\"solidity\":0.2},\"type\":\"scatter\"}],\"scatterternary\":[{\"marker\":{\"colorbar\":{\"outlinewidth\":0,\"tickcolor\":\"rgb(36,36,36)\",\"ticklen\":8,\"ticks\":\"outside\",\"tickwidth\":2}},\"type\":\"scatterternary\"}],\"surface\":[{\"colorbar\":{\"outlinewidth\":0,\"tickcolor\":\"rgb(36,36,36)\",\"ticklen\":8,\"ticks\":\"outside\",\"tickwidth\":2},\"colorscale\":[[0.0,\"rgb(2,4,25)\"],[0.06274509803921569,\"rgb(24,15,41)\"],[0.12549019607843137,\"rgb(47,23,57)\"],[0.18823529411764706,\"rgb(71,28,72)\"],[0.25098039215686274,\"rgb(97,30,82)\"],[0.3137254901960784,\"rgb(123,30,89)\"],[0.3764705882352941,\"rgb(150,27,91)\"],[0.4392156862745098,\"rgb(177,22,88)\"],[0.5019607843137255,\"rgb(203,26,79)\"],[0.5647058823529412,\"rgb(223,47,67)\"],[0.6274509803921569,\"rgb(236,76,61)\"],[0.6901960784313725,\"rgb(242,107,73)\"],[0.7529411764705882,\"rgb(244,135,95)\"],[0.8156862745098039,\"rgb(245,162,122)\"],[0.8784313725490196,\"rgb(246,188,153)\"],[0.9411764705882353,\"rgb(247,212,187)\"],[1.0,\"rgb(250,234,220)\"]],\"type\":\"surface\"}],\"table\":[{\"cells\":{\"fill\":{\"color\":\"rgb(231,231,240)\"},\"line\":{\"color\":\"white\"}},\"header\":{\"fill\":{\"color\":\"rgb(183,183,191)\"},\"line\":{\"color\":\"white\"}},\"type\":\"table\"}]},\"layout\":{\"annotationdefaults\":{\"arrowcolor\":\"rgb(67,103,167)\"},\"autotypenumbers\":\"strict\",\"coloraxis\":{\"colorbar\":{\"outlinewidth\":0,\"tickcolor\":\"rgb(36,36,36)\",\"ticklen\":8,\"ticks\":\"outside\",\"tickwidth\":2}},\"colorscale\":{\"sequential\":[[0.0,\"rgb(2,4,25)\"],[0.06274509803921569,\"rgb(24,15,41)\"],[0.12549019607843137,\"rgb(47,23,57)\"],[0.18823529411764706,\"rgb(71,28,72)\"],[0.25098039215686274,\"rgb(97,30,82)\"],[0.3137254901960784,\"rgb(123,30,89)\"],[0.3764705882352941,\"rgb(150,27,91)\"],[0.4392156862745098,\"rgb(177,22,88)\"],[0.5019607843137255,\"rgb(203,26,79)\"],[0.5647058823529412,\"rgb(223,47,67)\"],[0.6274509803921569,\"rgb(236,76,61)\"],[0.6901960784313725,\"rgb(242,107,73)\"],[0.7529411764705882,\"rgb(244,135,95)\"],[0.8156862745098039,\"rgb(245,162,122)\"],[0.8784313725490196,\"rgb(246,188,153)\"],[0.9411764705882353,\"rgb(247,212,187)\"],[1.0,\"rgb(250,234,220)\"]],\"sequentialminus\":[[0.0,\"rgb(2,4,25)\"],[0.06274509803921569,\"rgb(24,15,41)\"],[0.12549019607843137,\"rgb(47,23,57)\"],[0.18823529411764706,\"rgb(71,28,72)\"],[0.25098039215686274,\"rgb(97,30,82)\"],[0.3137254901960784,\"rgb(123,30,89)\"],[0.3764705882352941,\"rgb(150,27,91)\"],[0.4392156862745098,\"rgb(177,22,88)\"],[0.5019607843137255,\"rgb(203,26,79)\"],[0.5647058823529412,\"rgb(223,47,67)\"],[0.6274509803921569,\"rgb(236,76,61)\"],[0.6901960784313725,\"rgb(242,107,73)\"],[0.7529411764705882,\"rgb(244,135,95)\"],[0.8156862745098039,\"rgb(245,162,122)\"],[0.8784313725490196,\"rgb(246,188,153)\"],[0.9411764705882353,\"rgb(247,212,187)\"],[1.0,\"rgb(250,234,220)\"]]},\"colorway\":[\"rgb(76,114,176)\",\"rgb(221,132,82)\",\"rgb(85,168,104)\",\"rgb(196,78,82)\",\"rgb(129,114,179)\",\"rgb(147,120,96)\",\"rgb(218,139,195)\",\"rgb(140,140,140)\",\"rgb(204,185,116)\",\"rgb(100,181,205)\"],\"font\":{\"color\":\"rgb(36,36,36)\"},\"geo\":{\"bgcolor\":\"white\",\"lakecolor\":\"white\",\"landcolor\":\"rgb(234,234,242)\",\"showlakes\":true,\"showland\":true,\"subunitcolor\":\"white\"},\"hoverlabel\":{\"align\":\"left\"},\"hovermode\":\"closest\",\"paper_bgcolor\":\"white\",\"plot_bgcolor\":\"rgb(234,234,242)\",\"polar\":{\"angularaxis\":{\"gridcolor\":\"white\",\"linecolor\":\"white\",\"showgrid\":true,\"ticks\":\"\"},\"bgcolor\":\"rgb(234,234,242)\",\"radialaxis\":{\"gridcolor\":\"white\",\"linecolor\":\"white\",\"showgrid\":true,\"ticks\":\"\"}},\"scene\":{\"xaxis\":{\"backgroundcolor\":\"rgb(234,234,242)\",\"gridcolor\":\"white\",\"gridwidth\":2,\"linecolor\":\"white\",\"showbackground\":true,\"showgrid\":true,\"ticks\":\"\",\"zerolinecolor\":\"white\"},\"yaxis\":{\"backgroundcolor\":\"rgb(234,234,242)\",\"gridcolor\":\"white\",\"gridwidth\":2,\"linecolor\":\"white\",\"showbackground\":true,\"showgrid\":true,\"ticks\":\"\",\"zerolinecolor\":\"white\"},\"zaxis\":{\"backgroundcolor\":\"rgb(234,234,242)\",\"gridcolor\":\"white\",\"gridwidth\":2,\"linecolor\":\"white\",\"showbackground\":true,\"showgrid\":true,\"ticks\":\"\",\"zerolinecolor\":\"white\"}},\"shapedefaults\":{\"fillcolor\":\"rgb(67,103,167)\",\"line\":{\"width\":0},\"opacity\":0.5},\"ternary\":{\"aaxis\":{\"gridcolor\":\"white\",\"linecolor\":\"white\",\"showgrid\":true,\"ticks\":\"\"},\"baxis\":{\"gridcolor\":\"white\",\"linecolor\":\"white\",\"showgrid\":true,\"ticks\":\"\"},\"bgcolor\":\"rgb(234,234,242)\",\"caxis\":{\"gridcolor\":\"white\",\"linecolor\":\"white\",\"showgrid\":true,\"ticks\":\"\"}},\"xaxis\":{\"automargin\":true,\"gridcolor\":\"white\",\"linecolor\":\"white\",\"showgrid\":true,\"ticks\":\"\",\"title\":{\"standoff\":15},\"zerolinecolor\":\"white\"},\"yaxis\":{\"automargin\":true,\"gridcolor\":\"white\",\"linecolor\":\"white\",\"showgrid\":true,\"ticks\":\"\",\"title\":{\"standoff\":15},\"zerolinecolor\":\"white\"}}},\"xaxis\":{\"anchor\":\"y\",\"domain\":[0.0,1.0],\"title\":{\"text\":\"Frecuencia\"},\"range\":[0,38.75],\"tickangle\":35},\"yaxis\":{\"anchor\":\"x\",\"domain\":[0.0,1.0],\"title\":{\"text\":\"Aristas\"}},\"legend\":{\"tracegroupgap\":0},\"margin\":{\"t\":60},\"barmode\":\"relative\",\"title\":{\"text\":\"35 aristas m\\u00e1s frecuentes en RELIME\"},\"font\":{\"size\":9}},                        {\"responsive\": true}                    ).then(function(){\n",
       "                            \n",
       "var gd = document.getElementById('6847c1ec-c2a8-4744-82ce-9b89bb250bba');\n",
       "var x = new MutationObserver(function (mutations, observer) {{\n",
       "        var display = window.getComputedStyle(gd).display;\n",
       "        if (!display || display === 'none') {{\n",
       "            console.log([gd, 'removed!']);\n",
       "            Plotly.purge(gd);\n",
       "            observer.disconnect();\n",
       "        }}\n",
       "}});\n",
       "\n",
       "// Listen for the removal of the full notebook cells\n",
       "var notebookContainer = gd.closest('#notebook-container');\n",
       "if (notebookContainer) {{\n",
       "    x.observe(notebookContainer, {childList: true});\n",
       "}}\n",
       "\n",
       "// Listen for the clearing of the current output cell\n",
       "var outputEl = gd.closest('.output');\n",
       "if (outputEl) {{\n",
       "    x.observe(outputEl, {childList: true});\n",
       "}}\n",
       "\n",
       "                        })                };                });            </script>        </div>"
      ]
     },
     "metadata": {},
     "output_type": "display_data"
    },
    {
     "name": "stdout",
     "output_type": "stream",
     "text": [
      "Principales aristas de: PALABRAS CLAVE en 241 artículos. Fuente: Scopus.\n",
      "['Grafo de la base de datos denominada: RELIME', 'El método utilizado fue: lemmatize', 'Cantidad de artículos: 241', 'Cantidad de nodos grafo completo G: 608', 'Cantidad de aristas grafo completo G: 5003', 'Tiempo requerido para generar el grafo: 0.0 seg. Equivalentes a 0.0 min.']\n",
      "Espacio rizomático conceptual (ERC) a partir de las palabras en: PALABRAS CLAVE\n",
      "Como se indicó en la información general, el \\textit{ERC} tiene 608 nodos. Para que en el \\textit{ERC} se puedan distinguir los nodos más importantes,  se estableció como una cantidad adecuada para visualizar el ERC, 120  nodos. Esto da como resultado, que el \\textit{ERC} mostrará los nodos que tengan un tamaño igual o superior a  3. Es decir, si una palabra se repite al menos  3 veces en los 241  documentos analizados, entonces aparecerá en el Espacio Rizomático Conceptual de  RELIME. Se debe notar que esto, en términos porcentuales  significa que si una palabra se repite al menos un  1.2\\% entonces aparecerá en el \\textit{ERC}. \\newline Entre los nodos que se descartan, están aquellos que aparecen pocas veces y que son numerosos.  Por ejemplo, hay  387  palabras que solo aparecen una vez y  78  palabras que solo aparecen dos veces. Estos nodos y todos aquellos que quedan  bajo el umbral quedan en la \\textbf{periferia invisible}.\n",
      "Como se indicó en la información general, el \\textit{ERC} tiene 5003  aristas. Para que en el \\textit{ERC} se puedan distinguir las aristas más importantes,  se estableció como una cantidad adecuada para visualizar el \\textit{ERC},  120 aristas. Esto da como resultado, que el \\textit{ERC} mostrará las aristas que tengan un tamaño igual o superior a  4. Es decir, si una conexión entre dos palabras se repite  al menos 4 veces en los 241  documentos analizados, entonces aparecerá en el \\textit{ERC} de RELIME. \\newline en términos porcentuales significa que si una palabra se repite al menos un  1.7\\% entonces aparecerá en el \\textit{ERC}. \\newline Entre las aristas que se descartan, están aquellas que aparecen pocas veces y que son numerosos.  Por ejemplo, hay  4467  parejas de palabras que solo aparecen una vez y  360  parejas de palabras que solo aparecen dos veces. Estas aristas y todos las que quedan  bajo el umbral son parte de la \\textbf{periferia invisible} del \\textit{ERC}.\n"
     ]
    }
   ],
   "source": [
    "import plotly.express as px\n",
    "\n",
    "\n",
    "\n",
    "# Obtener las aristas con sus valores y ordenarlas de acuerdo con su valor\n",
    "aristas_valores = [(u, v, d['value']) for u, v, d in G.edges(data=True)]\n",
    "aristas_valores.sort(key=lambda x: x[2], reverse=True)\n",
    "\n",
    "# Seleccionar las n aristas con valores más altos\n",
    "aristas_top_n = aristas_valores[:n]\n",
    "\n",
    "# Crear etiquetas para las aristas\n",
    "etiquetas_aristas = [f\"{u}-{v}\" for u, v, _ in aristas_top_n]\n",
    "\n",
    "# Extraer los valores de las aristas\n",
    "valores_aristas = [valor for _, _, valor in aristas_top_n]\n",
    "\n",
    "\n",
    "\n",
    "# Calcular los porcentajes de cada arista en relación a len(dfA)\n",
    "porcentajes_aristas = [(valor / len(dfA)) * 100 for valor in valores_aristas]\n",
    "\n",
    "# Crear texto con valores y porcentajes para cada barra\n",
    "bar_texts = [f\"{valor} ({porcentaje:.1f}%)\" for valor, porcentaje in zip(valores_aristas, porcentajes_aristas)]\n",
    "\n",
    "# Crear título\n",
    "title = f\"{n} aristas más frecuentes en {nombre_largo}\"\n",
    "\n",
    "# Crear un gráfico de barras con Plotly Express\n",
    "fig = px.bar(y=etiquetas_aristas, x=valores_aristas, \n",
    "             text=bar_texts, orientation='h',\n",
    "             template=template_elegido)\n",
    "\n",
    "# Configurar el diseño del gráfico\n",
    "fig.update_layout(\n",
    "    title=title,\n",
    "    yaxis_title=\"Aristas\",\n",
    "    xaxis_title=\"Frecuencia\",\n",
    "    xaxis=dict(range=[0, max(valores_aristas) * 1.25])\n",
    ")\n",
    "fig.update_xaxes(tickangle=35)\n",
    "fig.update_layout(font_size=9)\n",
    "\n",
    "# Actualizar el tamaño de la fuente del texto de las barras\n",
    "fig.update_traces(textposition='outside', textfont=dict(size=14))\n",
    "\n",
    "# Mostrar el gráfico\n",
    "fig.show()\n",
    "nombre_archivo =abrev +'_aristas_'+dic_campo_a_analizar.get(campo_a_analizar)+ \"_n_\" +str(n)+'_met_'+met+'_'+str(now.year)+'_'+str(now.month)+'_'+str(now.day)+'_'+str(now.hour)+'_'+str(now.minute)\n",
    "fig.write_html(abrev + '/' + nombre_archivo+\".html\")\n",
    "fig.write_image(abrev + '/' + nombre_archivo+\".pdf\",width=700, height=800)\n",
    "\n",
    "# Crear la leyenda para el gráfico\n",
    "leyenda = 'Principales aristas de: '+nombre_de_campo_analizado+ ' en '+str(len(dfA))+' artículos. Fuente: ' + fuente_articulos + '.'\n",
    "\n",
    "# Añadir el entorno de figura al archivo LaTeX\n",
    "entorno_figura_tex(ruta_archivo, nombre_archivo_tex, nombre_archivo, leyenda)\n",
    "print(leyenda)\n",
    "\n",
    "\n",
    "# Agregar una nueva página al archivo LaTeX\n",
    "entorno_nueva_pagina_tex(ruta_archivo, nombre_archivo_tex)\n",
    "\n",
    "# Agregar una sección al archivo LaTeX con el título especificado\n",
    "entorno_section_tex(ruta_archivo, nombre_archivo_tex, 'Espacio rizomático conceptual (\\\\textit{ERC}) a partir de las palabras en: ' + dic_nombres_campo.get(dic_campo_a_analizar.get(campo_a_analizar)))\n",
    "\n",
    "# Agregar una subsección al archivo LaTeX con el título especificado\n",
    "entorno_sub_section_tex(ruta_archivo, nombre_archivo_tex, 'Información general del ERC')\n",
    "\n",
    "# Agregar un párrafo al archivo LaTeX\n",
    "parrafo_tex(ruta_archivo, nombre_archivo_tex, 'La información general del ERC es la siguiente:')\n",
    "\n",
    "# Crear una lista con la información general del ERC\n",
    "lista_información_general = [\n",
    "    'Grafo de la base de datos denominada: ' + nombre_largo,\n",
    "    'El método utilizado fue: ' + met,\n",
    "    'Cantidad de artículos: ' + str(len(dfA)),\n",
    "    'Cantidad de nodos grafo completo G: ' + str(len(G.nodes)),\n",
    "    'Cantidad de aristas grafo completo G: ' + str(len(G.edges)),\n",
    "    'Tiempo requerido para generar el grafo: ' + str(round(fin - inicio, 1)) + ' seg. Equivalentes a ' + str(round((fin - inicio) / 60, 1)) + ' min.'\n",
    "]\n",
    "\n",
    "# Agregar la lista de información general del ERC al archivo LaTeX usando el entorno \"itemize\"\n",
    "entorno_itemize_tex(ruta_archivo, nombre_archivo_tex, lista_información_general)\n",
    "\n",
    "# Imprimir la lista de información general del ERC\n",
    "print(lista_información_general)\n",
    "\n",
    "# Imprimir el título de la sección del ERC\n",
    "print('Espacio rizomático conceptual (ERC) a partir de las palabras en: ' + dic_nombres_campo.get(dic_campo_a_analizar.get(campo_a_analizar)))\n",
    "\n",
    "# Agregar una subsección en el archivo LaTeX con el título \"Nodos\"\n",
    "entorno_sub_section_tex(ruta_archivo, nombre_archivo_tex, 'Nodos')\n",
    "\n",
    "# Crear una lista con información sobre los nodos del grafo\n",
    "lista_informacion_nodos = [\n",
    "    'Como se indicó en la información general, el \\\\textit{ERC} tiene ' + str(len(G.nodes)) + ' nodos.',\n",
    "    'Para que en el \\\\textit{ERC} se puedan distinguir los nodos más importantes,',\n",
    "    ' se estableció como una cantidad adecuada para visualizar el ERC, ' + str(cantidad_nodos_adecuados),\n",
    "    ' nodos. Esto da como resultado, que el \\\\textit{ERC} mostrará los nodos que tengan un tamaño igual o superior a ',\n",
    "    str(tamaño_nodo) + '. Es decir, si una palabra se repite al menos ',\n",
    "    str(tamaño_nodo) + ' veces en los ' + str(len(dfA)),\n",
    "    ' documentos analizados, entonces aparecerá en el Espacio Rizomático Conceptual de ',\n",
    "    nombre_largo + '. Se debe notar que esto, en términos porcentuales ',\n",
    "    'significa que si una palabra se repite al menos un ',\n",
    "    str(round(100*tamaño_nodo/len(dfA),1))+'\\\\% entonces aparecerá en el \\\\textit{ERC}. \\\\newline',\n",
    "    'Entre los nodos que se descartan, están aquellos que aparecen pocas veces y que son numerosos. ',\n",
    "    'Por ejemplo, hay ', str(nodos_tamaño_1), ' palabras que solo aparecen una vez y ',\n",
    "    str(nodos_tamaño_2), ' palabras que solo aparecen dos veces. Estos nodos y todos aquellos que quedan ',\n",
    "    'bajo el umbral quedan en la \\\\textbf{periferia invisible}.'\n",
    "]\n",
    "\n",
    "# Unir la lista de información de nodos en un solo párrafo\n",
    "parrafo = ' '.join(lista_informacion_nodos)\n",
    "\n",
    "# Imprimir y agregar el párrafo al archivo LaTeX\n",
    "print(parrafo)\n",
    "parrafo_tex(ruta_archivo, nombre_archivo_tex, parrafo)\n",
    "\n",
    "\n",
    "# Agregar una subsección en el archivo LaTeX con el título \"Aristas\"\n",
    "entorno_sub_section_tex(ruta_archivo, nombre_archivo_tex, 'Aristas')\n",
    "\n",
    "# Crear una lista con información sobre los nodos del grafo\n",
    "lista_informacion_nodos = [\n",
    "    'Como se indicó en la información general, el \\\\textit{ERC} tiene ' + str(len(G.edges)),\n",
    "    ' aristas. Para que en el \\\\textit{ERC} se puedan distinguir las aristas más importantes,',\n",
    "    ' se estableció como una cantidad adecuada para visualizar el \\\\textit{ERC}, ',\n",
    "    str(cantidad_nodos_adecuados) + ' aristas. Esto da como resultado,', \n",
    "    'que el \\\\textit{ERC} mostrará las aristas que tengan un tamaño igual o superior a ',\n",
    "    str(filtro_arista) + '. Es decir, si una conexión entre dos palabras se repite',\n",
    "    ' al menos ' + str(filtro_arista) + ' veces en los ' + str(len(dfA)),\n",
    "    ' documentos analizados, entonces aparecerá en el \\\\textit{ERC} de ' + nombre_largo + '. \\\\newline',\n",
    "    'en términos porcentuales significa que si una palabra se repite al menos un ',\n",
    "    str(round(100*filtro_arista/len(dfA),1))+'\\\\% entonces aparecerá en el \\\\textit{ERC}. \\\\newline',\n",
    "    'Entre las aristas que se descartan, están aquellas que aparecen pocas veces y que son numerosos. ',\n",
    "    'Por ejemplo, hay ', str(aristas_tamaño_1), ' parejas de palabras que solo aparecen una vez y ',\n",
    "    str(aristas_tamaño_2), ' parejas de palabras que solo aparecen dos veces. Estas aristas y todos las que quedan ',\n",
    "    'bajo el umbral son parte de la \\\\textbf{periferia invisible} del \\\\textit{ERC}.'\n",
    "]\n",
    "\n",
    "# Unir la lista de información de nodos en un solo párrafo\n",
    "parrafo = ' '.join(lista_informacion_nodos)\n",
    "\n",
    "# Imprimir y agregar el párrafo al archivo LaTeX\n",
    "print(parrafo)\n",
    "parrafo_tex(ruta_archivo, nombre_archivo_tex, parrafo)\n",
    "\n",
    "lista_información_grafo=['Por lo tanto ',\n",
    "r\"$\\mathcal{G}_{\\eta=\",\n",
    "str(tamaño_nodo),\n",
    "r\",\\alpha=\",str(filtro_arista),\n",
    "r\"}=(V_{\\eta=\",str(tamaño_nodo),\n",
    "r\",\\alpha=\",str(filtro_arista),r\"},E_{\\eta=\",  \n",
    "str(tamaño_nodo),r\",\\alpha=\",str(filtro_arista),'})$',  \n",
    "'es un grafo tal que, los nodos tienen tamaño mayor o igual a ', \n",
    "str(tamaño_nodo),' y las aristas tienen tamaño mayor o igual a ',\n",
    "str(filtro_arista)+'.',' Esto produce un grafo que tiene ',str(len(H.nodes)),\n",
    "'nodos y ', str(len(H.edges)), 'aristas. ','\\n',\n",
    "'En la figura \\\\ref{fig:'+nombre_archivo+'} se muestra un gráfico con los ' + str(n) +' nodos con mayor frecuencia.'                         \n",
    "                         ]\n",
    "\n",
    "párrafo=' '.join(lista_información_grafo)\n",
    "parrafo_tex(ruta_archivo, nombre_archivo_tex, párrafo)\n",
    "\n",
    "parrafo_tex(ruta_archivo, nombre_archivo_tex, '\\\\bibliographystyle{apalike-es.bst}')\n",
    "parrafo_tex(ruta_archivo, nombre_archivo_tex, '\\\\bibliography{referencias.bib}')\n",
    "parrafo_tex(ruta_archivo, nombre_archivo_tex, '\\\\end{document}')\n"
   ]
  },
  {
   "cell_type": "markdown",
   "id": "f211d275",
   "metadata": {},
   "source": [
    "# 25 Podar el rizoma"
   ]
  },
  {
   "cell_type": "code",
   "execution_count": 25,
   "id": "748c3c33",
   "metadata": {},
   "outputs": [
    {
     "name": "stdout",
     "output_type": "stream",
     "text": [
      "----------------------------\n",
      "\\caption{Extracto del $\\mathcal{G}_{2,4}$ Espacio Rizomático Conceptual \\textbf{podado} para 241 artículos con afiliación en países de \\textbf{global}. Las palabras podadas son: \\textit{education}, \\textit{mathematics} y \\textit{mathematical}.  Código de colores: \\textcolor[HTML]{800080}{$\\bullet$} conceptos de educación matemática; \\textcolor[HTML]{ffa500}{$\\bullet$} conceptos matemáticos disciplinares; \\textcolor[HTML]{008000}{$\\bullet$} y \\textcolor[HTML]{93bf85}{$\\bullet$}  conceptos genéricos de educación; \\textcolor[HTML]{00cdff}{$\\bullet$} conceptos sobre temas sociales  y \\textcolor[HTML]{eaf2fe}{$\\bullet$} conceptos que no están en las otras categorías.}\n",
      "filtro arista: 4\n",
      "tamaño_nodo:  2\n",
      "\n",
      "\n",
      "Lista de aristas y pesos de ERC podado: \n"
     ]
    }
   ],
   "source": [
    "\n",
    "#actualizado abril 27 16:57\n",
    "lista_nodos= [e for e in G.nodes(data=True)][:10]\n",
    "#print(lista_nodos)\n",
    "tamaño_nodo = int(len(dfA)*0.01)\n",
    "filtro_arista = int(len(dfA)*0.02)\n",
    "cuenta_pesos_aristas_H1=dict(filter(lambda x: x[1] >= filtro_arista, cuenta_pesos_aristas.items()))\n",
    "\n",
    "lista_palabras_ed_mat = [\"anthropological\",\"apos\",\"argumentation\",\"pck\", \"assessment\",\"belief\", \"cognitive\", \"communication\", \"competence\", \"concept\", \n",
    "                         \"conceptual\", \"conception\", \"content\", \"curriculum\", \"didactic\", \"digital\", \"discourse\", \"dynamic\",\"ethnomathematics\"\n",
    "                         , \"early\", \"game\", \"history\", \"inquiry\", \"inquirybased\", \"knowledge\", \"literacy\",\"meaning\", \"modeling\", \"modelling\"\n",
    "                         , \"noticing\", \"online\", \"ontosemiotic\" , \"pedagogical\", \"problem\", \"problemsolving\", \"reform\",\n",
    "                         \"representation\", \"resource\", \"semiotic\", \"skill\" , \"solving\", \"stem\", \"strategy\", \"task\", \"technology\", \n",
    "                         \"textbook\", \"tool\", \"video\", \"visualization\",'perception','assessing', 'attitude', 'computer', 'error', 'ict',\n",
    "                         'misconception', 'motivation', 'anthropological', 'assessing', 'attitude', 'cultural', 'computational', 'computer', \n",
    "                         'decomposition', 'didactical', 'didactics', 'epistemological', 'epistemology', 'error', \n",
    "                         'evaluation', 'genetic', 'geogebra', 'historical', 'ict', 'misconception', 'motivation', \n",
    "                         'perception', 'philosophy', 'sense', 'socioepistemology', 'software', 'visual']\n",
    "lista_palabras_matemáticas = [\"numerical\",'proof',\"proportionality\",'programming',\"addition\", \"algebra\", \"algebraic\", \"arithmetic\",\"biology\", \"calculus\", \"change\",\"chemistry\", \"complex\", \"decimal\", \"definition\", \"differential\",'derivative','engineering', \"equation\", \"fibonacci\", \"fraction\", \"function\", \"geometric\", \"geometry\", \"graph\", \"integral\", \"integer\", \"line\", \"linear\", \"mathematical\", \"mathematics\",\"math\", \"maths\", \"matrix\", \"measurement\",'multiplication', \"negative\", \"number\", \"operation\", \"pattern\",\"physic\",\"physical\",\"physics\" ,\"probability\", \"rational\", \"science\",'scientific', \"sequence\",'simulation' ,\"space\", \"spatial\", \"statistic\", \"statistical\", \"theorem\", \"triangle\", \"variable\", \"whole\"]\n",
    "\n",
    "\n",
    "lista_palabras_enseñanza = [\"development\",\"initial\",\"instruction\", \"instructional\",\"inservice\",\"pedagogical\" , \"practice\", \"preservice\", \"prospective\",\"professional\", \"teacher\", \"teaching\", \"training\"]\n",
    "lista_palabras_enseñanza_aprendizaje2 = [\"education\",\"elementary\",'middle', 'college', 'pedagogy',\"class\", \"classroom\", \"high\",\"lesson\", \"primary\", \"school\",\"secondary\", \"university\", \"undergraduate\"]\n",
    "lista_palabras_aprendizaje = [\"learn\",\"learning\", \"learner\", \"reading\", \"reasoning\", \"reflection\", \"student\", \"thinking\", \"understanding\"]\n",
    "social = ['mexican','social','brazil', 'integration','community', 'equity', 'collaborative', 'opportunity','africa', 'african', 'botswana', 'critical',\"collaboration\",\"competency\", 'culture', 'gender', 'identity', 'indigenous', 'kenya', 'lesotho', 'malawi', 'multilingual', 'nigeria', 'policy', 'south', 'zimbabwe']\n",
    "otras_palabras=['academic', 'achievement', 'activity', 'africa', 'african', 'analysis', 'approach', 'attitude', 'case', 'classroom', 'community', 'computer', 'context', 'course', 'design', 'developing', 'effect', 'engineering', 'experience', 'exploring', 'factor', 'framework', 'gender', 'grade', 'high', 'language', 'level', 'method', 'model', 'perception', 'performance', 'perspective', 'primary', 'relationship', 'school', 'scientific', 'secondary', 'south', 'system', 'undergraduate', 'university', 'using', 'view']\n",
    "lista_palabras = ['area', 'art', 'based', 'basic', 'child', 'connection', 'construction', 'contribution', 'data', 'degree', 'difficulty', 'different', 'distance', 'educational', 'educator', 'environment', 'experiment', 'field', 'first', 'future', 'group', 'image', 'information', 'interaction', 'interpretation', 'issue', 'material', 'methodology', 'modern', 'narrative', 'national', 'new', 'notion', 'possibility', 'process', 'production', 'program', 'proposal', 'real', 'relation', 'review', 'role', 'situation', 'state', 'structure', 'suitability', 'test', 'theoretical', 'theory', 'towards', 'transformation', 'work', 'working', 'world', 'year']\n",
    "otras_palabras=otras_palabras+lista_palabras\n",
    "\n",
    "lista_de_palabras_con_color = lista_palabras_ed_mat+lista_palabras_matemáticas+lista_palabras_enseñanza+lista_palabras_enseñanza_aprendizaje2+lista_palabras_aprendizaje+social+otras_palabras\n",
    "\n",
    "lista_nodos_a_colorear_1 = lista_palabras_ed_mat\n",
    "lista_nodos_a_colorear_2 = lista_palabras_matemáticas\n",
    "lista_nodos_a_colorear_3a = lista_palabras_enseñanza + lista_palabras_aprendizaje\n",
    "lista_nodos_a_colorear_3b = lista_palabras_enseñanza_aprendizaje2\n",
    "lista_nodos_a_colorear_4 = social #lista_palabras_aprendizaje\n",
    "\n",
    "H1 = nx.Graph()\n",
    "#creación de nodos de H1\n",
    "\n",
    "if modo_grafo == 1:\n",
    "    #for clave, valor in nodos_color_1.items():\n",
    "    #    H1.add_node(clave,label=clave+' ('+str(valor)+')', value=(valor) , color = '#eaf2fe') #5a7497\n",
    "    #for clave, valor  in nodos_color_2.items():\n",
    "    #    H1.add_node(clave,label=clave+' ('+str(valor)+')', value=(valor) , color = '#eaf2fe') #97c2fc\n",
    "        \n",
    "    for x in lista_nodos_a_colorear_1:\n",
    "        H1.add_node(x,label=x+' ('+str(cuenta_pesos_nodos.get(x))+')'\n",
    "               ,value=(cuenta_pesos_nodos.get(x))\n",
    "               ,color = \"purple\")\n",
    "    for x in lista_nodos_a_colorear_2:\n",
    "        H1.add_node(x,label=x+' ('+str(cuenta_pesos_nodos.get(x))+')'\n",
    "               ,value=(cuenta_pesos_nodos.get(x))\n",
    "               ,color = \"orange\")\n",
    "    for x in lista_nodos_a_colorear_3a:\n",
    "        H1.add_node(x,label=x+' ('+str(cuenta_pesos_nodos.get(x))+')'\n",
    "               ,value=(cuenta_pesos_nodos.get(x))\n",
    "               ,color = \"green\")\n",
    "    for x in lista_nodos_a_colorear_3b:\n",
    "        H1.add_node(x,label=x+' ('+str(cuenta_pesos_nodos.get(x))+')'\n",
    "               ,value=(cuenta_pesos_nodos.get(x))\n",
    "               ,color = \"#93bf85\")\n",
    "    for x in lista_nodos_a_colorear_4:\n",
    "        H1.add_node(x,label=x+' ('+str(cuenta_pesos_nodos.get(x))+')'\n",
    "               ,value=(cuenta_pesos_nodos.get(x))\n",
    "               ,color = \"#00cdff\")\n",
    "    for clave, valor in cuenta_pesos_aristas_H1.items():\n",
    "        H1.add_edge(clave[0],clave[1], value = (valor),label=str(valor),color = '#97c2fc') \n",
    "\n",
    "\n",
    "\n",
    "else:\n",
    "    #for clave, valor in nodos_color_1.items():\n",
    "    #    H1.add_node(clave,label=clave+' ('+str(cuenta_pesos_nodos_ponderado.get(clave))+'%)', value=(cuenta_pesos_nodos_ponderado.get(clave)) , color = '#eaf2fe') #5a7497\n",
    "    \n",
    "    #for clave, valor in nodos_color_2.items():\n",
    "    #    H1.add_node(clave,label=clave+' ('+str(cuenta_pesos_nodos_ponderado.get(clave))+'%)', value=(cuenta_pesos_nodos_ponderado.get(clave)) , color = '#eaf2fe')\n",
    "    \n",
    "    for x in lista_nodos_a_colorear_1:\n",
    "        H1.add_node(x,label=x+' ('+str(cuenta_pesos_nodos_ponderado.get(x))+'%)'\n",
    "               ,value=(cuenta_pesos_nodos_ponderado.get(x))\n",
    "               ,color = \"purple\")\n",
    "    for x in lista_nodos_a_colorear_2:\n",
    "        H1.add_node(x,label=x+' ('+str(cuenta_pesos_nodos_ponderado.get(x))+'%)'\n",
    "               ,value=(cuenta_pesos_nodos_ponderado.get(x))\n",
    "               ,color = \"orange\")\n",
    "    for x in lista_nodos_a_colorear_3a:\n",
    "        H1.add_node(x,label=x+' ('+str(cuenta_pesos_nodos_ponderado.get(x))+'%)'\n",
    "               ,value=(cuenta_pesos_nodos_ponderado.get(x))\n",
    "               ,color = \"green\")\n",
    "    for x in lista_nodos_a_colorear_3b:\n",
    "        H1.add_node(x,label=x+' ('+str(cuenta_pesos_nodos_ponderado.get(x))+'%)'\n",
    "               ,value=(cuenta_pesos_nodos_ponderado.get(x))\n",
    "               ,color = \"#93bf85\")\n",
    "    for x in lista_nodos_a_colorear_4:\n",
    "        H1.add_node(x,label=x+' ('+str(cuenta_pesos_nodos_ponderado.get(x))+'%)'\n",
    "               ,value=(cuenta_pesos_nodos_ponderado.get(x))\n",
    "               ,color = \"#00cdff\")\n",
    "    for clave, valor in cuenta_pesos_aristas_H1.items():\n",
    "        H1.add_edge(clave[0],clave[1], value = (cuenta_pesos_aristas_ponderado.get(clave)),label=str(cuenta_pesos_aristas_ponderado.get(clave))+'%',color = '#97c2fc') \n",
    "\n",
    "\n",
    "palabras_a_podar=['nan',' ','','']\n",
    "\n",
    "# lista_de_palabras_con_color+\n",
    "#palabras_a_podar = ['nan','study','research',' ','','','mathematics','education','mathematical']\n",
    "#palabras_a_podar=['nan','mathematical','education','mathematics','study']\n",
    "\n",
    "selected_nodes = [n for n,v in G.nodes(data=True) if v['value'] >= tamaño_nodo and n not in palabras_a_podar]\n",
    "H1 = H1.subgraph(selected_nodes)\n",
    "\n",
    "fin = time.time()\n",
    "#net=Network(notebook=False, heading='Espacio Rizomático Conceptual PODADO de '+ nombre_largo +', n='+str(len(dfA))+' artículos')\n",
    "net=Network(notebook=False)\n",
    "\n",
    "net.repulsion()\n",
    "net.from_nx(H1)\n",
    "nombre_archivo = 'grafo_podado_'+ abrev +dic_modo_grafo.get(modo_grafo)+  campo_para_nodos_grafo + '_met_'+ met +str(len(dfA)) +'_n_' + str(len(dfA)) + '_f_nodo_'+ str(tamaño_nodo) + '_f_edge_'+ str(filtro_arista)\n",
    "net.show(abrev + '/' + nombre_archivo+'.html')\n",
    "\n",
    "\n",
    "print('----------------------------')\n",
    "lista_nodosH1= [e for e in H1.nodes(data=True)]\n",
    "lista_nodosH1_ordenada = sorted([e for e in lista_nodosH1 if 'value' in e[1]], key=lambda x: x[1]['value'], reverse=True)\n",
    "\n",
    "#lista_nodosH1_ordenada = sorted(lista_nodosH1, key=lambda x: x[1]['value'], reverse=True) # [:20]\n",
    "\n",
    "\n",
    "Afiliación='global'\n",
    "caption_1= '\\caption{'+'Extracto del '+ '$\\mathcal{G}_{'+str(tamaño_nodo)+','+str(filtro_arista)+'}$ Espacio Rizomático Conceptual'+' \\\\textbf{podado} para ' + str(len(dfA)) +  ' artículos con afiliación en países de \\\\textbf{'+ Afiliación  +'}. Las palabras podadas son: \\\\textit{education}, \\\\textit{mathematics} y \\\\textit{mathematical}. '\n",
    "código_color=' Código de colores: \\\\textcolor[HTML]{800080}{$\\\\bullet$} conceptos de educación matemática; \\\\textcolor[HTML]{ffa500}{$\\\\bullet$} conceptos matemáticos disciplinares; \\\\textcolor[HTML]{008000}{$\\\\bullet$} y \\\\textcolor[HTML]{93bf85}{$\\\\bullet$}  conceptos genéricos de educación; \\\\textcolor[HTML]{00cdff}{$\\\\bullet$} conceptos sobre temas sociales  y \\\\textcolor[HTML]{eaf2fe}{$\\\\bullet$} conceptos que no están en las otras categorías.}' \n",
    "caption_1=caption_1+código_color\n",
    "print(caption_1)\n",
    "\n",
    "print('filtro arista:', filtro_arista)\n",
    "print('tamaño_nodo: ',tamaño_nodo)\n",
    "\n",
    "print('\\n')\n",
    "print('Lista de aristas y pesos de ERC podado: ',)\n",
    "#for x in lista_nodosH1_ordenada:\n",
    "#    print(x[0],':',x[1].get('value'))\n",
    "\n",
    "lista_aristas_H1_ordenada=[e for e in H1.edges(data=True)]\n",
    "lista_aristas_H1_ordenada = sorted(lista_aristas_H1_ordenada, key=lambda x: x[2]['value'], reverse=True)\n",
    "\n",
    "\n",
    "\n",
    "#for x in lista_aristas_H1_ordenada:\n",
    "    #print(x[0],'-',x[1],':',x[2].get('value'))\n",
    "\n"
   ]
  },
  {
   "cell_type": "markdown",
   "id": "977d4b7d",
   "metadata": {},
   "source": [
    "# 26 Exportar a Datapane el grafo podado\n"
   ]
  },
  {
   "cell_type": "markdown",
   "id": "dec9f777",
   "metadata": {},
   "source": [
    "import datapane as dp\n",
    "\n",
    "with open(abrev + '/'+nombre_archivo+'.html', 'r') as f:\n",
    "    html_network_1 = f.read()\n",
    "    \n",
    "dp.Report(\n",
    "  dp.HTML(\n",
    "    html_network_1\n",
    "  )\n",
    ").upload(name=abrev+' - espacio rizomático conceptual PODADO '+ str(len(dfA)) + ' artículos')"
   ]
  },
  {
   "cell_type": "markdown",
   "id": "cb45a2b6",
   "metadata": {},
   "source": [
    "# 27 Ego de un grafo"
   ]
  },
  {
   "cell_type": "code",
   "execution_count": 26,
   "id": "700e62b1",
   "metadata": {},
   "outputs": [
    {
     "name": "stdout",
     "output_type": "stream",
     "text": [
      "tamaño_nodo_abs: 2\n",
      "El ego: << argumentationeeee >> no está presente en el grafo G.\n"
     ]
    }
   ],
   "source": [
    "ego='argumentationeeee'\n",
    "lista_nodos_a_colorear =[ego]\n",
    "tamaño_nodo = 2\n",
    "filtro_arista = 6\n",
    "\n",
    "if modo_grafo == 1:\n",
    "    tamaño_nodo = tamaño_nodo\n",
    "    tamaño_nodo_abs = tamaño_nodo\n",
    "    print('tamaño_nodo_abs:',tamaño_nodo_abs)\n",
    "    filtro_arista = filtro_arista\n",
    "    filtro_arista_abs = filtro_arista\n",
    "else:\n",
    "    tamaño_nodo_abs = tamaño_nodo\n",
    "    tamaño_nodo = tamaño_nodo/len(dfA)\n",
    "    print('tamaño_nodo_abs:',tamaño_nodo_abs)\n",
    "    filtro_arista_abs = filtro_arista\n",
    "    filtro_arista = filtro_arista/len(dfA)\n",
    "    \n",
    "\n",
    "cuenta_pesos_aristas_Ego=dict(filter(lambda x: x[1] >= filtro_arista_abs, cuenta_pesos_aristas.items()))\n",
    "\n",
    "Ego = nx.Graph()\n",
    "\n",
    "\n",
    "\n",
    "\n",
    "if modo_grafo == 1:\n",
    "    #for clave, valor in nodos_color_1.items():\n",
    "    #    Ego.add_node(clave,label=clave+' ('+str(valor)+')', value=(valor) , color = '#5a7497')\n",
    "    #for clave, valor  in nodos_color_2.items():\n",
    "    #    Ego.add_node(clave,label=clave+' ('+str(valor)+')', value=(valor) , color = '#97c2fc')\n",
    "        \n",
    "    for x in lista_nodos_a_colorear_1:\n",
    "        Ego.add_node(x,label=x+' ('+str(cuenta_pesos_nodos.get(x))+')'\n",
    "               ,value=(cuenta_pesos_nodos.get(x))\n",
    "               ,color = \"purple\")\n",
    "    for x in lista_nodos_a_colorear_2:\n",
    "        Ego.add_node(x,label=x+' ('+str(cuenta_pesos_nodos.get(x))+')'\n",
    "               ,value=(cuenta_pesos_nodos.get(x))\n",
    "               ,color = \"green\")\n",
    "    for x in lista_nodos_a_colorear_3a:\n",
    "        Ego.add_node(x,label=x+' ('+str(cuenta_pesos_nodos.get(x))+')'\n",
    "               ,value=(cuenta_pesos_nodos.get(x))\n",
    "               ,color = \"pink\")\n",
    "    for x in lista_nodos_a_colorear_3b:\n",
    "        Ego.add_node(x,label=x+' ('+str(cuenta_pesos_nodos.get(x))+')'\n",
    "               ,value=(cuenta_pesos_nodos.get(x))\n",
    "               ,color = \"orange\")\n",
    "    for clave, valor in cuenta_pesos_aristas_Ego.items():\n",
    "        Ego.add_edge(clave[0],clave[1], value = (valor),label=str(valor),color = '#97c2fc') \n",
    "\n",
    "\n",
    "\n",
    "else:\n",
    "    #for clave, valor in nodos_color_1.items():\n",
    "    #    Ego.add_node(clave,label=clave+' ('+str(cuenta_pesos_nodos_ponderado.get(clave))+'%)', value=(cuenta_pesos_nodos_ponderado.get(clave)) , color = '#5a7497')\n",
    "    \n",
    "    #for clave, valor in nodos_color_2.items():\n",
    "    #    Ego.add_node(clave,label=clave+' ('+str(cuenta_pesos_nodos_ponderado.get(clave))+'%)', value=(cuenta_pesos_nodos_ponderado.get(clave)) , color = '#97c2fc')\n",
    "    \n",
    "    for x in lista_nodos_a_colorear_1:\n",
    "        Ego.add_node(x,label=x+' ('+str(cuenta_pesos_nodos_ponderado.get(x))+'%)'\n",
    "               ,value=(cuenta_pesos_nodos_ponderado.get(x))\n",
    "               ,color = \"purple\")\n",
    "    for x in lista_nodos_a_colorear_2:\n",
    "        Ego.add_node(x,label=x+' ('+str(cuenta_pesos_nodos_ponderado.get(x))+'%)'\n",
    "               ,value=(cuenta_pesos_nodos_ponderado.get(x))\n",
    "               ,color = \"green\")\n",
    "    for x in lista_nodos_a_colorear_3a:\n",
    "        Ego.add_node(x,label=x+' ('+str(cuenta_pesos_nodos_ponderado.get(x))+'%)'\n",
    "               ,value=(cuenta_pesos_nodos_ponderado.get(x))\n",
    "               ,color = \"pink\")\n",
    "    for x in lista_nodos_a_colorear_3b:\n",
    "        Ego.add_node(x,label=x+' ('+str(cuenta_pesos_nodos_ponderado.get(x))+'%)'\n",
    "               ,value=(cuenta_pesos_nodos_ponderado.get(x))\n",
    "               ,color = \"orange\")\n",
    "    for clave, valor in cuenta_pesos_aristas_Ego.items():\n",
    "        Ego.add_edge(clave[0],clave[1], value = (cuenta_pesos_aristas_ponderado.get(clave)),label=str(cuenta_pesos_aristas_ponderado.get(clave))+'%',color = '#97c2fc') \n",
    "\n",
    "palabras_a_podar=['nan','study','research',' ','','','mathematics','education','mathematical']\n",
    "#palabras_a_podar=['nan','mathematical','education','mathematics','study']\n",
    "\n",
    "\n",
    "\n",
    "\n",
    "\n",
    "#palabras_a_podar=['nan','mathematics','education','mathematical']\n",
    "\n",
    "selected_nodes = [n for n,v in G.nodes(data=True) if v['value'] >= tamaño_nodo_abs and n not in palabras_a_podar]\n",
    "\n",
    "    \n",
    "if ego in G:\n",
    "    Ego = Ego.subgraph(selected_nodes)\n",
    "    \n",
    "    hub_ego = nx.ego_graph(Ego, ego, radius=1)\n",
    "\n",
    "    for u, v in list(hub_ego.edges):\n",
    "        if u != ego and v != ego:\n",
    "            hub_ego.remove_edge(u, v)\n",
    "    \n",
    "    net = Network(notebook=True)\n",
    "    net = Network(notebook=False, heading='EGO Rizomático Conceptual de '+ ego +', basado en '+ nombre_largo +', n='+str(len(dfA))+' artículos')\n",
    "    net.repulsion()\n",
    "    net.from_nx(hub_ego)\n",
    "    nombre_archivo = 'grafo_ego_'+ego+'_'+ abrev +dic_modo_grafo.get(modo_grafo) + campo_para_nodos_grafo + '_met_'+ met +str(len(dfA)) +'_n_' + str(len(dfA.index)) + '_f_nodo_'+ str(tamaño_nodo_abs) + '_f_edge_'+ str(filtro_arista_abs)\n",
    "    net.show(abrev + '/'+nombre_archivo+'.html')\n",
    "    lista_aristas_hub_ego = [e for e in hub_ego.edges(data=True)]\n",
    "    lista_aristas_hub_ego = sorted(lista_aristas_hub_ego, key=lambda x: x[2]['value'], reverse=True)\n",
    "    \n",
    "    print('\\caption{','Ego del nodo',ego, ' para ',nombre_largo, 'que incluye' ,len(dfA), \n",
    "          ' artículos. En este grafo se muestran solo los nodos de cuyo tamaño es al menos ',str(tamaño_nodo),\n",
    "          ' y las aristas de al menos tamaño ',filtro_arista,'.}')\n",
    "    \n",
    "    print('Grafo de la base: ',nombre_largo)\n",
    "    print('Cantidad de artículos: ',len(dfA))\n",
    "    print('Cantidad de nodos grafo completo G: ',(len(hub_ego.nodes)))\n",
    "    print('Cantidad de aristas grafo completo G: ',(len(hub_ego.edges)))\n",
    "    \n",
    "    print('\\n')\n",
    "    print('Lista de aristas y pesos del EGO: ',ego)\n",
    "    for x in lista_aristas_hub_ego[30:]:\n",
    "        print(x[0],'-',x[1],':',x[2].get('value'))\n",
    "\n",
    "else:\n",
    "    print(\"El ego: <<\",ego, \">> no está presente en el grafo G.\")\n"
   ]
  },
  {
   "cell_type": "code",
   "execution_count": 27,
   "id": "d3a8afe7",
   "metadata": {},
   "outputs": [
    {
     "name": "stdout",
     "output_type": "stream",
     "text": [
      "1.3536081314086914 seg. Equivalentes a 0.02256013552347819 min\n"
     ]
    }
   ],
   "source": [
    "fin = time.time()\n",
    "print(f\"{fin-inicio} seg. Equivalentes a {(fin-inicio)/60} min\")\n",
    "\n"
   ]
  },
  {
   "cell_type": "markdown",
   "id": "2a8e6ba7",
   "metadata": {},
   "source": [
    "# 28 Exportar a Datapane"
   ]
  },
  {
   "cell_type": "raw",
   "id": "7d8ec784",
   "metadata": {},
   "source": [
    "import datapane as dp\n",
    "\n",
    "with open(abrev + '/'+nombre_archivo+'.html', 'r') as f:\n",
    "    html_network_1 = f.read()\n",
    "    \n",
    "dp.Report(\n",
    "  dp.HTML(\n",
    "    html_network_1\n",
    "  )\n",
    ").upload(name=abrev+' ego rizomático de ' + ego + ' para ' + str(len(dfA)) + ' artículos')"
   ]
  },
  {
   "cell_type": "code",
   "execution_count": 28,
   "id": "c225ed21",
   "metadata": {},
   "outputs": [
    {
     "name": "stdout",
     "output_type": "stream",
     "text": [
      "Local cdn resources have problems on chrome/safari when used in jupyter-notebook. \n"
     ]
    },
    {
     "data": {
      "text/html": [
       "\n",
       "        <iframe\n",
       "            width=\"100%\"\n",
       "            height=\"600px\"\n",
       "            src=\"subgrafo.html\"\n",
       "            frameborder=\"0\"\n",
       "            allowfullscreen\n",
       "            \n",
       "        ></iframe>\n",
       "        "
      ],
      "text/plain": [
       "<IPython.lib.display.IFrame at 0x7f984966b2e0>"
      ]
     },
     "execution_count": 28,
     "metadata": {},
     "output_type": "execute_result"
    }
   ],
   "source": [
    "import pandas as pd\n",
    "import networkx as nx\n",
    "from pyvis.network import Network\n",
    "import itertools\n",
    "from collections import Counter\n",
    "\n",
    "# Cargar datos desde un archivo CSV\n",
    "#df = pd.read_csv('tu_archivo.csv')  # Reemplaza 'tu_archivo.csv' con el nombre de tu archivo\n",
    "df=dfA\n",
    "# Extraer palabras de una columna específica\n",
    "columna = 'Author(s) ID'  # Reemplaza con el nombre de tu columna\n",
    "separador = ';'  # Define el separador utilizado para separar palabras en la celda\n",
    "palabras = df[columna].dropna().apply(lambda x: x.split(separador))\n",
    "\n",
    "# Contar la frecuencia de cada palabra\n",
    "contador_palabras = Counter()\n",
    "for celda in palabras:\n",
    "    contador_palabras.update([palabra.strip() for palabra in celda])\n",
    "\n",
    "# Seleccionar los n1 nodos más frecuentes\n",
    "n1 = 100\n",
    "nodos_frecuentes = {palabra for palabra, _ in contador_palabras.most_common(n1)}\n",
    "\n",
    "# Crear el grafo\n",
    "G = nx.Graph()\n",
    "contador_aristas = Counter()\n",
    "\n",
    "for celda in palabras:\n",
    "    celda_limpia = [palabra.strip() for palabra in celda if palabra.strip() in nodos_frecuentes]\n",
    "    for palabra1, palabra2 in itertools.combinations(celda_limpia, 2):\n",
    "        G.add_edge(palabra1, palabra2)\n",
    "        contador_aristas.update([(palabra1, palabra2)])\n",
    "\n",
    "# Seleccionar las n2 aristas más frecuentes\n",
    "n2 = 50\n",
    "aristas_frecuentes = {arista for arista, _ in contador_aristas.most_common(n2)}\n",
    "\n",
    "# Crear un subgrafo con solo las aristas seleccionadas\n",
    "subgrafo = G.edge_subgraph(aristas_frecuentes).copy()\n",
    "\n",
    "# Definir factores de escala para tamaño de nodos y grosor de aristas\n",
    "factor_tamaño = 0.01  # Ajusta este valor según sea necesario\n",
    "factor_grosor = 0.05  # Ajusta este valor según sea necesario\n",
    "\n",
    "# Visualizar el subgrafo\n",
    "net = Network(notebook=True)\n",
    "\n",
    "# Ajustar el tamaño de los nodos y el grosor de las aristas\n",
    "for nodo in subgrafo.nodes:\n",
    "    net.add_node(nodo, size=contador_palabras[nodo] * factor_tamaño)\n",
    "\n",
    "for nodo1, nodo2 in subgrafo.edges:\n",
    "    net.add_edge(nodo1, nodo2, value=contador_aristas[(nodo1, nodo2)] * factor_grosor)\n",
    "\n",
    "net.show('subgrafo.html')  # Esto generará un archivo HTML con el subgrafo visualizado\n"
   ]
  },
  {
   "cell_type": "code",
   "execution_count": 29,
   "id": "c747df1b",
   "metadata": {
    "scrolled": true
   },
   "outputs": [
    {
     "name": "stdout",
     "output_type": "stream",
     "text": [
      "Local cdn resources have problems on chrome/safari when used in jupyter-notebook. \n",
      "Local cdn resources have problems on chrome/safari when used in jupyter-notebook. \n"
     ]
    },
    {
     "data": {
      "text/html": [
       "\n",
       "        <iframe\n",
       "            width=\"100%\"\n",
       "            height=\"600px\"\n",
       "            src=\"grafo.html\"\n",
       "            frameborder=\"0\"\n",
       "            allowfullscreen\n",
       "            \n",
       "        ></iframe>\n",
       "        "
      ],
      "text/plain": [
       "<IPython.lib.display.IFrame at 0x7f984966d2b0>"
      ]
     },
     "execution_count": 29,
     "metadata": {},
     "output_type": "execute_result"
    }
   ],
   "source": [
    "import pandas as pd\n",
    "import networkx as nx\n",
    "from pyvis.network import Network\n",
    "from collections import defaultdict\n",
    "\n",
    "def crear_grafo(df, columna, separador, modo):\n",
    "    \"\"\"\n",
    "    Crea un grafo a partir de una columna de un DataFrame, donde cada nodo es una cadena única\n",
    "    y las aristas representan conexiones entre cadenas en la misma fila.\n",
    "\n",
    "    :param df: DataFrame de pandas.\n",
    "    :param columna: Nombre de la columna a analizar.\n",
    "    :param separador: Caracter utilizado para separar elementos en cada fila de la columna.\n",
    "    :param modo: 'absoluto' para frecuencia de aparición o 'ponderado' para porcentaje.\n",
    "    :return: Objeto Network de Pyvis para visualización.\n",
    "    \"\"\"\n",
    "    G = nx.Graph()\n",
    "\n",
    "    # Contadores para pesos de nodos y aristas\n",
    "    peso_nodos = defaultdict(int)\n",
    "    peso_aristas = defaultdict(int)\n",
    "\n",
    "    # Total de filas para el modo ponderado\n",
    "    total_filas = len(df)\n",
    "\n",
    "    # Iterar sobre cada fila para construir el grafo\n",
    "    for fila in df[columna]:\n",
    "        if pd.isna(fila):\n",
    "            continue\n",
    "        elementos = fila.split(separador)\n",
    "        elementos_unicos = set(elementos)\n",
    "        \n",
    "        # Añadir nodos y aristas al grafo\n",
    "        for elemento in elementos_unicos:\n",
    "            peso_nodos[elemento] += 1\n",
    "            G.add_node(elemento, size=peso_nodos[elemento])\n",
    "            for otro_elemento in elementos_unicos:\n",
    "                if elemento != otro_elemento:\n",
    "                    peso_aristas[(elemento, otro_elemento)] += 1\n",
    "                    G.add_edge(elemento, otro_elemento, weight=peso_aristas[(elemento, otro_elemento)])\n",
    "\n",
    "    # Ajustar pesos en modo ponderado\n",
    "    if modo == 'ponderado':\n",
    "        for nodo in G.nodes:\n",
    "            G.nodes[nodo]['size'] = (peso_nodos[nodo] / total_filas) * 100\n",
    "        for u, v, d in G.edges(data=True):\n",
    "            d['weight'] = (peso_aristas[(u, v)] / total_filas) * 100\n",
    "\n",
    "    # Visualización con Pyvis\n",
    "    net = Network(notebook=True)\n",
    "    net.from_nx(G)\n",
    "    return net\n",
    "\n",
    "# Ejemplo de uso con un DataFrame de muestra\n",
    "# Creando un DataFrame de ejemplo\n",
    "data = {\n",
    "    'Cadenas': ['a;b;c', 'a;d', 'a;d;e', 'c;a', 'a;b']\n",
    "}\n",
    "df_ejemplo = pd.DataFrame(data)\n",
    "dfA_primeras_100 = dfA.iloc[0:100]\n",
    "\n",
    "# Crear un grafo a partir de la columna 'Cadenas', usando ';' como separador, en modo 'absoluto'\n",
    "grafo = crear_grafo(dfA_primeras_100, 'Author(s) ID', ';', 'absoluto')\n",
    "grafo = crear_grafo(df_ejemplo, 'Cadenas', ';', 'absoluto')\n",
    "\n",
    "\n",
    "# Mostrar el grafo\n",
    "grafo.show(\"grafo.html\")\n"
   ]
  },
  {
   "cell_type": "markdown",
   "id": "bf6bdea9",
   "metadata": {},
   "source": [
    "# 29 Información para crear"
   ]
  },
  {
   "cell_type": "code",
   "execution_count": 30,
   "id": "914ac88b",
   "metadata": {
    "scrolled": false
   },
   "outputs": [
    {
     "name": "stdout",
     "output_type": "stream",
     "text": [
      "Local cdn resources have problems on chrome/safari when used in jupyter-notebook. \n",
      "Local cdn resources have problems on chrome/safari when used in jupyter-notebook. \n"
     ]
    },
    {
     "data": {
      "text/html": [
       "\n",
       "        <iframe\n",
       "            width=\"100%\"\n",
       "            height=\"600px\"\n",
       "            src=\"grafo.html\"\n",
       "            frameborder=\"0\"\n",
       "            allowfullscreen\n",
       "            \n",
       "        ></iframe>\n",
       "        "
      ],
      "text/plain": [
       "<IPython.lib.display.IFrame at 0x7f98792e88e0>"
      ]
     },
     "execution_count": 30,
     "metadata": {},
     "output_type": "execute_result"
    }
   ],
   "source": [
    "def crear_grafo(df, columna, separador, modo, decimales=0):\n",
    "    G = nx.Graph()\n",
    "\n",
    "    # Contadores para pesos de nodos y aristas\n",
    "    peso_nodos = defaultdict(int)\n",
    "    peso_aristas = defaultdict(int)\n",
    "\n",
    "    # Total de filas para el modo ponderado\n",
    "    total_filas = len(df)\n",
    "\n",
    "    # Iterar sobre cada fila para construir el grafo\n",
    "    for fila in df[columna]:\n",
    "        if pd.isna(fila):\n",
    "            continue\n",
    "        elementos = fila.split(separador)\n",
    "        elementos = [str(elemento) for elemento in elementos]\n",
    "        elementos_unicos = set(elementos)\n",
    "\n",
    "        # Añadir nodos y aristas al grafo\n",
    "        for elemento in elementos_unicos:\n",
    "            peso_nodos[elemento] += 1\n",
    "            for otro_elemento in elementos_unicos:\n",
    "                if elemento != otro_elemento:\n",
    "                    peso_aristas[(elemento, otro_elemento)] += 1\n",
    "\n",
    "    # Ajustar pesos y títulos en modo ponderado\n",
    "    for nodo in peso_nodos:\n",
    "        etiqueta_nodo = f\"{nodo} ({peso_nodos[nodo]})\" if modo == 'absoluto' else f\"{nodo} ({(peso_nodos[nodo] / total_filas) * 100:.{decimales}f}%)\"\n",
    "        G.add_node(nodo, title=etiqueta_nodo, size=(peso_nodos[nodo]))\n",
    "\n",
    "    for (u, v), peso in peso_aristas.items():\n",
    "        etiqueta_arista = f\"{peso}\" if modo == 'absoluto' else f\"{(peso / total_filas) * 100:.{decimales}f}%\"\n",
    "        G.add_edge(u, v, title=etiqueta_arista, weight=peso)\n",
    "\n",
    "    # Visualización con Pyvis\n",
    "    net = Network(notebook=True)\n",
    "    net.from_nx(G)\n",
    "\n",
    "    # Ajustar la visualización de los nodos y aristas\n",
    "    for node in net.nodes:\n",
    "        node['label'] = node['title']\n",
    "        node['value'] = (node['size'] )  # Ajustar el multiplicador según necesidades\n",
    "\n",
    "    for edge in net.edges:\n",
    "        u, v = edge['from'], edge['to']\n",
    "        edge['label'] = G[u][v]['title']\n",
    "        if 'weight' in G[u][v]:\n",
    "            edge['width'] = G[u][v]['weight']  # Ajustar el divisor según necesidades\n",
    "        else:\n",
    "            edge['width'] = 1  # Un valor predeterminado si no hay peso\n",
    "\n",
    "    net.toggle_hide_edges_on_drag(False)\n",
    "    net.toggle_physics(True)\n",
    "\n",
    "    return net\n",
    "\n",
    "\n",
    "\n",
    "# Ejemplo de uso con un DataFrame de muestra\n",
    "# Creando un DataFrame de ejemplo\n",
    "data = {\n",
    "    'Cadenas': ['a;b;c', 'b;a;d', 'd;e', 'd;c;a', 'a;b']\n",
    "}\n",
    "df_ejemplo = pd.DataFrame(data)\n",
    "dfA_primeras_100 = dfA.iloc[0:100]\n",
    "\n",
    "# Crear un grafo a partir de la columna 'Cadenas', usando ';' como separador, en modo 'absoluto'\n",
    "grafo = crear_grafo(df_ejemplo, 'Cadenas', ';', 'ponderado')\n",
    "grafo = crear_grafo(dfA_primeras_100, 'Author(s) ID', ';', 'absoluto')\n",
    "\n",
    "# Mostrar el grafo\n",
    "grafo.show(\"grafo.html\")"
   ]
  },
  {
   "cell_type": "code",
   "execution_count": 31,
   "id": "6abb4355",
   "metadata": {},
   "outputs": [
    {
     "name": "stdout",
     "output_type": "stream",
     "text": [
      "de 241 el 94.61% contiene información\n",
      "Local cdn resources have problems on chrome/safari when used in jupyter-notebook. \n",
      "                      Arista  Valor Porcentaje\n",
      "0       Netherlands - Cyprus      1          1\n",
      "1         Brazil - Australia      1          1\n",
      "2          Brazil - Portugal      1          2\n",
      "3           Brazil - Denmark      1          1\n",
      "4     Brazil - United States      1          1\n",
      "5             Brazil - Spain      1          4\n",
      "6             Brazil - Chile      1          1\n",
      "7             Panama - Spain      1          1\n",
      "8      Portugal - Costa Rica      1          1\n",
      "9           Portugal - Spain      1          3\n",
      "10       Costa Rica - Mexico      1          1\n",
      "11        Costa Rica - Spain      1          1\n",
      "12           Canada - France      1          2\n",
      "13          Chile - Colombia      1          1\n",
      "14            Chile - Mexico      1          5\n",
      "15           Chile - Denmark      1          1\n",
      "16             Chile - Spain      1          3\n",
      "17    Chile - United Kingdom      1          1\n",
      "18          Honduras - Spain      1          1\n",
      "19  Colombia - United States      1          1\n",
      "20          Colombia - Spain      1          2\n",
      "21         Colombia - Mexico      1          3\n",
      "22            Mexico - Spain      1          2\n",
      "23        Mexico - Argentina      1          2\n",
      "24           France - Greece      1          1\n",
      "25    United Kingdom - Spain      1          1\n",
      "26         Argentina - Spain      1          2\n",
      "27              Cuba - Spain      1          1\n"
     ]
    }
   ],
   "source": [
    "def crear_grafo(df, columna, separador, modo, n1=None, n2=None, decimales=0):\n",
    "    G = nx.Graph()\n",
    "\n",
    "    # Contadores para pesos de nodos y aristas\n",
    "    peso_nodos = defaultdict(int)\n",
    "    peso_aristas = defaultdict(int)\n",
    "\n",
    "    # Total de filas para el modo ponderado\n",
    "    total_filas = len(df)\n",
    "\n",
    "    # Iterar sobre cada fila para construir el grafo\n",
    "    for fila in df[columna]:\n",
    "        if pd.isna(fila):\n",
    "            continue\n",
    "        elementos = fila.split(separador)\n",
    "        elementos = [str(elemento) for elemento in elementos]\n",
    "        elementos_unicos = set(elementos)\n",
    "\n",
    "        # Añadir nodos y aristas al grafo\n",
    "        for elemento in elementos_unicos:\n",
    "            peso_nodos[elemento] += 1\n",
    "            for otro_elemento in elementos_unicos:\n",
    "                if elemento != otro_elemento:\n",
    "                    peso_aristas[(elemento, otro_elemento)] += 1\n",
    "\n",
    "    # Seleccionar los n1 nodos con más peso\n",
    "    nodos_ordenados = sorted(peso_nodos.items(), key=lambda item: item[1], reverse=True)\n",
    "    if n1 is not None:\n",
    "        nodos_ordenados = nodos_ordenados[:n1]\n",
    "    nodos_seleccionados = {nodo for nodo, _ in nodos_ordenados}\n",
    "\n",
    "    # Seleccionar las n2 aristas con más peso\n",
    "    aristas_ordenadas = sorted(peso_aristas.items(), key=lambda item: item[1], reverse=True)\n",
    "    if n2 is not None:\n",
    "        aristas_ordenadas = aristas_ordenadas[:n2]\n",
    "    aristas_seleccionadas = {arista for arista, _ in aristas_ordenadas}\n",
    "\n",
    "    # Crear el grafo con los nodos y aristas seleccionados\n",
    "    for nodo in nodos_seleccionados:\n",
    "        peso_nodo = peso_nodos[nodo]\n",
    "        etiqueta_nodo = f\"{nodo} ({peso_nodo})\" if modo == 'absoluto' else f\"{nodo} ({(peso_nodo / total_filas) * 100:.{decimales}f}%)\"\n",
    "        G.add_node(nodo, title=etiqueta_nodo, size=(peso_nodo))\n",
    "\n",
    "    for (u, v) in aristas_seleccionadas:\n",
    "        peso_arista = peso_aristas[(u, v)]\n",
    "        etiqueta_arista = f\"{peso_arista}\" if modo == 'absoluto' else f\"{(peso_arista / total_filas) * 100:.{decimales}f}%\"\n",
    "        if u in nodos_seleccionados and v in nodos_seleccionados:  # Añadir solo aristas entre nodos seleccionados\n",
    "            G.add_edge(u, v, title=etiqueta_arista, weight=peso_arista)\n",
    "\n",
    "    # Visualización con Pyvis\n",
    "    net = Network(notebook=True)\n",
    "    net.from_nx(G)\n",
    "\n",
    "    # Ajustar la visualización de los nodos y aristas\n",
    "    for node in net.nodes:\n",
    "        node['label'] = node['title']\n",
    "        node['value'] = (node['size'])\n",
    "\n",
    "    for edge in net.edges:\n",
    "        u, v = edge['from'], edge['to']\n",
    "        edge['label'] = G[u][v]['title']\n",
    "        edge['width'] = G[u][v]['weight'] if 'weight' in G[u][v] else 1\n",
    "\n",
    "    net.toggle_hide_edges_on_drag(False)\n",
    "    net.toggle_physics(True)\n",
    "\n",
    "    return net\n",
    "\n",
    "dfA['Affiliations'].iloc[17]\n",
    "import pandas as pd\n",
    "\n",
    "# Suponiendo que dfA es tu DataFrame y ya está cargado con tus datos.\n",
    "# Función para extraer países de una cadena de texto.\n",
    "def extraer_paises(afiliacion):\n",
    "    if pd.isna(afiliacion):\n",
    "        return \"\"  # Devolver una cadena vacía si el valor es NaN\n",
    "    partes = afiliacion.split(';')\n",
    "    paises = [parte.strip().split(',')[-1].strip() for parte in partes if parte]\n",
    "    return ';'.join(paises)\n",
    "\n",
    "# Aplicar la función a cada fila en la columna 'Affiliations'.\n",
    "dfA['Paises'] = dfA['Affiliations'].apply(extraer_paises)\n",
    "\n",
    "# Ahora dfA contiene una nueva columna 'Paises' con los países extraídos.\n",
    "dfA\n",
    "\n",
    "dfA_filtrado = dfA[dfA['Paises'] != '']\n",
    "print(f\"de {len(dfA)} el {round(100*len(dfA_filtrado)/len(dfA),2)}% contiene información\")\n",
    "\n",
    "grafo = crear_grafo(dfA_filtrado, 'Paises', ';', 'absoluto', n1=150, n2=150, decimales=1)\n",
    "grafo.show(\"grafo.html\")\n",
    "\n",
    "import pandas as pd\n",
    "\n",
    "# Crear un diccionario para almacenar la información de las aristas\n",
    "aristas_data = {\n",
    "    'Arista': [],\n",
    "    'Valor': [],\n",
    "    'Porcentaje': []\n",
    "}\n",
    "\n",
    "# Iterar sobre las aristas del grafo\n",
    "for edge in grafo.edges:\n",
    "    u, v = edge['from'], edge['to']\n",
    "\n",
    "    # Obtener la información de la arista\n",
    "    etiqueta_arista = edge['title']\n",
    "    \n",
    "    # Obtener el peso de la arista\n",
    "    peso_arista = edge['options'].get('weight', 1) if 'options' in edge else 1\n",
    "    \n",
    "    # Agregar la información al diccionario\n",
    "    aristas_data['Arista'].append(f\"{u} - {v}\")\n",
    "    aristas_data['Valor'].append(peso_arista)\n",
    "    aristas_data['Porcentaje'].append(etiqueta_arista)\n",
    "\n",
    "# Crear el DataFrame\n",
    "df_aristas = pd.DataFrame(aristas_data)\n",
    "\n",
    "# Imprimir el DataFrame\n",
    "print(df_aristas)"
   ]
  },
  {
   "cell_type": "code",
   "execution_count": 32,
   "id": "3bd89710",
   "metadata": {},
   "outputs": [
    {
     "name": "stdout",
     "output_type": "stream",
     "text": [
      "de 241 el 94.61% contiene información\n",
      "Local cdn resources have problems on chrome/safari when used in jupyter-notebook. \n",
      "                      Arista Valor  Porcentaje\n",
      "0       Netherlands - Cyprus     1        0.41\n",
      "1         Brazil - Australia     1        0.41\n",
      "2          Brazil - Portugal     2        0.83\n",
      "3           Brazil - Denmark     1        0.41\n",
      "4     Brazil - United States     1        0.41\n",
      "5             Brazil - Spain     4        1.66\n",
      "6             Brazil - Chile     1        0.41\n",
      "7             Panama - Spain     1        0.41\n",
      "8      Portugal - Costa Rica     1        0.41\n",
      "9           Portugal - Spain     3        1.24\n",
      "10       Costa Rica - Mexico     1        0.41\n",
      "11        Costa Rica - Spain     1        0.41\n",
      "12           Canada - France     2        0.83\n",
      "13          Chile - Colombia     1        0.41\n",
      "14            Chile - Mexico     5        2.07\n",
      "15           Chile - Denmark     1        0.41\n",
      "16             Chile - Spain     3        1.24\n",
      "17    Chile - United Kingdom     1        0.41\n",
      "18          Honduras - Spain     1        0.41\n",
      "19  Colombia - United States     1        0.41\n",
      "20          Colombia - Spain     2        0.83\n",
      "21         Colombia - Mexico     3        1.24\n",
      "22            Mexico - Spain     2        0.83\n",
      "23        Mexico - Argentina     2        0.83\n",
      "24           France - Greece     1        0.41\n",
      "25    United Kingdom - Spain     1        0.41\n",
      "26         Argentina - Spain     2        0.83\n",
      "27              Cuba - Spain     1        0.41\n"
     ]
    }
   ],
   "source": [
    "import pandas as pd\n",
    "import networkx as nx\n",
    "from pyvis.network import Network\n",
    "from collections import defaultdict\n",
    "import matplotlib.colors as mcolors\n",
    "\n",
    "def crear_grafo(df, columna, separador, modo, n1=None, n2=None, decimales=0):\n",
    "    G = nx.Graph()\n",
    "\n",
    "    # Contadores para pesos de nodos y aristas\n",
    "    peso_nodos = defaultdict(int)\n",
    "    peso_aristas = defaultdict(int)\n",
    "\n",
    "    # Total de filas para el modo ponderado\n",
    "    total_filas = len(df)\n",
    "\n",
    "    # Obtener la lista de países de Latinoamérica\n",
    "    latinoamerica = [\n",
    "        'Argentina', 'Bolivia', 'Brazil', 'Chile', 'Colombia', 'Costa Rica', 'Ecuador', 'Jamaica',\n",
    "        'Mexico', 'Paraguay', 'Peru', 'Puerto Rico', 'Uruguay', 'Venezuela', 'Cuba', 'Dominican Republic',\n",
    "        'El Salvador', 'Guatemala', 'Honduras', 'Nicaragua', 'Panama', 'Paraguay', 'Uruguay'\n",
    "    ]\n",
    "\n",
    "    # Iterar sobre cada fila para construir el grafo\n",
    "    for fila in df[columna]:\n",
    "        if pd.isna(fila):\n",
    "            continue\n",
    "        elementos = fila.split(separador)\n",
    "        elementos = [str(elemento) for elemento in elementos]\n",
    "        elementos_unicos = set(elementos)\n",
    "\n",
    "        # Añadir nodos y aristas al grafo\n",
    "        for elemento in elementos_unicos:\n",
    "            peso_nodos[elemento] += 1\n",
    "            for otro_elemento in elementos_unicos:\n",
    "                if elemento != otro_elemento:\n",
    "                    peso_aristas[(elemento, otro_elemento)] += 1\n",
    "\n",
    "    # Seleccionar los n1 nodos con más peso\n",
    "    nodos_ordenados = sorted(peso_nodos.items(), key=lambda item: item[1], reverse=True)\n",
    "    if n1 is not None:\n",
    "        nodos_ordenados = nodos_ordenados[:n1]\n",
    "    nodos_seleccionados = {nodo for nodo, _ in nodos_ordenados}\n",
    "\n",
    "    # Seleccionar las n2 aristas con más peso\n",
    "    aristas_ordenadas = sorted(peso_aristas.items(), key=lambda item: item[1], reverse=True)\n",
    "    if n2 is not None:\n",
    "        aristas_ordenadas = aristas_ordenadas[:n2]\n",
    "    aristas_seleccionadas = {arista for arista, _ in aristas_ordenadas}\n",
    "\n",
    "    # Crear el grafo con los nodos y aristas seleccionados\n",
    "    for nodo in nodos_seleccionados:\n",
    "        peso_nodo = peso_nodos[nodo]\n",
    "        etiqueta_nodo = f\"{nodo} ({peso_nodo})\" if modo == 'absoluto' else f\"{nodo} ({(peso_nodo / total_filas) * 100:.{decimales}f}%)\"\n",
    "        \n",
    "        # Asignar color naranjo si el nodo está en Latinoamérica, de lo contrario, gris\n",
    "        color_nodo = 'orange' if nodo in latinoamerica else 'gray'\n",
    "\n",
    "        G.add_node(nodo, title=etiqueta_nodo, size=(peso_nodo), color=color_nodo)\n",
    "\n",
    "    for (u, v) in aristas_seleccionadas:\n",
    "        peso_arista = peso_aristas[(u, v)]\n",
    "        etiqueta_arista = f\"{peso_arista}\" if modo == 'absoluto' else f\"{(peso_arista / total_filas) * 100:.{decimales}f}%\"\n",
    "        \n",
    "        # Asignar color naranjo si ambos nodos de la arista están en Latinoamérica, de lo contrario, gris\n",
    "        color_arista = 'orange' if u in latinoamerica and v in latinoamerica else 'gray'\n",
    "\n",
    "        if u in nodos_seleccionados and v in nodos_seleccionados:\n",
    "            G.add_edge(u, v, title=etiqueta_arista, weight=peso_arista, color=color_arista)\n",
    "\n",
    "    # Visualización con Pyvis\n",
    "    net = Network(notebook=True)\n",
    "    net.from_nx(G)\n",
    "\n",
    "    # Ajustar la visualización de los nodos y aristas\n",
    "    for node in net.nodes:\n",
    "        node['label'] = node['title']\n",
    "        node['value'] = (node['size'])\n",
    "\n",
    "    for edge in net.edges:\n",
    "        u, v = edge['from'], edge['to']\n",
    "        edge['label'] = G[u][v]['title']\n",
    "        edge['width'] = G[u][v]['weight'] if 'weight' in G[u][v] else 1\n",
    "\n",
    "    net.toggle_hide_edges_on_drag(False)\n",
    "    net.toggle_physics(True)\n",
    "\n",
    "    return net\n",
    "\n",
    "# Suponiendo que dfA es tu DataFrame y ya está cargado con tus datos.\n",
    "# Función para extraer países de una cadena de texto.\n",
    "def extraer_paises(afiliacion):\n",
    "    if pd.isna(afiliacion):\n",
    "        return \"\"  # Devolver una cadena vacía si el valor es NaN\n",
    "    partes = afiliacion.split(';')\n",
    "    paises = [parte.strip().split(',')[-1].strip() for parte in partes if parte]\n",
    "    return ';'.join(paises)\n",
    "\n",
    "# Aplicar la función a cada fila en la columna 'Affiliations'.\n",
    "dfA['Paises'] = dfA['Affiliations'].apply(extraer_paises)\n",
    "\n",
    "# Ahora dfA contiene una nueva columna 'Paises' con los países extraídos.\n",
    "dfA_filtrado = dfA[dfA['Paises'] != '']\n",
    "print(f\"de {len(dfA)} el {round(100*len(dfA_filtrado)/len(dfA),2)}% contiene información\")\n",
    "\n",
    "grafo = crear_grafo(dfA_filtrado, 'Paises', ';', 'absoluto', n1=200, n2=200, decimales=2)\n",
    "grafo.show(\"grafo_mundo.html\")\n",
    "\n",
    "import pandas as pd\n",
    "\n",
    "# Crear un diccionario para almacenar la información de las aristas\n",
    "aristas_data = {\n",
    "    'Arista': [],\n",
    "    'Valor': [],\n",
    "    'Porcentaje': []\n",
    "}\n",
    "\n",
    "# Iterar sobre las aristas del grafo\n",
    "for edge in grafo.edges:\n",
    "    u, v = edge['from'], edge['to']\n",
    "\n",
    "    # Obtener la información de la arista\n",
    "    etiqueta_arista = edge['title']\n",
    "    \n",
    "    # Obtener el peso de la arista\n",
    "    peso_arista = edge['options'].get('weight', 1) if 'options' in edge else 1\n",
    "    \n",
    "    # Agregar la información al diccionario\n",
    "    aristas_data['Arista'].append(f\"{u} - {v}\")\n",
    "    aristas_data['Valor'].append(etiqueta_arista)\n",
    "    aristas_data['Porcentaje'].append(round(100*int(etiqueta_arista)/len(dfA),2))\n",
    "\n",
    "# Crear el DataFrame\n",
    "df_aristas = pd.DataFrame(aristas_data)\n",
    "\n",
    "# Imprimir el DataFrame\n",
    "print(df_aristas)\n",
    "\n"
   ]
  },
  {
   "cell_type": "code",
   "execution_count": 33,
   "id": "584e73e9",
   "metadata": {
    "scrolled": false
   },
   "outputs": [
    {
     "name": "stdout",
     "output_type": "stream",
     "text": [
      "De 228 el 59.21% contiene países de Latinoamérica, es decir 135 artículos\n",
      "Local cdn resources have problems on chrome/safari when used in jupyter-notebook. \n"
     ]
    },
    {
     "data": {
      "text/html": [
       "\n",
       "        <iframe\n",
       "            width=\"100%\"\n",
       "            height=\"600px\"\n",
       "            src=\"grafo_latam.html\"\n",
       "            frameborder=\"0\"\n",
       "            allowfullscreen\n",
       "            \n",
       "        ></iframe>\n",
       "        "
      ],
      "text/plain": [
       "<IPython.lib.display.IFrame at 0x7f98540c5af0>"
      ]
     },
     "execution_count": 33,
     "metadata": {},
     "output_type": "execute_result"
    }
   ],
   "source": [
    "latinoamerica = [\n",
    "    'Argentina', 'Bolivia', 'Brazil', 'Chile', 'Colombia', 'Costa Rica', 'Ecuador', 'Jamaica',\n",
    "    'Mexico', 'Paraguay', 'Peru', 'Puerto Rico', 'Uruguay', 'Venezuela', 'Cuba', 'Dominican Republic',\n",
    "    'El Salvador', 'Guatemala', 'Honduras', 'Nicaragua', 'Panama', 'Paraguay', 'Uruguay'\n",
    "]\n",
    "\n",
    "# Filtrar las filas que contienen países de Latinoamérica\n",
    "dfA_filtrado_latam = dfA_filtrado[dfA_filtrado['Paises'].apply(lambda x: any(pais in x for pais in latinoamerica))]\n",
    "\n",
    "# Imprimir información sobre el nuevo DataFrame\n",
    "print(f\"De {len(dfA_filtrado)} el {round(100*len(dfA_filtrado_latam)/len(dfA_filtrado), 2)}% contiene países de Latinoamérica, es decir {len(dfA_filtrado_latam)} artículos\")\n",
    "\n",
    "grafo = crear_grafo(dfA_filtrado_latam, 'Paises', ';', 'absoluto', n1=70, n2=70, decimales=2)\n",
    "grafo.show(\"grafo_latam.html\")\n"
   ]
  },
  {
   "cell_type": "code",
   "execution_count": 34,
   "id": "786549ab",
   "metadata": {},
   "outputs": [
    {
     "name": "stdout",
     "output_type": "stream",
     "text": [
      "                      Arista  Valor Porcentaje\n",
      "0     United Kingdom - Chile      1          1\n",
      "1           Denmark - Brazil      1          1\n",
      "2            Denmark - Chile      1          1\n",
      "3         Brazil - Australia      1          1\n",
      "4          Brazil - Portugal      1          2\n",
      "5     Brazil - United States      1          1\n",
      "6             Brazil - Spain      1          4\n",
      "7             Brazil - Chile      1          1\n",
      "8             Mexico - Spain      1          2\n",
      "9             Mexico - Chile      1          5\n",
      "10       Mexico - Costa Rica      1          1\n",
      "11         Mexico - Colombia      1          3\n",
      "12        Mexico - Argentina      1          2\n",
      "13         Argentina - Spain      1          2\n",
      "14     Costa Rica - Portugal      1          1\n",
      "15        Costa Rica - Spain      1          1\n",
      "16              Cuba - Spain      1          1\n",
      "17          Chile - Colombia      1          1\n",
      "18             Chile - Spain      1          3\n",
      "19            Panama - Spain      1          1\n",
      "20          Honduras - Spain      1          1\n",
      "21  Colombia - United States      1          1\n",
      "22          Colombia - Spain      1          2\n"
     ]
    }
   ],
   "source": [
    "import pandas as pd\n",
    "\n",
    "# Crear un diccionario para almacenar la información de las aristas\n",
    "aristas_data = {\n",
    "    'Arista': [],\n",
    "    'Valor': [],\n",
    "    'Porcentaje': []\n",
    "}\n",
    "\n",
    "# Iterar sobre las aristas del grafo\n",
    "for edge in grafo.edges:\n",
    "    u, v = edge['from'], edge['to']\n",
    "\n",
    "    # Obtener la información de la arista\n",
    "    etiqueta_arista = edge['title']\n",
    "    \n",
    "    # Obtener el peso de la arista\n",
    "    peso_arista = edge['options'].get('weight', 1) if 'options' in edge else 1\n",
    "    \n",
    "    # Agregar la información al diccionario\n",
    "    aristas_data['Arista'].append(f\"{u} - {v}\")\n",
    "    aristas_data['Valor'].append(peso_arista)\n",
    "    aristas_data['Porcentaje'].append(etiqueta_arista)\n",
    "\n",
    "# Crear el DataFrame\n",
    "df_aristas = pd.DataFrame(aristas_data)\n",
    "\n",
    "# Imprimir el DataFrame\n",
    "print(df_aristas)\n"
   ]
  },
  {
   "cell_type": "code",
   "execution_count": 35,
   "id": "fd351286",
   "metadata": {
    "scrolled": true
   },
   "outputs": [
    {
     "name": "stdout",
     "output_type": "stream",
     "text": [
      "Local cdn resources have problems on chrome/safari when used in jupyter-notebook. \n"
     ]
    },
    {
     "data": {
      "text/html": [
       "\n",
       "        <iframe\n",
       "            width=\"100%\"\n",
       "            height=\"600px\"\n",
       "            src=\"grafo_ego_chile.html\"\n",
       "            frameborder=\"0\"\n",
       "            allowfullscreen\n",
       "            \n",
       "        ></iframe>\n",
       "        "
      ],
      "text/plain": [
       "<IPython.lib.display.IFrame at 0x7f98794121c0>"
      ]
     },
     "execution_count": 35,
     "metadata": {},
     "output_type": "execute_result"
    }
   ],
   "source": [
    "def generar_ego_para_cadena(df, columna, cadena_contenida, separador, modo, n1=None, n2=None, decimales=0):\n",
    "    # Filtrar las filas que contienen la cadena específica\n",
    "    df_filtrado = df[df[columna].apply(lambda x: cadena_contenida in x)]\n",
    "\n",
    "    if not df_filtrado.empty:\n",
    "        grafo_ego = crear_grafo(df_filtrado, columna, separador, modo, n1, n2, decimales)\n",
    "        return grafo_ego\n",
    "    else:\n",
    "        print(f\"No se encontraron nodos que contengan '{cadena_contenida}' en la columna '{columna}'\")\n",
    "        return None\n",
    "\n",
    "    \n",
    "# Suponiendo que dfA es tu DataFrame y ya está cargado con tus datos.\n",
    "cadena_contenida = 'Chile'\n",
    "grafo_ego_chile = generar_ego_para_cadena(dfA, 'Paises', cadena_contenida, ';', 'absoluto', n1=50, n2=50, decimales=2)\n",
    "\n",
    "if grafo_ego_chile:\n",
    "    grafo_ego_chile.show(\"grafo_ego_chile.html\")\n",
    "grafo_ego_chile.show(\"grafo_ego_chile.html\")"
   ]
  },
  {
   "cell_type": "code",
   "execution_count": 36,
   "id": "159e010e",
   "metadata": {},
   "outputs": [
    {
     "name": "stdout",
     "output_type": "stream",
     "text": [
      "Local cdn resources have problems on chrome/safari when used in jupyter-notebook. \n"
     ]
    },
    {
     "data": {
      "text/html": [
       "<div>\n",
       "<style scoped>\n",
       "    .dataframe tbody tr th:only-of-type {\n",
       "        vertical-align: middle;\n",
       "    }\n",
       "\n",
       "    .dataframe tbody tr th {\n",
       "        vertical-align: top;\n",
       "    }\n",
       "\n",
       "    .dataframe thead th {\n",
       "        text-align: right;\n",
       "    }\n",
       "</style>\n",
       "<table border=\"1\" class=\"dataframe\">\n",
       "  <thead>\n",
       "    <tr style=\"text-align: right;\">\n",
       "      <th></th>\n",
       "      <th>Nodo</th>\n",
       "      <th>Peso Absoluto</th>\n",
       "      <th>Peso Ponderado (%)</th>\n",
       "    </tr>\n",
       "  </thead>\n",
       "  <tbody>\n",
       "    <tr>\n",
       "      <th>7</th>\n",
       "      <td>Spain</td>\n",
       "      <td>70</td>\n",
       "      <td>30.7%</td>\n",
       "    </tr>\n",
       "    <tr>\n",
       "      <th>11</th>\n",
       "      <td>Mexico</td>\n",
       "      <td>62</td>\n",
       "      <td>27.2%</td>\n",
       "    </tr>\n",
       "    <tr>\n",
       "      <th>8</th>\n",
       "      <td>Chile</td>\n",
       "      <td>28</td>\n",
       "      <td>12.3%</td>\n",
       "    </tr>\n",
       "    <tr>\n",
       "      <th>2</th>\n",
       "      <td>Brazil</td>\n",
       "      <td>25</td>\n",
       "      <td>11.0%</td>\n",
       "    </tr>\n",
       "    <tr>\n",
       "      <th>4</th>\n",
       "      <td>Portugal</td>\n",
       "      <td>18</td>\n",
       "      <td>7.9%</td>\n",
       "    </tr>\n",
       "    <tr>\n",
       "      <th>14</th>\n",
       "      <td>Colombia</td>\n",
       "      <td>17</td>\n",
       "      <td>7.5%</td>\n",
       "    </tr>\n",
       "    <tr>\n",
       "      <th>12</th>\n",
       "      <td>Canada</td>\n",
       "      <td>9</td>\n",
       "      <td>3.9%</td>\n",
       "    </tr>\n",
       "    <tr>\n",
       "      <th>17</th>\n",
       "      <td>Argentina</td>\n",
       "      <td>7</td>\n",
       "      <td>3.1%</td>\n",
       "    </tr>\n",
       "    <tr>\n",
       "      <th>13</th>\n",
       "      <td>France</td>\n",
       "      <td>7</td>\n",
       "      <td>3.1%</td>\n",
       "    </tr>\n",
       "    <tr>\n",
       "      <th>6</th>\n",
       "      <td>United States</td>\n",
       "      <td>4</td>\n",
       "      <td>1.8%</td>\n",
       "    </tr>\n",
       "    <tr>\n",
       "      <th>1</th>\n",
       "      <td>Cyprus</td>\n",
       "      <td>4</td>\n",
       "      <td>1.8%</td>\n",
       "    </tr>\n",
       "    <tr>\n",
       "      <th>10</th>\n",
       "      <td>Costa Rica</td>\n",
       "      <td>3</td>\n",
       "      <td>1.3%</td>\n",
       "    </tr>\n",
       "    <tr>\n",
       "      <th>5</th>\n",
       "      <td>Denmark</td>\n",
       "      <td>3</td>\n",
       "      <td>1.3%</td>\n",
       "    </tr>\n",
       "    <tr>\n",
       "      <th>19</th>\n",
       "      <td>Cuba</td>\n",
       "      <td>3</td>\n",
       "      <td>1.3%</td>\n",
       "    </tr>\n",
       "    <tr>\n",
       "      <th>23</th>\n",
       "      <td>Turkey</td>\n",
       "      <td>2</td>\n",
       "      <td>0.9%</td>\n",
       "    </tr>\n",
       "    <tr>\n",
       "      <th>15</th>\n",
       "      <td>United Kingdom</td>\n",
       "      <td>2</td>\n",
       "      <td>0.9%</td>\n",
       "    </tr>\n",
       "    <tr>\n",
       "      <th>3</th>\n",
       "      <td>Australia</td>\n",
       "      <td>2</td>\n",
       "      <td>0.9%</td>\n",
       "    </tr>\n",
       "    <tr>\n",
       "      <th>20</th>\n",
       "      <td>South Africa</td>\n",
       "      <td>1</td>\n",
       "      <td>0.4%</td>\n",
       "    </tr>\n",
       "    <tr>\n",
       "      <th>22</th>\n",
       "      <td>Uruguay</td>\n",
       "      <td>1</td>\n",
       "      <td>0.4%</td>\n",
       "    </tr>\n",
       "    <tr>\n",
       "      <th>21</th>\n",
       "      <td>Switzerland</td>\n",
       "      <td>1</td>\n",
       "      <td>0.4%</td>\n",
       "    </tr>\n",
       "    <tr>\n",
       "      <th>0</th>\n",
       "      <td>Netherlands</td>\n",
       "      <td>1</td>\n",
       "      <td>0.4%</td>\n",
       "    </tr>\n",
       "    <tr>\n",
       "      <th>18</th>\n",
       "      <td>Greece</td>\n",
       "      <td>1</td>\n",
       "      <td>0.4%</td>\n",
       "    </tr>\n",
       "    <tr>\n",
       "      <th>16</th>\n",
       "      <td>Honduras</td>\n",
       "      <td>1</td>\n",
       "      <td>0.4%</td>\n",
       "    </tr>\n",
       "    <tr>\n",
       "      <th>9</th>\n",
       "      <td>Panama</td>\n",
       "      <td>1</td>\n",
       "      <td>0.4%</td>\n",
       "    </tr>\n",
       "    <tr>\n",
       "      <th>24</th>\n",
       "      <td>Italy</td>\n",
       "      <td>1</td>\n",
       "      <td>0.4%</td>\n",
       "    </tr>\n",
       "  </tbody>\n",
       "</table>\n",
       "</div>"
      ],
      "text/plain": [
       "              Nodo  Peso Absoluto Peso Ponderado (%)\n",
       "7            Spain             70              30.7%\n",
       "11          Mexico             62              27.2%\n",
       "8            Chile             28              12.3%\n",
       "2           Brazil             25              11.0%\n",
       "4         Portugal             18               7.9%\n",
       "14        Colombia             17               7.5%\n",
       "12          Canada              9               3.9%\n",
       "17       Argentina              7               3.1%\n",
       "13          France              7               3.1%\n",
       "6    United States              4               1.8%\n",
       "1           Cyprus              4               1.8%\n",
       "10      Costa Rica              3               1.3%\n",
       "5          Denmark              3               1.3%\n",
       "19            Cuba              3               1.3%\n",
       "23          Turkey              2               0.9%\n",
       "15  United Kingdom              2               0.9%\n",
       "3        Australia              2               0.9%\n",
       "20    South Africa              1               0.4%\n",
       "22         Uruguay              1               0.4%\n",
       "21     Switzerland              1               0.4%\n",
       "0      Netherlands              1               0.4%\n",
       "18          Greece              1               0.4%\n",
       "16        Honduras              1               0.4%\n",
       "9           Panama              1               0.4%\n",
       "24           Italy              1               0.4%"
      ]
     },
     "execution_count": 36,
     "metadata": {},
     "output_type": "execute_result"
    }
   ],
   "source": [
    "import pandas as pd\n",
    "\n",
    "\n",
    "\n",
    "# Crear la función modificar_grafo para devolver un DataFrame\n",
    "def modificar_grafo(df, columna, separador, modo, n1=None, n2=None, decimales=0):\n",
    "    G = crear_grafo(df, columna, separador, modo, n1, n2, decimales)\n",
    "\n",
    "    # Obtener nodos, pesos absolutos y pesos ponderados desde el grafo\n",
    "    nodos = [node['label'].split(' (')[0] for node in G.nodes]\n",
    "    tamanos_absolutos = [node['size'] for node in G.nodes]\n",
    "    tamanos_ponderados = [float(node['title'].split(' (')[1].split('%')[0]) for node in G.nodes]\n",
    "\n",
    "    # Crear el DataFrame\n",
    "    df_resultado = pd.DataFrame({'Nodo': nodos, 'Peso Absoluto': tamanos_absolutos, 'Peso Ponderado (%)': tamanos_ponderados})\n",
    "\n",
    "    return df_resultado\n",
    "\n",
    "# Uso de la función para obtener el DataFrame\n",
    "df_resultado = modificar_grafo(dfA_filtrado, 'Paises', ';', 'ponderado', n1=100, n2=100, decimales=1)\n",
    "\n",
    "# Ordenar la tabla de mayor a menor según la columna 'Peso Ponderado (%)'\n",
    "df_resultado = df_resultado.sort_values(by='Peso Ponderado (%)', ascending=False)\n",
    "\n",
    "# Formatear la columna 'Peso Ponderado (%)' con el valor junto al signo '%'\n",
    "df_resultado['Peso Ponderado (%)'] = df_resultado['Peso Ponderado (%)'].map('{:.1f}%'.format)\n",
    "\n",
    "\n",
    "# Mostrar el DataFrame resultante\n",
    "df_resultado.head(30)\n",
    "\n"
   ]
  },
  {
   "cell_type": "code",
   "execution_count": 37,
   "id": "5294f11e",
   "metadata": {},
   "outputs": [
    {
     "data": {
      "text/plain": [
       "['Argentina',\n",
       " 'Australia',\n",
       " 'Brazil',\n",
       " 'Canada',\n",
       " 'Chile',\n",
       " 'Colombia',\n",
       " 'Costa Rica',\n",
       " 'Cuba',\n",
       " 'Cyprus',\n",
       " 'Denmark',\n",
       " 'France',\n",
       " 'Greece',\n",
       " 'Honduras',\n",
       " 'Italy',\n",
       " 'Mexico',\n",
       " 'Netherlands',\n",
       " 'Panama',\n",
       " 'Portugal',\n",
       " 'South Africa',\n",
       " 'Spain',\n",
       " 'Switzerland',\n",
       " 'Turkey',\n",
       " 'United Kingdom',\n",
       " 'United States',\n",
       " 'Uruguay']"
      ]
     },
     "execution_count": 37,
     "metadata": {},
     "output_type": "execute_result"
    }
   ],
   "source": [
    "sorted(df_resultado['Nodo'].unique())"
   ]
  },
  {
   "cell_type": "code",
   "execution_count": 38,
   "id": "df6690b6",
   "metadata": {
    "scrolled": false
   },
   "outputs": [
    {
     "name": "stdout",
     "output_type": "stream",
     "text": [
      "Local cdn resources have problems on chrome/safari when used in jupyter-notebook. \n"
     ]
    },
    {
     "data": {
      "text/html": [
       "\n",
       "        <iframe\n",
       "            width=\"100%\"\n",
       "            height=\"600px\"\n",
       "            src=\"grafo_latam.html\"\n",
       "            frameborder=\"0\"\n",
       "            allowfullscreen\n",
       "            \n",
       "        ></iframe>\n",
       "        "
      ],
      "text/plain": [
       "<IPython.lib.display.IFrame at 0x7f985d161b80>"
      ]
     },
     "execution_count": 38,
     "metadata": {},
     "output_type": "execute_result"
    }
   ],
   "source": [
    "from pyvis.network import Network\n",
    "import networkx as nx\n",
    "from collections import defaultdict\n",
    "import pandas as pd\n",
    "\n",
    "def crear_grafo(df, columna, separador, modo, n1=None, n2=None, decimales=0):\n",
    "    G = nx.Graph()\n",
    "\n",
    "    # Contadores para pesos de nodos y aristas\n",
    "    peso_nodos = defaultdict(int)\n",
    "    peso_aristas = defaultdict(int)\n",
    "\n",
    "    # Total de filas para el modo ponderado\n",
    "    total_filas = len(df)\n",
    "\n",
    "    # Diccionario de mapeo de países a grupos\n",
    "    Categorías = {\n",
    "        'Latinoamérica': [\n",
    "    'Argentina', 'Bolivia', 'Brazil', 'Chile', 'Colombia', 'Costa Rica', 'Ecuador', 'Jamaica', \n",
    "    'Mexico', 'Paraguay', 'Peru', 'Puerto Rico', 'Uruguay', 'Venezuela', 'Cuba', 'Dominican Republic', \n",
    "    'El Salvador', 'Guatemala', 'Honduras', 'Nicaragua', 'Panama', 'Paraguay', 'Uruguay'\n",
    "],\n",
    "        'Asia': ['Bangladesh', 'Brunei Darussalam', 'China', 'Hong Kong', 'India', 'Indonesia', 'Iran', 'Israel', 'Japan', 'Jordan', 'Kazakhstan', 'Kuwait', 'Lebanon', 'Macau', 'Malaysia', 'Nepal', 'Pakistan', 'Palestine', 'Philippines', 'Qatar', 'Saudi Arabia', 'Singapore', 'South Korea', 'State of Libya', 'Taiwan', 'Thailand', 'Turkey', 'United Arab Emirates', 'Viet Nam'],\n",
    "        'Africa': ['Botswana', 'Ethiopia', 'Ghana', 'Lesotho', 'Malawi', 'Mauritius', 'Morocco', 'Mozambique', 'Nigeria', 'Rwanda', 'South Africa', 'Swaziland', 'Tanzania', 'Tunisia', 'Uganda', 'Zambia', 'Zimbabwe'],\n",
    "        'Europa': [ 'Austria', 'Belgium', 'Bosnia and Herzegovina', 'Bulgaria', 'Croatia', 'Cyprus', 'Czech Republic', 'Denmark', 'Estonia', 'Finland', 'France', 'Georgia', 'Germany', 'Greece', 'Hungary', 'Ireland', 'Italy', 'Lithuania', 'Netherlands', 'North Macedonia', 'Norway', 'Poland', 'Portugal', 'Romania', 'Russian Federation', 'Serbia', 'Slovakia', 'Slovenia', 'Spain', 'Sweden', 'Switzerland', 'United Kingdom', 'Ukraine'],\n",
    "        'EE.UU y Canadá': ['Canada', 'United States'],\n",
    "        'Oceanía': ['New Zealand', 'Australia', 'Papua New Guinea']\n",
    "    }\n",
    "\n",
    "    # Iterar sobre cada fila para construir el grafo\n",
    "    for fila in df[columna]:\n",
    "        if pd.isna(fila):\n",
    "            continue\n",
    "        elementos = fila.split(separador)\n",
    "        elementos = [str(elemento) for elemento in elementos]\n",
    "        elementos_unicos = set(elementos)\n",
    "\n",
    "        # Añadir nodos y aristas al grafo\n",
    "        for elemento in elementos_unicos:\n",
    "            peso_nodos[elemento] += 1\n",
    "            for otro_elemento in elementos_unicos:\n",
    "                if elemento != otro_elemento:\n",
    "                    peso_aristas[(elemento, otro_elemento)] += 1\n",
    "\n",
    "    # Seleccionar los n1 nodos con más peso\n",
    "    nodos_ordenados = sorted(peso_nodos.items(), key=lambda item: item[1], reverse=True)\n",
    "    if n1 is not None:\n",
    "        nodos_ordenados = nodos_ordenados[:n1]\n",
    "    nodos_seleccionados = {nodo for nodo, _ in nodos_ordenados}\n",
    "\n",
    "    # Seleccionar las n2 aristas con más peso\n",
    "    aristas_ordenadas = sorted(peso_aristas.items(), key=lambda item: item[1], reverse=True)\n",
    "    if n2 is not None:\n",
    "        aristas_ordenadas = aristas_ordenadas[:n2]\n",
    "    aristas_seleccionadas = {arista for arista, _ in aristas_ordenadas}\n",
    "\n",
    "    # Crear el grafo con los nodos y aristas seleccionados\n",
    "    for nodo in nodos_seleccionados:\n",
    "        peso_nodo = peso_nodos[nodo]\n",
    "        etiqueta_nodo = f\"{nodo} ({peso_nodo})\" if modo == 'absoluto' else f\"{nodo} ({(peso_nodo / total_filas) * 100:.{decimales}f}%)\"\n",
    "\n",
    "        # Asignar grupos según la categoría\n",
    "        grupo = None\n",
    "        for categoria, Subcategoría in Categorías.items():\n",
    "            for palabra in Subcategoría:\n",
    "                if palabra.lower() in nodo.lower():\n",
    "                    grupo = categoria\n",
    "                    break\n",
    "            if grupo is not None:\n",
    "                break\n",
    "\n",
    "        G.add_node(nodo, title=etiqueta_nodo, size=(peso_nodo), group=grupo)\n",
    "\n",
    "    for (u, v) in aristas_seleccionadas:\n",
    "        peso_arista = peso_aristas[(u, v)]\n",
    "        etiqueta_arista = f\"{peso_arista}\" if modo == 'absoluto' else f\"{(peso_arista / total_filas) * 100:.{decimales}f}%\"\n",
    "        if u in nodos_seleccionados and v in nodos_seleccionados:  # Añadir solo aristas entre nodos seleccionados\n",
    "            G.add_edge(u, v, title=etiqueta_arista, weight=peso_arista)\n",
    "\n",
    "    # Visualización con Pyvis\n",
    "    net = Network(notebook=True)\n",
    "    net.from_nx(G)\n",
    "\n",
    "    # Ajustar la visualización de los nodos y aristas\n",
    "    for node in net.nodes:\n",
    "        node['label'] = node['title']\n",
    "        node['value'] = (node['size'])\n",
    "\n",
    "    for edge in net.edges:\n",
    "        u, v = edge['from'], edge['to']\n",
    "        edge['label'] = G[u][v]['title']\n",
    "        edge['width'] = G[u][v]['weight'] if 'weight' in G[u][v] else 1\n",
    "\n",
    "    net.toggle_hide_edges_on_drag(False)\n",
    "    net.toggle_physics(True)\n",
    "\n",
    "    # Asignar colores a los grupos\n",
    "    grupos = set([node['group'] for node in net.nodes])\n",
    "    colores = ['orange'#ee.uu y canadá\n",
    "               , 'gray', #oceanía\n",
    "               'gray', #Asia\n",
    "               'gray', #latam\n",
    "               'gray', #europa\n",
    "               'gray' #africa\n",
    "              ]  # Puedes ajustar estos colores según tus preferencias\n",
    "    color_dict = {grupo: colores[i % len(colores)] for i, grupo in enumerate(grupos)}\n",
    "    \n",
    "    for node in net.nodes:\n",
    "        if 'group' in node and node['group'] in color_dict:\n",
    "            node['color'] = color_dict[node['group']]\n",
    "\n",
    "    return net\n",
    "\n",
    "# Uso de la función modificada\n",
    "dfA_filtrado = dfA[dfA['Paises'] != '']\n",
    "grafo = crear_grafo(dfA_filtrado, 'Paises', ';', 'ponderado', n1=150, n2=150, decimales=2)\n",
    "grafo.show(\"grafo_latam.html\")\n"
   ]
  },
  {
   "cell_type": "code",
   "execution_count": 39,
   "id": "41c9f782",
   "metadata": {},
   "outputs": [
    {
     "name": "stdout",
     "output_type": "stream",
     "text": [
      "Local cdn resources have problems on chrome/safari when used in jupyter-notebook. \n"
     ]
    },
    {
     "data": {
      "text/html": [
       "\n",
       "        <iframe\n",
       "            width=\"100%\"\n",
       "            height=\"600px\"\n",
       "            src=\"grafo_países_mundo.html\"\n",
       "            frameborder=\"0\"\n",
       "            allowfullscreen\n",
       "            \n",
       "        ></iframe>\n",
       "        "
      ],
      "text/plain": [
       "<IPython.lib.display.IFrame at 0x7f985d161eb0>"
      ]
     },
     "execution_count": 39,
     "metadata": {},
     "output_type": "execute_result"
    }
   ],
   "source": [
    "from pyvis.network import Network\n",
    "import networkx as nx\n",
    "from collections import defaultdict\n",
    "import pandas as pd\n",
    "\n",
    "def crear_grafo(df, columna, separador, modo, n1=None, n2=None, decimales=0):\n",
    "    G = nx.Graph()\n",
    "\n",
    "    # Contadores para pesos de nodos y aristas\n",
    "    peso_nodos = defaultdict(int)\n",
    "    peso_aristas = defaultdict(int)\n",
    "\n",
    "    # Total de filas para el modo ponderado\n",
    "    total_filas = len(df)\n",
    "\n",
    "    # Diccionario de mapeo de países a grupos\n",
    "    mapeo_paises = {\n",
    "        'Latinoamérica': [\n",
    "            'Argentina', 'Bolivia', 'Brazil', 'Chile', 'Colombia', 'Costa Rica', 'Ecuador', 'Jamaica', \n",
    "            'Mexico', 'Paraguay', 'Peru', 'Puerto Rico', 'Uruguay', 'Venezuela', 'Cuba', 'Dominican Republic', \n",
    "            'El Salvador', 'Guatemala', 'Honduras', 'Nicaragua', 'Panama', 'Paraguay', 'Uruguay'\n",
    "        ],\n",
    "        'Asia': ['Bangladesh', 'Brunei Darussalam', 'China', 'Hong Kong', 'India', 'Indonesia', 'Iran', 'Israel', 'Japan', 'Jordan', 'Kazakhstan', 'Kuwait', 'Lebanon', 'Macau', 'Malaysia', 'Nepal', 'Pakistan', 'Palestine', 'Philippines', 'Qatar', 'Saudi Arabia', 'Singapore', 'South Korea', 'State of Libya', 'Taiwan', 'Thailand', 'Turkey', 'United Arab Emirates', 'Viet Nam'],\n",
    "        'Africa': ['Botswana', 'Ethiopia', 'Ghana', 'Lesotho', 'Malawi', 'Mauritius', 'Morocco', 'Mozambique', 'Nigeria', 'Rwanda', 'South Africa', 'Swaziland', 'Tanzania', 'Tunisia', 'Uganda', 'Zambia', 'Zimbabwe'],\n",
    "        'Europa': [ 'Austria', 'Belgium', 'Bosnia and Herzegovina', 'Bulgaria', 'Croatia', 'Cyprus', 'Czech Republic', 'Denmark', 'Estonia', 'Finland', 'France', 'Georgia', 'Germany', 'Greece', 'Hungary', 'Ireland', 'Italy', 'Lithuania', 'Netherlands', 'North Macedonia', 'Norway', 'Poland', 'Portugal', 'Romania', 'Russian Federation', 'Serbia', 'Slovakia', 'Slovenia', 'Spain', 'Sweden', 'Switzerland', 'United Kingdom', 'Ukraine'],\n",
    "        'EE.UU y Canadá': ['Canada', 'United States'],\n",
    "        'Oceanía': ['New Zealand', 'Australia', 'Papua New Guinea']\n",
    "    }\n",
    "\n",
    "    # Iterar sobre cada fila para construir el grafo\n",
    "    for fila in df[columna]:\n",
    "        if pd.isna(fila):\n",
    "            continue\n",
    "        elementos = fila.split(separador)\n",
    "        elementos = [str(elemento) for elemento in elementos]\n",
    "        elementos_unicos = set(elementos)\n",
    "\n",
    "        # Añadir nodos y aristas al grafo\n",
    "        for elemento in elementos_unicos:\n",
    "            peso_nodos[elemento] += 1\n",
    "            for otro_elemento in elementos_unicos:\n",
    "                if elemento != otro_elemento:\n",
    "                    peso_aristas[(elemento, otro_elemento)] += 1\n",
    "\n",
    "    # Seleccionar los n1 nodos con más peso\n",
    "    nodos_ordenados = sorted(peso_nodos.items(), key=lambda item: item[1], reverse=True)\n",
    "    if n1 is not None:\n",
    "        nodos_ordenados = nodos_ordenados[:n1]\n",
    "    nodos_seleccionados = {nodo for nodo, _ in nodos_ordenados}\n",
    "\n",
    "    # Seleccionar las n2 aristas con más peso\n",
    "    aristas_ordenadas = sorted(peso_aristas.items(), key=lambda item: item[1], reverse=True)\n",
    "    if n2 is not None:\n",
    "        aristas_ordenadas = aristas_ordenadas[:n2]\n",
    "    aristas_seleccionadas = {arista for arista, _ in aristas_ordenadas}\n",
    "\n",
    "    # Colores predeterminados\n",
    "    default_color = 'gray'\n",
    "\n",
    "    # Crear el grafo con los nodos y aristas seleccionados\n",
    "    for nodo in nodos_seleccionados:\n",
    "        peso_nodo = peso_nodos[nodo]\n",
    "        etiqueta_nodo = f\"{nodo} ({peso_nodo})\" if modo == 'absoluto' else f\"{nodo} ({(peso_nodo / total_filas) * 100:.{decimales}f}%)\"\n",
    "\n",
    "        # Asignar grupos según la categoría\n",
    "        grupo = None\n",
    "        for categoria, paises in mapeo_paises.items():\n",
    "            if any(palabra.lower() in nodo.lower() for palabra in paises):\n",
    "                grupo = categoria\n",
    "                break\n",
    "\n",
    "        # Inicializar color_nodo\n",
    "        color_nodo = default_color\n",
    "\n",
    "        if grupo is not None:\n",
    "            # Asignar color_nodo según el grupo\n",
    "            color_dict = {\n",
    "                'EE.UU y Canadá': 'gray',\n",
    "                'Oceanía': 'gray',\n",
    "                'Asia': 'gray',\n",
    "                'Latinoamérica': 'orange',\n",
    "                'Europa': 'gray',\n",
    "                'África': 'gray'\n",
    "            }\n",
    "            color_nodo = color_dict.get(grupo, default_color)\n",
    "\n",
    "        G.add_node(nodo, title=etiqueta_nodo, size=(peso_nodo), group=grupo, color=color_nodo)\n",
    "\n",
    "    for (u, v) in aristas_seleccionadas:\n",
    "        peso_arista = peso_aristas[(u, v)]\n",
    "        etiqueta_arista = f\"{peso_arista}\" if modo == 'absoluto' else f\"{(peso_arista / total_filas) * 100:.{decimales}f}%\"\n",
    "        if u in nodos_seleccionados and v in nodos_seleccionados:  # Añadir solo aristas entre nodos seleccionados\n",
    "            G.add_edge(u, v, title=etiqueta_arista, weight=peso_arista)\n",
    "\n",
    "    # Visualización con Pyvis\n",
    "    net = Network(notebook=True)\n",
    "    net.from_nx(G)\n",
    "\n",
    "    # Ajustar la visualización de los nodos y aristas\n",
    "    for node in net.nodes:\n",
    "        node['label'] = node['title']\n",
    "        node['value'] = (node['size'])\n",
    "\n",
    "    for edge in net.edges:\n",
    "        u, v = edge['from'], edge['to']\n",
    "        edge['label'] = G[u][v]['title']\n",
    "        edge['width'] = G[u][v]['weight'] if 'weight' in G[u][v] else 1\n",
    "\n",
    "    net.toggle_hide_edges_on_drag(False)\n",
    "    net.toggle_physics(True)\n",
    "\n",
    "    return net\n",
    "\n",
    "# Uso de la función modificada\n",
    "dfA_filtrado = dfA[dfA['Paises'] != '']\n",
    "grafo = crear_grafo(dfA_filtrado, 'Paises', ';', 'ponderado', n1=150, n2=150, decimales=2)\n",
    "grafo.show(\"grafo_países_mundo.html\")\n"
   ]
  },
  {
   "cell_type": "raw",
   "id": "3a5e7a1c",
   "metadata": {},
   "source": [
    "Información para hacerlo\n",
    "\n",
    "Lo básico:\n",
    "https://www.ellaberintodefalken.com/2020/02/grafos-con-networkx.html\n",
    "\n",
    "Fijar grafo\n",
    "https://stackoverflow.com/questions/68117561/pyvis-network-keeps-on-moving\n",
    "\n",
    "\n",
    "Fijar pesos:\n",
    "https://networkx.org/documentation/stable/tutorial.html#adding-attributes-to-graphs-nodes-and-edges\n",
    "\n",
    "Fijar pesos aristas\n",
    "https://www.askpython.com/python/examples/customizing-pyvis-interactive-network-graphs\n",
    "\n",
    "Subgrafos \n",
    "\n",
    "https://diegomariano.com/networkx/#Subgrafos\n",
    "\n",
    "Filtrar grafos:\n",
    "https://stackoverflow.com/questions/45350222/select-nodes-and-edges-form-networkx-graph-with-attributes\n",
    "\n",
    "Vecinos:\n",
    "https://www.youtube.com/watch?v=kGx6xPjwK6w\n",
    "\n",
    "Datapane:\n",
    "https://github.com/kennethleungty/Drug-Interactions-Network-Analysis-and-Visualization/blob/main/upload_viz_to_datapane.py\n"
   ]
  },
  {
   "cell_type": "code",
   "execution_count": null,
   "id": "d7f94d61",
   "metadata": {},
   "outputs": [],
   "source": []
  }
 ],
 "metadata": {
  "kernelspec": {
   "display_name": "Python 3 (ipykernel)",
   "language": "python",
   "name": "python3"
  },
  "language_info": {
   "codemirror_mode": {
    "name": "ipython",
    "version": 3
   },
   "file_extension": ".py",
   "mimetype": "text/x-python",
   "name": "python",
   "nbconvert_exporter": "python",
   "pygments_lexer": "ipython3",
   "version": "3.9.7"
  }
 },
 "nbformat": 4,
 "nbformat_minor": 5
}
